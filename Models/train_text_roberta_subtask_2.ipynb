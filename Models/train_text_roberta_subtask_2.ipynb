{
  "cells": [
    {
      "cell_type": "code",
      "source": [
        "pip install tensorflow-addons"
      ],
      "metadata": {
        "colab": {
          "base_uri": "https://localhost:8080/"
        },
        "id": "ayQmj6J0o5zs",
        "outputId": "43703e40-bf04-42ec-cc8b-19b59bd5449d"
      },
      "execution_count": null,
      "outputs": [
        {
          "output_type": "stream",
          "name": "stdout",
          "text": [
            "Looking in indexes: https://pypi.org/simple, https://us-python.pkg.dev/colab-wheels/public/simple/\n",
            "Requirement already satisfied: tensorflow-addons in /usr/local/lib/python3.8/dist-packages (0.19.0)\n",
            "Requirement already satisfied: packaging in /usr/local/lib/python3.8/dist-packages (from tensorflow-addons) (23.0)\n",
            "Requirement already satisfied: typeguard>=2.7 in /usr/local/lib/python3.8/dist-packages (from tensorflow-addons) (2.7.1)\n"
          ]
        }
      ]
    },
    {
      "cell_type": "code",
      "execution_count": null,
      "metadata": {
        "id": "p1FTYlen0dpc"
      },
      "outputs": [],
      "source": [
        "import pandas as pd\n",
        "import numpy as np\n",
        "import nltk\n",
        "import tensorflow as tf\n",
        "import tensorflow_addons as tfa\n",
        "import keras\n",
        "import torchtext\n",
        "\n",
        "from sklearn.preprocessing import MultiLabelBinarizer\n",
        "seed = 2000\n",
        "np.random.seed(seed)\n",
        "from tensorflow.keras import regularizers\n",
        "from tensorflow.keras.models import Model, Sequential\n",
        "from tensorflow.keras.layers import BatchNormalization, Dropout, Flatten, Dense, Embedding\n",
        "from tensorflow.keras.layers import LSTM, Conv1D, MaxPooling1D\n",
        "from tensorflow.keras.preprocessing import sequence\n",
        "from tensorflow import keras\n",
        "\n",
        "import nlpaug\n",
        "import nlpaug.augmenter.char as nac\n",
        "import nlpaug.augmenter.word as naw\n",
        "import nlpaug.augmenter.sentence as nas\n",
        "import nlpaug.flow as nafc\n",
        "from nlpaug.util import Action\n",
        "\n",
        "from keras.wrappers.scikit_learn import KerasClassifier\n",
        "from sklearn.model_selection import GridSearchCV\n",
        "from torch.nn import BCEWithLogitsLoss\n",
        "import torch\n",
        "from transformers import RobertaTokenizer, TFRobertaForSequenceClassification, AdamW\n",
        "from tensorflow_addons.metrics import HammingLoss\n",
        "import warnings\n",
        "warnings.filterwarnings(\"ignore\")\n",
        "from sklearn.metrics import hamming_loss"
      ]
    },
    {
      "cell_type": "code",
      "execution_count": null,
      "metadata": {
        "id": "mdxtdkXZNtW1",
        "colab": {
          "base_uri": "https://localhost:8080/",
          "height": 710
        },
        "outputId": "cfdd3bd9-4ab6-49a7-d31a-c411fba91d05"
      },
      "outputs": [
        {
          "output_type": "stream",
          "name": "stdout",
          "text": [
            "(433, 10)\n",
            "(83, 10)\n",
            "(54, 10)\n"
          ]
        },
        {
          "output_type": "execute_result",
          "data": {
            "text/plain": [
              "   Unnamed: 0    id                                          headlines  \\\n",
              "0           0  3121  The Pope Says 'Humanity Must Repent For Abusin...   \n",
              "1           1  3135  Russian allies are unknowingly working against...   \n",
              "2           2  3134  I know this week has been disruptive, says LIZ...   \n",
              "3           3  3120  Vladimir Putin facing Ukraine 'humiliation' as...   \n",
              "4           4  3136  What Are the Odds Putin is Bluffing About Usin...   \n",
              "\n",
              "                                            articles  \\\n",
              "0  We humans “must repent and modify our lifestyl...   \n",
              "1  The Secretary of State for Defence described P...   \n",
              "2  The United Kingdom is the greatest country on ...   \n",
              "3  VLADIMIR PUTIN is facing \"humiliation\" in Ukra...   \n",
              "4  Eurointelligence founder Wolfgang Münchau has ...   \n",
              "\n",
              "                              preprocessed_headlines  \\\n",
              "0  the pope say humanity must repent for abuse mo...   \n",
              "1  russian ally be unknowingly work against they ...   \n",
              "2    know this week have be disruptive say liz truss   \n",
              "3  vladimir putin face ukraine humiliation as rus...   \n",
              "4  what be the odd putin be bluff about use nucle...   \n",
              "\n",
              "                                  pos_tags_headlines  \\\n",
              "0  [(the, 'DT'), (pope, 'NN'), (say, 'VBP'), (hum...   \n",
              "1  [(russian, 'JJ'), (ally, 'NN'), (be, 'VB'), (u...   \n",
              "2  [(know, 'VB'), (this, 'DT'), (week, 'NN'), (ha...   \n",
              "3  [(vladimir, 'NNP'), (putin, 'NNP'), (face, 'NN...   \n",
              "4  [(what, 'WP'), (be, 'VB'), (the, 'DT'), (odd, ...   \n",
              "\n",
              "                                   er_tags_headlines  \\\n",
              "0                                                 []   \n",
              "1                           [(russian, 'NORP', 381)]   \n",
              "2                         [(this week, 'DATE', 391)]   \n",
              "3  [(vladimir putin, 'PERSON', 380), (ukraine, 'G...   \n",
              "4                                                 []   \n",
              "\n",
              "                               preprocessed_articles  \\\n",
              "0  we human must repent and modify our lifestyle ...   \n",
              "1  the secretary of state for defence describe pu...   \n",
              "2  the united kingdom be the great country on ear...   \n",
              "3  vladimir putin be face humiliation in ukraine ...   \n",
              "4  eurointelligence founder wolfgang münchau have...   \n",
              "\n",
              "                                   pos_tags_articles  \\\n",
              "0  [(we, 'PRP'), (human, 'NN'), (must, 'MD'), (re...   \n",
              "1  [(the, 'DT'), (secretary, 'NNP'), (of, 'IN'), ...   \n",
              "2  [(the, 'DT'), (united, 'NNP'), (kingdom, 'NNP'...   \n",
              "3  [(vladimir, 'NNP'), (putin, 'NNP'), (be, 'VB')...   \n",
              "4  [(eurointelligence, 'NN'), (founder, 'NN'), (w...   \n",
              "\n",
              "                                    er_tags_articles  \n",
              "0  [(thursday, 'DATE', 391), (the world day, 'DAT...  \n",
              "1  [(putin, 'PERSON', 380), (russian, 'NORP', 381...  \n",
              "2  [(the united kingdom, 'GPE', 384), (70 year, '...  \n",
              "3  [(vladimir putin, 'PERSON', 380), (ukraine, 'G...  \n",
              "4  [(wolfgang münchau, 'PERSON', 380), (putin, 'P...  "
            ],
            "text/html": [
              "\n",
              "  <div id=\"df-0357136c-2f23-458a-bf08-2992e9bcf911\">\n",
              "    <div class=\"colab-df-container\">\n",
              "      <div>\n",
              "<style scoped>\n",
              "    .dataframe tbody tr th:only-of-type {\n",
              "        vertical-align: middle;\n",
              "    }\n",
              "\n",
              "    .dataframe tbody tr th {\n",
              "        vertical-align: top;\n",
              "    }\n",
              "\n",
              "    .dataframe thead th {\n",
              "        text-align: right;\n",
              "    }\n",
              "</style>\n",
              "<table border=\"1\" class=\"dataframe\">\n",
              "  <thead>\n",
              "    <tr style=\"text-align: right;\">\n",
              "      <th></th>\n",
              "      <th>Unnamed: 0</th>\n",
              "      <th>id</th>\n",
              "      <th>headlines</th>\n",
              "      <th>articles</th>\n",
              "      <th>preprocessed_headlines</th>\n",
              "      <th>pos_tags_headlines</th>\n",
              "      <th>er_tags_headlines</th>\n",
              "      <th>preprocessed_articles</th>\n",
              "      <th>pos_tags_articles</th>\n",
              "      <th>er_tags_articles</th>\n",
              "    </tr>\n",
              "  </thead>\n",
              "  <tbody>\n",
              "    <tr>\n",
              "      <th>0</th>\n",
              "      <td>0</td>\n",
              "      <td>3121</td>\n",
              "      <td>The Pope Says 'Humanity Must Repent For Abusin...</td>\n",
              "      <td>We humans “must repent and modify our lifestyl...</td>\n",
              "      <td>the pope say humanity must repent for abuse mo...</td>\n",
              "      <td>[(the, 'DT'), (pope, 'NN'), (say, 'VBP'), (hum...</td>\n",
              "      <td>[]</td>\n",
              "      <td>we human must repent and modify our lifestyle ...</td>\n",
              "      <td>[(we, 'PRP'), (human, 'NN'), (must, 'MD'), (re...</td>\n",
              "      <td>[(thursday, 'DATE', 391), (the world day, 'DAT...</td>\n",
              "    </tr>\n",
              "    <tr>\n",
              "      <th>1</th>\n",
              "      <td>1</td>\n",
              "      <td>3135</td>\n",
              "      <td>Russian allies are unknowingly working against...</td>\n",
              "      <td>The Secretary of State for Defence described P...</td>\n",
              "      <td>russian ally be unknowingly work against they ...</td>\n",
              "      <td>[(russian, 'JJ'), (ally, 'NN'), (be, 'VB'), (u...</td>\n",
              "      <td>[(russian, 'NORP', 381)]</td>\n",
              "      <td>the secretary of state for defence describe pu...</td>\n",
              "      <td>[(the, 'DT'), (secretary, 'NNP'), (of, 'IN'), ...</td>\n",
              "      <td>[(putin, 'PERSON', 380), (russian, 'NORP', 381...</td>\n",
              "    </tr>\n",
              "    <tr>\n",
              "      <th>2</th>\n",
              "      <td>2</td>\n",
              "      <td>3134</td>\n",
              "      <td>I know this week has been disruptive, says LIZ...</td>\n",
              "      <td>The United Kingdom is the greatest country on ...</td>\n",
              "      <td>know this week have be disruptive say liz truss</td>\n",
              "      <td>[(know, 'VB'), (this, 'DT'), (week, 'NN'), (ha...</td>\n",
              "      <td>[(this week, 'DATE', 391)]</td>\n",
              "      <td>the united kingdom be the great country on ear...</td>\n",
              "      <td>[(the, 'DT'), (united, 'NNP'), (kingdom, 'NNP'...</td>\n",
              "      <td>[(the united kingdom, 'GPE', 384), (70 year, '...</td>\n",
              "    </tr>\n",
              "    <tr>\n",
              "      <th>3</th>\n",
              "      <td>3</td>\n",
              "      <td>3120</td>\n",
              "      <td>Vladimir Putin facing Ukraine 'humiliation' as...</td>\n",
              "      <td>VLADIMIR PUTIN is facing \"humiliation\" in Ukra...</td>\n",
              "      <td>vladimir putin face ukraine humiliation as rus...</td>\n",
              "      <td>[(vladimir, 'NNP'), (putin, 'NNP'), (face, 'NN...</td>\n",
              "      <td>[(vladimir putin, 'PERSON', 380), (ukraine, 'G...</td>\n",
              "      <td>vladimir putin be face humiliation in ukraine ...</td>\n",
              "      <td>[(vladimir, 'NNP'), (putin, 'NNP'), (be, 'VB')...</td>\n",
              "      <td>[(vladimir putin, 'PERSON', 380), (ukraine, 'G...</td>\n",
              "    </tr>\n",
              "    <tr>\n",
              "      <th>4</th>\n",
              "      <td>4</td>\n",
              "      <td>3136</td>\n",
              "      <td>What Are the Odds Putin is Bluffing About Usin...</td>\n",
              "      <td>Eurointelligence founder Wolfgang Münchau has ...</td>\n",
              "      <td>what be the odd putin be bluff about use nucle...</td>\n",
              "      <td>[(what, 'WP'), (be, 'VB'), (the, 'DT'), (odd, ...</td>\n",
              "      <td>[]</td>\n",
              "      <td>eurointelligence founder wolfgang münchau have...</td>\n",
              "      <td>[(eurointelligence, 'NN'), (founder, 'NN'), (w...</td>\n",
              "      <td>[(wolfgang münchau, 'PERSON', 380), (putin, 'P...</td>\n",
              "    </tr>\n",
              "  </tbody>\n",
              "</table>\n",
              "</div>\n",
              "      <button class=\"colab-df-convert\" onclick=\"convertToInteractive('df-0357136c-2f23-458a-bf08-2992e9bcf911')\"\n",
              "              title=\"Convert this dataframe to an interactive table.\"\n",
              "              style=\"display:none;\">\n",
              "        \n",
              "  <svg xmlns=\"http://www.w3.org/2000/svg\" height=\"24px\"viewBox=\"0 0 24 24\"\n",
              "       width=\"24px\">\n",
              "    <path d=\"M0 0h24v24H0V0z\" fill=\"none\"/>\n",
              "    <path d=\"M18.56 5.44l.94 2.06.94-2.06 2.06-.94-2.06-.94-.94-2.06-.94 2.06-2.06.94zm-11 1L8.5 8.5l.94-2.06 2.06-.94-2.06-.94L8.5 2.5l-.94 2.06-2.06.94zm10 10l.94 2.06.94-2.06 2.06-.94-2.06-.94-.94-2.06-.94 2.06-2.06.94z\"/><path d=\"M17.41 7.96l-1.37-1.37c-.4-.4-.92-.59-1.43-.59-.52 0-1.04.2-1.43.59L10.3 9.45l-7.72 7.72c-.78.78-.78 2.05 0 2.83L4 21.41c.39.39.9.59 1.41.59.51 0 1.02-.2 1.41-.59l7.78-7.78 2.81-2.81c.8-.78.8-2.07 0-2.86zM5.41 20L4 18.59l7.72-7.72 1.47 1.35L5.41 20z\"/>\n",
              "  </svg>\n",
              "      </button>\n",
              "      \n",
              "  <style>\n",
              "    .colab-df-container {\n",
              "      display:flex;\n",
              "      flex-wrap:wrap;\n",
              "      gap: 12px;\n",
              "    }\n",
              "\n",
              "    .colab-df-convert {\n",
              "      background-color: #E8F0FE;\n",
              "      border: none;\n",
              "      border-radius: 50%;\n",
              "      cursor: pointer;\n",
              "      display: none;\n",
              "      fill: #1967D2;\n",
              "      height: 32px;\n",
              "      padding: 0 0 0 0;\n",
              "      width: 32px;\n",
              "    }\n",
              "\n",
              "    .colab-df-convert:hover {\n",
              "      background-color: #E2EBFA;\n",
              "      box-shadow: 0px 1px 2px rgba(60, 64, 67, 0.3), 0px 1px 3px 1px rgba(60, 64, 67, 0.15);\n",
              "      fill: #174EA6;\n",
              "    }\n",
              "\n",
              "    [theme=dark] .colab-df-convert {\n",
              "      background-color: #3B4455;\n",
              "      fill: #D2E3FC;\n",
              "    }\n",
              "\n",
              "    [theme=dark] .colab-df-convert:hover {\n",
              "      background-color: #434B5C;\n",
              "      box-shadow: 0px 1px 3px 1px rgba(0, 0, 0, 0.15);\n",
              "      filter: drop-shadow(0px 1px 2px rgba(0, 0, 0, 0.3));\n",
              "      fill: #FFFFFF;\n",
              "    }\n",
              "  </style>\n",
              "\n",
              "      <script>\n",
              "        const buttonEl =\n",
              "          document.querySelector('#df-0357136c-2f23-458a-bf08-2992e9bcf911 button.colab-df-convert');\n",
              "        buttonEl.style.display =\n",
              "          google.colab.kernel.accessAllowed ? 'block' : 'none';\n",
              "\n",
              "        async function convertToInteractive(key) {\n",
              "          const element = document.querySelector('#df-0357136c-2f23-458a-bf08-2992e9bcf911');\n",
              "          const dataTable =\n",
              "            await google.colab.kernel.invokeFunction('convertToInteractive',\n",
              "                                                     [key], {});\n",
              "          if (!dataTable) return;\n",
              "\n",
              "          const docLinkHtml = 'Like what you see? Visit the ' +\n",
              "            '<a target=\"_blank\" href=https://colab.research.google.com/notebooks/data_table.ipynb>data table notebook</a>'\n",
              "            + ' to learn more about interactive tables.';\n",
              "          element.innerHTML = '';\n",
              "          dataTable['output_type'] = 'display_data';\n",
              "          await google.colab.output.renderOutput(dataTable, element);\n",
              "          const docLink = document.createElement('div');\n",
              "          docLink.innerHTML = docLinkHtml;\n",
              "          element.appendChild(docLink);\n",
              "        }\n",
              "      </script>\n",
              "    </div>\n",
              "  </div>\n",
              "  "
            ]
          },
          "metadata": {},
          "execution_count": 6
        }
      ],
      "source": [
        "train_sub2_df = pd.read_csv('/content/train_subtask_2.csv')\n",
        "\n",
        "print(train_sub2_df.shape)\n",
        "train_sub2_df.head()\n",
        "\n",
        "dev_sub2_df = pd.read_csv('/content/dev_subtask_2.csv')\n",
        "\n",
        "print(dev_sub2_df.shape)\n",
        "dev_sub2_df.head()\n",
        "\n",
        "test_sub2_df = pd.read_csv('/content/test_subtask_2.csv')\n",
        "print(test_sub2_df.shape)\n",
        "test_sub2_df.head()\n"
      ]
    },
    {
      "cell_type": "code",
      "execution_count": null,
      "metadata": {
        "id": "sV97mKi200Nc"
      },
      "outputs": [],
      "source": [
        "train_sub2_df[\"genre\"] = train_sub2_df[\"genre\"].str.split(',')\n",
        "dev_sub2_df[\"genre\"] = dev_sub2_df[\"genre\"].str.split(',')"
      ]
    },
    {
      "cell_type": "code",
      "execution_count": null,
      "metadata": {
        "colab": {
          "base_uri": "https://localhost:8080/"
        },
        "id": "6_4oX5Hh4UV9",
        "outputId": "3e69b4f1-8f12-4990-d1fd-015b283f25a8"
      },
      "outputs": [
        {
          "output_type": "execute_result",
          "data": {
            "text/plain": [
              "0      [Political, Morality, Fairness_and_equality, E...\n",
              "1      [Morality, Security_and_defense, Policy_prescr...\n",
              "2      [Political, Crime_and_punishment, External_reg...\n",
              "3      [Political, Crime_and_punishment, Fairness_and...\n",
              "4      [Political, Morality, Fairness_and_equality, E...\n",
              "                             ...                        \n",
              "428    [Political, Crime_and_punishment, External_reg...\n",
              "429    [Political, Morality, Crime_and_punishment, Qu...\n",
              "430    [Crime_and_punishment, Political, Legality_Con...\n",
              "431    [Political, Crime_and_punishment, Fairness_and...\n",
              "432    [Crime_and_punishment, Political, Legality_Con...\n",
              "Name: genre, Length: 433, dtype: object"
            ]
          },
          "metadata": {},
          "execution_count": 8
        }
      ],
      "source": [
        "train_sub2_df[\"genre\"]"
      ]
    },
    {
      "cell_type": "code",
      "execution_count": null,
      "metadata": {
        "colab": {
          "base_uri": "https://localhost:8080/"
        },
        "id": "Up5KX9QC4X5A",
        "outputId": "856c3398-2188-4807-be07-ccf93bb3c2a6"
      },
      "outputs": [
        {
          "output_type": "execute_result",
          "data": {
            "text/plain": [
              "0     [Political, Fairness_and_equality, Policy_pres...\n",
              "1     [Political, Capacity_and_resources, Policy_pre...\n",
              "2     [Public_opinion, Policy_prescription_and_evalu...\n",
              "3     [Political, External_regulation_and_reputation...\n",
              "4     [Public_opinion, Political, External_regulatio...\n",
              "                            ...                        \n",
              "78    [Political, Crime_and_punishment, Fairness_and...\n",
              "79    [Policy_prescription_and_evaluation, Political...\n",
              "80    [Policy_prescription_and_evaluation, Political...\n",
              "81    [Crime_and_punishment, Political, Legality_Con...\n",
              "82    [Political, Morality, Crime_and_punishment, Qu...\n",
              "Name: genre, Length: 83, dtype: object"
            ]
          },
          "metadata": {},
          "execution_count": 9
        }
      ],
      "source": [
        "dev_sub2_df[\"genre\"]"
      ]
    },
    {
      "cell_type": "code",
      "execution_count": null,
      "metadata": {
        "id": "BovOFybyZ1Cz"
      },
      "outputs": [],
      "source": [
        "mlb = MultiLabelBinarizer()\n",
        "multi_train_1 = pd.DataFrame(mlb.fit_transform(train_sub2_df['genre']), columns = mlb.classes_)\n",
        "multi_train = mlb.fit_transform(train_sub2_df['genre'])\n",
        "\n",
        "mlb = MultiLabelBinarizer()\n",
        "multi_dev_1 = pd.DataFrame(mlb.fit_transform(dev_sub2_df['genre']), columns = mlb.classes_)\n",
        "multi_dev = mlb.fit_transform(dev_sub2_df['genre'])"
      ]
    },
    {
      "cell_type": "code",
      "source": [
        "multi_train_1"
      ],
      "metadata": {
        "colab": {
          "base_uri": "https://localhost:8080/",
          "height": 483
        },
        "id": "qBRFHaXehNph",
        "outputId": "8532437c-4a5f-41c1-d8cd-1a664f7cbba2"
      },
      "execution_count": null,
      "outputs": [
        {
          "output_type": "execute_result",
          "data": {
            "text/plain": [
              "     Capacity_and_resources  Crime_and_punishment  Cultural_identity  \\\n",
              "0                         0                     0                  0   \n",
              "1                         0                     0                  0   \n",
              "2                         0                     1                  0   \n",
              "3                         0                     1                  0   \n",
              "4                         0                     0                  0   \n",
              "..                      ...                   ...                ...   \n",
              "428                       0                     1                  0   \n",
              "429                       0                     1                  0   \n",
              "430                       0                     1                  0   \n",
              "431                       0                     1                  0   \n",
              "432                       0                     1                  0   \n",
              "\n",
              "     Economic  External_regulation_and_reputation  Fairness_and_equality  \\\n",
              "0           0                                   1                      1   \n",
              "1           1                                   0                      0   \n",
              "2           0                                   1                      0   \n",
              "3           0                                   1                      1   \n",
              "4           1                                   1                      1   \n",
              "..        ...                                 ...                    ...   \n",
              "428         1                                   1                      0   \n",
              "429         0                                   0                      0   \n",
              "430         0                                   1                      0   \n",
              "431         0                                   1                      1   \n",
              "432         0                                   1                      0   \n",
              "\n",
              "     Health_and_safety  Legality_Constitutionality_and_jurisprudence  \\\n",
              "0                    0                                             1   \n",
              "1                    0                                             1   \n",
              "2                    0                                             1   \n",
              "3                    0                                             1   \n",
              "4                    0                                             0   \n",
              "..                 ...                                           ...   \n",
              "428                  0                                             1   \n",
              "429                  0                                             0   \n",
              "430                  0                                             1   \n",
              "431                  0                                             1   \n",
              "432                  0                                             1   \n",
              "\n",
              "     Morality  Policy_prescription_and_evaluation  Political  Public_opinion  \\\n",
              "0           1                                   0          1               0   \n",
              "1           1                                   1          0               0   \n",
              "2           0                                   1          1               1   \n",
              "3           0                                   0          1               0   \n",
              "4           1                                   0          1               1   \n",
              "..        ...                                 ...        ...             ...   \n",
              "428         0                                   0          1               0   \n",
              "429         1                                   1          1               0   \n",
              "430         0                                   0          1               0   \n",
              "431         0                                   0          1               0   \n",
              "432         0                                   0          1               0   \n",
              "\n",
              "     Quality_of_life  Security_and_defense  \n",
              "0                  0                     0  \n",
              "1                  0                     1  \n",
              "2                  0                     0  \n",
              "3                  0                     0  \n",
              "4                  0                     1  \n",
              "..               ...                   ...  \n",
              "428                0                     0  \n",
              "429                1                     0  \n",
              "430                0                     0  \n",
              "431                0                     0  \n",
              "432                0                     0  \n",
              "\n",
              "[433 rows x 14 columns]"
            ],
            "text/html": [
              "\n",
              "  <div id=\"df-aff37521-62b6-48f4-97e0-8d281af639a5\">\n",
              "    <div class=\"colab-df-container\">\n",
              "      <div>\n",
              "<style scoped>\n",
              "    .dataframe tbody tr th:only-of-type {\n",
              "        vertical-align: middle;\n",
              "    }\n",
              "\n",
              "    .dataframe tbody tr th {\n",
              "        vertical-align: top;\n",
              "    }\n",
              "\n",
              "    .dataframe thead th {\n",
              "        text-align: right;\n",
              "    }\n",
              "</style>\n",
              "<table border=\"1\" class=\"dataframe\">\n",
              "  <thead>\n",
              "    <tr style=\"text-align: right;\">\n",
              "      <th></th>\n",
              "      <th>Capacity_and_resources</th>\n",
              "      <th>Crime_and_punishment</th>\n",
              "      <th>Cultural_identity</th>\n",
              "      <th>Economic</th>\n",
              "      <th>External_regulation_and_reputation</th>\n",
              "      <th>Fairness_and_equality</th>\n",
              "      <th>Health_and_safety</th>\n",
              "      <th>Legality_Constitutionality_and_jurisprudence</th>\n",
              "      <th>Morality</th>\n",
              "      <th>Policy_prescription_and_evaluation</th>\n",
              "      <th>Political</th>\n",
              "      <th>Public_opinion</th>\n",
              "      <th>Quality_of_life</th>\n",
              "      <th>Security_and_defense</th>\n",
              "    </tr>\n",
              "  </thead>\n",
              "  <tbody>\n",
              "    <tr>\n",
              "      <th>0</th>\n",
              "      <td>0</td>\n",
              "      <td>0</td>\n",
              "      <td>0</td>\n",
              "      <td>0</td>\n",
              "      <td>1</td>\n",
              "      <td>1</td>\n",
              "      <td>0</td>\n",
              "      <td>1</td>\n",
              "      <td>1</td>\n",
              "      <td>0</td>\n",
              "      <td>1</td>\n",
              "      <td>0</td>\n",
              "      <td>0</td>\n",
              "      <td>0</td>\n",
              "    </tr>\n",
              "    <tr>\n",
              "      <th>1</th>\n",
              "      <td>0</td>\n",
              "      <td>0</td>\n",
              "      <td>0</td>\n",
              "      <td>1</td>\n",
              "      <td>0</td>\n",
              "      <td>0</td>\n",
              "      <td>0</td>\n",
              "      <td>1</td>\n",
              "      <td>1</td>\n",
              "      <td>1</td>\n",
              "      <td>0</td>\n",
              "      <td>0</td>\n",
              "      <td>0</td>\n",
              "      <td>1</td>\n",
              "    </tr>\n",
              "    <tr>\n",
              "      <th>2</th>\n",
              "      <td>0</td>\n",
              "      <td>1</td>\n",
              "      <td>0</td>\n",
              "      <td>0</td>\n",
              "      <td>1</td>\n",
              "      <td>0</td>\n",
              "      <td>0</td>\n",
              "      <td>1</td>\n",
              "      <td>0</td>\n",
              "      <td>1</td>\n",
              "      <td>1</td>\n",
              "      <td>1</td>\n",
              "      <td>0</td>\n",
              "      <td>0</td>\n",
              "    </tr>\n",
              "    <tr>\n",
              "      <th>3</th>\n",
              "      <td>0</td>\n",
              "      <td>1</td>\n",
              "      <td>0</td>\n",
              "      <td>0</td>\n",
              "      <td>1</td>\n",
              "      <td>1</td>\n",
              "      <td>0</td>\n",
              "      <td>1</td>\n",
              "      <td>0</td>\n",
              "      <td>0</td>\n",
              "      <td>1</td>\n",
              "      <td>0</td>\n",
              "      <td>0</td>\n",
              "      <td>0</td>\n",
              "    </tr>\n",
              "    <tr>\n",
              "      <th>4</th>\n",
              "      <td>0</td>\n",
              "      <td>0</td>\n",
              "      <td>0</td>\n",
              "      <td>1</td>\n",
              "      <td>1</td>\n",
              "      <td>1</td>\n",
              "      <td>0</td>\n",
              "      <td>0</td>\n",
              "      <td>1</td>\n",
              "      <td>0</td>\n",
              "      <td>1</td>\n",
              "      <td>1</td>\n",
              "      <td>0</td>\n",
              "      <td>1</td>\n",
              "    </tr>\n",
              "    <tr>\n",
              "      <th>...</th>\n",
              "      <td>...</td>\n",
              "      <td>...</td>\n",
              "      <td>...</td>\n",
              "      <td>...</td>\n",
              "      <td>...</td>\n",
              "      <td>...</td>\n",
              "      <td>...</td>\n",
              "      <td>...</td>\n",
              "      <td>...</td>\n",
              "      <td>...</td>\n",
              "      <td>...</td>\n",
              "      <td>...</td>\n",
              "      <td>...</td>\n",
              "      <td>...</td>\n",
              "    </tr>\n",
              "    <tr>\n",
              "      <th>428</th>\n",
              "      <td>0</td>\n",
              "      <td>1</td>\n",
              "      <td>0</td>\n",
              "      <td>1</td>\n",
              "      <td>1</td>\n",
              "      <td>0</td>\n",
              "      <td>0</td>\n",
              "      <td>1</td>\n",
              "      <td>0</td>\n",
              "      <td>0</td>\n",
              "      <td>1</td>\n",
              "      <td>0</td>\n",
              "      <td>0</td>\n",
              "      <td>0</td>\n",
              "    </tr>\n",
              "    <tr>\n",
              "      <th>429</th>\n",
              "      <td>0</td>\n",
              "      <td>1</td>\n",
              "      <td>0</td>\n",
              "      <td>0</td>\n",
              "      <td>0</td>\n",
              "      <td>0</td>\n",
              "      <td>0</td>\n",
              "      <td>0</td>\n",
              "      <td>1</td>\n",
              "      <td>1</td>\n",
              "      <td>1</td>\n",
              "      <td>0</td>\n",
              "      <td>1</td>\n",
              "      <td>0</td>\n",
              "    </tr>\n",
              "    <tr>\n",
              "      <th>430</th>\n",
              "      <td>0</td>\n",
              "      <td>1</td>\n",
              "      <td>0</td>\n",
              "      <td>0</td>\n",
              "      <td>1</td>\n",
              "      <td>0</td>\n",
              "      <td>0</td>\n",
              "      <td>1</td>\n",
              "      <td>0</td>\n",
              "      <td>0</td>\n",
              "      <td>1</td>\n",
              "      <td>0</td>\n",
              "      <td>0</td>\n",
              "      <td>0</td>\n",
              "    </tr>\n",
              "    <tr>\n",
              "      <th>431</th>\n",
              "      <td>0</td>\n",
              "      <td>1</td>\n",
              "      <td>0</td>\n",
              "      <td>0</td>\n",
              "      <td>1</td>\n",
              "      <td>1</td>\n",
              "      <td>0</td>\n",
              "      <td>1</td>\n",
              "      <td>0</td>\n",
              "      <td>0</td>\n",
              "      <td>1</td>\n",
              "      <td>0</td>\n",
              "      <td>0</td>\n",
              "      <td>0</td>\n",
              "    </tr>\n",
              "    <tr>\n",
              "      <th>432</th>\n",
              "      <td>0</td>\n",
              "      <td>1</td>\n",
              "      <td>0</td>\n",
              "      <td>0</td>\n",
              "      <td>1</td>\n",
              "      <td>0</td>\n",
              "      <td>0</td>\n",
              "      <td>1</td>\n",
              "      <td>0</td>\n",
              "      <td>0</td>\n",
              "      <td>1</td>\n",
              "      <td>0</td>\n",
              "      <td>0</td>\n",
              "      <td>0</td>\n",
              "    </tr>\n",
              "  </tbody>\n",
              "</table>\n",
              "<p>433 rows × 14 columns</p>\n",
              "</div>\n",
              "      <button class=\"colab-df-convert\" onclick=\"convertToInteractive('df-aff37521-62b6-48f4-97e0-8d281af639a5')\"\n",
              "              title=\"Convert this dataframe to an interactive table.\"\n",
              "              style=\"display:none;\">\n",
              "        \n",
              "  <svg xmlns=\"http://www.w3.org/2000/svg\" height=\"24px\"viewBox=\"0 0 24 24\"\n",
              "       width=\"24px\">\n",
              "    <path d=\"M0 0h24v24H0V0z\" fill=\"none\"/>\n",
              "    <path d=\"M18.56 5.44l.94 2.06.94-2.06 2.06-.94-2.06-.94-.94-2.06-.94 2.06-2.06.94zm-11 1L8.5 8.5l.94-2.06 2.06-.94-2.06-.94L8.5 2.5l-.94 2.06-2.06.94zm10 10l.94 2.06.94-2.06 2.06-.94-2.06-.94-.94-2.06-.94 2.06-2.06.94z\"/><path d=\"M17.41 7.96l-1.37-1.37c-.4-.4-.92-.59-1.43-.59-.52 0-1.04.2-1.43.59L10.3 9.45l-7.72 7.72c-.78.78-.78 2.05 0 2.83L4 21.41c.39.39.9.59 1.41.59.51 0 1.02-.2 1.41-.59l7.78-7.78 2.81-2.81c.8-.78.8-2.07 0-2.86zM5.41 20L4 18.59l7.72-7.72 1.47 1.35L5.41 20z\"/>\n",
              "  </svg>\n",
              "      </button>\n",
              "      \n",
              "  <style>\n",
              "    .colab-df-container {\n",
              "      display:flex;\n",
              "      flex-wrap:wrap;\n",
              "      gap: 12px;\n",
              "    }\n",
              "\n",
              "    .colab-df-convert {\n",
              "      background-color: #E8F0FE;\n",
              "      border: none;\n",
              "      border-radius: 50%;\n",
              "      cursor: pointer;\n",
              "      display: none;\n",
              "      fill: #1967D2;\n",
              "      height: 32px;\n",
              "      padding: 0 0 0 0;\n",
              "      width: 32px;\n",
              "    }\n",
              "\n",
              "    .colab-df-convert:hover {\n",
              "      background-color: #E2EBFA;\n",
              "      box-shadow: 0px 1px 2px rgba(60, 64, 67, 0.3), 0px 1px 3px 1px rgba(60, 64, 67, 0.15);\n",
              "      fill: #174EA6;\n",
              "    }\n",
              "\n",
              "    [theme=dark] .colab-df-convert {\n",
              "      background-color: #3B4455;\n",
              "      fill: #D2E3FC;\n",
              "    }\n",
              "\n",
              "    [theme=dark] .colab-df-convert:hover {\n",
              "      background-color: #434B5C;\n",
              "      box-shadow: 0px 1px 3px 1px rgba(0, 0, 0, 0.15);\n",
              "      filter: drop-shadow(0px 1px 2px rgba(0, 0, 0, 0.3));\n",
              "      fill: #FFFFFF;\n",
              "    }\n",
              "  </style>\n",
              "\n",
              "      <script>\n",
              "        const buttonEl =\n",
              "          document.querySelector('#df-aff37521-62b6-48f4-97e0-8d281af639a5 button.colab-df-convert');\n",
              "        buttonEl.style.display =\n",
              "          google.colab.kernel.accessAllowed ? 'block' : 'none';\n",
              "\n",
              "        async function convertToInteractive(key) {\n",
              "          const element = document.querySelector('#df-aff37521-62b6-48f4-97e0-8d281af639a5');\n",
              "          const dataTable =\n",
              "            await google.colab.kernel.invokeFunction('convertToInteractive',\n",
              "                                                     [key], {});\n",
              "          if (!dataTable) return;\n",
              "\n",
              "          const docLinkHtml = 'Like what you see? Visit the ' +\n",
              "            '<a target=\"_blank\" href=https://colab.research.google.com/notebooks/data_table.ipynb>data table notebook</a>'\n",
              "            + ' to learn more about interactive tables.';\n",
              "          element.innerHTML = '';\n",
              "          dataTable['output_type'] = 'display_data';\n",
              "          await google.colab.output.renderOutput(dataTable, element);\n",
              "          const docLink = document.createElement('div');\n",
              "          docLink.innerHTML = docLinkHtml;\n",
              "          element.appendChild(docLink);\n",
              "        }\n",
              "      </script>\n",
              "    </div>\n",
              "  </div>\n",
              "  "
            ]
          },
          "metadata": {},
          "execution_count": 11
        }
      ]
    },
    {
      "cell_type": "code",
      "source": [
        "multi_dev_1"
      ],
      "metadata": {
        "colab": {
          "base_uri": "https://localhost:8080/",
          "height": 483
        },
        "id": "M9uF4U8QhRZX",
        "outputId": "ff2b5a04-e248-4d9d-a0fe-eb1cc7bcce51"
      },
      "execution_count": null,
      "outputs": [
        {
          "output_type": "execute_result",
          "data": {
            "text/plain": [
              "    Capacity_and_resources  Crime_and_punishment  Cultural_identity  Economic  \\\n",
              "0                        0                     0                  0         1   \n",
              "1                        1                     0                  0         0   \n",
              "2                        0                     0                  0         0   \n",
              "3                        0                     0                  0         1   \n",
              "4                        1                     0                  0         0   \n",
              "..                     ...                   ...                ...       ...   \n",
              "78                       0                     1                  0         0   \n",
              "79                       0                     0                  0         0   \n",
              "80                       0                     0                  0         0   \n",
              "81                       0                     1                  0         0   \n",
              "82                       1                     1                  0         1   \n",
              "\n",
              "    External_regulation_and_reputation  Fairness_and_equality  \\\n",
              "0                                    0                      1   \n",
              "1                                    0                      0   \n",
              "2                                    1                      0   \n",
              "3                                    1                      0   \n",
              "4                                    1                      0   \n",
              "..                                 ...                    ...   \n",
              "78                                   1                      1   \n",
              "79                                   1                      0   \n",
              "80                                   1                      0   \n",
              "81                                   1                      0   \n",
              "82                                   0                      0   \n",
              "\n",
              "    Health_and_safety  Legality_Constitutionality_and_jurisprudence  Morality  \\\n",
              "0                   0                                             0         0   \n",
              "1                   1                                             1         0   \n",
              "2                   0                                             0         0   \n",
              "3                   0                                             1         0   \n",
              "4                   0                                             1         0   \n",
              "..                ...                                           ...       ...   \n",
              "78                  0                                             1         0   \n",
              "79                  0                                             1         0   \n",
              "80                  0                                             1         0   \n",
              "81                  0                                             1         0   \n",
              "82                  0                                             0         1   \n",
              "\n",
              "    Policy_prescription_and_evaluation  Political  Public_opinion  \\\n",
              "0                                    1          1               1   \n",
              "1                                    1          1               1   \n",
              "2                                    1          1               1   \n",
              "3                                    1          1               1   \n",
              "4                                    1          1               1   \n",
              "..                                 ...        ...             ...   \n",
              "78                                   1          1               0   \n",
              "79                                   1          1               0   \n",
              "80                                   1          1               0   \n",
              "81                                   0          1               0   \n",
              "82                                   0          1               0   \n",
              "\n",
              "    Quality_of_life  Security_and_defense  \n",
              "0                 0                     1  \n",
              "1                 0                     1  \n",
              "2                 0                     0  \n",
              "3                 0                     0  \n",
              "4                 0                     0  \n",
              "..              ...                   ...  \n",
              "78                0                     0  \n",
              "79                0                     0  \n",
              "80                0                     0  \n",
              "81                0                     0  \n",
              "82                1                     0  \n",
              "\n",
              "[83 rows x 14 columns]"
            ],
            "text/html": [
              "\n",
              "  <div id=\"df-fe7a7f13-9c15-432e-96b1-be73ce3837e9\">\n",
              "    <div class=\"colab-df-container\">\n",
              "      <div>\n",
              "<style scoped>\n",
              "    .dataframe tbody tr th:only-of-type {\n",
              "        vertical-align: middle;\n",
              "    }\n",
              "\n",
              "    .dataframe tbody tr th {\n",
              "        vertical-align: top;\n",
              "    }\n",
              "\n",
              "    .dataframe thead th {\n",
              "        text-align: right;\n",
              "    }\n",
              "</style>\n",
              "<table border=\"1\" class=\"dataframe\">\n",
              "  <thead>\n",
              "    <tr style=\"text-align: right;\">\n",
              "      <th></th>\n",
              "      <th>Capacity_and_resources</th>\n",
              "      <th>Crime_and_punishment</th>\n",
              "      <th>Cultural_identity</th>\n",
              "      <th>Economic</th>\n",
              "      <th>External_regulation_and_reputation</th>\n",
              "      <th>Fairness_and_equality</th>\n",
              "      <th>Health_and_safety</th>\n",
              "      <th>Legality_Constitutionality_and_jurisprudence</th>\n",
              "      <th>Morality</th>\n",
              "      <th>Policy_prescription_and_evaluation</th>\n",
              "      <th>Political</th>\n",
              "      <th>Public_opinion</th>\n",
              "      <th>Quality_of_life</th>\n",
              "      <th>Security_and_defense</th>\n",
              "    </tr>\n",
              "  </thead>\n",
              "  <tbody>\n",
              "    <tr>\n",
              "      <th>0</th>\n",
              "      <td>0</td>\n",
              "      <td>0</td>\n",
              "      <td>0</td>\n",
              "      <td>1</td>\n",
              "      <td>0</td>\n",
              "      <td>1</td>\n",
              "      <td>0</td>\n",
              "      <td>0</td>\n",
              "      <td>0</td>\n",
              "      <td>1</td>\n",
              "      <td>1</td>\n",
              "      <td>1</td>\n",
              "      <td>0</td>\n",
              "      <td>1</td>\n",
              "    </tr>\n",
              "    <tr>\n",
              "      <th>1</th>\n",
              "      <td>1</td>\n",
              "      <td>0</td>\n",
              "      <td>0</td>\n",
              "      <td>0</td>\n",
              "      <td>0</td>\n",
              "      <td>0</td>\n",
              "      <td>1</td>\n",
              "      <td>1</td>\n",
              "      <td>0</td>\n",
              "      <td>1</td>\n",
              "      <td>1</td>\n",
              "      <td>1</td>\n",
              "      <td>0</td>\n",
              "      <td>1</td>\n",
              "    </tr>\n",
              "    <tr>\n",
              "      <th>2</th>\n",
              "      <td>0</td>\n",
              "      <td>0</td>\n",
              "      <td>0</td>\n",
              "      <td>0</td>\n",
              "      <td>1</td>\n",
              "      <td>0</td>\n",
              "      <td>0</td>\n",
              "      <td>0</td>\n",
              "      <td>0</td>\n",
              "      <td>1</td>\n",
              "      <td>1</td>\n",
              "      <td>1</td>\n",
              "      <td>0</td>\n",
              "      <td>0</td>\n",
              "    </tr>\n",
              "    <tr>\n",
              "      <th>3</th>\n",
              "      <td>0</td>\n",
              "      <td>0</td>\n",
              "      <td>0</td>\n",
              "      <td>1</td>\n",
              "      <td>1</td>\n",
              "      <td>0</td>\n",
              "      <td>0</td>\n",
              "      <td>1</td>\n",
              "      <td>0</td>\n",
              "      <td>1</td>\n",
              "      <td>1</td>\n",
              "      <td>1</td>\n",
              "      <td>0</td>\n",
              "      <td>0</td>\n",
              "    </tr>\n",
              "    <tr>\n",
              "      <th>4</th>\n",
              "      <td>1</td>\n",
              "      <td>0</td>\n",
              "      <td>0</td>\n",
              "      <td>0</td>\n",
              "      <td>1</td>\n",
              "      <td>0</td>\n",
              "      <td>0</td>\n",
              "      <td>1</td>\n",
              "      <td>0</td>\n",
              "      <td>1</td>\n",
              "      <td>1</td>\n",
              "      <td>1</td>\n",
              "      <td>0</td>\n",
              "      <td>0</td>\n",
              "    </tr>\n",
              "    <tr>\n",
              "      <th>...</th>\n",
              "      <td>...</td>\n",
              "      <td>...</td>\n",
              "      <td>...</td>\n",
              "      <td>...</td>\n",
              "      <td>...</td>\n",
              "      <td>...</td>\n",
              "      <td>...</td>\n",
              "      <td>...</td>\n",
              "      <td>...</td>\n",
              "      <td>...</td>\n",
              "      <td>...</td>\n",
              "      <td>...</td>\n",
              "      <td>...</td>\n",
              "      <td>...</td>\n",
              "    </tr>\n",
              "    <tr>\n",
              "      <th>78</th>\n",
              "      <td>0</td>\n",
              "      <td>1</td>\n",
              "      <td>0</td>\n",
              "      <td>0</td>\n",
              "      <td>1</td>\n",
              "      <td>1</td>\n",
              "      <td>0</td>\n",
              "      <td>1</td>\n",
              "      <td>0</td>\n",
              "      <td>1</td>\n",
              "      <td>1</td>\n",
              "      <td>0</td>\n",
              "      <td>0</td>\n",
              "      <td>0</td>\n",
              "    </tr>\n",
              "    <tr>\n",
              "      <th>79</th>\n",
              "      <td>0</td>\n",
              "      <td>0</td>\n",
              "      <td>0</td>\n",
              "      <td>0</td>\n",
              "      <td>1</td>\n",
              "      <td>0</td>\n",
              "      <td>0</td>\n",
              "      <td>1</td>\n",
              "      <td>0</td>\n",
              "      <td>1</td>\n",
              "      <td>1</td>\n",
              "      <td>0</td>\n",
              "      <td>0</td>\n",
              "      <td>0</td>\n",
              "    </tr>\n",
              "    <tr>\n",
              "      <th>80</th>\n",
              "      <td>0</td>\n",
              "      <td>0</td>\n",
              "      <td>0</td>\n",
              "      <td>0</td>\n",
              "      <td>1</td>\n",
              "      <td>0</td>\n",
              "      <td>0</td>\n",
              "      <td>1</td>\n",
              "      <td>0</td>\n",
              "      <td>1</td>\n",
              "      <td>1</td>\n",
              "      <td>0</td>\n",
              "      <td>0</td>\n",
              "      <td>0</td>\n",
              "    </tr>\n",
              "    <tr>\n",
              "      <th>81</th>\n",
              "      <td>0</td>\n",
              "      <td>1</td>\n",
              "      <td>0</td>\n",
              "      <td>0</td>\n",
              "      <td>1</td>\n",
              "      <td>0</td>\n",
              "      <td>0</td>\n",
              "      <td>1</td>\n",
              "      <td>0</td>\n",
              "      <td>0</td>\n",
              "      <td>1</td>\n",
              "      <td>0</td>\n",
              "      <td>0</td>\n",
              "      <td>0</td>\n",
              "    </tr>\n",
              "    <tr>\n",
              "      <th>82</th>\n",
              "      <td>1</td>\n",
              "      <td>1</td>\n",
              "      <td>0</td>\n",
              "      <td>1</td>\n",
              "      <td>0</td>\n",
              "      <td>0</td>\n",
              "      <td>0</td>\n",
              "      <td>0</td>\n",
              "      <td>1</td>\n",
              "      <td>0</td>\n",
              "      <td>1</td>\n",
              "      <td>0</td>\n",
              "      <td>1</td>\n",
              "      <td>0</td>\n",
              "    </tr>\n",
              "  </tbody>\n",
              "</table>\n",
              "<p>83 rows × 14 columns</p>\n",
              "</div>\n",
              "      <button class=\"colab-df-convert\" onclick=\"convertToInteractive('df-fe7a7f13-9c15-432e-96b1-be73ce3837e9')\"\n",
              "              title=\"Convert this dataframe to an interactive table.\"\n",
              "              style=\"display:none;\">\n",
              "        \n",
              "  <svg xmlns=\"http://www.w3.org/2000/svg\" height=\"24px\"viewBox=\"0 0 24 24\"\n",
              "       width=\"24px\">\n",
              "    <path d=\"M0 0h24v24H0V0z\" fill=\"none\"/>\n",
              "    <path d=\"M18.56 5.44l.94 2.06.94-2.06 2.06-.94-2.06-.94-.94-2.06-.94 2.06-2.06.94zm-11 1L8.5 8.5l.94-2.06 2.06-.94-2.06-.94L8.5 2.5l-.94 2.06-2.06.94zm10 10l.94 2.06.94-2.06 2.06-.94-2.06-.94-.94-2.06-.94 2.06-2.06.94z\"/><path d=\"M17.41 7.96l-1.37-1.37c-.4-.4-.92-.59-1.43-.59-.52 0-1.04.2-1.43.59L10.3 9.45l-7.72 7.72c-.78.78-.78 2.05 0 2.83L4 21.41c.39.39.9.59 1.41.59.51 0 1.02-.2 1.41-.59l7.78-7.78 2.81-2.81c.8-.78.8-2.07 0-2.86zM5.41 20L4 18.59l7.72-7.72 1.47 1.35L5.41 20z\"/>\n",
              "  </svg>\n",
              "      </button>\n",
              "      \n",
              "  <style>\n",
              "    .colab-df-container {\n",
              "      display:flex;\n",
              "      flex-wrap:wrap;\n",
              "      gap: 12px;\n",
              "    }\n",
              "\n",
              "    .colab-df-convert {\n",
              "      background-color: #E8F0FE;\n",
              "      border: none;\n",
              "      border-radius: 50%;\n",
              "      cursor: pointer;\n",
              "      display: none;\n",
              "      fill: #1967D2;\n",
              "      height: 32px;\n",
              "      padding: 0 0 0 0;\n",
              "      width: 32px;\n",
              "    }\n",
              "\n",
              "    .colab-df-convert:hover {\n",
              "      background-color: #E2EBFA;\n",
              "      box-shadow: 0px 1px 2px rgba(60, 64, 67, 0.3), 0px 1px 3px 1px rgba(60, 64, 67, 0.15);\n",
              "      fill: #174EA6;\n",
              "    }\n",
              "\n",
              "    [theme=dark] .colab-df-convert {\n",
              "      background-color: #3B4455;\n",
              "      fill: #D2E3FC;\n",
              "    }\n",
              "\n",
              "    [theme=dark] .colab-df-convert:hover {\n",
              "      background-color: #434B5C;\n",
              "      box-shadow: 0px 1px 3px 1px rgba(0, 0, 0, 0.15);\n",
              "      filter: drop-shadow(0px 1px 2px rgba(0, 0, 0, 0.3));\n",
              "      fill: #FFFFFF;\n",
              "    }\n",
              "  </style>\n",
              "\n",
              "      <script>\n",
              "        const buttonEl =\n",
              "          document.querySelector('#df-fe7a7f13-9c15-432e-96b1-be73ce3837e9 button.colab-df-convert');\n",
              "        buttonEl.style.display =\n",
              "          google.colab.kernel.accessAllowed ? 'block' : 'none';\n",
              "\n",
              "        async function convertToInteractive(key) {\n",
              "          const element = document.querySelector('#df-fe7a7f13-9c15-432e-96b1-be73ce3837e9');\n",
              "          const dataTable =\n",
              "            await google.colab.kernel.invokeFunction('convertToInteractive',\n",
              "                                                     [key], {});\n",
              "          if (!dataTable) return;\n",
              "\n",
              "          const docLinkHtml = 'Like what you see? Visit the ' +\n",
              "            '<a target=\"_blank\" href=https://colab.research.google.com/notebooks/data_table.ipynb>data table notebook</a>'\n",
              "            + ' to learn more about interactive tables.';\n",
              "          element.innerHTML = '';\n",
              "          dataTable['output_type'] = 'display_data';\n",
              "          await google.colab.output.renderOutput(dataTable, element);\n",
              "          const docLink = document.createElement('div');\n",
              "          docLink.innerHTML = docLinkHtml;\n",
              "          element.appendChild(docLink);\n",
              "        }\n",
              "      </script>\n",
              "    </div>\n",
              "  </div>\n",
              "  "
            ]
          },
          "metadata": {},
          "execution_count": 12
        }
      ]
    },
    {
      "cell_type": "code",
      "execution_count": null,
      "metadata": {
        "colab": {
          "base_uri": "https://localhost:8080/"
        },
        "id": "Vhyrc6LLoS2s",
        "outputId": "274e66db-5c58-4ebe-d916-feee4fed3444"
      },
      "outputs": [
        {
          "output_type": "execute_result",
          "data": {
            "text/plain": [
              "array([[0, 0, 0, ..., 0, 0, 0],\n",
              "       [0, 0, 0, ..., 0, 0, 1],\n",
              "       [0, 1, 0, ..., 1, 0, 0],\n",
              "       ...,\n",
              "       [0, 1, 0, ..., 0, 0, 0],\n",
              "       [0, 1, 0, ..., 0, 0, 0],\n",
              "       [0, 1, 0, ..., 0, 0, 0]])"
            ]
          },
          "metadata": {},
          "execution_count": 13
        }
      ],
      "source": [
        "multi_train"
      ]
    },
    {
      "cell_type": "code",
      "execution_count": null,
      "metadata": {
        "colab": {
          "base_uri": "https://localhost:8080/"
        },
        "id": "93031V4SsxlC",
        "outputId": "a9699be9-0faf-4747-c828-26218c30ff15"
      },
      "outputs": [
        {
          "output_type": "execute_result",
          "data": {
            "text/plain": [
              "numpy.ndarray"
            ]
          },
          "metadata": {},
          "execution_count": 14
        }
      ],
      "source": [
        "type(multi_train)"
      ]
    },
    {
      "cell_type": "code",
      "execution_count": null,
      "metadata": {
        "colab": {
          "base_uri": "https://localhost:8080/"
        },
        "id": "jmEhLd2r4nmh",
        "outputId": "e9231e28-d4bc-4bc5-b279-3ac6b34feafc"
      },
      "outputs": [
        {
          "output_type": "execute_result",
          "data": {
            "text/plain": [
              "array([[0, 0, 0, ..., 1, 0, 1],\n",
              "       [1, 0, 0, ..., 1, 0, 1],\n",
              "       [0, 0, 0, ..., 1, 0, 0],\n",
              "       ...,\n",
              "       [0, 0, 0, ..., 0, 0, 0],\n",
              "       [0, 1, 0, ..., 0, 0, 0],\n",
              "       [1, 1, 0, ..., 0, 1, 0]])"
            ]
          },
          "metadata": {},
          "execution_count": 15
        }
      ],
      "source": [
        "multi_dev"
      ]
    },
    {
      "cell_type": "code",
      "execution_count": null,
      "metadata": {
        "id": "dduwBiUOppq_",
        "colab": {
          "base_uri": "https://localhost:8080/",
          "height": 177,
          "referenced_widgets": [
            "ddd44efc1e9c4b19aaf18a03ed7219ce",
            "4515c24e5d864b1980c7390e9188e835",
            "c470f51e2f3542deb75cb29ee259ca97",
            "c41888af71174472a2019b387e880ed5",
            "14abb4fc752e43568eea1554a875b844",
            "4695dbd676e5485b9435773d45e620ff",
            "d46e1dac280046818dab8491d7d019cc",
            "ab1ff78e9aaa4fbba7e6a3cfd622a656",
            "3f62ed499da94720a6582567aa535aa6",
            "b255c53251994f07bad533fb89613c85",
            "45fad132116c468d9134aa7a532a0eeb",
            "a8ed908735ae4db09f720cee8fb3b6a3",
            "6689f83c95a940febe0560dcdc98d8a5",
            "883420aa6025444a98b69a758728d319",
            "47cb776f958b41e9b68fefd775b282a4",
            "5ebf8fde431b4708963dd4eb2b4a52fc",
            "407b111483e64a61afddbf47ceb55be8",
            "4a1220bfcc33475e8bfb5fdada8edd2f",
            "40010abf1b7c4b4298c6e5945eef31dc",
            "4c1d1450d7334adca99f42a3203918b9",
            "a5c84c09be0d4573a55b75db478f20b8",
            "34599a6ca0524f83ab790242b1745e03",
            "a74f3c77f3c644558a476bff15cb1f83",
            "6194460768c342859b372452d4e1c42f",
            "f451be00868f472ba8dfca19c328d136",
            "2f9c266bcc92474cabcea376c6491338",
            "91bd4eced9104a05b44f2eac74dee555",
            "5497b9de47284d5ebdb6fe6c5909aecb",
            "0d0f0137765f464dbeda63229a3b81ec",
            "8f2ef2c076694e9c8c3703e347e0a49d",
            "cc5051d7a6ec403886c1cd4e8a49cc4c",
            "1e89ad7d45984a7fabed3f8e322055c4",
            "c767fb5f14714318b1565adb8da37272",
            "1656e6e477374f56930671febf164ef4",
            "3a4f09d8886842788b89c23279f8fb74",
            "7a0c45ae95a64f268ce08875696d5f7a",
            "7c0a0b075a1f41718e94f881fc84ec3c",
            "17b5916ba92346e5be192b583bb305bf",
            "d87dd6b3c30b41aeb6ee628c4bc2040a",
            "1bbca6361ceb4e7995f0ceb22addf26f",
            "2ea753561a014674b208135d4ea6ecdc",
            "7643f7584e45446685989fde08dd7be7",
            "276c43838b724f0a82cf120880cf6844",
            "0646e4457fb24ab4ab53a23c1ac1c125",
            "69678568fa1345b0a55333b3ae995070",
            "b3f965e22c19454897f48a89a230d674",
            "e67ac013da354be2be986054f66e3c14",
            "917b850a7c46404f9659a5a41b77c394",
            "d6058578b5a7430b9fb9909205370b85",
            "83ec41b7d2fa49af9fbd57eb5bef0ca1",
            "3c50d0c503834e7aaa4d3f1c83a5b76b",
            "27c655b553bc46d39dbc5d533fbdea26",
            "41ed431f37bd463faba60bb5818c9f26",
            "a9c8eb34b0344a9d95a0312dcba2db36",
            "d743d940164849e79aa62730c57fb8c4"
          ]
        },
        "outputId": "0502c5b8-9bc8-469b-be52-8ae013dd171e"
      },
      "outputs": [
        {
          "output_type": "display_data",
          "data": {
            "text/plain": [
              "Downloading (…)okenizer_config.json:   0%|          | 0.00/28.0 [00:00<?, ?B/s]"
            ],
            "application/vnd.jupyter.widget-view+json": {
              "version_major": 2,
              "version_minor": 0,
              "model_id": "ddd44efc1e9c4b19aaf18a03ed7219ce"
            }
          },
          "metadata": {}
        },
        {
          "output_type": "display_data",
          "data": {
            "text/plain": [
              "Downloading (…)lve/main/config.json:   0%|          | 0.00/570 [00:00<?, ?B/s]"
            ],
            "application/vnd.jupyter.widget-view+json": {
              "version_major": 2,
              "version_minor": 0,
              "model_id": "a8ed908735ae4db09f720cee8fb3b6a3"
            }
          },
          "metadata": {}
        },
        {
          "output_type": "display_data",
          "data": {
            "text/plain": [
              "Downloading (…)solve/main/vocab.txt:   0%|          | 0.00/232k [00:00<?, ?B/s]"
            ],
            "application/vnd.jupyter.widget-view+json": {
              "version_major": 2,
              "version_minor": 0,
              "model_id": "a74f3c77f3c644558a476bff15cb1f83"
            }
          },
          "metadata": {}
        },
        {
          "output_type": "display_data",
          "data": {
            "text/plain": [
              "Downloading (…)/main/tokenizer.json:   0%|          | 0.00/466k [00:00<?, ?B/s]"
            ],
            "application/vnd.jupyter.widget-view+json": {
              "version_major": 2,
              "version_minor": 0,
              "model_id": "1656e6e477374f56930671febf164ef4"
            }
          },
          "metadata": {}
        },
        {
          "output_type": "display_data",
          "data": {
            "text/plain": [
              "Downloading (…)\"pytorch_model.bin\";:   0%|          | 0.00/440M [00:00<?, ?B/s]"
            ],
            "application/vnd.jupyter.widget-view+json": {
              "version_major": 2,
              "version_minor": 0,
              "model_id": "69678568fa1345b0a55333b3ae995070"
            }
          },
          "metadata": {}
        }
      ],
      "source": [
        "# aug = naw.SynonymAug(aug_src='wordnet',aug_max=3)\n",
        "aug = naw.ContextualWordEmbsAug(model_path='bert-base-uncased', action=\"substitute\", aug_max=4)"
      ]
    },
    {
      "cell_type": "code",
      "execution_count": null,
      "metadata": {
        "id": "JlJbRBPbmpfl",
        "colab": {
          "base_uri": "https://localhost:8080/",
          "height": 113,
          "referenced_widgets": [
            "1147bf51751245c4a373c84453b8e556",
            "35f6f7b774684631a7f2afa176071962",
            "92c3dd13e78541d9bf703dbee9e2268e",
            "6825b48cd96944f6a1e5524da06732ad",
            "693edd3ee9664c27be2e6273c8c8cb93",
            "23785da709ce49d383a79696dd6f9bd8",
            "2cb1f341a92a4fe28b93b8169d81dbe0",
            "dd62ec6d4d084bc2bd9ac30bfe78c875",
            "c60ed2de72854292a3ab2289a67714b7",
            "3366e9ab13f240d79cbdacc3ed391973",
            "24a4eee6911f45f2b91a996faed85449",
            "d22a3a24d5d94c5f9898dd1df913020e",
            "0324535353e147d2b2f680ad1f736adf",
            "8a8596f38b56409e884982156433cb7f",
            "ff201944ab3e4774b38f41f7e4a4082e",
            "9cb9a8e6f1df423892d7da2688457050",
            "2bd1af766eaa45ef9a08cac893667247",
            "9a71bd0bbb30437f9be66834f1ba65b0",
            "49974ed31c464410bafc58eed6297732",
            "63e8606eaf824a01a9cf031c84895632",
            "57b3d574e0344b7a90ca4f76f3a4fb44",
            "f8cad72feb654a4da440aac0d7fe0699",
            "fb05e71de64440d0b24719f30fe06f04",
            "98a3b04567df498d98a6cc04139033f6",
            "9424089a9da842ef8f2486308a0dbefd",
            "0d192d5934714126b669db228518dff7",
            "0d69a7637e3c4fc892390c2a7bdae723",
            "0b4d2908dbfa4d2692e4a7783fbc8983",
            "bcf5f348d41443b9b30ac0f3438c8811",
            "647ce509245f40ca9789c81a981a6d19",
            "f3b2f26ad3d24be38a9aaf3d0869351a",
            "7f189cb739344c80a1cd57b911e72d16",
            "03176a0f9b6a4af9ab34e7d17f6e2ca3"
          ]
        },
        "outputId": "0e307dc1-91fc-4e09-b96a-aa5a4c005fdc"
      },
      "outputs": [
        {
          "output_type": "display_data",
          "data": {
            "text/plain": [
              "Downloading (…)olve/main/vocab.json:   0%|          | 0.00/899k [00:00<?, ?B/s]"
            ],
            "application/vnd.jupyter.widget-view+json": {
              "version_major": 2,
              "version_minor": 0,
              "model_id": "1147bf51751245c4a373c84453b8e556"
            }
          },
          "metadata": {}
        },
        {
          "output_type": "display_data",
          "data": {
            "text/plain": [
              "Downloading (…)olve/main/merges.txt:   0%|          | 0.00/456k [00:00<?, ?B/s]"
            ],
            "application/vnd.jupyter.widget-view+json": {
              "version_major": 2,
              "version_minor": 0,
              "model_id": "d22a3a24d5d94c5f9898dd1df913020e"
            }
          },
          "metadata": {}
        },
        {
          "output_type": "display_data",
          "data": {
            "text/plain": [
              "Downloading (…)lve/main/config.json:   0%|          | 0.00/481 [00:00<?, ?B/s]"
            ],
            "application/vnd.jupyter.widget-view+json": {
              "version_major": 2,
              "version_minor": 0,
              "model_id": "fb05e71de64440d0b24719f30fe06f04"
            }
          },
          "metadata": {}
        }
      ],
      "source": [
        "x_train = train_sub2_df.preprocessed_articles + train_sub2_df.preprocessed_headlines\n",
        "y_train = multi_train\n",
        "\n",
        "x_dev = dev_sub2_df.preprocessed_articles + dev_sub2_df.preprocessed_headlines\n",
        "y_dev = multi_dev\n",
        "\n",
        "# x_train = train_sub1_df.text\n",
        "# y_train = train_sub1_df.target\n",
        "\n",
        "x_test = test_sub2_df.preprocessed_articles + test_sub2_df.preprocessed_headlines\n",
        "\n",
        "tokenizer = RobertaTokenizer.from_pretrained('roberta-base', num_labels=14, output_attentions=True)"
      ]
    },
    {
      "cell_type": "code",
      "execution_count": null,
      "metadata": {
        "colab": {
          "base_uri": "https://localhost:8080/"
        },
        "id": "EFt_16ojbyrO",
        "outputId": "7953fb7e-ec60-44f7-ec93-a8943be5910b"
      },
      "outputs": [
        {
          "output_type": "execute_result",
          "data": {
            "text/plain": [
              "0      far leave comedienne chelsea handler have admi...\n",
              "1      those be the time the time page be of january ...\n",
              "2      carload of crazy head to the white house want ...\n",
              "3      but of course this make no difference to the p...\n",
              "4      this weekend in manchester england yellow vest...\n",
              "                             ...                        \n",
              "428    on wednesday donald trump be fly to military t...\n",
              "429    the mueller circus cost the taxpayer million b...\n",
              "430    special counsel robert mueller will not recomm...\n",
              "431    the democratic presidential contender be unifo...\n",
              "432    no new indictment will come from special couns...\n",
              "Length: 433, dtype: object"
            ]
          },
          "metadata": {},
          "execution_count": 18
        }
      ],
      "source": [
        "x_train"
      ]
    },
    {
      "cell_type": "code",
      "execution_count": null,
      "metadata": {
        "colab": {
          "base_uri": "https://localhost:8080/"
        },
        "id": "vZnkcl9-b3v9",
        "outputId": "70b917eb-f783-4aa9-c0f7-f920026abb4e"
      },
      "outputs": [
        {
          "output_type": "execute_result",
          "data": {
            "text/plain": [
              "0     theresa may could lose the united kingdom over...\n",
              "1     if britain leave the european union without tr...\n",
              "2     with three month until britain leave the europ...\n",
              "3     the british parliament just hand prime ministe...\n",
              "4     as british mp be tell that their february brea...\n",
              "                            ...                        \n",
              "78    hungarian prime minister viktor orban have be ...\n",
              "79    deep state strike back and miss good oman for ...\n",
              "80    jeremy hunt insist theresa may can still salva...\n",
              "81    mueller conclude russia trump probe lawmaker u...\n",
              "82    tudor simionov be kill when he try to prevent ...\n",
              "Length: 83, dtype: object"
            ]
          },
          "metadata": {},
          "execution_count": 19
        }
      ],
      "source": [
        "x_dev"
      ]
    },
    {
      "cell_type": "code",
      "execution_count": null,
      "metadata": {
        "colab": {
          "base_uri": "https://localhost:8080/"
        },
        "id": "-hftSCgWqIt-",
        "outputId": "a329d1b9-d548-495a-f3b9-91c28f799b99"
      },
      "outputs": [
        {
          "output_type": "stream",
          "name": "stdout",
          "text": [
            "Running count =  10\n",
            "Running count =  20\n",
            "Running count =  30\n",
            "Running count =  40\n",
            "Running count =  50\n",
            "Running count =  60\n",
            "Running count =  70\n",
            "Running count =  80\n",
            "Running count =  90\n",
            "Running count =  100\n",
            "Running count =  110\n",
            "Running count =  120\n",
            "Running count =  130\n",
            "Running count =  140\n",
            "Running count =  150\n",
            "Running count =  160\n",
            "Running count =  170\n",
            "Running count =  180\n",
            "Running count =  190\n",
            "Running count =  200\n",
            "Running count =  210\n",
            "Running count =  220\n",
            "Running count =  230\n",
            "Running count =  240\n",
            "Running count =  250\n",
            "Running count =  260\n",
            "Running count =  270\n",
            "Running count =  280\n",
            "Running count =  290\n",
            "Running count =  300\n",
            "Running count =  310\n",
            "Running count =  320\n",
            "Running count =  330\n",
            "Running count =  340\n",
            "Running count =  350\n",
            "Running count =  360\n",
            "Running count =  370\n",
            "Running count =  380\n",
            "Running count =  390\n",
            "Running count =  400\n",
            "Running count =  410\n",
            "Running count =  420\n",
            "Running count =  430\n"
          ]
        }
      ],
      "source": [
        "augmented_sentences=[]\n",
        "augmented_sentences_labels=[]\n",
        "count = 0\n",
        "\n",
        "for i in x_train.index:\n",
        "    count+=1\n",
        "    if count%10==0:\n",
        "      print(\"Running count = \", count)\n",
        "    try:\n",
        "      temps=aug.augment(x_train[i], n=3)\n",
        "      for sent in temps:\n",
        "        augmented_sentences.append(sent)\n",
        "        augmented_sentences_labels.append(y_train[i])\n",
        "    except:\n",
        "      continue"
      ]
    },
    {
      "cell_type": "code",
      "execution_count": null,
      "metadata": {
        "id": "0zTAQg7wqLQN"
      },
      "outputs": [],
      "source": [
        "x_train_aug = pd.Series()\n",
        "y_train_aug = pd.Series()\n",
        "x_train_aug = x_train_aug.append(pd.Series(augmented_sentences), ignore_index=True)\n",
        "y_train_aug = y_train_aug.append(pd.Series(augmented_sentences_labels), ignore_index=False)"
      ]
    },
    {
      "cell_type": "code",
      "execution_count": null,
      "metadata": {
        "id": "SvuUtshE2GWu"
      },
      "outputs": [],
      "source": [
        "df=pd.concat([x_train_aug,y_train_aug],axis=1)"
      ]
    },
    {
      "cell_type": "code",
      "execution_count": null,
      "metadata": {
        "id": "24O_sxcI3BpY"
      },
      "outputs": [],
      "source": [
        "df.columns =['x_train', 'y_train']"
      ]
    },
    {
      "cell_type": "code",
      "execution_count": null,
      "metadata": {
        "id": "nSlkZaeV9VG6",
        "colab": {
          "base_uri": "https://localhost:8080/",
          "height": 419
        },
        "outputId": "30b32f6c-df69-40d3-9b58-f7060eb3767e"
      },
      "outputs": [
        {
          "output_type": "execute_result",
          "data": {
            "text/plain": [
              "                                                x_train  \\\n",
              "0     far leave comedienne chelsea handler have admi...   \n",
              "1     far leave comedienne chelsea handler have admi...   \n",
              "2     far leave comedienne chelsea handler have admi...   \n",
              "3     those be the time the time page be of january ...   \n",
              "4     those be the time the time page be of january ...   \n",
              "...                                                 ...   \n",
              "1294  the democratic presidential contender be unifo...   \n",
              "1295  the next presidential contender be uniformly c...   \n",
              "1296  the new indictment will come from special coun...   \n",
              "1297  no new indictment will come from special couns...   \n",
              "1298  no new indictment will come from special couns...   \n",
              "\n",
              "                                         y_train  \n",
              "0     [0, 0, 0, 0, 1, 1, 0, 1, 1, 0, 1, 0, 0, 0]  \n",
              "1     [0, 0, 0, 0, 1, 1, 0, 1, 1, 0, 1, 0, 0, 0]  \n",
              "2     [0, 0, 0, 0, 1, 1, 0, 1, 1, 0, 1, 0, 0, 0]  \n",
              "3     [0, 0, 0, 1, 0, 0, 0, 1, 1, 1, 0, 0, 0, 1]  \n",
              "4     [0, 0, 0, 1, 0, 0, 0, 1, 1, 1, 0, 0, 0, 1]  \n",
              "...                                          ...  \n",
              "1294  [0, 1, 0, 0, 1, 1, 0, 1, 0, 0, 1, 0, 0, 0]  \n",
              "1295  [0, 1, 0, 0, 1, 1, 0, 1, 0, 0, 1, 0, 0, 0]  \n",
              "1296  [0, 1, 0, 0, 1, 0, 0, 1, 0, 0, 1, 0, 0, 0]  \n",
              "1297  [0, 1, 0, 0, 1, 0, 0, 1, 0, 0, 1, 0, 0, 0]  \n",
              "1298  [0, 1, 0, 0, 1, 0, 0, 1, 0, 0, 1, 0, 0, 0]  \n",
              "\n",
              "[1299 rows x 2 columns]"
            ],
            "text/html": [
              "\n",
              "  <div id=\"df-90ae43c5-77fd-47a5-b232-1def4f9a9a68\">\n",
              "    <div class=\"colab-df-container\">\n",
              "      <div>\n",
              "<style scoped>\n",
              "    .dataframe tbody tr th:only-of-type {\n",
              "        vertical-align: middle;\n",
              "    }\n",
              "\n",
              "    .dataframe tbody tr th {\n",
              "        vertical-align: top;\n",
              "    }\n",
              "\n",
              "    .dataframe thead th {\n",
              "        text-align: right;\n",
              "    }\n",
              "</style>\n",
              "<table border=\"1\" class=\"dataframe\">\n",
              "  <thead>\n",
              "    <tr style=\"text-align: right;\">\n",
              "      <th></th>\n",
              "      <th>x_train</th>\n",
              "      <th>y_train</th>\n",
              "    </tr>\n",
              "  </thead>\n",
              "  <tbody>\n",
              "    <tr>\n",
              "      <th>0</th>\n",
              "      <td>far leave comedienne chelsea handler have admi...</td>\n",
              "      <td>[0, 0, 0, 0, 1, 1, 0, 1, 1, 0, 1, 0, 0, 0]</td>\n",
              "    </tr>\n",
              "    <tr>\n",
              "      <th>1</th>\n",
              "      <td>far leave comedienne chelsea handler have admi...</td>\n",
              "      <td>[0, 0, 0, 0, 1, 1, 0, 1, 1, 0, 1, 0, 0, 0]</td>\n",
              "    </tr>\n",
              "    <tr>\n",
              "      <th>2</th>\n",
              "      <td>far leave comedienne chelsea handler have admi...</td>\n",
              "      <td>[0, 0, 0, 0, 1, 1, 0, 1, 1, 0, 1, 0, 0, 0]</td>\n",
              "    </tr>\n",
              "    <tr>\n",
              "      <th>3</th>\n",
              "      <td>those be the time the time page be of january ...</td>\n",
              "      <td>[0, 0, 0, 1, 0, 0, 0, 1, 1, 1, 0, 0, 0, 1]</td>\n",
              "    </tr>\n",
              "    <tr>\n",
              "      <th>4</th>\n",
              "      <td>those be the time the time page be of january ...</td>\n",
              "      <td>[0, 0, 0, 1, 0, 0, 0, 1, 1, 1, 0, 0, 0, 1]</td>\n",
              "    </tr>\n",
              "    <tr>\n",
              "      <th>...</th>\n",
              "      <td>...</td>\n",
              "      <td>...</td>\n",
              "    </tr>\n",
              "    <tr>\n",
              "      <th>1294</th>\n",
              "      <td>the democratic presidential contender be unifo...</td>\n",
              "      <td>[0, 1, 0, 0, 1, 1, 0, 1, 0, 0, 1, 0, 0, 0]</td>\n",
              "    </tr>\n",
              "    <tr>\n",
              "      <th>1295</th>\n",
              "      <td>the next presidential contender be uniformly c...</td>\n",
              "      <td>[0, 1, 0, 0, 1, 1, 0, 1, 0, 0, 1, 0, 0, 0]</td>\n",
              "    </tr>\n",
              "    <tr>\n",
              "      <th>1296</th>\n",
              "      <td>the new indictment will come from special coun...</td>\n",
              "      <td>[0, 1, 0, 0, 1, 0, 0, 1, 0, 0, 1, 0, 0, 0]</td>\n",
              "    </tr>\n",
              "    <tr>\n",
              "      <th>1297</th>\n",
              "      <td>no new indictment will come from special couns...</td>\n",
              "      <td>[0, 1, 0, 0, 1, 0, 0, 1, 0, 0, 1, 0, 0, 0]</td>\n",
              "    </tr>\n",
              "    <tr>\n",
              "      <th>1298</th>\n",
              "      <td>no new indictment will come from special couns...</td>\n",
              "      <td>[0, 1, 0, 0, 1, 0, 0, 1, 0, 0, 1, 0, 0, 0]</td>\n",
              "    </tr>\n",
              "  </tbody>\n",
              "</table>\n",
              "<p>1299 rows × 2 columns</p>\n",
              "</div>\n",
              "      <button class=\"colab-df-convert\" onclick=\"convertToInteractive('df-90ae43c5-77fd-47a5-b232-1def4f9a9a68')\"\n",
              "              title=\"Convert this dataframe to an interactive table.\"\n",
              "              style=\"display:none;\">\n",
              "        \n",
              "  <svg xmlns=\"http://www.w3.org/2000/svg\" height=\"24px\"viewBox=\"0 0 24 24\"\n",
              "       width=\"24px\">\n",
              "    <path d=\"M0 0h24v24H0V0z\" fill=\"none\"/>\n",
              "    <path d=\"M18.56 5.44l.94 2.06.94-2.06 2.06-.94-2.06-.94-.94-2.06-.94 2.06-2.06.94zm-11 1L8.5 8.5l.94-2.06 2.06-.94-2.06-.94L8.5 2.5l-.94 2.06-2.06.94zm10 10l.94 2.06.94-2.06 2.06-.94-2.06-.94-.94-2.06-.94 2.06-2.06.94z\"/><path d=\"M17.41 7.96l-1.37-1.37c-.4-.4-.92-.59-1.43-.59-.52 0-1.04.2-1.43.59L10.3 9.45l-7.72 7.72c-.78.78-.78 2.05 0 2.83L4 21.41c.39.39.9.59 1.41.59.51 0 1.02-.2 1.41-.59l7.78-7.78 2.81-2.81c.8-.78.8-2.07 0-2.86zM5.41 20L4 18.59l7.72-7.72 1.47 1.35L5.41 20z\"/>\n",
              "  </svg>\n",
              "      </button>\n",
              "      \n",
              "  <style>\n",
              "    .colab-df-container {\n",
              "      display:flex;\n",
              "      flex-wrap:wrap;\n",
              "      gap: 12px;\n",
              "    }\n",
              "\n",
              "    .colab-df-convert {\n",
              "      background-color: #E8F0FE;\n",
              "      border: none;\n",
              "      border-radius: 50%;\n",
              "      cursor: pointer;\n",
              "      display: none;\n",
              "      fill: #1967D2;\n",
              "      height: 32px;\n",
              "      padding: 0 0 0 0;\n",
              "      width: 32px;\n",
              "    }\n",
              "\n",
              "    .colab-df-convert:hover {\n",
              "      background-color: #E2EBFA;\n",
              "      box-shadow: 0px 1px 2px rgba(60, 64, 67, 0.3), 0px 1px 3px 1px rgba(60, 64, 67, 0.15);\n",
              "      fill: #174EA6;\n",
              "    }\n",
              "\n",
              "    [theme=dark] .colab-df-convert {\n",
              "      background-color: #3B4455;\n",
              "      fill: #D2E3FC;\n",
              "    }\n",
              "\n",
              "    [theme=dark] .colab-df-convert:hover {\n",
              "      background-color: #434B5C;\n",
              "      box-shadow: 0px 1px 3px 1px rgba(0, 0, 0, 0.15);\n",
              "      filter: drop-shadow(0px 1px 2px rgba(0, 0, 0, 0.3));\n",
              "      fill: #FFFFFF;\n",
              "    }\n",
              "  </style>\n",
              "\n",
              "      <script>\n",
              "        const buttonEl =\n",
              "          document.querySelector('#df-90ae43c5-77fd-47a5-b232-1def4f9a9a68 button.colab-df-convert');\n",
              "        buttonEl.style.display =\n",
              "          google.colab.kernel.accessAllowed ? 'block' : 'none';\n",
              "\n",
              "        async function convertToInteractive(key) {\n",
              "          const element = document.querySelector('#df-90ae43c5-77fd-47a5-b232-1def4f9a9a68');\n",
              "          const dataTable =\n",
              "            await google.colab.kernel.invokeFunction('convertToInteractive',\n",
              "                                                     [key], {});\n",
              "          if (!dataTable) return;\n",
              "\n",
              "          const docLinkHtml = 'Like what you see? Visit the ' +\n",
              "            '<a target=\"_blank\" href=https://colab.research.google.com/notebooks/data_table.ipynb>data table notebook</a>'\n",
              "            + ' to learn more about interactive tables.';\n",
              "          element.innerHTML = '';\n",
              "          dataTable['output_type'] = 'display_data';\n",
              "          await google.colab.output.renderOutput(dataTable, element);\n",
              "          const docLink = document.createElement('div');\n",
              "          docLink.innerHTML = docLinkHtml;\n",
              "          element.appendChild(docLink);\n",
              "        }\n",
              "      </script>\n",
              "    </div>\n",
              "  </div>\n",
              "  "
            ]
          },
          "metadata": {},
          "execution_count": 24
        }
      ],
      "source": [
        "df"
      ]
    },
    {
      "cell_type": "code",
      "execution_count": null,
      "metadata": {
        "id": "4Mf4e8En2IZc"
      },
      "outputs": [],
      "source": [
        "df.to_csv('aug.csv')"
      ]
    },
    {
      "cell_type": "code",
      "execution_count": null,
      "metadata": {
        "id": "jty6dMYLcUiq",
        "colab": {
          "base_uri": "https://localhost:8080/"
        },
        "outputId": "217088f1-2fa0-4898-9ab9-105c7ed6ab96"
      },
      "outputs": [
        {
          "output_type": "execute_result",
          "data": {
            "text/plain": [
              "(1299,)"
            ]
          },
          "metadata": {},
          "execution_count": 26
        }
      ],
      "source": [
        "x_train_aug.shape"
      ]
    },
    {
      "cell_type": "code",
      "execution_count": null,
      "metadata": {
        "id": "ZqVwAy31cj59",
        "colab": {
          "base_uri": "https://localhost:8080/"
        },
        "outputId": "b2b0fa66-0ee6-4790-fc92-03b1c17d1dd1"
      },
      "outputs": [
        {
          "output_type": "execute_result",
          "data": {
            "text/plain": [
              "(1299,)"
            ]
          },
          "metadata": {},
          "execution_count": 27
        }
      ],
      "source": [
        "y_train_aug.shape"
      ]
    },
    {
      "cell_type": "code",
      "source": [
        "type(y_train_aug)"
      ],
      "metadata": {
        "id": "JfbaEaNHWUIV",
        "colab": {
          "base_uri": "https://localhost:8080/"
        },
        "outputId": "ce5d108a-c256-4e6e-d9a6-6f1d85dcdd7a"
      },
      "execution_count": null,
      "outputs": [
        {
          "output_type": "execute_result",
          "data": {
            "text/plain": [
              "pandas.core.series.Series"
            ]
          },
          "metadata": {},
          "execution_count": 28
        }
      ]
    },
    {
      "cell_type": "code",
      "execution_count": null,
      "metadata": {
        "id": "xd0x8iNwvw2K",
        "colab": {
          "base_uri": "https://localhost:8080/"
        },
        "outputId": "2ae6b0e2-9cdf-40a1-f6cd-8c9482f97a94"
      },
      "outputs": [
        {
          "output_type": "execute_result",
          "data": {
            "text/plain": [
              "(1299, 14)"
            ]
          },
          "metadata": {},
          "execution_count": 29
        }
      ],
      "source": [
        "arr = np.stack(y_train_aug.to_numpy())\n",
        "arr.shape\n",
        "# np_arr"
      ]
    },
    {
      "cell_type": "code",
      "execution_count": null,
      "metadata": {
        "id": "JPOxt99lypUU"
      },
      "outputs": [],
      "source": [
        "y_train_aug_1 = arr"
      ]
    },
    {
      "cell_type": "code",
      "execution_count": null,
      "metadata": {
        "id": "mZHH7u_8ywZc",
        "colab": {
          "base_uri": "https://localhost:8080/"
        },
        "outputId": "0ab03251-af27-435b-be5a-768e00f7db1b"
      },
      "outputs": [
        {
          "output_type": "execute_result",
          "data": {
            "text/plain": [
              "(1299, 14)"
            ]
          },
          "metadata": {},
          "execution_count": 31
        }
      ],
      "source": [
        "y_train_aug_1.shape"
      ]
    },
    {
      "cell_type": "code",
      "execution_count": null,
      "metadata": {
        "id": "PZKKPBre54Pe"
      },
      "outputs": [],
      "source": [
        "x_train = x_train_aug.to_numpy().reshape(-1)\n",
        "\n",
        "x_dev = x_dev.to_numpy().reshape(-1)"
      ]
    },
    {
      "cell_type": "code",
      "execution_count": null,
      "metadata": {
        "id": "K2h70iaZ30H4",
        "colab": {
          "base_uri": "https://localhost:8080/"
        },
        "outputId": "91fbc0f8-952e-47bc-ef9e-528fc0f3a6fd"
      },
      "outputs": [
        {
          "output_type": "execute_result",
          "data": {
            "text/plain": [
              "(1299,)"
            ]
          },
          "metadata": {},
          "execution_count": 33
        }
      ],
      "source": [
        "x_train.shape"
      ]
    },
    {
      "cell_type": "code",
      "execution_count": null,
      "metadata": {
        "id": "rRgN_p2e4sZz"
      },
      "outputs": [],
      "source": [
        "def roberta_encode(texts, tokenizer):\n",
        "    MAX_LEN = 512\n",
        "    ct = len(texts)\n",
        "    input_ids = np.ones((ct, MAX_LEN), dtype='int32')\n",
        "    attention_mask = np.zeros((ct, MAX_LEN), dtype='int32')\n",
        "    token_type_ids = np.zeros((ct, MAX_LEN), dtype='int32') # Not used in text classification\n",
        "\n",
        "    for k, text in enumerate(texts):\n",
        "        # Tokenize\n",
        "        tok_text = tokenizer.tokenize(str(text))\n",
        "        \n",
        "        # Truncate and convert tokens to numerical IDs\n",
        "        enc_text = tokenizer.convert_tokens_to_ids(tok_text[:(MAX_LEN-2)])\n",
        "        \n",
        "        input_length = len(enc_text) + 2\n",
        "        input_length = input_length if input_length < MAX_LEN else MAX_LEN\n",
        "        \n",
        "        # Add tokens [CLS] and [SEP] at the beginning and the end\n",
        "        input_ids[k,:input_length] = np.asarray([0] + enc_text + [2], dtype='int32')\n",
        "        \n",
        "        # Set to 1s in the attention input\n",
        "        attention_mask[k,:input_length] = 1\n",
        "\n",
        "    return {\n",
        "        'input_word_ids': input_ids,\n",
        "        'input_mask': attention_mask,\n",
        "        'input_type_ids': token_type_ids\n",
        "    }"
      ]
    },
    {
      "cell_type": "code",
      "execution_count": null,
      "metadata": {
        "id": "T1N-bYfd5_p6"
      },
      "outputs": [],
      "source": [
        "x_train = roberta_encode(x_train, tokenizer)\n",
        "x_dev = roberta_encode(x_dev, tokenizer)\n",
        "x_test = roberta_encode(x_test, tokenizer)\n",
        "\n",
        "y_train = np.asarray(y_train_aug_1, dtype='int32')\n",
        "y_dev = np.asarray(y_dev, dtype='int32')"
      ]
    },
    {
      "cell_type": "code",
      "execution_count": null,
      "metadata": {
        "id": "MfTOljYrC2L9"
      },
      "outputs": [],
      "source": [
        "from sklearn.metrics import f1_score\n"
      ]
    },
    {
      "cell_type": "code",
      "execution_count": null,
      "metadata": {
        "id": "ofJT4GzQ6Hka"
      },
      "outputs": [],
      "source": [
        "def build_model(n_categories):\n",
        "    MAX_LEN = 512\n",
        "    input_word_ids = tf.keras.Input(shape=(MAX_LEN,), dtype=tf.int32, name='input_word_ids')\n",
        "    input_mask = tf.keras.Input(shape=(MAX_LEN,), dtype=tf.int32, name='input_mask')\n",
        "    input_type_ids = tf.keras.Input(shape=(MAX_LEN,), dtype=tf.int32, name='input_type_ids')\n",
        "\n",
        "    # Import RoBERTa model from HuggingFace\n",
        "    roberta_model = TFRobertaForSequenceClassification.from_pretrained('roberta-base')\n",
        "    # custom_objects = {\"TFRobertaForSequenceClassification\": TFRobertaForSequenceClassification}\n",
        "    # config = roberta_model.get_config()\n",
        "    # with tf.keras.utils.custom_object_scope(custom_objects):\n",
        "    #     roberta_model = TFRobertaForSequenceClassification.from_config(config)\n",
        "    x = roberta_model(input_word_ids, attention_mask=input_mask, token_type_ids=input_type_ids)\n",
        "\n",
        "    # Huggingface transformers have multiple outputs, embeddings are the first one,\n",
        "    # so let's slice out the first position\n",
        "    x = x[0]\n",
        "\n",
        "    x = tf.keras.layers.Dropout(rate=0.1)(x)\n",
        "    x = tf.keras.layers.Flatten()(x)\n",
        "    x = tf.keras.layers.Dense(256, activation='relu')(x)\n",
        "    x = tf.keras.layers.Dense(n_categories, activation='sigmoid')(x)\n",
        "\n",
        "    model = tf.keras.Model(inputs=[input_word_ids, input_mask, input_type_ids], outputs=x)\n",
        "    model.compile( optimizer=tf.keras.optimizers.Adam(learning_rate=0.00001),\n",
        "                  loss='binary_crossentropy', \n",
        "                  metrics=[tf.keras.metrics.BinaryAccuracy(),\n",
        "                           tfa.metrics.F1Score(num_classes=14,\n",
        "                                               average='micro', threshold=0.07142857)])\n",
        "    \n",
        "    return model"
      ]
    },
    {
      "cell_type": "code",
      "execution_count": null,
      "metadata": {
        "id": "v6GCjXX237wt",
        "colab": {
          "base_uri": "https://localhost:8080/"
        },
        "outputId": "17222821-80be-4b9f-c513-8de2682d0f2e"
      },
      "outputs": [
        {
          "output_type": "execute_result",
          "data": {
            "text/plain": [
              "(54, 512)"
            ]
          },
          "metadata": {},
          "execution_count": 38
        }
      ],
      "source": [
        "x_test['input_type_ids'].shape"
      ]
    },
    {
      "cell_type": "code",
      "execution_count": null,
      "metadata": {
        "id": "BZvvLTut6s_e",
        "colab": {
          "base_uri": "https://localhost:8080/",
          "height": 647,
          "referenced_widgets": [
            "85165cb4d62e4c58a236399e1922cfa7",
            "85f359ab02554eedbb5df9cd5de21794",
            "d20c504baccb4ba4b51194c4e04383e3",
            "abba4207670848bea4cfe0137094bea9",
            "65bb7540d67d4b29b098e7a740cef286",
            "2bb743f6243b459891a7f954e3d2fbfe",
            "a5d91bef50af46e49b7dcfa8442e4af7",
            "475f24ac6bca49149d9b0dc740bd6389",
            "3072152f3cc447799954451474cce358",
            "b76596efc8884547878e195fcb30a616",
            "010e69d80dcf47c78eefcd5fd1d7e513"
          ]
        },
        "outputId": "ee11b6ea-bd39-44b9-af90-13a578430b7b"
      },
      "outputs": [
        {
          "output_type": "display_data",
          "data": {
            "text/plain": [
              "Downloading (…)\"tf_model.h5\";:   0%|          | 0.00/657M [00:00<?, ?B/s]"
            ],
            "application/vnd.jupyter.widget-view+json": {
              "version_major": 2,
              "version_minor": 0,
              "model_id": "85165cb4d62e4c58a236399e1922cfa7"
            }
          },
          "metadata": {}
        },
        {
          "output_type": "stream",
          "name": "stderr",
          "text": [
            "All model checkpoint layers were used when initializing TFRobertaForSequenceClassification.\n",
            "\n",
            "Some layers of TFRobertaForSequenceClassification were not initialized from the model checkpoint at roberta-base and are newly initialized: ['classifier']\n",
            "You should probably TRAIN this model on a down-stream task to be able to use it for predictions and inference.\n"
          ]
        },
        {
          "output_type": "stream",
          "name": "stdout",
          "text": [
            "Model: \"model\"\n",
            "__________________________________________________________________________________________________\n",
            " Layer (type)                   Output Shape         Param #     Connected to                     \n",
            "==================================================================================================\n",
            " input_word_ids (InputLayer)    [(None, 512)]        0           []                               \n",
            "                                                                                                  \n",
            " input_mask (InputLayer)        [(None, 512)]        0           []                               \n",
            "                                                                                                  \n",
            " input_type_ids (InputLayer)    [(None, 512)]        0           []                               \n",
            "                                                                                                  \n",
            " tf_roberta_for_sequence_classi  TFSequenceClassifie  124647170  ['input_word_ids[0][0]',         \n",
            " fication (TFRobertaForSequence  rOutput(loss=None,               'input_mask[0][0]',             \n",
            " Classification)                logits=(None, 2),                 'input_type_ids[0][0]']         \n",
            "                                 hidden_states=None                                               \n",
            "                                , attentions=None)                                                \n",
            "                                                                                                  \n",
            " dropout_38 (Dropout)           (None, 2)            0           ['tf_roberta_for_sequence_classif\n",
            "                                                                 ication[0][0]']                  \n",
            "                                                                                                  \n",
            " flatten (Flatten)              (None, 2)            0           ['dropout_38[0][0]']             \n",
            "                                                                                                  \n",
            " dense (Dense)                  (None, 256)          768         ['flatten[0][0]']                \n",
            "                                                                                                  \n",
            " dense_1 (Dense)                (None, 14)           3598        ['dense[0][0]']                  \n",
            "                                                                                                  \n",
            "==================================================================================================\n",
            "Total params: 124,651,536\n",
            "Trainable params: 124,651,536\n",
            "Non-trainable params: 0\n",
            "__________________________________________________________________________________________________\n"
          ]
        }
      ],
      "source": [
        "model = build_model(14)\n",
        "model.summary()"
      ]
    },
    {
      "cell_type": "code",
      "execution_count": null,
      "metadata": {
        "id": "32dSzprS2cOr",
        "colab": {
          "base_uri": "https://localhost:8080/"
        },
        "outputId": "8000ebaa-804d-494f-867b-efc1d9048503"
      },
      "outputs": [
        {
          "output_type": "execute_result",
          "data": {
            "text/plain": [
              "(1299, 512)"
            ]
          },
          "metadata": {},
          "execution_count": 40
        }
      ],
      "source": [
        "x_train['input_word_ids'].shape"
      ]
    },
    {
      "cell_type": "code",
      "execution_count": null,
      "metadata": {
        "id": "yyhYximS4Pa-",
        "colab": {
          "base_uri": "https://localhost:8080/"
        },
        "outputId": "3834e884-77ad-452d-82cd-f7fc214c30f5"
      },
      "outputs": [
        {
          "output_type": "execute_result",
          "data": {
            "text/plain": [
              "(83, 512)"
            ]
          },
          "metadata": {},
          "execution_count": 41
        }
      ],
      "source": [
        "x_dev['input_word_ids'].shape"
      ]
    },
    {
      "cell_type": "code",
      "execution_count": null,
      "metadata": {
        "id": "QLHWIB944TDP",
        "colab": {
          "base_uri": "https://localhost:8080/"
        },
        "outputId": "30e72d10-3679-459c-afa3-1dd17a75d8f1"
      },
      "outputs": [
        {
          "output_type": "execute_result",
          "data": {
            "text/plain": [
              "(83, 14)"
            ]
          },
          "metadata": {},
          "execution_count": 42
        }
      ],
      "source": [
        "y_dev.shape"
      ]
    },
    {
      "cell_type": "code",
      "execution_count": null,
      "metadata": {
        "id": "rw_OneAr2q0h",
        "colab": {
          "base_uri": "https://localhost:8080/"
        },
        "outputId": "a4f2d59b-df05-478e-8219-cc1fd0de9d1a"
      },
      "outputs": [
        {
          "output_type": "execute_result",
          "data": {
            "text/plain": [
              "(1299, 14)"
            ]
          },
          "metadata": {},
          "execution_count": 43
        }
      ],
      "source": [
        "y_train.shape"
      ]
    },
    {
      "cell_type": "code",
      "execution_count": null,
      "metadata": {
        "id": "Bl0ybRp82sir",
        "colab": {
          "base_uri": "https://localhost:8080/"
        },
        "outputId": "167d2419-7c06-4d7b-c795-2367f10a0333"
      },
      "outputs": [
        {
          "output_type": "execute_result",
          "data": {
            "text/plain": [
              "(83, 14)"
            ]
          },
          "metadata": {},
          "execution_count": 44
        }
      ],
      "source": [
        "y_dev.shape"
      ]
    },
    {
      "cell_type": "code",
      "execution_count": null,
      "metadata": {
        "id": "yltfctCI_hPM"
      },
      "outputs": [],
      "source": [
        "metrics=[tf.keras.metrics.BinaryAccuracy(),\n",
        "                           tfa.metrics.F1Score(num_classes=14,\n",
        "                                               average='micro', threshold=0.50)]"
      ]
    },
    {
      "cell_type": "code",
      "execution_count": null,
      "metadata": {
        "id": "ZEhaaWKgdCZx"
      },
      "outputs": [],
      "source": [
        "from tensorflow.keras.callbacks import ModelCheckpoint\n",
        "\n",
        "filepath = '/content/Modelcheckpoints/Checkpoint-{epoch:02d}.h5'\n",
        "\n",
        "checkpoint = ModelCheckpoint(filepath,monitor= tfa.metrics.F1Score(num_classes=14,\n",
        "                                               average='micro', threshold=0.50), varbose=1, save_best_only=True, mode='max')"
      ]
    },
    {
      "cell_type": "code",
      "source": [
        "model.fit(x_train, y_train, epochs=100, batch_size=8, validation_data=(x_dev, y_dev), callbacks=[checkpoint])"
      ],
      "metadata": {
        "id": "qV80XkwPiLpv",
        "colab": {
          "base_uri": "https://localhost:8080/"
        },
        "outputId": "0a666160-88db-4ad6-badd-1e68190e964e"
      },
      "execution_count": null,
      "outputs": [
        {
          "output_type": "stream",
          "name": "stdout",
          "text": [
            "Epoch 1/100\n",
            "163/163 [==============================] - ETA: 0s - loss: 0.3114 - binary_accuracy: 0.8422 - f1_score: 0.6285"
          ]
        },
        {
          "output_type": "stream",
          "name": "stderr",
          "text": [
            "WARNING:tensorflow:Can save best model only with F1Score(name=f1_score,dtype=float32,num_classes=14,average=micro,threshold=0.5) available, skipping.\n"
          ]
        },
        {
          "output_type": "stream",
          "name": "stdout",
          "text": [
            "\b\b\b\b\b\b\b\b\b\b\b\b\b\b\b\b\b\b\b\b\b\b\b\b\b\b\b\b\b\b\b\b\b\b\b\b\b\b\b\b\b\b\b\b\b\b\b\b\b\b\b\b\b\b\b\b\b\b\b\b\b\b\b\b\b\b\b\b\b\b\b\b\b\b\b\b\b\b\b\b\b\b\b\b\b\b\b\b\b\b\b\b\b\b\b\b\b\b\b\b\b\b\b\b\b\b\b\b\b\b\r163/163 [==============================] - 21s 132ms/step - loss: 0.3114 - binary_accuracy: 0.8422 - f1_score: 0.6285 - val_loss: 0.5775 - val_binary_accuracy: 0.7702 - val_f1_score: 0.6438\n",
            "Epoch 2/100\n",
            "163/163 [==============================] - ETA: 0s - loss: 0.3114 - binary_accuracy: 0.8418 - f1_score: 0.6276"
          ]
        },
        {
          "output_type": "stream",
          "name": "stderr",
          "text": [
            "WARNING:tensorflow:Can save best model only with F1Score(name=f1_score,dtype=float32,num_classes=14,average=micro,threshold=0.5) available, skipping.\n"
          ]
        },
        {
          "output_type": "stream",
          "name": "stdout",
          "text": [
            "\b\b\b\b\b\b\b\b\b\b\b\b\b\b\b\b\b\b\b\b\b\b\b\b\b\b\b\b\b\b\b\b\b\b\b\b\b\b\b\b\b\b\b\b\b\b\b\b\b\b\b\b\b\b\b\b\b\b\b\b\b\b\b\b\b\b\b\b\b\b\b\b\b\b\b\b\b\b\b\b\b\b\b\b\b\b\b\b\b\b\b\b\b\b\b\b\b\b\b\b\b\b\b\b\b\b\b\b\b\b\r163/163 [==============================] - 21s 131ms/step - loss: 0.3114 - binary_accuracy: 0.8418 - f1_score: 0.6276 - val_loss: 0.5790 - val_binary_accuracy: 0.7685 - val_f1_score: 0.6402\n",
            "Epoch 3/100\n",
            "163/163 [==============================] - ETA: 0s - loss: 0.3147 - binary_accuracy: 0.8416 - f1_score: 0.6264"
          ]
        },
        {
          "output_type": "stream",
          "name": "stderr",
          "text": [
            "WARNING:tensorflow:Can save best model only with F1Score(name=f1_score,dtype=float32,num_classes=14,average=micro,threshold=0.5) available, skipping.\n"
          ]
        },
        {
          "output_type": "stream",
          "name": "stdout",
          "text": [
            "\b\b\b\b\b\b\b\b\b\b\b\b\b\b\b\b\b\b\b\b\b\b\b\b\b\b\b\b\b\b\b\b\b\b\b\b\b\b\b\b\b\b\b\b\b\b\b\b\b\b\b\b\b\b\b\b\b\b\b\b\b\b\b\b\b\b\b\b\b\b\b\b\b\b\b\b\b\b\b\b\b\b\b\b\b\b\b\b\b\b\b\b\b\b\b\b\b\b\b\b\b\b\b\b\b\b\b\b\b\b\r163/163 [==============================] - 21s 131ms/step - loss: 0.3147 - binary_accuracy: 0.8416 - f1_score: 0.6264 - val_loss: 0.5577 - val_binary_accuracy: 0.7642 - val_f1_score: 0.6395\n",
            "Epoch 4/100\n",
            "163/163 [==============================] - ETA: 0s - loss: 0.3165 - binary_accuracy: 0.8381 - f1_score: 0.6256"
          ]
        },
        {
          "output_type": "stream",
          "name": "stderr",
          "text": [
            "WARNING:tensorflow:Can save best model only with F1Score(name=f1_score,dtype=float32,num_classes=14,average=micro,threshold=0.5) available, skipping.\n"
          ]
        },
        {
          "output_type": "stream",
          "name": "stdout",
          "text": [
            "\b\b\b\b\b\b\b\b\b\b\b\b\b\b\b\b\b\b\b\b\b\b\b\b\b\b\b\b\b\b\b\b\b\b\b\b\b\b\b\b\b\b\b\b\b\b\b\b\b\b\b\b\b\b\b\b\b\b\b\b\b\b\b\b\b\b\b\b\b\b\b\b\b\b\b\b\b\b\b\b\b\b\b\b\b\b\b\b\b\b\b\b\b\b\b\b\b\b\b\b\b\b\b\b\b\b\b\b\b\b\r163/163 [==============================] - 21s 131ms/step - loss: 0.3165 - binary_accuracy: 0.8381 - f1_score: 0.6256 - val_loss: 0.5557 - val_binary_accuracy: 0.7754 - val_f1_score: 0.6401\n",
            "Epoch 5/100\n",
            "163/163 [==============================] - ETA: 0s - loss: 0.3164 - binary_accuracy: 0.8391 - f1_score: 0.6251"
          ]
        },
        {
          "output_type": "stream",
          "name": "stderr",
          "text": [
            "WARNING:tensorflow:Can save best model only with F1Score(name=f1_score,dtype=float32,num_classes=14,average=micro,threshold=0.5) available, skipping.\n"
          ]
        },
        {
          "output_type": "stream",
          "name": "stdout",
          "text": [
            "\b\b\b\b\b\b\b\b\b\b\b\b\b\b\b\b\b\b\b\b\b\b\b\b\b\b\b\b\b\b\b\b\b\b\b\b\b\b\b\b\b\b\b\b\b\b\b\b\b\b\b\b\b\b\b\b\b\b\b\b\b\b\b\b\b\b\b\b\b\b\b\b\b\b\b\b\b\b\b\b\b\b\b\b\b\b\b\b\b\b\b\b\b\b\b\b\b\b\b\b\b\b\b\b\b\b\b\b\b\b\r163/163 [==============================] - 22s 132ms/step - loss: 0.3164 - binary_accuracy: 0.8391 - f1_score: 0.6251 - val_loss: 0.5501 - val_binary_accuracy: 0.7608 - val_f1_score: 0.6442\n",
            "Epoch 6/100\n",
            "163/163 [==============================] - ETA: 0s - loss: 0.3138 - binary_accuracy: 0.8422 - f1_score: 0.6263"
          ]
        },
        {
          "output_type": "stream",
          "name": "stderr",
          "text": [
            "WARNING:tensorflow:Can save best model only with F1Score(name=f1_score,dtype=float32,num_classes=14,average=micro,threshold=0.5) available, skipping.\n"
          ]
        },
        {
          "output_type": "stream",
          "name": "stdout",
          "text": [
            "\b\b\b\b\b\b\b\b\b\b\b\b\b\b\b\b\b\b\b\b\b\b\b\b\b\b\b\b\b\b\b\b\b\b\b\b\b\b\b\b\b\b\b\b\b\b\b\b\b\b\b\b\b\b\b\b\b\b\b\b\b\b\b\b\b\b\b\b\b\b\b\b\b\b\b\b\b\b\b\b\b\b\b\b\b\b\b\b\b\b\b\b\b\b\b\b\b\b\b\b\b\b\b\b\b\b\b\b\b\b\r163/163 [==============================] - 21s 131ms/step - loss: 0.3138 - binary_accuracy: 0.8422 - f1_score: 0.6263 - val_loss: 0.5365 - val_binary_accuracy: 0.7668 - val_f1_score: 0.6473\n",
            "Epoch 7/100\n",
            "163/163 [==============================] - ETA: 0s - loss: 0.3098 - binary_accuracy: 0.8413 - f1_score: 0.6290"
          ]
        },
        {
          "output_type": "stream",
          "name": "stderr",
          "text": [
            "WARNING:tensorflow:Can save best model only with F1Score(name=f1_score,dtype=float32,num_classes=14,average=micro,threshold=0.5) available, skipping.\n"
          ]
        },
        {
          "output_type": "stream",
          "name": "stdout",
          "text": [
            "\b\b\b\b\b\b\b\b\b\b\b\b\b\b\b\b\b\b\b\b\b\b\b\b\b\b\b\b\b\b\b\b\b\b\b\b\b\b\b\b\b\b\b\b\b\b\b\b\b\b\b\b\b\b\b\b\b\b\b\b\b\b\b\b\b\b\b\b\b\b\b\b\b\b\b\b\b\b\b\b\b\b\b\b\b\b\b\b\b\b\b\b\b\b\b\b\b\b\b\b\b\b\b\b\b\b\b\b\b\b\r163/163 [==============================] - 21s 131ms/step - loss: 0.3098 - binary_accuracy: 0.8413 - f1_score: 0.6290 - val_loss: 0.5672 - val_binary_accuracy: 0.7711 - val_f1_score: 0.6506\n",
            "Epoch 8/100\n",
            "163/163 [==============================] - ETA: 0s - loss: 0.3108 - binary_accuracy: 0.8418 - f1_score: 0.6272"
          ]
        },
        {
          "output_type": "stream",
          "name": "stderr",
          "text": [
            "WARNING:tensorflow:Can save best model only with F1Score(name=f1_score,dtype=float32,num_classes=14,average=micro,threshold=0.5) available, skipping.\n"
          ]
        },
        {
          "output_type": "stream",
          "name": "stdout",
          "text": [
            "\b\b\b\b\b\b\b\b\b\b\b\b\b\b\b\b\b\b\b\b\b\b\b\b\b\b\b\b\b\b\b\b\b\b\b\b\b\b\b\b\b\b\b\b\b\b\b\b\b\b\b\b\b\b\b\b\b\b\b\b\b\b\b\b\b\b\b\b\b\b\b\b\b\b\b\b\b\b\b\b\b\b\b\b\b\b\b\b\b\b\b\b\b\b\b\b\b\b\b\b\b\b\b\b\b\b\b\b\b\b\r163/163 [==============================] - 21s 132ms/step - loss: 0.3108 - binary_accuracy: 0.8418 - f1_score: 0.6272 - val_loss: 0.5533 - val_binary_accuracy: 0.7737 - val_f1_score: 0.6421\n",
            "Epoch 9/100\n",
            "163/163 [==============================] - ETA: 0s - loss: 0.3149 - binary_accuracy: 0.8413 - f1_score: 0.6245"
          ]
        },
        {
          "output_type": "stream",
          "name": "stderr",
          "text": [
            "WARNING:tensorflow:Can save best model only with F1Score(name=f1_score,dtype=float32,num_classes=14,average=micro,threshold=0.5) available, skipping.\n"
          ]
        },
        {
          "output_type": "stream",
          "name": "stdout",
          "text": [
            "\b\b\b\b\b\b\b\b\b\b\b\b\b\b\b\b\b\b\b\b\b\b\b\b\b\b\b\b\b\b\b\b\b\b\b\b\b\b\b\b\b\b\b\b\b\b\b\b\b\b\b\b\b\b\b\b\b\b\b\b\b\b\b\b\b\b\b\b\b\b\b\b\b\b\b\b\b\b\b\b\b\b\b\b\b\b\b\b\b\b\b\b\b\b\b\b\b\b\b\b\b\b\b\b\b\b\b\b\b\b\r163/163 [==============================] - 21s 132ms/step - loss: 0.3149 - binary_accuracy: 0.8413 - f1_score: 0.6245 - val_loss: 0.5907 - val_binary_accuracy: 0.7719 - val_f1_score: 0.6407\n",
            "Epoch 10/100\n",
            "163/163 [==============================] - ETA: 0s - loss: 0.3105 - binary_accuracy: 0.8419 - f1_score: 0.6271"
          ]
        },
        {
          "output_type": "stream",
          "name": "stderr",
          "text": [
            "WARNING:tensorflow:Can save best model only with F1Score(name=f1_score,dtype=float32,num_classes=14,average=micro,threshold=0.5) available, skipping.\n"
          ]
        },
        {
          "output_type": "stream",
          "name": "stdout",
          "text": [
            "\b\b\b\b\b\b\b\b\b\b\b\b\b\b\b\b\b\b\b\b\b\b\b\b\b\b\b\b\b\b\b\b\b\b\b\b\b\b\b\b\b\b\b\b\b\b\b\b\b\b\b\b\b\b\b\b\b\b\b\b\b\b\b\b\b\b\b\b\b\b\b\b\b\b\b\b\b\b\b\b\b\b\b\b\b\b\b\b\b\b\b\b\b\b\b\b\b\b\b\b\b\b\b\b\b\b\b\b\b\b\r163/163 [==============================] - 21s 132ms/step - loss: 0.3105 - binary_accuracy: 0.8419 - f1_score: 0.6271 - val_loss: 0.5777 - val_binary_accuracy: 0.7668 - val_f1_score: 0.6391\n",
            "Epoch 11/100\n",
            "163/163 [==============================] - ETA: 0s - loss: 0.3094 - binary_accuracy: 0.8403 - f1_score: 0.6284"
          ]
        },
        {
          "output_type": "stream",
          "name": "stderr",
          "text": [
            "WARNING:tensorflow:Can save best model only with F1Score(name=f1_score,dtype=float32,num_classes=14,average=micro,threshold=0.5) available, skipping.\n"
          ]
        },
        {
          "output_type": "stream",
          "name": "stdout",
          "text": [
            "\b\b\b\b\b\b\b\b\b\b\b\b\b\b\b\b\b\b\b\b\b\b\b\b\b\b\b\b\b\b\b\b\b\b\b\b\b\b\b\b\b\b\b\b\b\b\b\b\b\b\b\b\b\b\b\b\b\b\b\b\b\b\b\b\b\b\b\b\b\b\b\b\b\b\b\b\b\b\b\b\b\b\b\b\b\b\b\b\b\b\b\b\b\b\b\b\b\b\b\b\b\b\b\b\b\b\b\b\b\b\r163/163 [==============================] - 21s 131ms/step - loss: 0.3094 - binary_accuracy: 0.8403 - f1_score: 0.6284 - val_loss: 0.6042 - val_binary_accuracy: 0.7694 - val_f1_score: 0.6399\n",
            "Epoch 12/100\n",
            "163/163 [==============================] - ETA: 0s - loss: 0.3116 - binary_accuracy: 0.8439 - f1_score: 0.6273"
          ]
        },
        {
          "output_type": "stream",
          "name": "stderr",
          "text": [
            "WARNING:tensorflow:Can save best model only with F1Score(name=f1_score,dtype=float32,num_classes=14,average=micro,threshold=0.5) available, skipping.\n"
          ]
        },
        {
          "output_type": "stream",
          "name": "stdout",
          "text": [
            "\b\b\b\b\b\b\b\b\b\b\b\b\b\b\b\b\b\b\b\b\b\b\b\b\b\b\b\b\b\b\b\b\b\b\b\b\b\b\b\b\b\b\b\b\b\b\b\b\b\b\b\b\b\b\b\b\b\b\b\b\b\b\b\b\b\b\b\b\b\b\b\b\b\b\b\b\b\b\b\b\b\b\b\b\b\b\b\b\b\b\b\b\b\b\b\b\b\b\b\b\b\b\b\b\b\b\b\b\b\b\r163/163 [==============================] - 21s 130ms/step - loss: 0.3116 - binary_accuracy: 0.8439 - f1_score: 0.6273 - val_loss: 0.5967 - val_binary_accuracy: 0.7513 - val_f1_score: 0.6430\n",
            "Epoch 13/100\n",
            "163/163 [==============================] - ETA: 0s - loss: 0.3113 - binary_accuracy: 0.8435 - f1_score: 0.6294"
          ]
        },
        {
          "output_type": "stream",
          "name": "stderr",
          "text": [
            "WARNING:tensorflow:Can save best model only with F1Score(name=f1_score,dtype=float32,num_classes=14,average=micro,threshold=0.5) available, skipping.\n"
          ]
        },
        {
          "output_type": "stream",
          "name": "stdout",
          "text": [
            "\b\b\b\b\b\b\b\b\b\b\b\b\b\b\b\b\b\b\b\b\b\b\b\b\b\b\b\b\b\b\b\b\b\b\b\b\b\b\b\b\b\b\b\b\b\b\b\b\b\b\b\b\b\b\b\b\b\b\b\b\b\b\b\b\b\b\b\b\b\b\b\b\b\b\b\b\b\b\b\b\b\b\b\b\b\b\b\b\b\b\b\b\b\b\b\b\b\b\b\b\b\b\b\b\b\b\b\b\b\b\r163/163 [==============================] - 21s 132ms/step - loss: 0.3113 - binary_accuracy: 0.8435 - f1_score: 0.6294 - val_loss: 0.5565 - val_binary_accuracy: 0.7694 - val_f1_score: 0.6305\n",
            "Epoch 14/100\n",
            "163/163 [==============================] - ETA: 0s - loss: 0.3121 - binary_accuracy: 0.8409 - f1_score: 0.6277"
          ]
        },
        {
          "output_type": "stream",
          "name": "stderr",
          "text": [
            "WARNING:tensorflow:Can save best model only with F1Score(name=f1_score,dtype=float32,num_classes=14,average=micro,threshold=0.5) available, skipping.\n"
          ]
        },
        {
          "output_type": "stream",
          "name": "stdout",
          "text": [
            "\b\b\b\b\b\b\b\b\b\b\b\b\b\b\b\b\b\b\b\b\b\b\b\b\b\b\b\b\b\b\b\b\b\b\b\b\b\b\b\b\b\b\b\b\b\b\b\b\b\b\b\b\b\b\b\b\b\b\b\b\b\b\b\b\b\b\b\b\b\b\b\b\b\b\b\b\b\b\b\b\b\b\b\b\b\b\b\b\b\b\b\b\b\b\b\b\b\b\b\b\b\b\b\b\b\b\b\b\b\b\r163/163 [==============================] - 22s 133ms/step - loss: 0.3121 - binary_accuracy: 0.8409 - f1_score: 0.6277 - val_loss: 0.5485 - val_binary_accuracy: 0.7771 - val_f1_score: 0.6361\n",
            "Epoch 15/100\n",
            "163/163 [==============================] - ETA: 0s - loss: 0.3125 - binary_accuracy: 0.8400 - f1_score: 0.6285"
          ]
        },
        {
          "output_type": "stream",
          "name": "stderr",
          "text": [
            "WARNING:tensorflow:Can save best model only with F1Score(name=f1_score,dtype=float32,num_classes=14,average=micro,threshold=0.5) available, skipping.\n"
          ]
        },
        {
          "output_type": "stream",
          "name": "stdout",
          "text": [
            "\b\b\b\b\b\b\b\b\b\b\b\b\b\b\b\b\b\b\b\b\b\b\b\b\b\b\b\b\b\b\b\b\b\b\b\b\b\b\b\b\b\b\b\b\b\b\b\b\b\b\b\b\b\b\b\b\b\b\b\b\b\b\b\b\b\b\b\b\b\b\b\b\b\b\b\b\b\b\b\b\b\b\b\b\b\b\b\b\b\b\b\b\b\b\b\b\b\b\b\b\b\b\b\b\b\b\b\b\b\b\r163/163 [==============================] - 21s 131ms/step - loss: 0.3125 - binary_accuracy: 0.8400 - f1_score: 0.6285 - val_loss: 0.5853 - val_binary_accuracy: 0.7728 - val_f1_score: 0.6410\n",
            "Epoch 16/100\n",
            "163/163 [==============================] - ETA: 0s - loss: 0.3121 - binary_accuracy: 0.8415 - f1_score: 0.6284"
          ]
        },
        {
          "output_type": "stream",
          "name": "stderr",
          "text": [
            "WARNING:tensorflow:Can save best model only with F1Score(name=f1_score,dtype=float32,num_classes=14,average=micro,threshold=0.5) available, skipping.\n"
          ]
        },
        {
          "output_type": "stream",
          "name": "stdout",
          "text": [
            "\b\b\b\b\b\b\b\b\b\b\b\b\b\b\b\b\b\b\b\b\b\b\b\b\b\b\b\b\b\b\b\b\b\b\b\b\b\b\b\b\b\b\b\b\b\b\b\b\b\b\b\b\b\b\b\b\b\b\b\b\b\b\b\b\b\b\b\b\b\b\b\b\b\b\b\b\b\b\b\b\b\b\b\b\b\b\b\b\b\b\b\b\b\b\b\b\b\b\b\b\b\b\b\b\b\b\b\b\b\b\r163/163 [==============================] - 21s 131ms/step - loss: 0.3121 - binary_accuracy: 0.8415 - f1_score: 0.6284 - val_loss: 0.5542 - val_binary_accuracy: 0.7668 - val_f1_score: 0.6473\n",
            "Epoch 17/100\n",
            "163/163 [==============================] - ETA: 0s - loss: 0.3070 - binary_accuracy: 0.8446 - f1_score: 0.6305"
          ]
        },
        {
          "output_type": "stream",
          "name": "stderr",
          "text": [
            "WARNING:tensorflow:Can save best model only with F1Score(name=f1_score,dtype=float32,num_classes=14,average=micro,threshold=0.5) available, skipping.\n"
          ]
        },
        {
          "output_type": "stream",
          "name": "stdout",
          "text": [
            "\b\b\b\b\b\b\b\b\b\b\b\b\b\b\b\b\b\b\b\b\b\b\b\b\b\b\b\b\b\b\b\b\b\b\b\b\b\b\b\b\b\b\b\b\b\b\b\b\b\b\b\b\b\b\b\b\b\b\b\b\b\b\b\b\b\b\b\b\b\b\b\b\b\b\b\b\b\b\b\b\b\b\b\b\b\b\b\b\b\b\b\b\b\b\b\b\b\b\b\b\b\b\b\b\b\b\b\b\b\b\r163/163 [==============================] - 22s 132ms/step - loss: 0.3070 - binary_accuracy: 0.8446 - f1_score: 0.6305 - val_loss: 0.5720 - val_binary_accuracy: 0.7616 - val_f1_score: 0.6462\n",
            "Epoch 18/100\n",
            "163/163 [==============================] - ETA: 0s - loss: 0.3127 - binary_accuracy: 0.8411 - f1_score: 0.6266"
          ]
        },
        {
          "output_type": "stream",
          "name": "stderr",
          "text": [
            "WARNING:tensorflow:Can save best model only with F1Score(name=f1_score,dtype=float32,num_classes=14,average=micro,threshold=0.5) available, skipping.\n"
          ]
        },
        {
          "output_type": "stream",
          "name": "stdout",
          "text": [
            "\b\b\b\b\b\b\b\b\b\b\b\b\b\b\b\b\b\b\b\b\b\b\b\b\b\b\b\b\b\b\b\b\b\b\b\b\b\b\b\b\b\b\b\b\b\b\b\b\b\b\b\b\b\b\b\b\b\b\b\b\b\b\b\b\b\b\b\b\b\b\b\b\b\b\b\b\b\b\b\b\b\b\b\b\b\b\b\b\b\b\b\b\b\b\b\b\b\b\b\b\b\b\b\b\b\b\b\b\b\b\r163/163 [==============================] - 21s 131ms/step - loss: 0.3127 - binary_accuracy: 0.8411 - f1_score: 0.6266 - val_loss: 0.5624 - val_binary_accuracy: 0.7719 - val_f1_score: 0.6364\n",
            "Epoch 19/100\n",
            "163/163 [==============================] - ETA: 0s - loss: 0.3097 - binary_accuracy: 0.8436 - f1_score: 0.6290"
          ]
        },
        {
          "output_type": "stream",
          "name": "stderr",
          "text": [
            "WARNING:tensorflow:Can save best model only with F1Score(name=f1_score,dtype=float32,num_classes=14,average=micro,threshold=0.5) available, skipping.\n"
          ]
        },
        {
          "output_type": "stream",
          "name": "stdout",
          "text": [
            "\b\b\b\b\b\b\b\b\b\b\b\b\b\b\b\b\b\b\b\b\b\b\b\b\b\b\b\b\b\b\b\b\b\b\b\b\b\b\b\b\b\b\b\b\b\b\b\b\b\b\b\b\b\b\b\b\b\b\b\b\b\b\b\b\b\b\b\b\b\b\b\b\b\b\b\b\b\b\b\b\b\b\b\b\b\b\b\b\b\b\b\b\b\b\b\b\b\b\b\b\b\b\b\b\b\b\b\b\b\b\r163/163 [==============================] - 21s 132ms/step - loss: 0.3097 - binary_accuracy: 0.8436 - f1_score: 0.6290 - val_loss: 0.5758 - val_binary_accuracy: 0.7573 - val_f1_score: 0.6383\n",
            "Epoch 20/100\n",
            "163/163 [==============================] - ETA: 0s - loss: 0.3083 - binary_accuracy: 0.8443 - f1_score: 0.6300"
          ]
        },
        {
          "output_type": "stream",
          "name": "stderr",
          "text": [
            "WARNING:tensorflow:Can save best model only with F1Score(name=f1_score,dtype=float32,num_classes=14,average=micro,threshold=0.5) available, skipping.\n"
          ]
        },
        {
          "output_type": "stream",
          "name": "stdout",
          "text": [
            "\b\b\b\b\b\b\b\b\b\b\b\b\b\b\b\b\b\b\b\b\b\b\b\b\b\b\b\b\b\b\b\b\b\b\b\b\b\b\b\b\b\b\b\b\b\b\b\b\b\b\b\b\b\b\b\b\b\b\b\b\b\b\b\b\b\b\b\b\b\b\b\b\b\b\b\b\b\b\b\b\b\b\b\b\b\b\b\b\b\b\b\b\b\b\b\b\b\b\b\b\b\b\b\b\b\b\b\b\b\b\r163/163 [==============================] - 21s 131ms/step - loss: 0.3083 - binary_accuracy: 0.8443 - f1_score: 0.6300 - val_loss: 0.5701 - val_binary_accuracy: 0.7728 - val_f1_score: 0.6476\n",
            "Epoch 21/100\n",
            "163/163 [==============================] - ETA: 0s - loss: 0.3049 - binary_accuracy: 0.8454 - f1_score: 0.6321"
          ]
        },
        {
          "output_type": "stream",
          "name": "stderr",
          "text": [
            "WARNING:tensorflow:Can save best model only with F1Score(name=f1_score,dtype=float32,num_classes=14,average=micro,threshold=0.5) available, skipping.\n"
          ]
        },
        {
          "output_type": "stream",
          "name": "stdout",
          "text": [
            "\b\b\b\b\b\b\b\b\b\b\b\b\b\b\b\b\b\b\b\b\b\b\b\b\b\b\b\b\b\b\b\b\b\b\b\b\b\b\b\b\b\b\b\b\b\b\b\b\b\b\b\b\b\b\b\b\b\b\b\b\b\b\b\b\b\b\b\b\b\b\b\b\b\b\b\b\b\b\b\b\b\b\b\b\b\b\b\b\b\b\b\b\b\b\b\b\b\b\b\b\b\b\b\b\b\b\b\b\b\b\r163/163 [==============================] - 21s 132ms/step - loss: 0.3049 - binary_accuracy: 0.8454 - f1_score: 0.6321 - val_loss: 0.5828 - val_binary_accuracy: 0.7745 - val_f1_score: 0.6502\n",
            "Epoch 22/100\n",
            "163/163 [==============================] - ETA: 0s - loss: 0.3070 - binary_accuracy: 0.8438 - f1_score: 0.6305"
          ]
        },
        {
          "output_type": "stream",
          "name": "stderr",
          "text": [
            "WARNING:tensorflow:Can save best model only with F1Score(name=f1_score,dtype=float32,num_classes=14,average=micro,threshold=0.5) available, skipping.\n"
          ]
        },
        {
          "output_type": "stream",
          "name": "stdout",
          "text": [
            "\b\b\b\b\b\b\b\b\b\b\b\b\b\b\b\b\b\b\b\b\b\b\b\b\b\b\b\b\b\b\b\b\b\b\b\b\b\b\b\b\b\b\b\b\b\b\b\b\b\b\b\b\b\b\b\b\b\b\b\b\b\b\b\b\b\b\b\b\b\b\b\b\b\b\b\b\b\b\b\b\b\b\b\b\b\b\b\b\b\b\b\b\b\b\b\b\b\b\b\b\b\b\b\b\b\b\b\b\b\b\r163/163 [==============================] - 22s 133ms/step - loss: 0.3070 - binary_accuracy: 0.8438 - f1_score: 0.6305 - val_loss: 0.5605 - val_binary_accuracy: 0.7694 - val_f1_score: 0.6486\n",
            "Epoch 23/100\n",
            "163/163 [==============================] - ETA: 0s - loss: 0.3089 - binary_accuracy: 0.8437 - f1_score: 0.6299"
          ]
        },
        {
          "output_type": "stream",
          "name": "stderr",
          "text": [
            "WARNING:tensorflow:Can save best model only with F1Score(name=f1_score,dtype=float32,num_classes=14,average=micro,threshold=0.5) available, skipping.\n"
          ]
        },
        {
          "output_type": "stream",
          "name": "stdout",
          "text": [
            "\b\b\b\b\b\b\b\b\b\b\b\b\b\b\b\b\b\b\b\b\b\b\b\b\b\b\b\b\b\b\b\b\b\b\b\b\b\b\b\b\b\b\b\b\b\b\b\b\b\b\b\b\b\b\b\b\b\b\b\b\b\b\b\b\b\b\b\b\b\b\b\b\b\b\b\b\b\b\b\b\b\b\b\b\b\b\b\b\b\b\b\b\b\b\b\b\b\b\b\b\b\b\b\b\b\b\b\b\b\b\r163/163 [==============================] - 21s 132ms/step - loss: 0.3089 - binary_accuracy: 0.8437 - f1_score: 0.6299 - val_loss: 0.5562 - val_binary_accuracy: 0.7659 - val_f1_score: 0.6417\n",
            "Epoch 24/100\n",
            "163/163 [==============================] - ETA: 0s - loss: 0.3121 - binary_accuracy: 0.8414 - f1_score: 0.6284"
          ]
        },
        {
          "output_type": "stream",
          "name": "stderr",
          "text": [
            "WARNING:tensorflow:Can save best model only with F1Score(name=f1_score,dtype=float32,num_classes=14,average=micro,threshold=0.5) available, skipping.\n"
          ]
        },
        {
          "output_type": "stream",
          "name": "stdout",
          "text": [
            "\b\b\b\b\b\b\b\b\b\b\b\b\b\b\b\b\b\b\b\b\b\b\b\b\b\b\b\b\b\b\b\b\b\b\b\b\b\b\b\b\b\b\b\b\b\b\b\b\b\b\b\b\b\b\b\b\b\b\b\b\b\b\b\b\b\b\b\b\b\b\b\b\b\b\b\b\b\b\b\b\b\b\b\b\b\b\b\b\b\b\b\b\b\b\b\b\b\b\b\b\b\b\b\b\b\b\b\b\b\b\r163/163 [==============================] - 22s 132ms/step - loss: 0.3121 - binary_accuracy: 0.8414 - f1_score: 0.6284 - val_loss: 0.5622 - val_binary_accuracy: 0.7642 - val_f1_score: 0.6434\n",
            "Epoch 25/100\n",
            "163/163 [==============================] - ETA: 0s - loss: 0.3105 - binary_accuracy: 0.8436 - f1_score: 0.6291"
          ]
        },
        {
          "output_type": "stream",
          "name": "stderr",
          "text": [
            "WARNING:tensorflow:Can save best model only with F1Score(name=f1_score,dtype=float32,num_classes=14,average=micro,threshold=0.5) available, skipping.\n"
          ]
        },
        {
          "output_type": "stream",
          "name": "stdout",
          "text": [
            "\b\b\b\b\b\b\b\b\b\b\b\b\b\b\b\b\b\b\b\b\b\b\b\b\b\b\b\b\b\b\b\b\b\b\b\b\b\b\b\b\b\b\b\b\b\b\b\b\b\b\b\b\b\b\b\b\b\b\b\b\b\b\b\b\b\b\b\b\b\b\b\b\b\b\b\b\b\b\b\b\b\b\b\b\b\b\b\b\b\b\b\b\b\b\b\b\b\b\b\b\b\b\b\b\b\b\b\b\b\b\r163/163 [==============================] - 21s 132ms/step - loss: 0.3105 - binary_accuracy: 0.8436 - f1_score: 0.6291 - val_loss: 0.5886 - val_binary_accuracy: 0.7685 - val_f1_score: 0.6525\n",
            "Epoch 26/100\n",
            "163/163 [==============================] - ETA: 0s - loss: 0.3118 - binary_accuracy: 0.8432 - f1_score: 0.6272"
          ]
        },
        {
          "output_type": "stream",
          "name": "stderr",
          "text": [
            "WARNING:tensorflow:Can save best model only with F1Score(name=f1_score,dtype=float32,num_classes=14,average=micro,threshold=0.5) available, skipping.\n"
          ]
        },
        {
          "output_type": "stream",
          "name": "stdout",
          "text": [
            "\b\b\b\b\b\b\b\b\b\b\b\b\b\b\b\b\b\b\b\b\b\b\b\b\b\b\b\b\b\b\b\b\b\b\b\b\b\b\b\b\b\b\b\b\b\b\b\b\b\b\b\b\b\b\b\b\b\b\b\b\b\b\b\b\b\b\b\b\b\b\b\b\b\b\b\b\b\b\b\b\b\b\b\b\b\b\b\b\b\b\b\b\b\b\b\b\b\b\b\b\b\b\b\b\b\b\b\b\b\b\r163/163 [==============================] - 21s 131ms/step - loss: 0.3118 - binary_accuracy: 0.8432 - f1_score: 0.6272 - val_loss: 0.5460 - val_binary_accuracy: 0.7676 - val_f1_score: 0.6512\n",
            "Epoch 27/100\n",
            "163/163 [==============================] - ETA: 0s - loss: 0.3137 - binary_accuracy: 0.8419 - f1_score: 0.6250"
          ]
        },
        {
          "output_type": "stream",
          "name": "stderr",
          "text": [
            "WARNING:tensorflow:Can save best model only with F1Score(name=f1_score,dtype=float32,num_classes=14,average=micro,threshold=0.5) available, skipping.\n"
          ]
        },
        {
          "output_type": "stream",
          "name": "stdout",
          "text": [
            "\b\b\b\b\b\b\b\b\b\b\b\b\b\b\b\b\b\b\b\b\b\b\b\b\b\b\b\b\b\b\b\b\b\b\b\b\b\b\b\b\b\b\b\b\b\b\b\b\b\b\b\b\b\b\b\b\b\b\b\b\b\b\b\b\b\b\b\b\b\b\b\b\b\b\b\b\b\b\b\b\b\b\b\b\b\b\b\b\b\b\b\b\b\b\b\b\b\b\b\b\b\b\b\b\b\b\b\b\b\b\r163/163 [==============================] - 21s 131ms/step - loss: 0.3137 - binary_accuracy: 0.8419 - f1_score: 0.6250 - val_loss: 0.6027 - val_binary_accuracy: 0.7797 - val_f1_score: 0.6446\n",
            "Epoch 28/100\n",
            "163/163 [==============================] - ETA: 0s - loss: 0.3110 - binary_accuracy: 0.8433 - f1_score: 0.6280"
          ]
        },
        {
          "output_type": "stream",
          "name": "stderr",
          "text": [
            "WARNING:tensorflow:Can save best model only with F1Score(name=f1_score,dtype=float32,num_classes=14,average=micro,threshold=0.5) available, skipping.\n"
          ]
        },
        {
          "output_type": "stream",
          "name": "stdout",
          "text": [
            "\b\b\b\b\b\b\b\b\b\b\b\b\b\b\b\b\b\b\b\b\b\b\b\b\b\b\b\b\b\b\b\b\b\b\b\b\b\b\b\b\b\b\b\b\b\b\b\b\b\b\b\b\b\b\b\b\b\b\b\b\b\b\b\b\b\b\b\b\b\b\b\b\b\b\b\b\b\b\b\b\b\b\b\b\b\b\b\b\b\b\b\b\b\b\b\b\b\b\b\b\b\b\b\b\b\b\b\b\b\b\r163/163 [==============================] - 21s 132ms/step - loss: 0.3110 - binary_accuracy: 0.8433 - f1_score: 0.6280 - val_loss: 0.5633 - val_binary_accuracy: 0.7651 - val_f1_score: 0.6433\n",
            "Epoch 29/100\n",
            "163/163 [==============================] - ETA: 0s - loss: 0.3072 - binary_accuracy: 0.8438 - f1_score: 0.6328"
          ]
        },
        {
          "output_type": "stream",
          "name": "stderr",
          "text": [
            "WARNING:tensorflow:Can save best model only with F1Score(name=f1_score,dtype=float32,num_classes=14,average=micro,threshold=0.5) available, skipping.\n"
          ]
        },
        {
          "output_type": "stream",
          "name": "stdout",
          "text": [
            "\b\b\b\b\b\b\b\b\b\b\b\b\b\b\b\b\b\b\b\b\b\b\b\b\b\b\b\b\b\b\b\b\b\b\b\b\b\b\b\b\b\b\b\b\b\b\b\b\b\b\b\b\b\b\b\b\b\b\b\b\b\b\b\b\b\b\b\b\b\b\b\b\b\b\b\b\b\b\b\b\b\b\b\b\b\b\b\b\b\b\b\b\b\b\b\b\b\b\b\b\b\b\b\b\b\b\b\b\b\b\r163/163 [==============================] - 21s 132ms/step - loss: 0.3072 - binary_accuracy: 0.8438 - f1_score: 0.6328 - val_loss: 0.5715 - val_binary_accuracy: 0.7496 - val_f1_score: 0.6378\n",
            "Epoch 30/100\n",
            "163/163 [==============================] - ETA: 0s - loss: 0.3158 - binary_accuracy: 0.8414 - f1_score: 0.6241"
          ]
        },
        {
          "output_type": "stream",
          "name": "stderr",
          "text": [
            "WARNING:tensorflow:Can save best model only with F1Score(name=f1_score,dtype=float32,num_classes=14,average=micro,threshold=0.5) available, skipping.\n"
          ]
        },
        {
          "output_type": "stream",
          "name": "stdout",
          "text": [
            "\b\b\b\b\b\b\b\b\b\b\b\b\b\b\b\b\b\b\b\b\b\b\b\b\b\b\b\b\b\b\b\b\b\b\b\b\b\b\b\b\b\b\b\b\b\b\b\b\b\b\b\b\b\b\b\b\b\b\b\b\b\b\b\b\b\b\b\b\b\b\b\b\b\b\b\b\b\b\b\b\b\b\b\b\b\b\b\b\b\b\b\b\b\b\b\b\b\b\b\b\b\b\b\b\b\b\b\b\b\b\r163/163 [==============================] - 22s 133ms/step - loss: 0.3158 - binary_accuracy: 0.8414 - f1_score: 0.6241 - val_loss: 0.5731 - val_binary_accuracy: 0.7711 - val_f1_score: 0.6442\n",
            "Epoch 31/100\n",
            "163/163 [==============================] - ETA: 0s - loss: 0.3130 - binary_accuracy: 0.8416 - f1_score: 0.6267"
          ]
        },
        {
          "output_type": "stream",
          "name": "stderr",
          "text": [
            "WARNING:tensorflow:Can save best model only with F1Score(name=f1_score,dtype=float32,num_classes=14,average=micro,threshold=0.5) available, skipping.\n"
          ]
        },
        {
          "output_type": "stream",
          "name": "stdout",
          "text": [
            "\b\b\b\b\b\b\b\b\b\b\b\b\b\b\b\b\b\b\b\b\b\b\b\b\b\b\b\b\b\b\b\b\b\b\b\b\b\b\b\b\b\b\b\b\b\b\b\b\b\b\b\b\b\b\b\b\b\b\b\b\b\b\b\b\b\b\b\b\b\b\b\b\b\b\b\b\b\b\b\b\b\b\b\b\b\b\b\b\b\b\b\b\b\b\b\b\b\b\b\b\b\b\b\b\b\b\b\b\b\b\r163/163 [==============================] - 21s 132ms/step - loss: 0.3130 - binary_accuracy: 0.8416 - f1_score: 0.6267 - val_loss: 0.5676 - val_binary_accuracy: 0.7797 - val_f1_score: 0.6444\n",
            "Epoch 32/100\n",
            "163/163 [==============================] - ETA: 0s - loss: 0.3140 - binary_accuracy: 0.8410 - f1_score: 0.6277"
          ]
        },
        {
          "output_type": "stream",
          "name": "stderr",
          "text": [
            "WARNING:tensorflow:Can save best model only with F1Score(name=f1_score,dtype=float32,num_classes=14,average=micro,threshold=0.5) available, skipping.\n"
          ]
        },
        {
          "output_type": "stream",
          "name": "stdout",
          "text": [
            "\b\b\b\b\b\b\b\b\b\b\b\b\b\b\b\b\b\b\b\b\b\b\b\b\b\b\b\b\b\b\b\b\b\b\b\b\b\b\b\b\b\b\b\b\b\b\b\b\b\b\b\b\b\b\b\b\b\b\b\b\b\b\b\b\b\b\b\b\b\b\b\b\b\b\b\b\b\b\b\b\b\b\b\b\b\b\b\b\b\b\b\b\b\b\b\b\b\b\b\b\b\b\b\b\b\b\b\b\b\b\r163/163 [==============================] - 21s 131ms/step - loss: 0.3140 - binary_accuracy: 0.8410 - f1_score: 0.6277 - val_loss: 0.5915 - val_binary_accuracy: 0.7762 - val_f1_score: 0.6461\n",
            "Epoch 33/100\n",
            "163/163 [==============================] - ETA: 0s - loss: 0.3076 - binary_accuracy: 0.8442 - f1_score: 0.6290"
          ]
        },
        {
          "output_type": "stream",
          "name": "stderr",
          "text": [
            "WARNING:tensorflow:Can save best model only with F1Score(name=f1_score,dtype=float32,num_classes=14,average=micro,threshold=0.5) available, skipping.\n"
          ]
        },
        {
          "output_type": "stream",
          "name": "stdout",
          "text": [
            "\b\b\b\b\b\b\b\b\b\b\b\b\b\b\b\b\b\b\b\b\b\b\b\b\b\b\b\b\b\b\b\b\b\b\b\b\b\b\b\b\b\b\b\b\b\b\b\b\b\b\b\b\b\b\b\b\b\b\b\b\b\b\b\b\b\b\b\b\b\b\b\b\b\b\b\b\b\b\b\b\b\b\b\b\b\b\b\b\b\b\b\b\b\b\b\b\b\b\b\b\b\b\b\b\b\b\b\b\b\b\r163/163 [==============================] - 21s 131ms/step - loss: 0.3076 - binary_accuracy: 0.8442 - f1_score: 0.6290 - val_loss: 0.5878 - val_binary_accuracy: 0.7711 - val_f1_score: 0.6472\n",
            "Epoch 34/100\n",
            "163/163 [==============================] - ETA: 0s - loss: 0.3089 - binary_accuracy: 0.8423 - f1_score: 0.6284"
          ]
        },
        {
          "output_type": "stream",
          "name": "stderr",
          "text": [
            "WARNING:tensorflow:Can save best model only with F1Score(name=f1_score,dtype=float32,num_classes=14,average=micro,threshold=0.5) available, skipping.\n"
          ]
        },
        {
          "output_type": "stream",
          "name": "stdout",
          "text": [
            "\b\b\b\b\b\b\b\b\b\b\b\b\b\b\b\b\b\b\b\b\b\b\b\b\b\b\b\b\b\b\b\b\b\b\b\b\b\b\b\b\b\b\b\b\b\b\b\b\b\b\b\b\b\b\b\b\b\b\b\b\b\b\b\b\b\b\b\b\b\b\b\b\b\b\b\b\b\b\b\b\b\b\b\b\b\b\b\b\b\b\b\b\b\b\b\b\b\b\b\b\b\b\b\b\b\b\b\b\b\b\r163/163 [==============================] - 21s 131ms/step - loss: 0.3089 - binary_accuracy: 0.8423 - f1_score: 0.6284 - val_loss: 0.5617 - val_binary_accuracy: 0.7694 - val_f1_score: 0.6345\n",
            "Epoch 35/100\n",
            "163/163 [==============================] - ETA: 0s - loss: 0.3138 - binary_accuracy: 0.8405 - f1_score: 0.6251"
          ]
        },
        {
          "output_type": "stream",
          "name": "stderr",
          "text": [
            "WARNING:tensorflow:Can save best model only with F1Score(name=f1_score,dtype=float32,num_classes=14,average=micro,threshold=0.5) available, skipping.\n"
          ]
        },
        {
          "output_type": "stream",
          "name": "stdout",
          "text": [
            "\b\b\b\b\b\b\b\b\b\b\b\b\b\b\b\b\b\b\b\b\b\b\b\b\b\b\b\b\b\b\b\b\b\b\b\b\b\b\b\b\b\b\b\b\b\b\b\b\b\b\b\b\b\b\b\b\b\b\b\b\b\b\b\b\b\b\b\b\b\b\b\b\b\b\b\b\b\b\b\b\b\b\b\b\b\b\b\b\b\b\b\b\b\b\b\b\b\b\b\b\b\b\b\b\b\b\b\b\b\b\r163/163 [==============================] - 21s 131ms/step - loss: 0.3138 - binary_accuracy: 0.8405 - f1_score: 0.6251 - val_loss: 0.6195 - val_binary_accuracy: 0.7616 - val_f1_score: 0.6349\n",
            "Epoch 36/100\n",
            "163/163 [==============================] - ETA: 0s - loss: 0.3118 - binary_accuracy: 0.8436 - f1_score: 0.6293"
          ]
        },
        {
          "output_type": "stream",
          "name": "stderr",
          "text": [
            "WARNING:tensorflow:Can save best model only with F1Score(name=f1_score,dtype=float32,num_classes=14,average=micro,threshold=0.5) available, skipping.\n"
          ]
        },
        {
          "output_type": "stream",
          "name": "stdout",
          "text": [
            "\b\b\b\b\b\b\b\b\b\b\b\b\b\b\b\b\b\b\b\b\b\b\b\b\b\b\b\b\b\b\b\b\b\b\b\b\b\b\b\b\b\b\b\b\b\b\b\b\b\b\b\b\b\b\b\b\b\b\b\b\b\b\b\b\b\b\b\b\b\b\b\b\b\b\b\b\b\b\b\b\b\b\b\b\b\b\b\b\b\b\b\b\b\b\b\b\b\b\b\b\b\b\b\b\b\b\b\b\b\b\r163/163 [==============================] - 21s 131ms/step - loss: 0.3118 - binary_accuracy: 0.8436 - f1_score: 0.6293 - val_loss: 0.6413 - val_binary_accuracy: 0.7762 - val_f1_score: 0.6541\n",
            "Epoch 37/100\n",
            "163/163 [==============================] - ETA: 0s - loss: 0.3111 - binary_accuracy: 0.8430 - f1_score: 0.6263"
          ]
        },
        {
          "output_type": "stream",
          "name": "stderr",
          "text": [
            "WARNING:tensorflow:Can save best model only with F1Score(name=f1_score,dtype=float32,num_classes=14,average=micro,threshold=0.5) available, skipping.\n"
          ]
        },
        {
          "output_type": "stream",
          "name": "stdout",
          "text": [
            "\b\b\b\b\b\b\b\b\b\b\b\b\b\b\b\b\b\b\b\b\b\b\b\b\b\b\b\b\b\b\b\b\b\b\b\b\b\b\b\b\b\b\b\b\b\b\b\b\b\b\b\b\b\b\b\b\b\b\b\b\b\b\b\b\b\b\b\b\b\b\b\b\b\b\b\b\b\b\b\b\b\b\b\b\b\b\b\b\b\b\b\b\b\b\b\b\b\b\b\b\b\b\b\b\b\b\b\b\b\b\r163/163 [==============================] - 22s 133ms/step - loss: 0.3111 - binary_accuracy: 0.8430 - f1_score: 0.6263 - val_loss: 0.5703 - val_binary_accuracy: 0.7719 - val_f1_score: 0.6416\n",
            "Epoch 38/100\n",
            "163/163 [==============================] - ETA: 0s - loss: 0.3066 - binary_accuracy: 0.8463 - f1_score: 0.6314"
          ]
        },
        {
          "output_type": "stream",
          "name": "stderr",
          "text": [
            "WARNING:tensorflow:Can save best model only with F1Score(name=f1_score,dtype=float32,num_classes=14,average=micro,threshold=0.5) available, skipping.\n"
          ]
        },
        {
          "output_type": "stream",
          "name": "stdout",
          "text": [
            "\b\b\b\b\b\b\b\b\b\b\b\b\b\b\b\b\b\b\b\b\b\b\b\b\b\b\b\b\b\b\b\b\b\b\b\b\b\b\b\b\b\b\b\b\b\b\b\b\b\b\b\b\b\b\b\b\b\b\b\b\b\b\b\b\b\b\b\b\b\b\b\b\b\b\b\b\b\b\b\b\b\b\b\b\b\b\b\b\b\b\b\b\b\b\b\b\b\b\b\b\b\b\b\b\b\b\b\b\b\b\r163/163 [==============================] - 21s 131ms/step - loss: 0.3066 - binary_accuracy: 0.8463 - f1_score: 0.6314 - val_loss: 0.5638 - val_binary_accuracy: 0.7762 - val_f1_score: 0.6433\n",
            "Epoch 39/100\n",
            "163/163 [==============================] - ETA: 0s - loss: 0.3126 - binary_accuracy: 0.8418 - f1_score: 0.6272"
          ]
        },
        {
          "output_type": "stream",
          "name": "stderr",
          "text": [
            "WARNING:tensorflow:Can save best model only with F1Score(name=f1_score,dtype=float32,num_classes=14,average=micro,threshold=0.5) available, skipping.\n"
          ]
        },
        {
          "output_type": "stream",
          "name": "stdout",
          "text": [
            "\b\b\b\b\b\b\b\b\b\b\b\b\b\b\b\b\b\b\b\b\b\b\b\b\b\b\b\b\b\b\b\b\b\b\b\b\b\b\b\b\b\b\b\b\b\b\b\b\b\b\b\b\b\b\b\b\b\b\b\b\b\b\b\b\b\b\b\b\b\b\b\b\b\b\b\b\b\b\b\b\b\b\b\b\b\b\b\b\b\b\b\b\b\b\b\b\b\b\b\b\b\b\b\b\b\b\b\b\b\b\r163/163 [==============================] - 21s 131ms/step - loss: 0.3126 - binary_accuracy: 0.8418 - f1_score: 0.6272 - val_loss: 0.5683 - val_binary_accuracy: 0.7737 - val_f1_score: 0.6388\n",
            "Epoch 40/100\n",
            "163/163 [==============================] - ETA: 0s - loss: 0.3080 - binary_accuracy: 0.8458 - f1_score: 0.6309"
          ]
        },
        {
          "output_type": "stream",
          "name": "stderr",
          "text": [
            "WARNING:tensorflow:Can save best model only with F1Score(name=f1_score,dtype=float32,num_classes=14,average=micro,threshold=0.5) available, skipping.\n"
          ]
        },
        {
          "output_type": "stream",
          "name": "stdout",
          "text": [
            "\b\b\b\b\b\b\b\b\b\b\b\b\b\b\b\b\b\b\b\b\b\b\b\b\b\b\b\b\b\b\b\b\b\b\b\b\b\b\b\b\b\b\b\b\b\b\b\b\b\b\b\b\b\b\b\b\b\b\b\b\b\b\b\b\b\b\b\b\b\b\b\b\b\b\b\b\b\b\b\b\b\b\b\b\b\b\b\b\b\b\b\b\b\b\b\b\b\b\b\b\b\b\b\b\b\b\b\b\b\b\r163/163 [==============================] - 21s 132ms/step - loss: 0.3080 - binary_accuracy: 0.8458 - f1_score: 0.6309 - val_loss: 0.5761 - val_binary_accuracy: 0.7754 - val_f1_score: 0.6419\n",
            "Epoch 41/100\n",
            "163/163 [==============================] - ETA: 0s - loss: 0.3073 - binary_accuracy: 0.8450 - f1_score: 0.6324"
          ]
        },
        {
          "output_type": "stream",
          "name": "stderr",
          "text": [
            "WARNING:tensorflow:Can save best model only with F1Score(name=f1_score,dtype=float32,num_classes=14,average=micro,threshold=0.5) available, skipping.\n"
          ]
        },
        {
          "output_type": "stream",
          "name": "stdout",
          "text": [
            "\b\b\b\b\b\b\b\b\b\b\b\b\b\b\b\b\b\b\b\b\b\b\b\b\b\b\b\b\b\b\b\b\b\b\b\b\b\b\b\b\b\b\b\b\b\b\b\b\b\b\b\b\b\b\b\b\b\b\b\b\b\b\b\b\b\b\b\b\b\b\b\b\b\b\b\b\b\b\b\b\b\b\b\b\b\b\b\b\b\b\b\b\b\b\b\b\b\b\b\b\b\b\b\b\b\b\b\b\b\b\r163/163 [==============================] - 21s 131ms/step - loss: 0.3073 - binary_accuracy: 0.8450 - f1_score: 0.6324 - val_loss: 0.5746 - val_binary_accuracy: 0.7866 - val_f1_score: 0.6473\n",
            "Epoch 42/100\n",
            "163/163 [==============================] - ETA: 0s - loss: 0.3093 - binary_accuracy: 0.8435 - f1_score: 0.6309"
          ]
        },
        {
          "output_type": "stream",
          "name": "stderr",
          "text": [
            "WARNING:tensorflow:Can save best model only with F1Score(name=f1_score,dtype=float32,num_classes=14,average=micro,threshold=0.5) available, skipping.\n"
          ]
        },
        {
          "output_type": "stream",
          "name": "stdout",
          "text": [
            "\b\b\b\b\b\b\b\b\b\b\b\b\b\b\b\b\b\b\b\b\b\b\b\b\b\b\b\b\b\b\b\b\b\b\b\b\b\b\b\b\b\b\b\b\b\b\b\b\b\b\b\b\b\b\b\b\b\b\b\b\b\b\b\b\b\b\b\b\b\b\b\b\b\b\b\b\b\b\b\b\b\b\b\b\b\b\b\b\b\b\b\b\b\b\b\b\b\b\b\b\b\b\b\b\b\b\b\b\b\b\r163/163 [==============================] - 21s 131ms/step - loss: 0.3093 - binary_accuracy: 0.8435 - f1_score: 0.6309 - val_loss: 0.5795 - val_binary_accuracy: 0.7642 - val_f1_score: 0.6400\n",
            "Epoch 43/100\n",
            "163/163 [==============================] - ETA: 0s - loss: 0.3139 - binary_accuracy: 0.8420 - f1_score: 0.6282"
          ]
        },
        {
          "output_type": "stream",
          "name": "stderr",
          "text": [
            "WARNING:tensorflow:Can save best model only with F1Score(name=f1_score,dtype=float32,num_classes=14,average=micro,threshold=0.5) available, skipping.\n"
          ]
        },
        {
          "output_type": "stream",
          "name": "stdout",
          "text": [
            "\b\b\b\b\b\b\b\b\b\b\b\b\b\b\b\b\b\b\b\b\b\b\b\b\b\b\b\b\b\b\b\b\b\b\b\b\b\b\b\b\b\b\b\b\b\b\b\b\b\b\b\b\b\b\b\b\b\b\b\b\b\b\b\b\b\b\b\b\b\b\b\b\b\b\b\b\b\b\b\b\b\b\b\b\b\b\b\b\b\b\b\b\b\b\b\b\b\b\b\b\b\b\b\b\b\b\b\b\b\b\r163/163 [==============================] - 21s 131ms/step - loss: 0.3139 - binary_accuracy: 0.8420 - f1_score: 0.6282 - val_loss: 0.5674 - val_binary_accuracy: 0.7737 - val_f1_score: 0.6325\n",
            "Epoch 44/100\n",
            "163/163 [==============================] - ETA: 0s - loss: 0.3138 - binary_accuracy: 0.8422 - f1_score: 0.6247"
          ]
        },
        {
          "output_type": "stream",
          "name": "stderr",
          "text": [
            "WARNING:tensorflow:Can save best model only with F1Score(name=f1_score,dtype=float32,num_classes=14,average=micro,threshold=0.5) available, skipping.\n"
          ]
        },
        {
          "output_type": "stream",
          "name": "stdout",
          "text": [
            "\b\b\b\b\b\b\b\b\b\b\b\b\b\b\b\b\b\b\b\b\b\b\b\b\b\b\b\b\b\b\b\b\b\b\b\b\b\b\b\b\b\b\b\b\b\b\b\b\b\b\b\b\b\b\b\b\b\b\b\b\b\b\b\b\b\b\b\b\b\b\b\b\b\b\b\b\b\b\b\b\b\b\b\b\b\b\b\b\b\b\b\b\b\b\b\b\b\b\b\b\b\b\b\b\b\b\b\b\b\b\r163/163 [==============================] - 21s 131ms/step - loss: 0.3138 - binary_accuracy: 0.8422 - f1_score: 0.6247 - val_loss: 0.5751 - val_binary_accuracy: 0.7806 - val_f1_score: 0.6416\n",
            "Epoch 45/100\n",
            "163/163 [==============================] - ETA: 0s - loss: 0.3107 - binary_accuracy: 0.8443 - f1_score: 0.6264"
          ]
        },
        {
          "output_type": "stream",
          "name": "stderr",
          "text": [
            "WARNING:tensorflow:Can save best model only with F1Score(name=f1_score,dtype=float32,num_classes=14,average=micro,threshold=0.5) available, skipping.\n"
          ]
        },
        {
          "output_type": "stream",
          "name": "stdout",
          "text": [
            "\b\b\b\b\b\b\b\b\b\b\b\b\b\b\b\b\b\b\b\b\b\b\b\b\b\b\b\b\b\b\b\b\b\b\b\b\b\b\b\b\b\b\b\b\b\b\b\b\b\b\b\b\b\b\b\b\b\b\b\b\b\b\b\b\b\b\b\b\b\b\b\b\b\b\b\b\b\b\b\b\b\b\b\b\b\b\b\b\b\b\b\b\b\b\b\b\b\b\b\b\b\b\b\b\b\b\b\b\b\b\r163/163 [==============================] - 21s 131ms/step - loss: 0.3107 - binary_accuracy: 0.8443 - f1_score: 0.6264 - val_loss: 0.6364 - val_binary_accuracy: 0.7831 - val_f1_score: 0.6514\n",
            "Epoch 46/100\n",
            "163/163 [==============================] - ETA: 0s - loss: 0.3137 - binary_accuracy: 0.8402 - f1_score: 0.6245"
          ]
        },
        {
          "output_type": "stream",
          "name": "stderr",
          "text": [
            "WARNING:tensorflow:Can save best model only with F1Score(name=f1_score,dtype=float32,num_classes=14,average=micro,threshold=0.5) available, skipping.\n"
          ]
        },
        {
          "output_type": "stream",
          "name": "stdout",
          "text": [
            "\b\b\b\b\b\b\b\b\b\b\b\b\b\b\b\b\b\b\b\b\b\b\b\b\b\b\b\b\b\b\b\b\b\b\b\b\b\b\b\b\b\b\b\b\b\b\b\b\b\b\b\b\b\b\b\b\b\b\b\b\b\b\b\b\b\b\b\b\b\b\b\b\b\b\b\b\b\b\b\b\b\b\b\b\b\b\b\b\b\b\b\b\b\b\b\b\b\b\b\b\b\b\b\b\b\b\b\b\b\b\r163/163 [==============================] - 21s 132ms/step - loss: 0.3137 - binary_accuracy: 0.8402 - f1_score: 0.6245 - val_loss: 0.5749 - val_binary_accuracy: 0.7780 - val_f1_score: 0.6427\n",
            "Epoch 47/100\n",
            "163/163 [==============================] - ETA: 0s - loss: 0.3054 - binary_accuracy: 0.8463 - f1_score: 0.6328"
          ]
        },
        {
          "output_type": "stream",
          "name": "stderr",
          "text": [
            "WARNING:tensorflow:Can save best model only with F1Score(name=f1_score,dtype=float32,num_classes=14,average=micro,threshold=0.5) available, skipping.\n"
          ]
        },
        {
          "output_type": "stream",
          "name": "stdout",
          "text": [
            "\b\b\b\b\b\b\b\b\b\b\b\b\b\b\b\b\b\b\b\b\b\b\b\b\b\b\b\b\b\b\b\b\b\b\b\b\b\b\b\b\b\b\b\b\b\b\b\b\b\b\b\b\b\b\b\b\b\b\b\b\b\b\b\b\b\b\b\b\b\b\b\b\b\b\b\b\b\b\b\b\b\b\b\b\b\b\b\b\b\b\b\b\b\b\b\b\b\b\b\b\b\b\b\b\b\b\b\b\b\b\r163/163 [==============================] - 21s 132ms/step - loss: 0.3054 - binary_accuracy: 0.8463 - f1_score: 0.6328 - val_loss: 0.5857 - val_binary_accuracy: 0.7582 - val_f1_score: 0.6254\n",
            "Epoch 48/100\n",
            "163/163 [==============================] - ETA: 0s - loss: 0.3081 - binary_accuracy: 0.8463 - f1_score: 0.6303"
          ]
        },
        {
          "output_type": "stream",
          "name": "stderr",
          "text": [
            "WARNING:tensorflow:Can save best model only with F1Score(name=f1_score,dtype=float32,num_classes=14,average=micro,threshold=0.5) available, skipping.\n"
          ]
        },
        {
          "output_type": "stream",
          "name": "stdout",
          "text": [
            "\b\b\b\b\b\b\b\b\b\b\b\b\b\b\b\b\b\b\b\b\b\b\b\b\b\b\b\b\b\b\b\b\b\b\b\b\b\b\b\b\b\b\b\b\b\b\b\b\b\b\b\b\b\b\b\b\b\b\b\b\b\b\b\b\b\b\b\b\b\b\b\b\b\b\b\b\b\b\b\b\b\b\b\b\b\b\b\b\b\b\b\b\b\b\b\b\b\b\b\b\b\b\b\b\b\b\b\b\b\b\r163/163 [==============================] - 21s 132ms/step - loss: 0.3081 - binary_accuracy: 0.8463 - f1_score: 0.6303 - val_loss: 0.5725 - val_binary_accuracy: 0.7608 - val_f1_score: 0.6315\n",
            "Epoch 49/100\n",
            "163/163 [==============================] - ETA: 0s - loss: 0.3087 - binary_accuracy: 0.8463 - f1_score: 0.6285"
          ]
        },
        {
          "output_type": "stream",
          "name": "stderr",
          "text": [
            "WARNING:tensorflow:Can save best model only with F1Score(name=f1_score,dtype=float32,num_classes=14,average=micro,threshold=0.5) available, skipping.\n"
          ]
        },
        {
          "output_type": "stream",
          "name": "stdout",
          "text": [
            "\b\b\b\b\b\b\b\b\b\b\b\b\b\b\b\b\b\b\b\b\b\b\b\b\b\b\b\b\b\b\b\b\b\b\b\b\b\b\b\b\b\b\b\b\b\b\b\b\b\b\b\b\b\b\b\b\b\b\b\b\b\b\b\b\b\b\b\b\b\b\b\b\b\b\b\b\b\b\b\b\b\b\b\b\b\b\b\b\b\b\b\b\b\b\b\b\b\b\b\b\b\b\b\b\b\b\b\b\b\b\r163/163 [==============================] - 21s 131ms/step - loss: 0.3087 - binary_accuracy: 0.8463 - f1_score: 0.6285 - val_loss: 0.6666 - val_binary_accuracy: 0.7694 - val_f1_score: 0.6407\n",
            "Epoch 50/100\n",
            "163/163 [==============================] - ETA: 0s - loss: 0.3112 - binary_accuracy: 0.8429 - f1_score: 0.6254"
          ]
        },
        {
          "output_type": "stream",
          "name": "stderr",
          "text": [
            "WARNING:tensorflow:Can save best model only with F1Score(name=f1_score,dtype=float32,num_classes=14,average=micro,threshold=0.5) available, skipping.\n"
          ]
        },
        {
          "output_type": "stream",
          "name": "stdout",
          "text": [
            "\b\b\b\b\b\b\b\b\b\b\b\b\b\b\b\b\b\b\b\b\b\b\b\b\b\b\b\b\b\b\b\b\b\b\b\b\b\b\b\b\b\b\b\b\b\b\b\b\b\b\b\b\b\b\b\b\b\b\b\b\b\b\b\b\b\b\b\b\b\b\b\b\b\b\b\b\b\b\b\b\b\b\b\b\b\b\b\b\b\b\b\b\b\b\b\b\b\b\b\b\b\b\b\b\b\b\b\b\b\b\r163/163 [==============================] - 21s 131ms/step - loss: 0.3112 - binary_accuracy: 0.8429 - f1_score: 0.6254 - val_loss: 0.6233 - val_binary_accuracy: 0.7685 - val_f1_score: 0.6252\n",
            "Epoch 51/100\n",
            "163/163 [==============================] - ETA: 0s - loss: 0.3099 - binary_accuracy: 0.8441 - f1_score: 0.6292"
          ]
        },
        {
          "output_type": "stream",
          "name": "stderr",
          "text": [
            "WARNING:tensorflow:Can save best model only with F1Score(name=f1_score,dtype=float32,num_classes=14,average=micro,threshold=0.5) available, skipping.\n"
          ]
        },
        {
          "output_type": "stream",
          "name": "stdout",
          "text": [
            "\b\b\b\b\b\b\b\b\b\b\b\b\b\b\b\b\b\b\b\b\b\b\b\b\b\b\b\b\b\b\b\b\b\b\b\b\b\b\b\b\b\b\b\b\b\b\b\b\b\b\b\b\b\b\b\b\b\b\b\b\b\b\b\b\b\b\b\b\b\b\b\b\b\b\b\b\b\b\b\b\b\b\b\b\b\b\b\b\b\b\b\b\b\b\b\b\b\b\b\b\b\b\b\b\b\b\b\b\b\b\r163/163 [==============================] - 21s 132ms/step - loss: 0.3099 - binary_accuracy: 0.8441 - f1_score: 0.6292 - val_loss: 0.6062 - val_binary_accuracy: 0.7444 - val_f1_score: 0.6234\n",
            "Epoch 52/100\n",
            "163/163 [==============================] - ETA: 0s - loss: 0.3086 - binary_accuracy: 0.8430 - f1_score: 0.6277"
          ]
        },
        {
          "output_type": "stream",
          "name": "stderr",
          "text": [
            "WARNING:tensorflow:Can save best model only with F1Score(name=f1_score,dtype=float32,num_classes=14,average=micro,threshold=0.5) available, skipping.\n"
          ]
        },
        {
          "output_type": "stream",
          "name": "stdout",
          "text": [
            "\b\b\b\b\b\b\b\b\b\b\b\b\b\b\b\b\b\b\b\b\b\b\b\b\b\b\b\b\b\b\b\b\b\b\b\b\b\b\b\b\b\b\b\b\b\b\b\b\b\b\b\b\b\b\b\b\b\b\b\b\b\b\b\b\b\b\b\b\b\b\b\b\b\b\b\b\b\b\b\b\b\b\b\b\b\b\b\b\b\b\b\b\b\b\b\b\b\b\b\b\b\b\b\b\b\b\b\b\b\b\r163/163 [==============================] - 21s 131ms/step - loss: 0.3086 - binary_accuracy: 0.8430 - f1_score: 0.6277 - val_loss: 0.6195 - val_binary_accuracy: 0.7590 - val_f1_score: 0.6261\n",
            "Epoch 53/100\n",
            "163/163 [==============================] - ETA: 0s - loss: 0.3050 - binary_accuracy: 0.8468 - f1_score: 0.6333"
          ]
        },
        {
          "output_type": "stream",
          "name": "stderr",
          "text": [
            "WARNING:tensorflow:Can save best model only with F1Score(name=f1_score,dtype=float32,num_classes=14,average=micro,threshold=0.5) available, skipping.\n"
          ]
        },
        {
          "output_type": "stream",
          "name": "stdout",
          "text": [
            "\b\b\b\b\b\b\b\b\b\b\b\b\b\b\b\b\b\b\b\b\b\b\b\b\b\b\b\b\b\b\b\b\b\b\b\b\b\b\b\b\b\b\b\b\b\b\b\b\b\b\b\b\b\b\b\b\b\b\b\b\b\b\b\b\b\b\b\b\b\b\b\b\b\b\b\b\b\b\b\b\b\b\b\b\b\b\b\b\b\b\b\b\b\b\b\b\b\b\b\b\b\b\b\b\b\b\b\b\b\b\r163/163 [==============================] - 21s 132ms/step - loss: 0.3050 - binary_accuracy: 0.8468 - f1_score: 0.6333 - val_loss: 0.6188 - val_binary_accuracy: 0.7590 - val_f1_score: 0.6310\n",
            "Epoch 54/100\n",
            "163/163 [==============================] - ETA: 0s - loss: 0.3046 - binary_accuracy: 0.8454 - f1_score: 0.6333"
          ]
        },
        {
          "output_type": "stream",
          "name": "stderr",
          "text": [
            "WARNING:tensorflow:Can save best model only with F1Score(name=f1_score,dtype=float32,num_classes=14,average=micro,threshold=0.5) available, skipping.\n"
          ]
        },
        {
          "output_type": "stream",
          "name": "stdout",
          "text": [
            "\b\b\b\b\b\b\b\b\b\b\b\b\b\b\b\b\b\b\b\b\b\b\b\b\b\b\b\b\b\b\b\b\b\b\b\b\b\b\b\b\b\b\b\b\b\b\b\b\b\b\b\b\b\b\b\b\b\b\b\b\b\b\b\b\b\b\b\b\b\b\b\b\b\b\b\b\b\b\b\b\b\b\b\b\b\b\b\b\b\b\b\b\b\b\b\b\b\b\b\b\b\b\b\b\b\b\b\b\b\b\r163/163 [==============================] - 22s 132ms/step - loss: 0.3046 - binary_accuracy: 0.8454 - f1_score: 0.6333 - val_loss: 0.6325 - val_binary_accuracy: 0.7608 - val_f1_score: 0.6420\n",
            "Epoch 55/100\n",
            "163/163 [==============================] - ETA: 0s - loss: 0.3108 - binary_accuracy: 0.8435 - f1_score: 0.6289"
          ]
        },
        {
          "output_type": "stream",
          "name": "stderr",
          "text": [
            "WARNING:tensorflow:Can save best model only with F1Score(name=f1_score,dtype=float32,num_classes=14,average=micro,threshold=0.5) available, skipping.\n"
          ]
        },
        {
          "output_type": "stream",
          "name": "stdout",
          "text": [
            "\b\b\b\b\b\b\b\b\b\b\b\b\b\b\b\b\b\b\b\b\b\b\b\b\b\b\b\b\b\b\b\b\b\b\b\b\b\b\b\b\b\b\b\b\b\b\b\b\b\b\b\b\b\b\b\b\b\b\b\b\b\b\b\b\b\b\b\b\b\b\b\b\b\b\b\b\b\b\b\b\b\b\b\b\b\b\b\b\b\b\b\b\b\b\b\b\b\b\b\b\b\b\b\b\b\b\b\b\b\b\r163/163 [==============================] - 21s 131ms/step - loss: 0.3108 - binary_accuracy: 0.8435 - f1_score: 0.6289 - val_loss: 0.6245 - val_binary_accuracy: 0.7582 - val_f1_score: 0.6291\n",
            "Epoch 56/100\n",
            "163/163 [==============================] - ETA: 0s - loss: 0.3137 - binary_accuracy: 0.8412 - f1_score: 0.6271"
          ]
        },
        {
          "output_type": "stream",
          "name": "stderr",
          "text": [
            "WARNING:tensorflow:Can save best model only with F1Score(name=f1_score,dtype=float32,num_classes=14,average=micro,threshold=0.5) available, skipping.\n"
          ]
        },
        {
          "output_type": "stream",
          "name": "stdout",
          "text": [
            "\b\b\b\b\b\b\b\b\b\b\b\b\b\b\b\b\b\b\b\b\b\b\b\b\b\b\b\b\b\b\b\b\b\b\b\b\b\b\b\b\b\b\b\b\b\b\b\b\b\b\b\b\b\b\b\b\b\b\b\b\b\b\b\b\b\b\b\b\b\b\b\b\b\b\b\b\b\b\b\b\b\b\b\b\b\b\b\b\b\b\b\b\b\b\b\b\b\b\b\b\b\b\b\b\b\b\b\b\b\b\r163/163 [==============================] - 21s 131ms/step - loss: 0.3137 - binary_accuracy: 0.8412 - f1_score: 0.6271 - val_loss: 0.6089 - val_binary_accuracy: 0.7659 - val_f1_score: 0.6360\n",
            "Epoch 57/100\n",
            "163/163 [==============================] - ETA: 0s - loss: 0.3121 - binary_accuracy: 0.8425 - f1_score: 0.6284"
          ]
        },
        {
          "output_type": "stream",
          "name": "stderr",
          "text": [
            "WARNING:tensorflow:Can save best model only with F1Score(name=f1_score,dtype=float32,num_classes=14,average=micro,threshold=0.5) available, skipping.\n"
          ]
        },
        {
          "output_type": "stream",
          "name": "stdout",
          "text": [
            "\b\b\b\b\b\b\b\b\b\b\b\b\b\b\b\b\b\b\b\b\b\b\b\b\b\b\b\b\b\b\b\b\b\b\b\b\b\b\b\b\b\b\b\b\b\b\b\b\b\b\b\b\b\b\b\b\b\b\b\b\b\b\b\b\b\b\b\b\b\b\b\b\b\b\b\b\b\b\b\b\b\b\b\b\b\b\b\b\b\b\b\b\b\b\b\b\b\b\b\b\b\b\b\b\b\b\b\b\b\b\r163/163 [==============================] - 22s 131ms/step - loss: 0.3121 - binary_accuracy: 0.8425 - f1_score: 0.6284 - val_loss: 0.6214 - val_binary_accuracy: 0.7599 - val_f1_score: 0.6237\n",
            "Epoch 58/100\n",
            "163/163 [==============================] - ETA: 0s - loss: 0.3012 - binary_accuracy: 0.8469 - f1_score: 0.6355"
          ]
        },
        {
          "output_type": "stream",
          "name": "stderr",
          "text": [
            "WARNING:tensorflow:Can save best model only with F1Score(name=f1_score,dtype=float32,num_classes=14,average=micro,threshold=0.5) available, skipping.\n"
          ]
        },
        {
          "output_type": "stream",
          "name": "stdout",
          "text": [
            "\b\b\b\b\b\b\b\b\b\b\b\b\b\b\b\b\b\b\b\b\b\b\b\b\b\b\b\b\b\b\b\b\b\b\b\b\b\b\b\b\b\b\b\b\b\b\b\b\b\b\b\b\b\b\b\b\b\b\b\b\b\b\b\b\b\b\b\b\b\b\b\b\b\b\b\b\b\b\b\b\b\b\b\b\b\b\b\b\b\b\b\b\b\b\b\b\b\b\b\b\b\b\b\b\b\b\b\b\b\b\r163/163 [==============================] - 21s 132ms/step - loss: 0.3012 - binary_accuracy: 0.8469 - f1_score: 0.6355 - val_loss: 0.6230 - val_binary_accuracy: 0.7616 - val_f1_score: 0.6375\n",
            "Epoch 59/100\n",
            "163/163 [==============================] - ETA: 0s - loss: 0.3073 - binary_accuracy: 0.8459 - f1_score: 0.6309"
          ]
        },
        {
          "output_type": "stream",
          "name": "stderr",
          "text": [
            "WARNING:tensorflow:Can save best model only with F1Score(name=f1_score,dtype=float32,num_classes=14,average=micro,threshold=0.5) available, skipping.\n"
          ]
        },
        {
          "output_type": "stream",
          "name": "stdout",
          "text": [
            "\b\b\b\b\b\b\b\b\b\b\b\b\b\b\b\b\b\b\b\b\b\b\b\b\b\b\b\b\b\b\b\b\b\b\b\b\b\b\b\b\b\b\b\b\b\b\b\b\b\b\b\b\b\b\b\b\b\b\b\b\b\b\b\b\b\b\b\b\b\b\b\b\b\b\b\b\b\b\b\b\b\b\b\b\b\b\b\b\b\b\b\b\b\b\b\b\b\b\b\b\b\b\b\b\b\b\b\b\b\b\r163/163 [==============================] - 21s 131ms/step - loss: 0.3073 - binary_accuracy: 0.8459 - f1_score: 0.6309 - val_loss: 0.6028 - val_binary_accuracy: 0.7633 - val_f1_score: 0.6368\n",
            "Epoch 60/100\n",
            "163/163 [==============================] - ETA: 0s - loss: 0.3105 - binary_accuracy: 0.8433 - f1_score: 0.6287"
          ]
        },
        {
          "output_type": "stream",
          "name": "stderr",
          "text": [
            "WARNING:tensorflow:Can save best model only with F1Score(name=f1_score,dtype=float32,num_classes=14,average=micro,threshold=0.5) available, skipping.\n"
          ]
        },
        {
          "output_type": "stream",
          "name": "stdout",
          "text": [
            "\b\b\b\b\b\b\b\b\b\b\b\b\b\b\b\b\b\b\b\b\b\b\b\b\b\b\b\b\b\b\b\b\b\b\b\b\b\b\b\b\b\b\b\b\b\b\b\b\b\b\b\b\b\b\b\b\b\b\b\b\b\b\b\b\b\b\b\b\b\b\b\b\b\b\b\b\b\b\b\b\b\b\b\b\b\b\b\b\b\b\b\b\b\b\b\b\b\b\b\b\b\b\b\b\b\b\b\b\b\b\r163/163 [==============================] - 22s 132ms/step - loss: 0.3105 - binary_accuracy: 0.8433 - f1_score: 0.6287 - val_loss: 0.6069 - val_binary_accuracy: 0.7599 - val_f1_score: 0.6301\n",
            "Epoch 61/100\n",
            "163/163 [==============================] - ETA: 0s - loss: 0.3094 - binary_accuracy: 0.8443 - f1_score: 0.6276"
          ]
        },
        {
          "output_type": "stream",
          "name": "stderr",
          "text": [
            "WARNING:tensorflow:Can save best model only with F1Score(name=f1_score,dtype=float32,num_classes=14,average=micro,threshold=0.5) available, skipping.\n"
          ]
        },
        {
          "output_type": "stream",
          "name": "stdout",
          "text": [
            "\b\b\b\b\b\b\b\b\b\b\b\b\b\b\b\b\b\b\b\b\b\b\b\b\b\b\b\b\b\b\b\b\b\b\b\b\b\b\b\b\b\b\b\b\b\b\b\b\b\b\b\b\b\b\b\b\b\b\b\b\b\b\b\b\b\b\b\b\b\b\b\b\b\b\b\b\b\b\b\b\b\b\b\b\b\b\b\b\b\b\b\b\b\b\b\b\b\b\b\b\b\b\b\b\b\b\b\b\b\b\r163/163 [==============================] - 21s 131ms/step - loss: 0.3094 - binary_accuracy: 0.8443 - f1_score: 0.6276 - val_loss: 0.6125 - val_binary_accuracy: 0.7556 - val_f1_score: 0.6301\n",
            "Epoch 62/100\n",
            "163/163 [==============================] - ETA: 0s - loss: 0.3084 - binary_accuracy: 0.8459 - f1_score: 0.6298"
          ]
        },
        {
          "output_type": "stream",
          "name": "stderr",
          "text": [
            "WARNING:tensorflow:Can save best model only with F1Score(name=f1_score,dtype=float32,num_classes=14,average=micro,threshold=0.5) available, skipping.\n"
          ]
        },
        {
          "output_type": "stream",
          "name": "stdout",
          "text": [
            "\b\b\b\b\b\b\b\b\b\b\b\b\b\b\b\b\b\b\b\b\b\b\b\b\b\b\b\b\b\b\b\b\b\b\b\b\b\b\b\b\b\b\b\b\b\b\b\b\b\b\b\b\b\b\b\b\b\b\b\b\b\b\b\b\b\b\b\b\b\b\b\b\b\b\b\b\b\b\b\b\b\b\b\b\b\b\b\b\b\b\b\b\b\b\b\b\b\b\b\b\b\b\b\b\b\b\b\b\b\b\r163/163 [==============================] - 21s 131ms/step - loss: 0.3084 - binary_accuracy: 0.8459 - f1_score: 0.6298 - val_loss: 0.6068 - val_binary_accuracy: 0.7599 - val_f1_score: 0.6349\n",
            "Epoch 63/100\n",
            "163/163 [==============================] - ETA: 0s - loss: 0.3095 - binary_accuracy: 0.8436 - f1_score: 0.6301"
          ]
        },
        {
          "output_type": "stream",
          "name": "stderr",
          "text": [
            "WARNING:tensorflow:Can save best model only with F1Score(name=f1_score,dtype=float32,num_classes=14,average=micro,threshold=0.5) available, skipping.\n"
          ]
        },
        {
          "output_type": "stream",
          "name": "stdout",
          "text": [
            "\b\b\b\b\b\b\b\b\b\b\b\b\b\b\b\b\b\b\b\b\b\b\b\b\b\b\b\b\b\b\b\b\b\b\b\b\b\b\b\b\b\b\b\b\b\b\b\b\b\b\b\b\b\b\b\b\b\b\b\b\b\b\b\b\b\b\b\b\b\b\b\b\b\b\b\b\b\b\b\b\b\b\b\b\b\b\b\b\b\b\b\b\b\b\b\b\b\b\b\b\b\b\b\b\b\b\b\b\b\b\r163/163 [==============================] - 21s 131ms/step - loss: 0.3095 - binary_accuracy: 0.8436 - f1_score: 0.6301 - val_loss: 0.5980 - val_binary_accuracy: 0.7711 - val_f1_score: 0.6396\n",
            "Epoch 64/100\n",
            "163/163 [==============================] - ETA: 0s - loss: 0.3090 - binary_accuracy: 0.8424 - f1_score: 0.6292"
          ]
        },
        {
          "output_type": "stream",
          "name": "stderr",
          "text": [
            "WARNING:tensorflow:Can save best model only with F1Score(name=f1_score,dtype=float32,num_classes=14,average=micro,threshold=0.5) available, skipping.\n"
          ]
        },
        {
          "output_type": "stream",
          "name": "stdout",
          "text": [
            "\b\b\b\b\b\b\b\b\b\b\b\b\b\b\b\b\b\b\b\b\b\b\b\b\b\b\b\b\b\b\b\b\b\b\b\b\b\b\b\b\b\b\b\b\b\b\b\b\b\b\b\b\b\b\b\b\b\b\b\b\b\b\b\b\b\b\b\b\b\b\b\b\b\b\b\b\b\b\b\b\b\b\b\b\b\b\b\b\b\b\b\b\b\b\b\b\b\b\b\b\b\b\b\b\b\b\b\b\b\b\r163/163 [==============================] - 21s 132ms/step - loss: 0.3090 - binary_accuracy: 0.8424 - f1_score: 0.6292 - val_loss: 0.6201 - val_binary_accuracy: 0.7556 - val_f1_score: 0.6250\n",
            "Epoch 65/100\n",
            "163/163 [==============================] - ETA: 0s - loss: 0.3062 - binary_accuracy: 0.8491 - f1_score: 0.6319"
          ]
        },
        {
          "output_type": "stream",
          "name": "stderr",
          "text": [
            "WARNING:tensorflow:Can save best model only with F1Score(name=f1_score,dtype=float32,num_classes=14,average=micro,threshold=0.5) available, skipping.\n"
          ]
        },
        {
          "output_type": "stream",
          "name": "stdout",
          "text": [
            "\b\b\b\b\b\b\b\b\b\b\b\b\b\b\b\b\b\b\b\b\b\b\b\b\b\b\b\b\b\b\b\b\b\b\b\b\b\b\b\b\b\b\b\b\b\b\b\b\b\b\b\b\b\b\b\b\b\b\b\b\b\b\b\b\b\b\b\b\b\b\b\b\b\b\b\b\b\b\b\b\b\b\b\b\b\b\b\b\b\b\b\b\b\b\b\b\b\b\b\b\b\b\b\b\b\b\b\b\b\b\r163/163 [==============================] - 21s 131ms/step - loss: 0.3062 - binary_accuracy: 0.8491 - f1_score: 0.6319 - val_loss: 0.6081 - val_binary_accuracy: 0.7616 - val_f1_score: 0.6259\n",
            "Epoch 66/100\n",
            "163/163 [==============================] - ETA: 0s - loss: 0.3088 - binary_accuracy: 0.8452 - f1_score: 0.6303"
          ]
        },
        {
          "output_type": "stream",
          "name": "stderr",
          "text": [
            "WARNING:tensorflow:Can save best model only with F1Score(name=f1_score,dtype=float32,num_classes=14,average=micro,threshold=0.5) available, skipping.\n"
          ]
        },
        {
          "output_type": "stream",
          "name": "stdout",
          "text": [
            "\b\b\b\b\b\b\b\b\b\b\b\b\b\b\b\b\b\b\b\b\b\b\b\b\b\b\b\b\b\b\b\b\b\b\b\b\b\b\b\b\b\b\b\b\b\b\b\b\b\b\b\b\b\b\b\b\b\b\b\b\b\b\b\b\b\b\b\b\b\b\b\b\b\b\b\b\b\b\b\b\b\b\b\b\b\b\b\b\b\b\b\b\b\b\b\b\b\b\b\b\b\b\b\b\b\b\b\b\b\b\r163/163 [==============================] - 21s 131ms/step - loss: 0.3088 - binary_accuracy: 0.8452 - f1_score: 0.6303 - val_loss: 0.6141 - val_binary_accuracy: 0.7754 - val_f1_score: 0.6396\n",
            "Epoch 67/100\n",
            "163/163 [==============================] - ETA: 0s - loss: 0.3029 - binary_accuracy: 0.8483 - f1_score: 0.6319"
          ]
        },
        {
          "output_type": "stream",
          "name": "stderr",
          "text": [
            "WARNING:tensorflow:Can save best model only with F1Score(name=f1_score,dtype=float32,num_classes=14,average=micro,threshold=0.5) available, skipping.\n"
          ]
        },
        {
          "output_type": "stream",
          "name": "stdout",
          "text": [
            "\b\b\b\b\b\b\b\b\b\b\b\b\b\b\b\b\b\b\b\b\b\b\b\b\b\b\b\b\b\b\b\b\b\b\b\b\b\b\b\b\b\b\b\b\b\b\b\b\b\b\b\b\b\b\b\b\b\b\b\b\b\b\b\b\b\b\b\b\b\b\b\b\b\b\b\b\b\b\b\b\b\b\b\b\b\b\b\b\b\b\b\b\b\b\b\b\b\b\b\b\b\b\b\b\b\b\b\b\b\b\r163/163 [==============================] - 21s 132ms/step - loss: 0.3029 - binary_accuracy: 0.8483 - f1_score: 0.6319 - val_loss: 0.6394 - val_binary_accuracy: 0.7668 - val_f1_score: 0.6392\n",
            "Epoch 68/100\n",
            "163/163 [==============================] - ETA: 0s - loss: 0.3078 - binary_accuracy: 0.8428 - f1_score: 0.6303"
          ]
        },
        {
          "output_type": "stream",
          "name": "stderr",
          "text": [
            "WARNING:tensorflow:Can save best model only with F1Score(name=f1_score,dtype=float32,num_classes=14,average=micro,threshold=0.5) available, skipping.\n"
          ]
        },
        {
          "output_type": "stream",
          "name": "stdout",
          "text": [
            "\b\b\b\b\b\b\b\b\b\b\b\b\b\b\b\b\b\b\b\b\b\b\b\b\b\b\b\b\b\b\b\b\b\b\b\b\b\b\b\b\b\b\b\b\b\b\b\b\b\b\b\b\b\b\b\b\b\b\b\b\b\b\b\b\b\b\b\b\b\b\b\b\b\b\b\b\b\b\b\b\b\b\b\b\b\b\b\b\b\b\b\b\b\b\b\b\b\b\b\b\b\b\b\b\b\b\b\b\b\b\r163/163 [==============================] - 21s 130ms/step - loss: 0.3078 - binary_accuracy: 0.8428 - f1_score: 0.6303 - val_loss: 0.6167 - val_binary_accuracy: 0.7797 - val_f1_score: 0.6473\n",
            "Epoch 69/100\n",
            "163/163 [==============================] - ETA: 0s - loss: 0.3046 - binary_accuracy: 0.8494 - f1_score: 0.6291"
          ]
        },
        {
          "output_type": "stream",
          "name": "stderr",
          "text": [
            "WARNING:tensorflow:Can save best model only with F1Score(name=f1_score,dtype=float32,num_classes=14,average=micro,threshold=0.5) available, skipping.\n"
          ]
        },
        {
          "output_type": "stream",
          "name": "stdout",
          "text": [
            "\b\b\b\b\b\b\b\b\b\b\b\b\b\b\b\b\b\b\b\b\b\b\b\b\b\b\b\b\b\b\b\b\b\b\b\b\b\b\b\b\b\b\b\b\b\b\b\b\b\b\b\b\b\b\b\b\b\b\b\b\b\b\b\b\b\b\b\b\b\b\b\b\b\b\b\b\b\b\b\b\b\b\b\b\b\b\b\b\b\b\b\b\b\b\b\b\b\b\b\b\b\b\b\b\b\b\b\b\b\b\r163/163 [==============================] - 21s 131ms/step - loss: 0.3046 - binary_accuracy: 0.8494 - f1_score: 0.6291 - val_loss: 0.6083 - val_binary_accuracy: 0.7676 - val_f1_score: 0.6342\n",
            "Epoch 70/100\n",
            "163/163 [==============================] - ETA: 0s - loss: 0.3056 - binary_accuracy: 0.8455 - f1_score: 0.6329"
          ]
        },
        {
          "output_type": "stream",
          "name": "stderr",
          "text": [
            "WARNING:tensorflow:Can save best model only with F1Score(name=f1_score,dtype=float32,num_classes=14,average=micro,threshold=0.5) available, skipping.\n"
          ]
        },
        {
          "output_type": "stream",
          "name": "stdout",
          "text": [
            "\b\b\b\b\b\b\b\b\b\b\b\b\b\b\b\b\b\b\b\b\b\b\b\b\b\b\b\b\b\b\b\b\b\b\b\b\b\b\b\b\b\b\b\b\b\b\b\b\b\b\b\b\b\b\b\b\b\b\b\b\b\b\b\b\b\b\b\b\b\b\b\b\b\b\b\b\b\b\b\b\b\b\b\b\b\b\b\b\b\b\b\b\b\b\b\b\b\b\b\b\b\b\b\b\b\b\b\b\b\b\r163/163 [==============================] - 21s 131ms/step - loss: 0.3056 - binary_accuracy: 0.8455 - f1_score: 0.6329 - val_loss: 0.5996 - val_binary_accuracy: 0.7685 - val_f1_score: 0.6357\n",
            "Epoch 71/100\n",
            "163/163 [==============================] - ETA: 0s - loss: 0.3016 - binary_accuracy: 0.8488 - f1_score: 0.6322"
          ]
        },
        {
          "output_type": "stream",
          "name": "stderr",
          "text": [
            "WARNING:tensorflow:Can save best model only with F1Score(name=f1_score,dtype=float32,num_classes=14,average=micro,threshold=0.5) available, skipping.\n"
          ]
        },
        {
          "output_type": "stream",
          "name": "stdout",
          "text": [
            "\b\b\b\b\b\b\b\b\b\b\b\b\b\b\b\b\b\b\b\b\b\b\b\b\b\b\b\b\b\b\b\b\b\b\b\b\b\b\b\b\b\b\b\b\b\b\b\b\b\b\b\b\b\b\b\b\b\b\b\b\b\b\b\b\b\b\b\b\b\b\b\b\b\b\b\b\b\b\b\b\b\b\b\b\b\b\b\b\b\b\b\b\b\b\b\b\b\b\b\b\b\b\b\b\b\b\b\b\b\b\r163/163 [==============================] - 22s 132ms/step - loss: 0.3016 - binary_accuracy: 0.8488 - f1_score: 0.6322 - val_loss: 0.6169 - val_binary_accuracy: 0.7642 - val_f1_score: 0.6383\n",
            "Epoch 72/100\n",
            "163/163 [==============================] - ETA: 0s - loss: 0.3097 - binary_accuracy: 0.8456 - f1_score: 0.6299"
          ]
        },
        {
          "output_type": "stream",
          "name": "stderr",
          "text": [
            "WARNING:tensorflow:Can save best model only with F1Score(name=f1_score,dtype=float32,num_classes=14,average=micro,threshold=0.5) available, skipping.\n"
          ]
        },
        {
          "output_type": "stream",
          "name": "stdout",
          "text": [
            "\b\b\b\b\b\b\b\b\b\b\b\b\b\b\b\b\b\b\b\b\b\b\b\b\b\b\b\b\b\b\b\b\b\b\b\b\b\b\b\b\b\b\b\b\b\b\b\b\b\b\b\b\b\b\b\b\b\b\b\b\b\b\b\b\b\b\b\b\b\b\b\b\b\b\b\b\b\b\b\b\b\b\b\b\b\b\b\b\b\b\b\b\b\b\b\b\b\b\b\b\b\b\b\b\b\b\b\b\b\b\r163/163 [==============================] - 21s 131ms/step - loss: 0.3097 - binary_accuracy: 0.8456 - f1_score: 0.6299 - val_loss: 0.6016 - val_binary_accuracy: 0.7771 - val_f1_score: 0.6392\n",
            "Epoch 73/100\n",
            "163/163 [==============================] - ETA: 0s - loss: 0.3087 - binary_accuracy: 0.8440 - f1_score: 0.6290"
          ]
        },
        {
          "output_type": "stream",
          "name": "stderr",
          "text": [
            "WARNING:tensorflow:Can save best model only with F1Score(name=f1_score,dtype=float32,num_classes=14,average=micro,threshold=0.5) available, skipping.\n"
          ]
        },
        {
          "output_type": "stream",
          "name": "stdout",
          "text": [
            "\b\b\b\b\b\b\b\b\b\b\b\b\b\b\b\b\b\b\b\b\b\b\b\b\b\b\b\b\b\b\b\b\b\b\b\b\b\b\b\b\b\b\b\b\b\b\b\b\b\b\b\b\b\b\b\b\b\b\b\b\b\b\b\b\b\b\b\b\b\b\b\b\b\b\b\b\b\b\b\b\b\b\b\b\b\b\b\b\b\b\b\b\b\b\b\b\b\b\b\b\b\b\b\b\b\b\b\b\b\b\r163/163 [==============================] - 21s 131ms/step - loss: 0.3087 - binary_accuracy: 0.8440 - f1_score: 0.6290 - val_loss: 0.6110 - val_binary_accuracy: 0.7780 - val_f1_score: 0.6412\n",
            "Epoch 74/100\n",
            "163/163 [==============================] - ETA: 0s - loss: 0.3072 - binary_accuracy: 0.8466 - f1_score: 0.6291"
          ]
        },
        {
          "output_type": "stream",
          "name": "stderr",
          "text": [
            "WARNING:tensorflow:Can save best model only with F1Score(name=f1_score,dtype=float32,num_classes=14,average=micro,threshold=0.5) available, skipping.\n"
          ]
        },
        {
          "output_type": "stream",
          "name": "stdout",
          "text": [
            "\b\b\b\b\b\b\b\b\b\b\b\b\b\b\b\b\b\b\b\b\b\b\b\b\b\b\b\b\b\b\b\b\b\b\b\b\b\b\b\b\b\b\b\b\b\b\b\b\b\b\b\b\b\b\b\b\b\b\b\b\b\b\b\b\b\b\b\b\b\b\b\b\b\b\b\b\b\b\b\b\b\b\b\b\b\b\b\b\b\b\b\b\b\b\b\b\b\b\b\b\b\b\b\b\b\b\b\b\b\b\r163/163 [==============================] - 21s 131ms/step - loss: 0.3072 - binary_accuracy: 0.8466 - f1_score: 0.6291 - val_loss: 0.5895 - val_binary_accuracy: 0.7694 - val_f1_score: 0.6377\n",
            "Epoch 75/100\n",
            "163/163 [==============================] - ETA: 0s - loss: 0.3033 - binary_accuracy: 0.8498 - f1_score: 0.6328"
          ]
        },
        {
          "output_type": "stream",
          "name": "stderr",
          "text": [
            "WARNING:tensorflow:Can save best model only with F1Score(name=f1_score,dtype=float32,num_classes=14,average=micro,threshold=0.5) available, skipping.\n"
          ]
        },
        {
          "output_type": "stream",
          "name": "stdout",
          "text": [
            "\b\b\b\b\b\b\b\b\b\b\b\b\b\b\b\b\b\b\b\b\b\b\b\b\b\b\b\b\b\b\b\b\b\b\b\b\b\b\b\b\b\b\b\b\b\b\b\b\b\b\b\b\b\b\b\b\b\b\b\b\b\b\b\b\b\b\b\b\b\b\b\b\b\b\b\b\b\b\b\b\b\b\b\b\b\b\b\b\b\b\b\b\b\b\b\b\b\b\b\b\b\b\b\b\b\b\b\b\b\b\r163/163 [==============================] - 21s 131ms/step - loss: 0.3033 - binary_accuracy: 0.8498 - f1_score: 0.6328 - val_loss: 0.6129 - val_binary_accuracy: 0.7590 - val_f1_score: 0.6346\n",
            "Epoch 76/100\n",
            "163/163 [==============================] - ETA: 0s - loss: 0.3055 - binary_accuracy: 0.8460 - f1_score: 0.6331"
          ]
        },
        {
          "output_type": "stream",
          "name": "stderr",
          "text": [
            "WARNING:tensorflow:Can save best model only with F1Score(name=f1_score,dtype=float32,num_classes=14,average=micro,threshold=0.5) available, skipping.\n"
          ]
        },
        {
          "output_type": "stream",
          "name": "stdout",
          "text": [
            "\b\b\b\b\b\b\b\b\b\b\b\b\b\b\b\b\b\b\b\b\b\b\b\b\b\b\b\b\b\b\b\b\b\b\b\b\b\b\b\b\b\b\b\b\b\b\b\b\b\b\b\b\b\b\b\b\b\b\b\b\b\b\b\b\b\b\b\b\b\b\b\b\b\b\b\b\b\b\b\b\b\b\b\b\b\b\b\b\b\b\b\b\b\b\b\b\b\b\b\b\b\b\b\b\b\b\b\b\b\b\r163/163 [==============================] - 21s 132ms/step - loss: 0.3055 - binary_accuracy: 0.8460 - f1_score: 0.6331 - val_loss: 0.6031 - val_binary_accuracy: 0.7754 - val_f1_score: 0.6439\n",
            "Epoch 77/100\n",
            "163/163 [==============================] - ETA: 0s - loss: 0.3097 - binary_accuracy: 0.8446 - f1_score: 0.6266"
          ]
        },
        {
          "output_type": "stream",
          "name": "stderr",
          "text": [
            "WARNING:tensorflow:Can save best model only with F1Score(name=f1_score,dtype=float32,num_classes=14,average=micro,threshold=0.5) available, skipping.\n"
          ]
        },
        {
          "output_type": "stream",
          "name": "stdout",
          "text": [
            "\b\b\b\b\b\b\b\b\b\b\b\b\b\b\b\b\b\b\b\b\b\b\b\b\b\b\b\b\b\b\b\b\b\b\b\b\b\b\b\b\b\b\b\b\b\b\b\b\b\b\b\b\b\b\b\b\b\b\b\b\b\b\b\b\b\b\b\b\b\b\b\b\b\b\b\b\b\b\b\b\b\b\b\b\b\b\b\b\b\b\b\b\b\b\b\b\b\b\b\b\b\b\b\b\b\b\b\b\b\b\r163/163 [==============================] - 21s 131ms/step - loss: 0.3097 - binary_accuracy: 0.8446 - f1_score: 0.6266 - val_loss: 0.5873 - val_binary_accuracy: 0.7728 - val_f1_score: 0.6412\n",
            "Epoch 78/100\n",
            "163/163 [==============================] - ETA: 0s - loss: 0.3068 - binary_accuracy: 0.8448 - f1_score: 0.6308"
          ]
        },
        {
          "output_type": "stream",
          "name": "stderr",
          "text": [
            "WARNING:tensorflow:Can save best model only with F1Score(name=f1_score,dtype=float32,num_classes=14,average=micro,threshold=0.5) available, skipping.\n"
          ]
        },
        {
          "output_type": "stream",
          "name": "stdout",
          "text": [
            "\b\b\b\b\b\b\b\b\b\b\b\b\b\b\b\b\b\b\b\b\b\b\b\b\b\b\b\b\b\b\b\b\b\b\b\b\b\b\b\b\b\b\b\b\b\b\b\b\b\b\b\b\b\b\b\b\b\b\b\b\b\b\b\b\b\b\b\b\b\b\b\b\b\b\b\b\b\b\b\b\b\b\b\b\b\b\b\b\b\b\b\b\b\b\b\b\b\b\b\b\b\b\b\b\b\b\b\b\b\b\r163/163 [==============================] - 22s 133ms/step - loss: 0.3068 - binary_accuracy: 0.8448 - f1_score: 0.6308 - val_loss: 0.5882 - val_binary_accuracy: 0.7608 - val_f1_score: 0.6413\n",
            "Epoch 79/100\n",
            "163/163 [==============================] - ETA: 0s - loss: 0.3098 - binary_accuracy: 0.8446 - f1_score: 0.6275"
          ]
        },
        {
          "output_type": "stream",
          "name": "stderr",
          "text": [
            "WARNING:tensorflow:Can save best model only with F1Score(name=f1_score,dtype=float32,num_classes=14,average=micro,threshold=0.5) available, skipping.\n"
          ]
        },
        {
          "output_type": "stream",
          "name": "stdout",
          "text": [
            "\b\b\b\b\b\b\b\b\b\b\b\b\b\b\b\b\b\b\b\b\b\b\b\b\b\b\b\b\b\b\b\b\b\b\b\b\b\b\b\b\b\b\b\b\b\b\b\b\b\b\b\b\b\b\b\b\b\b\b\b\b\b\b\b\b\b\b\b\b\b\b\b\b\b\b\b\b\b\b\b\b\b\b\b\b\b\b\b\b\b\b\b\b\b\b\b\b\b\b\b\b\b\b\b\b\b\b\b\b\b\r163/163 [==============================] - 21s 131ms/step - loss: 0.3098 - binary_accuracy: 0.8446 - f1_score: 0.6275 - val_loss: 0.5822 - val_binary_accuracy: 0.7547 - val_f1_score: 0.6278\n",
            "Epoch 80/100\n",
            "163/163 [==============================] - ETA: 0s - loss: 0.3047 - binary_accuracy: 0.8480 - f1_score: 0.6314"
          ]
        },
        {
          "output_type": "stream",
          "name": "stderr",
          "text": [
            "WARNING:tensorflow:Can save best model only with F1Score(name=f1_score,dtype=float32,num_classes=14,average=micro,threshold=0.5) available, skipping.\n"
          ]
        },
        {
          "output_type": "stream",
          "name": "stdout",
          "text": [
            "\b\b\b\b\b\b\b\b\b\b\b\b\b\b\b\b\b\b\b\b\b\b\b\b\b\b\b\b\b\b\b\b\b\b\b\b\b\b\b\b\b\b\b\b\b\b\b\b\b\b\b\b\b\b\b\b\b\b\b\b\b\b\b\b\b\b\b\b\b\b\b\b\b\b\b\b\b\b\b\b\b\b\b\b\b\b\b\b\b\b\b\b\b\b\b\b\b\b\b\b\b\b\b\b\b\b\b\b\b\b\r163/163 [==============================] - 21s 131ms/step - loss: 0.3047 - binary_accuracy: 0.8480 - f1_score: 0.6314 - val_loss: 0.5720 - val_binary_accuracy: 0.7711 - val_f1_score: 0.6419\n",
            "Epoch 81/100\n",
            "163/163 [==============================] - ETA: 0s - loss: 0.2982 - binary_accuracy: 0.8504 - f1_score: 0.6364"
          ]
        },
        {
          "output_type": "stream",
          "name": "stderr",
          "text": [
            "WARNING:tensorflow:Can save best model only with F1Score(name=f1_score,dtype=float32,num_classes=14,average=micro,threshold=0.5) available, skipping.\n"
          ]
        },
        {
          "output_type": "stream",
          "name": "stdout",
          "text": [
            "\b\b\b\b\b\b\b\b\b\b\b\b\b\b\b\b\b\b\b\b\b\b\b\b\b\b\b\b\b\b\b\b\b\b\b\b\b\b\b\b\b\b\b\b\b\b\b\b\b\b\b\b\b\b\b\b\b\b\b\b\b\b\b\b\b\b\b\b\b\b\b\b\b\b\b\b\b\b\b\b\b\b\b\b\b\b\b\b\b\b\b\b\b\b\b\b\b\b\b\b\b\b\b\b\b\b\b\b\b\b\r163/163 [==============================] - 21s 130ms/step - loss: 0.2982 - binary_accuracy: 0.8504 - f1_score: 0.6364 - val_loss: 0.5996 - val_binary_accuracy: 0.7814 - val_f1_score: 0.6441\n",
            "Epoch 82/100\n",
            "163/163 [==============================] - ETA: 0s - loss: 0.3058 - binary_accuracy: 0.8469 - f1_score: 0.6288"
          ]
        },
        {
          "output_type": "stream",
          "name": "stderr",
          "text": [
            "WARNING:tensorflow:Can save best model only with F1Score(name=f1_score,dtype=float32,num_classes=14,average=micro,threshold=0.5) available, skipping.\n"
          ]
        },
        {
          "output_type": "stream",
          "name": "stdout",
          "text": [
            "\b\b\b\b\b\b\b\b\b\b\b\b\b\b\b\b\b\b\b\b\b\b\b\b\b\b\b\b\b\b\b\b\b\b\b\b\b\b\b\b\b\b\b\b\b\b\b\b\b\b\b\b\b\b\b\b\b\b\b\b\b\b\b\b\b\b\b\b\b\b\b\b\b\b\b\b\b\b\b\b\b\b\b\b\b\b\b\b\b\b\b\b\b\b\b\b\b\b\b\b\b\b\b\b\b\b\b\b\b\b\r163/163 [==============================] - 21s 131ms/step - loss: 0.3058 - binary_accuracy: 0.8469 - f1_score: 0.6288 - val_loss: 0.6364 - val_binary_accuracy: 0.7806 - val_f1_score: 0.6442\n",
            "Epoch 83/100\n",
            "163/163 [==============================] - ETA: 0s - loss: 0.3048 - binary_accuracy: 0.8466 - f1_score: 0.6336"
          ]
        },
        {
          "output_type": "stream",
          "name": "stderr",
          "text": [
            "WARNING:tensorflow:Can save best model only with F1Score(name=f1_score,dtype=float32,num_classes=14,average=micro,threshold=0.5) available, skipping.\n"
          ]
        },
        {
          "output_type": "stream",
          "name": "stdout",
          "text": [
            "\b\b\b\b\b\b\b\b\b\b\b\b\b\b\b\b\b\b\b\b\b\b\b\b\b\b\b\b\b\b\b\b\b\b\b\b\b\b\b\b\b\b\b\b\b\b\b\b\b\b\b\b\b\b\b\b\b\b\b\b\b\b\b\b\b\b\b\b\b\b\b\b\b\b\b\b\b\b\b\b\b\b\b\b\b\b\b\b\b\b\b\b\b\b\b\b\b\b\b\b\b\b\b\b\b\b\b\b\b\b\r163/163 [==============================] - 21s 131ms/step - loss: 0.3048 - binary_accuracy: 0.8466 - f1_score: 0.6336 - val_loss: 0.5995 - val_binary_accuracy: 0.7719 - val_f1_score: 0.6372\n",
            "Epoch 84/100\n",
            "163/163 [==============================] - ETA: 0s - loss: 0.3091 - binary_accuracy: 0.8450 - f1_score: 0.6299"
          ]
        },
        {
          "output_type": "stream",
          "name": "stderr",
          "text": [
            "WARNING:tensorflow:Can save best model only with F1Score(name=f1_score,dtype=float32,num_classes=14,average=micro,threshold=0.5) available, skipping.\n"
          ]
        },
        {
          "output_type": "stream",
          "name": "stdout",
          "text": [
            "\b\b\b\b\b\b\b\b\b\b\b\b\b\b\b\b\b\b\b\b\b\b\b\b\b\b\b\b\b\b\b\b\b\b\b\b\b\b\b\b\b\b\b\b\b\b\b\b\b\b\b\b\b\b\b\b\b\b\b\b\b\b\b\b\b\b\b\b\b\b\b\b\b\b\b\b\b\b\b\b\b\b\b\b\b\b\b\b\b\b\b\b\b\b\b\b\b\b\b\b\b\b\b\b\b\b\b\b\b\b\r163/163 [==============================] - 22s 133ms/step - loss: 0.3091 - binary_accuracy: 0.8450 - f1_score: 0.6299 - val_loss: 0.5908 - val_binary_accuracy: 0.7754 - val_f1_score: 0.6424\n",
            "Epoch 85/100\n",
            "163/163 [==============================] - ETA: 0s - loss: 0.3060 - binary_accuracy: 0.8475 - f1_score: 0.6332"
          ]
        },
        {
          "output_type": "stream",
          "name": "stderr",
          "text": [
            "WARNING:tensorflow:Can save best model only with F1Score(name=f1_score,dtype=float32,num_classes=14,average=micro,threshold=0.5) available, skipping.\n"
          ]
        },
        {
          "output_type": "stream",
          "name": "stdout",
          "text": [
            "\b\b\b\b\b\b\b\b\b\b\b\b\b\b\b\b\b\b\b\b\b\b\b\b\b\b\b\b\b\b\b\b\b\b\b\b\b\b\b\b\b\b\b\b\b\b\b\b\b\b\b\b\b\b\b\b\b\b\b\b\b\b\b\b\b\b\b\b\b\b\b\b\b\b\b\b\b\b\b\b\b\b\b\b\b\b\b\b\b\b\b\b\b\b\b\b\b\b\b\b\b\b\b\b\b\b\b\b\b\b\r163/163 [==============================] - 21s 131ms/step - loss: 0.3060 - binary_accuracy: 0.8475 - f1_score: 0.6332 - val_loss: 0.6278 - val_binary_accuracy: 0.7849 - val_f1_score: 0.6364\n",
            "Epoch 86/100\n",
            "163/163 [==============================] - ETA: 0s - loss: 0.3025 - binary_accuracy: 0.8491 - f1_score: 0.6364"
          ]
        },
        {
          "output_type": "stream",
          "name": "stderr",
          "text": [
            "WARNING:tensorflow:Can save best model only with F1Score(name=f1_score,dtype=float32,num_classes=14,average=micro,threshold=0.5) available, skipping.\n"
          ]
        },
        {
          "output_type": "stream",
          "name": "stdout",
          "text": [
            "\b\b\b\b\b\b\b\b\b\b\b\b\b\b\b\b\b\b\b\b\b\b\b\b\b\b\b\b\b\b\b\b\b\b\b\b\b\b\b\b\b\b\b\b\b\b\b\b\b\b\b\b\b\b\b\b\b\b\b\b\b\b\b\b\b\b\b\b\b\b\b\b\b\b\b\b\b\b\b\b\b\b\b\b\b\b\b\b\b\b\b\b\b\b\b\b\b\b\b\b\b\b\b\b\b\b\b\b\b\b\r163/163 [==============================] - 21s 131ms/step - loss: 0.3025 - binary_accuracy: 0.8491 - f1_score: 0.6364 - val_loss: 0.6528 - val_binary_accuracy: 0.7788 - val_f1_score: 0.6500\n",
            "Epoch 87/100\n",
            "163/163 [==============================] - ETA: 0s - loss: 0.3030 - binary_accuracy: 0.8506 - f1_score: 0.6317"
          ]
        },
        {
          "output_type": "stream",
          "name": "stderr",
          "text": [
            "WARNING:tensorflow:Can save best model only with F1Score(name=f1_score,dtype=float32,num_classes=14,average=micro,threshold=0.5) available, skipping.\n"
          ]
        },
        {
          "output_type": "stream",
          "name": "stdout",
          "text": [
            "\b\b\b\b\b\b\b\b\b\b\b\b\b\b\b\b\b\b\b\b\b\b\b\b\b\b\b\b\b\b\b\b\b\b\b\b\b\b\b\b\b\b\b\b\b\b\b\b\b\b\b\b\b\b\b\b\b\b\b\b\b\b\b\b\b\b\b\b\b\b\b\b\b\b\b\b\b\b\b\b\b\b\b\b\b\b\b\b\b\b\b\b\b\b\b\b\b\b\b\b\b\b\b\b\b\b\b\b\b\b\r163/163 [==============================] - 21s 131ms/step - loss: 0.3030 - binary_accuracy: 0.8506 - f1_score: 0.6317 - val_loss: 0.6287 - val_binary_accuracy: 0.7685 - val_f1_score: 0.6363\n",
            "Epoch 88/100\n",
            "163/163 [==============================] - ETA: 0s - loss: 0.3093 - binary_accuracy: 0.8475 - f1_score: 0.6281"
          ]
        },
        {
          "output_type": "stream",
          "name": "stderr",
          "text": [
            "WARNING:tensorflow:Can save best model only with F1Score(name=f1_score,dtype=float32,num_classes=14,average=micro,threshold=0.5) available, skipping.\n"
          ]
        },
        {
          "output_type": "stream",
          "name": "stdout",
          "text": [
            "\b\b\b\b\b\b\b\b\b\b\b\b\b\b\b\b\b\b\b\b\b\b\b\b\b\b\b\b\b\b\b\b\b\b\b\b\b\b\b\b\b\b\b\b\b\b\b\b\b\b\b\b\b\b\b\b\b\b\b\b\b\b\b\b\b\b\b\b\b\b\b\b\b\b\b\b\b\b\b\b\b\b\b\b\b\b\b\b\b\b\b\b\b\b\b\b\b\b\b\b\b\b\b\b\b\b\b\b\b\b\r163/163 [==============================] - 21s 132ms/step - loss: 0.3093 - binary_accuracy: 0.8475 - f1_score: 0.6281 - val_loss: 0.6071 - val_binary_accuracy: 0.7745 - val_f1_score: 0.6395\n",
            "Epoch 89/100\n",
            "163/163 [==============================] - ETA: 0s - loss: 0.3075 - binary_accuracy: 0.8465 - f1_score: 0.6312"
          ]
        },
        {
          "output_type": "stream",
          "name": "stderr",
          "text": [
            "WARNING:tensorflow:Can save best model only with F1Score(name=f1_score,dtype=float32,num_classes=14,average=micro,threshold=0.5) available, skipping.\n"
          ]
        },
        {
          "output_type": "stream",
          "name": "stdout",
          "text": [
            "\b\b\b\b\b\b\b\b\b\b\b\b\b\b\b\b\b\b\b\b\b\b\b\b\b\b\b\b\b\b\b\b\b\b\b\b\b\b\b\b\b\b\b\b\b\b\b\b\b\b\b\b\b\b\b\b\b\b\b\b\b\b\b\b\b\b\b\b\b\b\b\b\b\b\b\b\b\b\b\b\b\b\b\b\b\b\b\b\b\b\b\b\b\b\b\b\b\b\b\b\b\b\b\b\b\b\b\b\b\b\r163/163 [==============================] - 21s 130ms/step - loss: 0.3075 - binary_accuracy: 0.8465 - f1_score: 0.6312 - val_loss: 0.6632 - val_binary_accuracy: 0.7806 - val_f1_score: 0.6472\n",
            "Epoch 90/100\n",
            "163/163 [==============================] - ETA: 0s - loss: 0.3048 - binary_accuracy: 0.8488 - f1_score: 0.6309"
          ]
        },
        {
          "output_type": "stream",
          "name": "stderr",
          "text": [
            "WARNING:tensorflow:Can save best model only with F1Score(name=f1_score,dtype=float32,num_classes=14,average=micro,threshold=0.5) available, skipping.\n"
          ]
        },
        {
          "output_type": "stream",
          "name": "stdout",
          "text": [
            "\b\b\b\b\b\b\b\b\b\b\b\b\b\b\b\b\b\b\b\b\b\b\b\b\b\b\b\b\b\b\b\b\b\b\b\b\b\b\b\b\b\b\b\b\b\b\b\b\b\b\b\b\b\b\b\b\b\b\b\b\b\b\b\b\b\b\b\b\b\b\b\b\b\b\b\b\b\b\b\b\b\b\b\b\b\b\b\b\b\b\b\b\b\b\b\b\b\b\b\b\b\b\b\b\b\b\b\b\b\b\r163/163 [==============================] - 21s 132ms/step - loss: 0.3048 - binary_accuracy: 0.8488 - f1_score: 0.6309 - val_loss: 0.5990 - val_binary_accuracy: 0.7711 - val_f1_score: 0.6486\n",
            "Epoch 91/100\n",
            "163/163 [==============================] - ETA: 0s - loss: 0.3017 - binary_accuracy: 0.8497 - f1_score: 0.6353"
          ]
        },
        {
          "output_type": "stream",
          "name": "stderr",
          "text": [
            "WARNING:tensorflow:Can save best model only with F1Score(name=f1_score,dtype=float32,num_classes=14,average=micro,threshold=0.5) available, skipping.\n"
          ]
        },
        {
          "output_type": "stream",
          "name": "stdout",
          "text": [
            "\b\b\b\b\b\b\b\b\b\b\b\b\b\b\b\b\b\b\b\b\b\b\b\b\b\b\b\b\b\b\b\b\b\b\b\b\b\b\b\b\b\b\b\b\b\b\b\b\b\b\b\b\b\b\b\b\b\b\b\b\b\b\b\b\b\b\b\b\b\b\b\b\b\b\b\b\b\b\b\b\b\b\b\b\b\b\b\b\b\b\b\b\b\b\b\b\b\b\b\b\b\b\b\b\b\b\b\b\b\b\r163/163 [==============================] - 21s 131ms/step - loss: 0.3017 - binary_accuracy: 0.8497 - f1_score: 0.6353 - val_loss: 0.6073 - val_binary_accuracy: 0.7745 - val_f1_score: 0.6413\n",
            "Epoch 92/100\n",
            "163/163 [==============================] - ETA: 0s - loss: 0.3069 - binary_accuracy: 0.8455 - f1_score: 0.6320"
          ]
        },
        {
          "output_type": "stream",
          "name": "stderr",
          "text": [
            "WARNING:tensorflow:Can save best model only with F1Score(name=f1_score,dtype=float32,num_classes=14,average=micro,threshold=0.5) available, skipping.\n"
          ]
        },
        {
          "output_type": "stream",
          "name": "stdout",
          "text": [
            "\b\b\b\b\b\b\b\b\b\b\b\b\b\b\b\b\b\b\b\b\b\b\b\b\b\b\b\b\b\b\b\b\b\b\b\b\b\b\b\b\b\b\b\b\b\b\b\b\b\b\b\b\b\b\b\b\b\b\b\b\b\b\b\b\b\b\b\b\b\b\b\b\b\b\b\b\b\b\b\b\b\b\b\b\b\b\b\b\b\b\b\b\b\b\b\b\b\b\b\b\b\b\b\b\b\b\b\b\b\b\r163/163 [==============================] - 21s 131ms/step - loss: 0.3069 - binary_accuracy: 0.8455 - f1_score: 0.6320 - val_loss: 0.5942 - val_binary_accuracy: 0.7737 - val_f1_score: 0.6376\n",
            "Epoch 93/100\n",
            "163/163 [==============================] - ETA: 0s - loss: 0.3021 - binary_accuracy: 0.8515 - f1_score: 0.6342"
          ]
        },
        {
          "output_type": "stream",
          "name": "stderr",
          "text": [
            "WARNING:tensorflow:Can save best model only with F1Score(name=f1_score,dtype=float32,num_classes=14,average=micro,threshold=0.5) available, skipping.\n"
          ]
        },
        {
          "output_type": "stream",
          "name": "stdout",
          "text": [
            "\b\b\b\b\b\b\b\b\b\b\b\b\b\b\b\b\b\b\b\b\b\b\b\b\b\b\b\b\b\b\b\b\b\b\b\b\b\b\b\b\b\b\b\b\b\b\b\b\b\b\b\b\b\b\b\b\b\b\b\b\b\b\b\b\b\b\b\b\b\b\b\b\b\b\b\b\b\b\b\b\b\b\b\b\b\b\b\b\b\b\b\b\b\b\b\b\b\b\b\b\b\b\b\b\b\b\b\b\b\b\r163/163 [==============================] - 21s 131ms/step - loss: 0.3021 - binary_accuracy: 0.8515 - f1_score: 0.6342 - val_loss: 0.6151 - val_binary_accuracy: 0.7737 - val_f1_score: 0.6406\n",
            "Epoch 94/100\n",
            "163/163 [==============================] - ETA: 0s - loss: 0.3096 - binary_accuracy: 0.8464 - f1_score: 0.6304"
          ]
        },
        {
          "output_type": "stream",
          "name": "stderr",
          "text": [
            "WARNING:tensorflow:Can save best model only with F1Score(name=f1_score,dtype=float32,num_classes=14,average=micro,threshold=0.5) available, skipping.\n"
          ]
        },
        {
          "output_type": "stream",
          "name": "stdout",
          "text": [
            "\b\b\b\b\b\b\b\b\b\b\b\b\b\b\b\b\b\b\b\b\b\b\b\b\b\b\b\b\b\b\b\b\b\b\b\b\b\b\b\b\b\b\b\b\b\b\b\b\b\b\b\b\b\b\b\b\b\b\b\b\b\b\b\b\b\b\b\b\b\b\b\b\b\b\b\b\b\b\b\b\b\b\b\b\b\b\b\b\b\b\b\b\b\b\b\b\b\b\b\b\b\b\b\b\b\b\b\b\b\b\r163/163 [==============================] - 21s 131ms/step - loss: 0.3096 - binary_accuracy: 0.8464 - f1_score: 0.6304 - val_loss: 0.6472 - val_binary_accuracy: 0.7874 - val_f1_score: 0.6610\n",
            "Epoch 95/100\n",
            "163/163 [==============================] - ETA: 0s - loss: 0.3016 - binary_accuracy: 0.8493 - f1_score: 0.6353"
          ]
        },
        {
          "output_type": "stream",
          "name": "stderr",
          "text": [
            "WARNING:tensorflow:Can save best model only with F1Score(name=f1_score,dtype=float32,num_classes=14,average=micro,threshold=0.5) available, skipping.\n"
          ]
        },
        {
          "output_type": "stream",
          "name": "stdout",
          "text": [
            "\b\b\b\b\b\b\b\b\b\b\b\b\b\b\b\b\b\b\b\b\b\b\b\b\b\b\b\b\b\b\b\b\b\b\b\b\b\b\b\b\b\b\b\b\b\b\b\b\b\b\b\b\b\b\b\b\b\b\b\b\b\b\b\b\b\b\b\b\b\b\b\b\b\b\b\b\b\b\b\b\b\b\b\b\b\b\b\b\b\b\b\b\b\b\b\b\b\b\b\b\b\b\b\b\b\b\b\b\b\b\r163/163 [==============================] - 21s 132ms/step - loss: 0.3016 - binary_accuracy: 0.8493 - f1_score: 0.6353 - val_loss: 0.6018 - val_binary_accuracy: 0.7814 - val_f1_score: 0.6440\n",
            "Epoch 96/100\n",
            "163/163 [==============================] - ETA: 0s - loss: 0.3111 - binary_accuracy: 0.8443 - f1_score: 0.6281"
          ]
        },
        {
          "output_type": "stream",
          "name": "stderr",
          "text": [
            "WARNING:tensorflow:Can save best model only with F1Score(name=f1_score,dtype=float32,num_classes=14,average=micro,threshold=0.5) available, skipping.\n"
          ]
        },
        {
          "output_type": "stream",
          "name": "stdout",
          "text": [
            "\b\b\b\b\b\b\b\b\b\b\b\b\b\b\b\b\b\b\b\b\b\b\b\b\b\b\b\b\b\b\b\b\b\b\b\b\b\b\b\b\b\b\b\b\b\b\b\b\b\b\b\b\b\b\b\b\b\b\b\b\b\b\b\b\b\b\b\b\b\b\b\b\b\b\b\b\b\b\b\b\b\b\b\b\b\b\b\b\b\b\b\b\b\b\b\b\b\b\b\b\b\b\b\b\b\b\b\b\b\b\r163/163 [==============================] - 21s 131ms/step - loss: 0.3111 - binary_accuracy: 0.8443 - f1_score: 0.6281 - val_loss: 0.5936 - val_binary_accuracy: 0.7668 - val_f1_score: 0.6334\n",
            "Epoch 97/100\n",
            "163/163 [==============================] - ETA: 0s - loss: 0.3079 - binary_accuracy: 0.8447 - f1_score: 0.6309"
          ]
        },
        {
          "output_type": "stream",
          "name": "stderr",
          "text": [
            "WARNING:tensorflow:Can save best model only with F1Score(name=f1_score,dtype=float32,num_classes=14,average=micro,threshold=0.5) available, skipping.\n"
          ]
        },
        {
          "output_type": "stream",
          "name": "stdout",
          "text": [
            "\b\b\b\b\b\b\b\b\b\b\b\b\b\b\b\b\b\b\b\b\b\b\b\b\b\b\b\b\b\b\b\b\b\b\b\b\b\b\b\b\b\b\b\b\b\b\b\b\b\b\b\b\b\b\b\b\b\b\b\b\b\b\b\b\b\b\b\b\b\b\b\b\b\b\b\b\b\b\b\b\b\b\b\b\b\b\b\b\b\b\b\b\b\b\b\b\b\b\b\b\b\b\b\b\b\b\b\b\b\b\r163/163 [==============================] - 21s 131ms/step - loss: 0.3079 - binary_accuracy: 0.8447 - f1_score: 0.6309 - val_loss: 0.5675 - val_binary_accuracy: 0.7478 - val_f1_score: 0.6204\n",
            "Epoch 98/100\n",
            "163/163 [==============================] - ETA: 0s - loss: 0.3091 - binary_accuracy: 0.8431 - f1_score: 0.6290"
          ]
        },
        {
          "output_type": "stream",
          "name": "stderr",
          "text": [
            "WARNING:tensorflow:Can save best model only with F1Score(name=f1_score,dtype=float32,num_classes=14,average=micro,threshold=0.5) available, skipping.\n"
          ]
        },
        {
          "output_type": "stream",
          "name": "stdout",
          "text": [
            "\b\b\b\b\b\b\b\b\b\b\b\b\b\b\b\b\b\b\b\b\b\b\b\b\b\b\b\b\b\b\b\b\b\b\b\b\b\b\b\b\b\b\b\b\b\b\b\b\b\b\b\b\b\b\b\b\b\b\b\b\b\b\b\b\b\b\b\b\b\b\b\b\b\b\b\b\b\b\b\b\b\b\b\b\b\b\b\b\b\b\b\b\b\b\b\b\b\b\b\b\b\b\b\b\b\b\b\b\b\b\r163/163 [==============================] - 21s 131ms/step - loss: 0.3091 - binary_accuracy: 0.8431 - f1_score: 0.6290 - val_loss: 0.6071 - val_binary_accuracy: 0.7694 - val_f1_score: 0.6369\n",
            "Epoch 99/100\n",
            "163/163 [==============================] - ETA: 0s - loss: 0.3075 - binary_accuracy: 0.8475 - f1_score: 0.6293"
          ]
        },
        {
          "output_type": "stream",
          "name": "stderr",
          "text": [
            "WARNING:tensorflow:Can save best model only with F1Score(name=f1_score,dtype=float32,num_classes=14,average=micro,threshold=0.5) available, skipping.\n"
          ]
        },
        {
          "output_type": "stream",
          "name": "stdout",
          "text": [
            "\b\b\b\b\b\b\b\b\b\b\b\b\b\b\b\b\b\b\b\b\b\b\b\b\b\b\b\b\b\b\b\b\b\b\b\b\b\b\b\b\b\b\b\b\b\b\b\b\b\b\b\b\b\b\b\b\b\b\b\b\b\b\b\b\b\b\b\b\b\b\b\b\b\b\b\b\b\b\b\b\b\b\b\b\b\b\b\b\b\b\b\b\b\b\b\b\b\b\b\b\b\b\b\b\b\b\b\b\b\b\r163/163 [==============================] - 21s 131ms/step - loss: 0.3075 - binary_accuracy: 0.8475 - f1_score: 0.6293 - val_loss: 0.5789 - val_binary_accuracy: 0.7668 - val_f1_score: 0.6444\n",
            "Epoch 100/100\n",
            "163/163 [==============================] - ETA: 0s - loss: 0.3046 - binary_accuracy: 0.8458 - f1_score: 0.6313"
          ]
        },
        {
          "output_type": "stream",
          "name": "stderr",
          "text": [
            "WARNING:tensorflow:Can save best model only with F1Score(name=f1_score,dtype=float32,num_classes=14,average=micro,threshold=0.5) available, skipping.\n"
          ]
        },
        {
          "output_type": "stream",
          "name": "stdout",
          "text": [
            "\b\b\b\b\b\b\b\b\b\b\b\b\b\b\b\b\b\b\b\b\b\b\b\b\b\b\b\b\b\b\b\b\b\b\b\b\b\b\b\b\b\b\b\b\b\b\b\b\b\b\b\b\b\b\b\b\b\b\b\b\b\b\b\b\b\b\b\b\b\b\b\b\b\b\b\b\b\b\b\b\b\b\b\b\b\b\b\b\b\b\b\b\b\b\b\b\b\b\b\b\b\b\b\b\b\b\b\b\b\b\r163/163 [==============================] - 21s 131ms/step - loss: 0.3046 - binary_accuracy: 0.8458 - f1_score: 0.6313 - val_loss: 0.6248 - val_binary_accuracy: 0.7616 - val_f1_score: 0.6447\n"
          ]
        },
        {
          "output_type": "execute_result",
          "data": {
            "text/plain": [
              "<keras.callbacks.History at 0x7f5d39323970>"
            ]
          },
          "metadata": {},
          "execution_count": 91
        }
      ]
    },
    {
      "cell_type": "code",
      "execution_count": null,
      "metadata": {
        "id": "kI1GjOAvb5tZ"
      },
      "outputs": [],
      "source": [
        "model.save('saved_model_50.h5')"
      ]
    },
    {
      "cell_type": "code",
      "source": [
        "from google.colab import drive\n",
        "drive.mount('/content/drive')"
      ],
      "metadata": {
        "colab": {
          "base_uri": "https://localhost:8080/"
        },
        "id": "wXBfGwSKZmYE",
        "outputId": "1ddf9597-6ecf-4e97-eb6b-01204c67e71b"
      },
      "execution_count": null,
      "outputs": [
        {
          "output_type": "stream",
          "name": "stdout",
          "text": [
            "Drive already mounted at /content/drive; to attempt to forcibly remount, call drive.mount(\"/content/drive\", force_remount=True).\n"
          ]
        }
      ]
    },
    {
      "cell_type": "code",
      "execution_count": null,
      "metadata": {
        "id": "i_T1Fl7zpKlv"
      },
      "outputs": [],
      "source": [
        "from tensorflow.keras.models import load_model\n",
        "\n",
        "best_model = load_model('/content/drive/MyDrive/saved_model.h5', custom_objects={\"TFRobertaForSequenceClassification\": TFRobertaForSequenceClassification})\n"
      ]
    },
    {
      "cell_type": "code",
      "execution_count": null,
      "metadata": {
        "colab": {
          "base_uri": "https://localhost:8080/"
        },
        "id": "9IY1bx6fCGt-",
        "outputId": "e284560e-3fad-4a54-d279-e7a813f01c53"
      },
      "outputs": [
        {
          "output_type": "stream",
          "name": "stdout",
          "text": [
            "3/3 [==============================] - 0s 129ms/step\n"
          ]
        }
      ],
      "source": [
        "y_pred = model.predict(x_dev)"
      ]
    },
    {
      "cell_type": "code",
      "execution_count": null,
      "metadata": {
        "colab": {
          "base_uri": "https://localhost:8080/"
        },
        "id": "QTpWvw3mt4rn",
        "outputId": "1fb0bc8c-9de5-463f-e7e3-b14fc018626c"
      },
      "outputs": [
        {
          "output_type": "execute_result",
          "data": {
            "text/plain": [
              "array([[4.9344415e-04, 4.6960655e-01, 1.8979996e-07, ..., 2.8424831e-02,\n",
              "        1.9806236e-02, 4.8562530e-01],\n",
              "       [1.2835817e-03, 4.9289480e-01, 9.2147599e-07, ..., 4.2553972e-02,\n",
              "        2.9222982e-02, 4.7528741e-01],\n",
              "       [4.0068164e-05, 4.0298054e-01, 5.6325620e-09, ..., 1.0107853e-02,\n",
              "        8.9798514e-03, 5.3466773e-01],\n",
              "       ...,\n",
              "       [4.1233809e-03, 5.1636583e-01, 8.0409054e-06, ..., 7.2636984e-02,\n",
              "        5.0171807e-02, 4.6538296e-01],\n",
              "       [5.0681097e-05, 3.8879842e-01, 4.4955406e-04, ..., 1.9753436e-03,\n",
              "        1.2927170e-01, 2.2906853e-01],\n",
              "       [1.3335099e-06, 9.8672420e-01, 3.0047055e-05, ..., 2.2469736e-03,\n",
              "        3.4595937e-02, 7.4994850e-01]], dtype=float32)"
            ]
          },
          "metadata": {},
          "execution_count": 93
        }
      ],
      "source": [
        "y_pred"
      ]
    },
    {
      "cell_type": "code",
      "execution_count": null,
      "metadata": {
        "id": "omfVmZZ8CKcy",
        "colab": {
          "base_uri": "https://localhost:8080/"
        },
        "outputId": "361df96c-e4b6-48b9-a90e-fb9f42f77dd1"
      },
      "outputs": [
        {
          "output_type": "stream",
          "name": "stdout",
          "text": [
            "0.0\n",
            "Macro f1_score = 0.4524247922807242\n",
            "Micro f1_score = 0.5309734513274336\n",
            "0.01\n",
            "Macro f1_score = 0.5043211244783301\n",
            "Micro f1_score = 0.6314948041566747\n",
            "0.02\n",
            "Macro f1_score = 0.5091027061387937\n",
            "Micro f1_score = 0.6367346938775511\n",
            "0.03\n",
            "Macro f1_score = 0.5151689669659337\n",
            "Micro f1_score = 0.6411960132890365\n",
            "0.04\n",
            "Macro f1_score = 0.5181379960419925\n",
            "Micro f1_score = 0.6439522998296423\n",
            "0.05\n",
            "Macro f1_score = 0.5146247407645486\n",
            "Micro f1_score = 0.6458874458874458\n",
            "0.06\n",
            "Macro f1_score = 0.5111276004990918\n",
            "Micro f1_score = 0.647887323943662\n",
            "0.07\n",
            "Macro f1_score = 0.5065576482796497\n",
            "Micro f1_score = 0.6441281138790035\n",
            "0.08\n",
            "Macro f1_score = 0.5057202400295929\n",
            "Micro f1_score = 0.6450450450450451\n",
            "0.09\n",
            "Macro f1_score = 0.5023243749576414\n",
            "Micro f1_score = 0.6459854014598541\n",
            "0.1\n",
            "Macro f1_score = 0.4975563138989924\n",
            "Micro f1_score = 0.6457564575645757\n",
            "0.11\n",
            "Macro f1_score = 0.49182131972936716\n",
            "Micro f1_score = 0.6492048643592143\n",
            "0.12\n",
            "Macro f1_score = 0.4929748411810122\n",
            "Micro f1_score = 0.6502835538752363\n",
            "0.13\n",
            "Macro f1_score = 0.48957808669243974\n",
            "Micro f1_score = 0.6526315789473683\n",
            "0.14\n",
            "Macro f1_score = 0.48952497308831616\n",
            "Micro f1_score = 0.6517943743937924\n",
            "0.15\n",
            "Macro f1_score = 0.4828268287405596\n",
            "Micro f1_score = 0.6470588235294117\n",
            "0.16\n",
            "Macro f1_score = 0.4230860437046053\n",
            "Micro f1_score = 0.6440677966101694\n",
            "0.17\n",
            "Macro f1_score = 0.4228495583406075\n",
            "Micro f1_score = 0.6452261306532663\n",
            "0.18\n",
            "Macro f1_score = 0.41878819563463787\n",
            "Micro f1_score = 0.6403242147922998\n",
            "0.19\n",
            "Macro f1_score = 0.40990526464947247\n",
            "Micro f1_score = 0.6339468302658487\n",
            "0.2\n",
            "Macro f1_score = 0.41138620700566736\n",
            "Micro f1_score = 0.6370217166494312\n",
            "0.21\n",
            "Macro f1_score = 0.4138720665294177\n",
            "Micro f1_score = 0.6409989594172736\n",
            "0.22\n",
            "Macro f1_score = 0.41111854124578223\n",
            "Micro f1_score = 0.6379853095487933\n",
            "0.23\n",
            "Macro f1_score = 0.40896531017643234\n",
            "Micro f1_score = 0.6390658174097665\n",
            "0.24\n",
            "Macro f1_score = 0.3973374943665703\n",
            "Micro f1_score = 0.6294307196562836\n",
            "0.25\n",
            "Macro f1_score = 0.3932978827746636\n",
            "Micro f1_score = 0.6304347826086957\n",
            "0.26\n",
            "Macro f1_score = 0.3908149015349493\n",
            "Micro f1_score = 0.6301969365426695\n",
            "0.27\n",
            "Macro f1_score = 0.38485910456597816\n",
            "Micro f1_score = 0.6298342541436465\n",
            "0.28\n",
            "Macro f1_score = 0.38443015252035106\n",
            "Micro f1_score = 0.631813125695217\n",
            "0.29\n",
            "Macro f1_score = 0.38564770638633644\n",
            "Micro f1_score = 0.6344206974128234\n",
            "0.3\n",
            "Macro f1_score = 0.38696720113827937\n",
            "Micro f1_score = 0.6355353075170842\n",
            "0.31\n",
            "Macro f1_score = 0.38445175184991853\n",
            "Micro f1_score = 0.6359447004608294\n",
            "0.32\n",
            "Macro f1_score = 0.3778941202759925\n",
            "Micro f1_score = 0.6362573099415204\n",
            "0.33\n",
            "Macro f1_score = 0.3779413935810593\n",
            "Micro f1_score = 0.6389548693586699\n",
            "0.34\n",
            "Macro f1_score = 0.3728784095748828\n",
            "Micro f1_score = 0.6386554621848739\n",
            "0.35\n",
            "Macro f1_score = 0.3723520785276118\n",
            "Micro f1_score = 0.64\n",
            "0.36\n",
            "Macro f1_score = 0.35924251048448425\n",
            "Micro f1_score = 0.6364749082007343\n",
            "0.37\n",
            "Macro f1_score = 0.34883757928123366\n",
            "Micro f1_score = 0.6346863468634687\n",
            "0.38\n",
            "Macro f1_score = 0.34136889638342977\n",
            "Micro f1_score = 0.6310559006211179\n",
            "0.39\n",
            "Macro f1_score = 0.3014874499951422\n",
            "Micro f1_score = 0.6257822277847309\n",
            "0.4\n",
            "Macro f1_score = 0.3012283758094286\n",
            "Micro f1_score = 0.6253164556962025\n",
            "0.41\n",
            "Macro f1_score = 0.29975454345257335\n",
            "Micro f1_score = 0.6213093709884467\n",
            "0.42\n",
            "Macro f1_score = 0.3016108050462792\n",
            "Micro f1_score = 0.6253229974160206\n",
            "0.43\n",
            "Macro f1_score = 0.2977202236926219\n",
            "Micro f1_score = 0.618798955613577\n",
            "0.44\n",
            "Macro f1_score = 0.29578533364751397\n",
            "Micro f1_score = 0.6206896551724138\n",
            "0.45\n",
            "Macro f1_score = 0.2971143664106605\n",
            "Micro f1_score = 0.6201342281879195\n",
            "0.46\n",
            "Macro f1_score = 0.2862807121065298\n",
            "Micro f1_score = 0.6205962059620596\n",
            "0.47\n",
            "Macro f1_score = 0.2856868865294959\n",
            "Micro f1_score = 0.6170798898071626\n",
            "0.48\n",
            "Macro f1_score = 0.2719539864826314\n",
            "Micro f1_score = 0.6108786610878661\n",
            "0.49\n",
            "Macro f1_score = 0.2605494727230047\n",
            "Micro f1_score = 0.6075949367088608\n",
            "0.5\n",
            "Macro f1_score = 0.2586917817483939\n",
            "Micro f1_score = 0.603719599427754\n",
            "0.51\n",
            "Macro f1_score = 0.2635238906974227\n",
            "Micro f1_score = 0.6095791001451378\n",
            "0.52\n",
            "Macro f1_score = 0.2602295992636685\n",
            "Micro f1_score = 0.6026587887740029\n",
            "0.53\n",
            "Macro f1_score = 0.2509782663466599\n",
            "Micro f1_score = 0.5988023952095808\n",
            "0.54\n",
            "Macro f1_score = 0.2503702972152232\n",
            "Micro f1_score = 0.5941807044410413\n",
            "0.55\n",
            "Macro f1_score = 0.25081983638622546\n",
            "Micro f1_score = 0.5922480620155038\n",
            "0.56\n",
            "Macro f1_score = 0.24602979775467695\n",
            "Micro f1_score = 0.5849056603773586\n",
            "0.57\n",
            "Macro f1_score = 0.24050690951890993\n",
            "Micro f1_score = 0.5764331210191083\n",
            "0.58\n",
            "Macro f1_score = 0.21522819785849318\n",
            "Micro f1_score = 0.5611745513866232\n",
            "0.59\n",
            "Macro f1_score = 0.21002582667467742\n",
            "Micro f1_score = 0.5502471169686985\n",
            "0.6\n",
            "Macro f1_score = 0.2046506660680207\n",
            "Micro f1_score = 0.5406301824212272\n",
            "0.61\n",
            "Macro f1_score = 0.1844390704493801\n",
            "Micro f1_score = 0.5218855218855218\n",
            "0.62\n",
            "Macro f1_score = 0.1795421085971737\n",
            "Micro f1_score = 0.5068027210884354\n",
            "0.63\n",
            "Macro f1_score = 0.1771188048344691\n",
            "Micro f1_score = 0.5\n",
            "0.64\n",
            "Macro f1_score = 0.17346565367247666\n",
            "Micro f1_score = 0.49569707401032703\n",
            "0.65\n",
            "Macro f1_score = 0.17003379419530829\n",
            "Micro f1_score = 0.4851657940663176\n",
            "0.66\n",
            "Macro f1_score = 0.15769192440300508\n",
            "Micro f1_score = 0.4672566371681416\n",
            "0.67\n",
            "Macro f1_score = 0.14748189054994856\n",
            "Micro f1_score = 0.4488330341113106\n",
            "0.68\n",
            "Macro f1_score = 0.14364671161856293\n",
            "Micro f1_score = 0.4384057971014492\n",
            "0.69\n",
            "Macro f1_score = 0.14288191174922024\n",
            "Micro f1_score = 0.43636363636363634\n",
            "0.7\n",
            "Macro f1_score = 0.13219622420058325\n",
            "Micro f1_score = 0.4177449168207024\n",
            "0.71\n",
            "Macro f1_score = 0.1264794060641606\n",
            "Micro f1_score = 0.4052532833020637\n",
            "0.72\n",
            "Macro f1_score = 0.12384609467508885\n",
            "Micro f1_score = 0.3992467043314501\n",
            "0.73\n",
            "Macro f1_score = 0.11914569396686035\n",
            "Micro f1_score = 0.39015151515151514\n",
            "0.74\n",
            "Macro f1_score = 0.10671765709315952\n",
            "Micro f1_score = 0.378585086042065\n",
            "0.75\n",
            "Macro f1_score = 0.0995214950462512\n",
            "Micro f1_score = 0.36750483558994196\n",
            "0.76\n",
            "Macro f1_score = 0.09450490365322554\n",
            "Micro f1_score = 0.35797665369649806\n",
            "0.77\n",
            "Macro f1_score = 0.09450490365322554\n",
            "Micro f1_score = 0.35797665369649806\n",
            "0.78\n",
            "Macro f1_score = 0.09450490365322554\n",
            "Micro f1_score = 0.35797665369649806\n",
            "0.79\n",
            "Macro f1_score = 0.0903111807095026\n",
            "Micro f1_score = 0.35156249999999994\n",
            "0.8\n",
            "Macro f1_score = 0.08551511594213225\n",
            "Micro f1_score = 0.34184675834970535\n",
            "0.81\n",
            "Macro f1_score = 0.08551511594213225\n",
            "Micro f1_score = 0.34184675834970535\n",
            "0.82\n",
            "Macro f1_score = 0.07937319440386924\n",
            "Micro f1_score = 0.33201581027667987\n",
            "0.83\n",
            "Macro f1_score = 0.07765361768429253\n",
            "Micro f1_score = 0.32871287128712867\n",
            "0.84\n",
            "Macro f1_score = 0.07589050737687841\n",
            "Micro f1_score = 0.32539682539682535\n",
            "0.85\n",
            "Macro f1_score = 0.07589050737687841\n",
            "Micro f1_score = 0.32539682539682535\n",
            "0.86\n",
            "Macro f1_score = 0.07589050737687841\n",
            "Micro f1_score = 0.32539682539682535\n",
            "0.87\n",
            "Macro f1_score = 0.07589050737687841\n",
            "Micro f1_score = 0.32539682539682535\n",
            "0.88\n",
            "Macro f1_score = 0.07589050737687841\n",
            "Micro f1_score = 0.32539682539682535\n",
            "0.89\n",
            "Macro f1_score = 0.07589050737687841\n",
            "Micro f1_score = 0.32539682539682535\n",
            "0.9\n",
            "Macro f1_score = 0.07408218911286395\n",
            "Micro f1_score = 0.3220675944333996\n",
            "0.91\n",
            "Macro f1_score = 0.07408218911286395\n",
            "Micro f1_score = 0.3220675944333996\n",
            "0.92\n",
            "Macro f1_score = 0.07408218911286395\n",
            "Micro f1_score = 0.3220675944333996\n",
            "0.93\n",
            "Macro f1_score = 0.07408218911286395\n",
            "Micro f1_score = 0.3220675944333996\n",
            "0.94\n",
            "Macro f1_score = 0.07271825396825396\n",
            "Micro f1_score = 0.31200000000000006\n",
            "0.95\n",
            "Macro f1_score = 0.07178018886879646\n",
            "Micro f1_score = 0.3058350100603622\n",
            "0.96\n",
            "Macro f1_score = 0.07178018886879646\n",
            "Micro f1_score = 0.3058350100603622\n",
            "0.97\n",
            "Macro f1_score = 0.07178018886879646\n",
            "Micro f1_score = 0.3058350100603622\n",
            "0.98\n",
            "Macro f1_score = 0.07032770097286227\n",
            "Micro f1_score = 0.29554655870445345\n",
            "0.99\n",
            "Macro f1_score = 0.065279091769158\n",
            "Micro f1_score = 0.2822085889570552\n"
          ]
        }
      ],
      "source": [
        "from sklearn.metrics import f1_score\n",
        "\n",
        "y_pred_final = list()\n",
        "y_pred_sub = list()\n",
        "\n",
        "for i in range(0,100,1):\n",
        "  print(i/100)\n",
        "  y_pred_final = tf.cast(y_pred >= (i/100), tf.int32)\n",
        "  print('Macro f1_score = {}'.format(f1_score(y_pred_final, y_dev, average='macro')))\n",
        "  print('Micro f1_score = {}'.format(f1_score(y_pred_final, y_dev, average='micro')))"
      ]
    },
    {
      "cell_type": "code",
      "source": [
        "from sklearn.metrics import f1_score\n",
        "\n",
        "y_pred_final = list()\n",
        "y_pred_sub = list()\n",
        "\n",
        "y_pred_final = tf.cast(y_pred >= 0.245, tf.int32)"
      ],
      "metadata": {
        "id": "EeN-980NPmKE"
      },
      "execution_count": null,
      "outputs": []
    },
    {
      "cell_type": "code",
      "execution_count": null,
      "metadata": {
        "colab": {
          "base_uri": "https://localhost:8080/"
        },
        "id": "LLa_5J-_CLM9",
        "outputId": "1ef5f014-9273-4acb-8d5a-b55edb0776d7"
      },
      "outputs": [
        {
          "output_type": "stream",
          "name": "stdout",
          "text": [
            "Macro f1_score = 0.43090712332829256\n",
            "Micro f1_score = 0.6673532440782698\n"
          ]
        }
      ],
      "source": [
        "from sklearn.metrics import f1_score\n",
        "print('Macro f1_score = {}'.format(f1_score(y_pred_final, y_dev, average='macro')))\n",
        "print('Micro f1_score = {}'.format(f1_score(y_pred_final, y_dev, average='micro')))"
      ]
    },
    {
      "cell_type": "code",
      "execution_count": null,
      "metadata": {
        "colab": {
          "base_uri": "https://localhost:8080/"
        },
        "id": "T3qllORHdN43",
        "outputId": "49978e61-49f0-40f3-8c8b-1ee8a01d870c"
      },
      "outputs": [
        {
          "output_type": "stream",
          "name": "stdout",
          "text": [
            "2/2 [==============================] - 0s 109ms/step\n"
          ]
        }
      ],
      "source": [
        "y_test_pred = model.predict(x_test)"
      ]
    },
    {
      "cell_type": "code",
      "execution_count": null,
      "metadata": {
        "colab": {
          "base_uri": "https://localhost:8080/"
        },
        "id": "v0lyrFGqdgp9",
        "outputId": "15207e89-4363-4f8e-c19f-9b3f0a3f71c9"
      },
      "outputs": [
        {
          "output_type": "execute_result",
          "data": {
            "text/plain": [
              "array([[3.78544927e-02, 4.32862871e-04, 1.92104205e-01, 5.67054230e-05,\n",
              "        5.46836033e-02, 5.92186349e-03, 8.48935485e-01, 6.55928180e-02,\n",
              "        1.59151211e-01, 3.04280955e-04, 8.07181075e-02, 2.33302108e-05,\n",
              "        8.16562057e-01, 3.43438059e-01],\n",
              "       [1.04765745e-03, 4.36005414e-01, 1.62145487e-04, 2.41903514e-01,\n",
              "        6.93706512e-01, 2.05634311e-01, 1.57296844e-03, 4.22028393e-01,\n",
              "        3.43572348e-01, 1.33375451e-01, 9.96014118e-01, 5.65001853e-02,\n",
              "        4.83288765e-02, 5.13999462e-01],\n",
              "       [1.70431986e-01, 5.19380808e-01, 8.62299502e-02, 3.45427543e-01,\n",
              "        5.01037478e-01, 3.45825583e-01, 1.82836384e-01, 5.61769903e-01,\n",
              "        4.47155386e-01, 4.47027713e-01, 7.22581267e-01, 3.41911465e-01,\n",
              "        3.12203288e-01, 5.00406563e-01],\n",
              "       [3.47395241e-02, 5.18322766e-01, 6.88113086e-03, 2.60332316e-01,\n",
              "        5.34751832e-01, 2.35445291e-01, 4.06732261e-02, 5.66639006e-01,\n",
              "        4.00513053e-01, 3.63725781e-01, 9.12174225e-01, 2.03001440e-01,\n",
              "        1.60028368e-01, 4.82757181e-01],\n",
              "       [3.47226090e-03, 4.96873617e-01, 2.97742634e-04, 2.22855136e-01,\n",
              "        6.24849379e-01, 1.56499833e-01, 4.62699635e-03, 5.09063065e-01,\n",
              "        3.34634781e-01, 2.29277700e-01, 9.88002896e-01, 8.76839980e-02,\n",
              "        5.79561777e-02, 4.76839811e-01],\n",
              "       [1.11322915e-02, 2.44925777e-05, 1.24371842e-01, 1.45368654e-06,\n",
              "        1.78835373e-02, 9.24598717e-04, 9.15781319e-01, 2.46825330e-02,\n",
              "        9.68173221e-02, 1.53329347e-05, 3.43632773e-02, 4.72585214e-07,\n",
              "        8.93992722e-01, 2.78119147e-01],\n",
              "       [8.37552943e-05, 3.95194650e-01, 8.93375636e-06, 1.90563783e-01,\n",
              "        7.63766229e-01, 1.61776245e-01, 1.51203334e-04, 3.63952726e-01,\n",
              "        3.14748645e-01, 6.57299086e-02, 9.99500275e-01, 2.10641883e-02,\n",
              "        1.87626109e-02, 5.23625553e-01],\n",
              "       [2.26043358e-01, 6.22514784e-01, 2.10149616e-01, 2.11025909e-01,\n",
              "        3.72896522e-01, 4.25826520e-01, 3.30145687e-01, 5.61988533e-01,\n",
              "        4.53361601e-01, 4.86467421e-01, 4.58693355e-01, 3.58484268e-01,\n",
              "        3.79699856e-01, 5.56952715e-01],\n",
              "       [3.12940118e-09, 4.71064746e-01, 5.49487864e-13, 1.62416436e-02,\n",
              "        8.41781259e-01, 3.75929591e-03, 9.33110833e-09, 4.54555541e-01,\n",
              "        1.09214298e-01, 1.49561735e-02, 9.99999881e-01, 3.26010922e-04,\n",
              "        6.45396212e-05, 3.61516416e-01],\n",
              "       [1.33349630e-03, 5.74634194e-01, 5.04007803e-05, 6.74731433e-02,\n",
              "        3.98622841e-01, 9.06420574e-02, 2.44177179e-03, 6.66465402e-01,\n",
              "        3.90565515e-01, 3.05151105e-01, 9.84167516e-01, 7.33490214e-02,\n",
              "        3.44506539e-02, 4.10093635e-01],\n",
              "       [9.89333168e-03, 5.05718648e-01, 1.25668559e-03, 2.48213693e-01,\n",
              "        5.94375610e-01, 1.90187305e-01, 1.24077480e-02, 5.27484953e-01,\n",
              "        3.60949188e-01, 2.80597121e-01, 9.70901668e-01, 1.29845917e-01,\n",
              "        9.27758962e-02, 4.81045216e-01],\n",
              "       [2.06383113e-02, 4.82904822e-01, 5.19766798e-03, 3.16018879e-01,\n",
              "        6.00004196e-01, 2.68919647e-01, 2.47767381e-02, 4.93754923e-01,\n",
              "        3.84209961e-01, 2.80313849e-01, 9.53808010e-01, 1.67206287e-01,\n",
              "        1.40689880e-01, 5.01353145e-01],\n",
              "       [6.99628145e-03, 3.16242605e-01, 1.29121974e-01, 5.05423115e-04,\n",
              "        4.62674685e-02, 1.40307471e-01, 4.53968942e-01, 4.16001678e-01,\n",
              "        5.58963537e-01, 5.00968508e-02, 1.84269994e-01, 1.02353673e-02,\n",
              "        4.60924417e-01, 3.99725080e-01],\n",
              "       [2.40486879e-02, 5.00057220e-01, 5.03199827e-03, 3.00515652e-01,\n",
              "        5.85625112e-01, 2.43810549e-01, 2.85531357e-02, 5.15998065e-01,\n",
              "        3.80508959e-01, 3.10743690e-01, 9.44789052e-01, 1.76135108e-01,\n",
              "        1.39318019e-01, 4.93989646e-01],\n",
              "       [2.98223866e-04, 6.96022093e-01, 7.02897660e-06, 1.70458760e-02,\n",
              "        2.01839894e-01, 5.80845959e-02, 9.29624948e-04, 7.17031181e-01,\n",
              "        4.42203820e-01, 2.97725111e-01, 9.85725045e-01, 5.11983596e-02,\n",
              "        1.64652094e-02, 3.75765830e-01],\n",
              "       [2.62365118e-03, 6.09514356e-01, 1.53502086e-04, 6.35557994e-02,\n",
              "        3.32969546e-01, 1.11628279e-01, 5.15701994e-03, 6.64273262e-01,\n",
              "        4.25341368e-01, 3.36703122e-01, 9.66566443e-01, 9.90369618e-02,\n",
              "        4.74260673e-02, 4.17137980e-01],\n",
              "       [3.29362880e-03, 4.79863346e-01, 3.55934200e-04, 2.41534665e-01,\n",
              "        6.37020409e-01, 1.78598359e-01, 4.43688780e-03, 4.86693978e-01,\n",
              "        3.40093255e-01, 2.08798498e-01, 9.89160001e-01, 8.61696303e-02,\n",
              "        6.13211021e-02, 4.84900266e-01],\n",
              "       [1.02833351e-02, 4.94553596e-01, 2.28087068e-01, 4.45256270e-02,\n",
              "        3.08754861e-01, 7.49801159e-01, 7.95722846e-03, 4.57160980e-01,\n",
              "        8.02425861e-01, 8.33701044e-02, 7.50767469e-01, 7.43603753e-03,\n",
              "        2.81221092e-01, 3.68989378e-01],\n",
              "       [5.17569948e-03, 5.30679166e-01, 7.23953247e-02, 5.41771471e-04,\n",
              "        4.32274975e-02, 1.93119884e-01, 3.74124885e-01, 4.53644753e-01,\n",
              "        5.86888075e-01, 8.72756764e-02, 2.06776306e-01, 1.56479832e-02,\n",
              "        3.53187054e-01, 4.24079895e-01],\n",
              "       [4.66967449e-02, 7.48359621e-01, 2.18616165e-02, 6.23150952e-02,\n",
              "        2.24007934e-01, 3.25364888e-01, 1.17388152e-01, 6.46051586e-01,\n",
              "        4.68965530e-01, 4.82099801e-01, 5.38382173e-01, 2.44743183e-01,\n",
              "        2.04355702e-01, 5.52858412e-01],\n",
              "       [4.06311810e-01, 1.15397936e-02, 3.21297586e-01, 1.07098417e-02,\n",
              "        2.96845466e-01, 5.64596690e-02, 6.56971991e-01, 1.79170236e-01,\n",
              "        2.49511242e-01, 1.07093873e-02, 2.16268882e-01, 1.59903732e-03,\n",
              "        6.13650918e-01, 4.99475420e-01],\n",
              "       [4.75390255e-03, 8.88098300e-01, 5.46461809e-03, 2.60800845e-03,\n",
              "        5.36663830e-02, 3.36131901e-01, 6.50891438e-02, 6.04814589e-01,\n",
              "        4.14092898e-01, 4.53261375e-01, 2.63638228e-01, 8.73452052e-02,\n",
              "        1.34685338e-01, 6.37270093e-01],\n",
              "       [3.30121256e-02, 7.23913014e-01, 1.01675130e-02, 7.16993511e-02,\n",
              "        2.50001580e-01, 2.66212404e-01, 7.32694566e-02, 6.63361371e-01,\n",
              "        4.86529887e-01, 4.47876513e-01, 6.90043688e-01, 2.30834395e-01,\n",
              "        1.64994538e-01, 5.04997730e-01],\n",
              "       [9.14543925e-05, 6.81331992e-01, 7.03721633e-03, 2.29666603e-06,\n",
              "        3.77007294e-03, 1.09893292e-01, 2.36033604e-01, 4.31744963e-01,\n",
              "        6.61167979e-01, 2.59740669e-02, 9.73350927e-02, 1.06571976e-03,\n",
              "        2.20722824e-01, 3.79853576e-01],\n",
              "       [5.63365072e-02, 1.37139171e-01, 3.22260708e-01, 6.74336730e-03,\n",
              "        1.46033838e-01, 1.28667474e-01, 5.68177044e-01, 3.82702172e-01,\n",
              "        4.31201249e-01, 5.38609810e-02, 2.50756502e-01, 2.01071929e-02,\n",
              "        5.98154187e-01, 4.14321810e-01],\n",
              "       [1.26916260e-04, 4.76368099e-01, 5.45793176e-02, 1.06118117e-02,\n",
              "        2.51094133e-01, 8.44627857e-01, 1.20749195e-04, 4.72814023e-01,\n",
              "        9.13843095e-01, 1.70802344e-02, 9.62847531e-01, 4.35030903e-04,\n",
              "        1.64679423e-01, 2.52960950e-01],\n",
              "       [1.12093966e-02, 4.45520163e-01, 4.41593723e-03, 3.29234183e-01,\n",
              "        6.42250299e-01, 3.15331399e-01, 1.43031152e-02, 4.43245441e-01,\n",
              "        3.97949189e-01, 2.14457363e-01, 9.72331345e-01, 1.37072384e-01,\n",
              "        1.35419667e-01, 5.27914643e-01],\n",
              "       [1.51619120e-02, 2.28472110e-02, 2.54494905e-01, 3.46723682e-04,\n",
              "        5.65825552e-02, 3.50228585e-02, 6.69802845e-01, 2.46557176e-01,\n",
              "        3.51408571e-01, 6.15720125e-03, 1.37802452e-01, 1.19461177e-03,\n",
              "        7.24324822e-01, 3.30802530e-01],\n",
              "       [1.30487795e-04, 5.85045815e-01, 1.52203165e-06, 3.25732715e-02,\n",
              "        3.91022831e-01, 4.42469381e-02, 2.85424583e-04, 7.00365961e-01,\n",
              "        3.49797159e-01, 2.40761817e-01, 9.96831357e-01, 3.07457168e-02,\n",
              "        1.10097276e-02, 3.76119018e-01],\n",
              "       [2.65597436e-03, 4.87633437e-01, 1.54802963e-01, 2.71747075e-02,\n",
              "        2.86776990e-01, 7.87745178e-01, 2.13927170e-03, 4.58357424e-01,\n",
              "        8.47913027e-01, 5.02399057e-02, 8.48711729e-01, 2.92685698e-03,\n",
              "        2.40690172e-01, 3.31504136e-01],\n",
              "       [1.29445661e-02, 8.17245781e-01, 2.08462719e-02, 6.59678318e-03,\n",
              "        8.98623839e-02, 3.54725301e-01, 1.31214455e-01, 5.68001807e-01,\n",
              "        4.40324038e-01, 3.99596095e-01, 2.98095733e-01, 1.06917873e-01,\n",
              "        2.03556582e-01, 6.00749969e-01],\n",
              "       [6.25026226e-03, 4.57854658e-01, 1.48091628e-03, 2.91695327e-01,\n",
              "        6.44456625e-01, 2.56918609e-01, 8.26246571e-03, 4.54819351e-01,\n",
              "        3.71550947e-01, 2.04208001e-01, 9.82795775e-01, 1.10286951e-01,\n",
              "        9.69199613e-02, 5.13419569e-01],\n",
              "       [2.22149845e-02, 7.97487795e-01, 8.64256360e-03, 3.16704325e-02,\n",
              "        1.66888654e-01, 2.93896288e-01, 7.60962069e-02, 6.71020389e-01,\n",
              "        4.68158811e-01, 4.80479270e-01, 5.41582286e-01, 1.98119506e-01,\n",
              "        1.55381963e-01, 5.60475230e-01],\n",
              "       [2.37635400e-09, 3.19154292e-01, 8.69091951e-12, 3.92177925e-02,\n",
              "        9.08187747e-01, 2.13005580e-02, 8.61982929e-09, 2.49691576e-01,\n",
              "        1.61656111e-01, 4.67168773e-03, 9.99999881e-01, 2.94891041e-04,\n",
              "        1.71584295e-04, 4.89606827e-01],\n",
              "       [4.10845950e-02, 5.07431746e-01, 1.03187645e-02, 3.08939248e-01,\n",
              "        5.65066576e-01, 2.62753874e-01, 4.72112074e-02, 5.32396257e-01,\n",
              "        3.96262169e-01, 3.46969217e-01, 9.11989689e-01, 2.12732419e-01,\n",
              "        1.73854932e-01, 4.93699849e-01],\n",
              "       [1.38725519e-01, 4.14901273e-03, 2.50909001e-01, 1.02443373e-05,\n",
              "        1.10669406e-02, 3.73479575e-01, 2.09023739e-04, 2.83091605e-01,\n",
              "        7.98869371e-01, 1.93474785e-04, 2.16660812e-03, 2.09154449e-09,\n",
              "        1.92439467e-01, 5.02928317e-01],\n",
              "       [2.06919730e-01, 6.26090348e-01, 2.12091491e-01, 1.80746019e-01,\n",
              "        3.55991334e-01, 4.24400300e-01, 3.34567130e-01, 5.54004014e-01,\n",
              "        4.51811165e-01, 4.72798675e-01, 4.42381322e-01, 3.39435220e-01,\n",
              "        3.77783060e-01, 5.60921073e-01],\n",
              "       [2.18121428e-03, 4.27792370e-01, 5.61866676e-04, 2.77927935e-01,\n",
              "        6.87215865e-01, 2.57544428e-01, 3.13503412e-03, 4.14835066e-01,\n",
              "        3.70080590e-01, 1.47204950e-01, 9.92712140e-01, 7.52346143e-02,\n",
              "        7.22303912e-02, 5.27321398e-01],\n",
              "       [5.15318010e-04, 4.70817924e-01, 2.72329453e-05, 1.84604436e-01,\n",
              "        6.77098513e-01, 1.21252462e-01, 7.81090639e-04, 4.71003920e-01,\n",
              "        3.02758694e-01, 1.45408660e-01, 9.97587442e-01, 4.21613157e-02,\n",
              "        2.64283642e-02, 4.73329455e-01],\n",
              "       [7.61367660e-03, 4.82606828e-01, 1.17401069e-03, 2.72486150e-01,\n",
              "        6.19243443e-01, 2.13599533e-01, 9.73078236e-03, 4.91768450e-01,\n",
              "        3.58771831e-01, 2.41624236e-01, 9.78816032e-01, 1.17430009e-01,\n",
              "        8.94926116e-02, 4.91215229e-01],\n",
              "       [9.23682097e-03, 7.97689974e-01, 1.86978048e-03, 2.66825072e-02,\n",
              "        1.64143056e-01, 2.09541693e-01, 3.11881937e-02, 7.08425164e-01,\n",
              "        4.92332071e-01, 4.34005648e-01, 7.34960914e-01, 1.62250221e-01,\n",
              "        9.71385464e-02, 5.04415154e-01],\n",
              "       [1.25471386e-03, 5.01486003e-01, 6.26215187e-05, 1.78291351e-01,\n",
              "        6.36181593e-01, 1.16114639e-01, 1.77508639e-03, 5.17895758e-01,\n",
              "        3.12864989e-01, 1.99759617e-01, 9.94389474e-01, 5.99618964e-02,\n",
              "        3.52967940e-02, 4.63820159e-01],\n",
              "       [6.28119782e-02, 5.07478952e-01, 1.97769720e-02, 3.31213862e-01,\n",
              "        5.57155013e-01, 2.89539397e-01, 7.02484101e-02, 5.32151699e-01,\n",
              "        4.07153100e-01, 3.67479146e-01, 8.79318535e-01, 2.44855255e-01,\n",
              "        2.08442822e-01, 4.98082757e-01],\n",
              "       [5.61430976e-02, 4.31818217e-01, 9.25928876e-02, 3.69118631e-01,\n",
              "        5.60907423e-01, 4.74340439e-01, 5.99889271e-02, 4.71703112e-01,\n",
              "        4.95295852e-01, 2.70186424e-01, 8.65604162e-01, 1.96109802e-01,\n",
              "        3.15058261e-01, 4.64160532e-01],\n",
              "       [3.55108939e-02, 2.98769120e-03, 2.36019373e-01, 2.51081889e-04,\n",
              "        7.47779161e-02, 1.63461380e-02, 7.78389454e-01, 1.29389137e-01,\n",
              "        2.30656147e-01, 1.70422753e-03, 1.17671706e-01, 2.42667651e-04,\n",
              "        7.75435150e-01, 3.32737535e-01],\n",
              "       [1.29340412e-02, 3.93570691e-01, 2.70901769e-02, 3.24494332e-01,\n",
              "        5.95061779e-01, 4.67258722e-01, 1.54607128e-02, 4.41235006e-01,\n",
              "        5.07493675e-01, 1.83173582e-01, 9.50405538e-01, 1.08487830e-01,\n",
              "        2.30655640e-01, 4.41383392e-01],\n",
              "       [3.88019462e-03, 8.91194046e-01, 1.29201985e-03, 5.03680669e-03,\n",
              "        6.94936514e-02, 2.46648729e-01, 3.14870700e-02, 7.07626462e-01,\n",
              "        4.51313823e-01, 4.94906217e-01, 4.66480196e-01, 1.10778205e-01,\n",
              "        8.58043134e-02, 5.96636593e-01],\n",
              "       [1.86367482e-02, 1.57378372e-06, 1.01139672e-01, 2.16379590e-07,\n",
              "        1.46200992e-02, 2.37629632e-04, 9.43886936e-01, 8.31753202e-03,\n",
              "        5.33237904e-02, 1.21847017e-06, 2.04776637e-02, 1.24861170e-08,\n",
              "        9.09586012e-01, 3.23615581e-01],\n",
              "       [5.07262257e-06, 4.86627579e-01, 2.30184583e-08, 6.85496628e-02,\n",
              "        7.39733338e-01, 2.83644944e-02, 9.88564534e-06, 4.86833245e-01,\n",
              "        2.05704197e-01, 6.94525018e-02, 9.99934316e-01, 6.62412588e-03,\n",
              "        2.43428117e-03, 4.20526177e-01],\n",
              "       [3.33968014e-03, 4.56874371e-01, 5.97517646e-04, 2.65863150e-01,\n",
              "        6.56085491e-01, 2.25043356e-01, 4.59372392e-03, 4.51737106e-01,\n",
              "        3.56667429e-01, 1.82716504e-01, 9.89643455e-01, 8.71925354e-02,\n",
              "        7.27885738e-02, 5.08063138e-01],\n",
              "       [2.36765780e-02, 4.36874807e-01, 1.48719046e-02, 3.66109222e-01,\n",
              "        6.23708546e-01, 3.75986367e-01, 2.83054058e-02, 4.46871817e-01,\n",
              "        4.31245357e-01, 2.40837917e-01, 9.47991192e-01, 1.73434347e-01,\n",
              "        1.90263763e-01, 5.26490450e-01],\n",
              "       [4.50640917e-03, 4.93641794e-01, 4.60169045e-04, 2.38452926e-01,\n",
              "        6.23175979e-01, 1.72038093e-01, 5.92189189e-03, 5.04042089e-01,\n",
              "        3.41724753e-01, 2.35114083e-01, 9.85472262e-01, 9.66997147e-02,\n",
              "        6.65301308e-02, 4.80986357e-01],\n",
              "       [2.43401737e-04, 4.80097055e-01, 7.55835390e-06, 1.54073343e-01,\n",
              "        6.84500158e-01, 8.99125859e-02, 3.79069505e-04, 4.81501639e-01,\n",
              "        2.81280965e-01, 1.35941803e-01, 9.98633921e-01, 3.14720869e-02,\n",
              "        1.71519089e-02, 4.58929837e-01],\n",
              "       [8.14409088e-03, 4.53065127e-01, 2.40819342e-03, 3.09505552e-01,\n",
              "        6.44391775e-01, 2.82529265e-01, 1.06364721e-02, 4.49504197e-01,\n",
              "        3.82120669e-01, 2.08449736e-01, 9.78766322e-01, 1.22016199e-01,\n",
              "        1.12983935e-01, 5.19922316e-01]], dtype=float32)"
            ]
          },
          "metadata": {},
          "execution_count": 83
        }
      ],
      "source": [
        "y_test_pred"
      ]
    },
    {
      "cell_type": "code",
      "execution_count": null,
      "metadata": {
        "id": "Kmi4Cupddkqa"
      },
      "outputs": [],
      "source": [
        "y_test_final = list()\n",
        "\n",
        "y_test_final = tf.cast(y_test_pred >= 0.245, tf.int32)"
      ]
    },
    {
      "cell_type": "code",
      "execution_count": null,
      "metadata": {
        "id": "-YAp0xZ0elH5"
      },
      "outputs": [],
      "source": [
        "px = pd.DataFrame(y_test_final.numpy())"
      ]
    },
    {
      "cell_type": "code",
      "source": [
        "px"
      ],
      "metadata": {
        "colab": {
          "base_uri": "https://localhost:8080/",
          "height": 1000
        },
        "id": "PRbYTtA-jG3T",
        "outputId": "cabf8891-46f1-4c72-8452-b474ebf37397"
      },
      "execution_count": null,
      "outputs": [
        {
          "output_type": "execute_result",
          "data": {
            "text/plain": [
              "    0   1   2   3   4   5   6   7   8   9   10  11  12  13\n",
              "0    0   0   0   0   0   0   1   0   0   0   0   0   1   1\n",
              "1    0   1   0   0   1   0   0   1   1   0   1   0   0   1\n",
              "2    0   1   0   1   1   1   0   1   1   1   1   1   1   1\n",
              "3    0   1   0   1   1   0   0   1   1   1   1   0   0   1\n",
              "4    0   1   0   0   1   0   0   1   1   0   1   0   0   1\n",
              "5    0   0   0   0   0   0   1   0   0   0   0   0   1   1\n",
              "6    0   1   0   0   1   0   0   1   1   0   1   0   0   1\n",
              "7    0   1   0   0   1   1   1   1   1   1   1   1   1   1\n",
              "8    0   1   0   0   1   0   0   1   0   0   1   0   0   1\n",
              "9    0   1   0   0   1   0   0   1   1   1   1   0   0   1\n",
              "10   0   1   0   1   1   0   0   1   1   1   1   0   0   1\n",
              "11   0   1   0   1   1   1   0   1   1   1   1   0   0   1\n",
              "12   0   1   0   0   0   0   1   1   1   0   0   0   1   1\n",
              "13   0   1   0   1   1   0   0   1   1   1   1   0   0   1\n",
              "14   0   1   0   0   0   0   0   1   1   1   1   0   0   1\n",
              "15   0   1   0   0   1   0   0   1   1   1   1   0   0   1\n",
              "16   0   1   0   0   1   0   0   1   1   0   1   0   0   1\n",
              "17   0   1   0   0   1   1   0   1   1   0   1   0   1   1\n",
              "18   0   1   0   0   0   0   1   1   1   0   0   0   1   1\n",
              "19   0   1   0   0   0   1   0   1   1   1   1   0   0   1\n",
              "20   1   0   1   0   1   0   1   0   1   0   0   0   1   1\n",
              "21   0   1   0   0   0   1   0   1   1   1   1   0   0   1\n",
              "22   0   1   0   0   1   1   0   1   1   1   1   0   0   1\n",
              "23   0   1   0   0   0   0   0   1   1   0   0   0   0   1\n",
              "24   0   0   1   0   0   0   1   1   1   0   1   0   1   1\n",
              "25   0   1   0   0   1   1   0   1   1   0   1   0   0   1\n",
              "26   0   1   0   1   1   1   0   1   1   0   1   0   0   1\n",
              "27   0   0   1   0   0   0   1   1   1   0   0   0   1   1\n",
              "28   0   1   0   0   1   0   0   1   1   0   1   0   0   1\n",
              "29   0   1   0   0   1   1   0   1   1   0   1   0   0   1\n",
              "30   0   1   0   0   0   1   0   1   1   1   1   0   0   1\n",
              "31   0   1   0   1   1   1   0   1   1   0   1   0   0   1\n",
              "32   0   1   0   0   0   1   0   1   1   1   1   0   0   1\n",
              "33   0   1   0   0   1   0   0   1   0   0   1   0   0   1\n",
              "34   0   1   0   1   1   1   0   1   1   1   1   0   0   1\n",
              "35   0   0   1   0   0   1   0   1   1   0   0   0   0   1\n",
              "36   0   1   0   0   1   1   1   1   1   1   1   1   1   1\n",
              "37   0   1   0   1   1   1   0   1   1   0   1   0   0   1\n",
              "38   0   1   0   0   1   0   0   1   1   0   1   0   0   1\n",
              "39   0   1   0   1   1   0   0   1   1   0   1   0   0   1\n",
              "40   0   1   0   0   0   0   0   1   1   1   1   0   0   1\n",
              "41   0   1   0   0   1   0   0   1   1   0   1   0   0   1\n",
              "42   0   1   0   1   1   1   0   1   1   1   1   0   0   1\n",
              "43   0   1   0   1   1   1   0   1   1   1   1   0   1   1\n",
              "44   0   0   0   0   0   0   1   0   0   0   0   0   1   1\n",
              "45   0   1   0   1   1   1   0   1   1   0   1   0   0   1\n",
              "46   0   1   0   0   0   1   0   1   1   1   1   0   0   1\n",
              "47   0   0   0   0   0   0   1   0   0   0   0   0   1   1\n",
              "48   0   1   0   0   1   0   0   1   0   0   1   0   0   1\n",
              "49   0   1   0   1   1   0   0   1   1   0   1   0   0   1\n",
              "50   0   1   0   1   1   1   0   1   1   0   1   0   0   1\n",
              "51   0   1   0   0   1   0   0   1   1   0   1   0   0   1\n",
              "52   0   1   0   0   1   0   0   1   1   0   1   0   0   1\n",
              "53   0   1   0   1   1   1   0   1   1   0   1   0   0   1"
            ],
            "text/html": [
              "\n",
              "  <div id=\"df-fd2c2910-9546-4675-87f3-87784c2661f5\">\n",
              "    <div class=\"colab-df-container\">\n",
              "      <div>\n",
              "<style scoped>\n",
              "    .dataframe tbody tr th:only-of-type {\n",
              "        vertical-align: middle;\n",
              "    }\n",
              "\n",
              "    .dataframe tbody tr th {\n",
              "        vertical-align: top;\n",
              "    }\n",
              "\n",
              "    .dataframe thead th {\n",
              "        text-align: right;\n",
              "    }\n",
              "</style>\n",
              "<table border=\"1\" class=\"dataframe\">\n",
              "  <thead>\n",
              "    <tr style=\"text-align: right;\">\n",
              "      <th></th>\n",
              "      <th>0</th>\n",
              "      <th>1</th>\n",
              "      <th>2</th>\n",
              "      <th>3</th>\n",
              "      <th>4</th>\n",
              "      <th>5</th>\n",
              "      <th>6</th>\n",
              "      <th>7</th>\n",
              "      <th>8</th>\n",
              "      <th>9</th>\n",
              "      <th>10</th>\n",
              "      <th>11</th>\n",
              "      <th>12</th>\n",
              "      <th>13</th>\n",
              "    </tr>\n",
              "  </thead>\n",
              "  <tbody>\n",
              "    <tr>\n",
              "      <th>0</th>\n",
              "      <td>0</td>\n",
              "      <td>0</td>\n",
              "      <td>0</td>\n",
              "      <td>0</td>\n",
              "      <td>0</td>\n",
              "      <td>0</td>\n",
              "      <td>1</td>\n",
              "      <td>0</td>\n",
              "      <td>0</td>\n",
              "      <td>0</td>\n",
              "      <td>0</td>\n",
              "      <td>0</td>\n",
              "      <td>1</td>\n",
              "      <td>1</td>\n",
              "    </tr>\n",
              "    <tr>\n",
              "      <th>1</th>\n",
              "      <td>0</td>\n",
              "      <td>1</td>\n",
              "      <td>0</td>\n",
              "      <td>0</td>\n",
              "      <td>1</td>\n",
              "      <td>0</td>\n",
              "      <td>0</td>\n",
              "      <td>1</td>\n",
              "      <td>1</td>\n",
              "      <td>0</td>\n",
              "      <td>1</td>\n",
              "      <td>0</td>\n",
              "      <td>0</td>\n",
              "      <td>1</td>\n",
              "    </tr>\n",
              "    <tr>\n",
              "      <th>2</th>\n",
              "      <td>0</td>\n",
              "      <td>1</td>\n",
              "      <td>0</td>\n",
              "      <td>1</td>\n",
              "      <td>1</td>\n",
              "      <td>1</td>\n",
              "      <td>0</td>\n",
              "      <td>1</td>\n",
              "      <td>1</td>\n",
              "      <td>1</td>\n",
              "      <td>1</td>\n",
              "      <td>1</td>\n",
              "      <td>1</td>\n",
              "      <td>1</td>\n",
              "    </tr>\n",
              "    <tr>\n",
              "      <th>3</th>\n",
              "      <td>0</td>\n",
              "      <td>1</td>\n",
              "      <td>0</td>\n",
              "      <td>1</td>\n",
              "      <td>1</td>\n",
              "      <td>0</td>\n",
              "      <td>0</td>\n",
              "      <td>1</td>\n",
              "      <td>1</td>\n",
              "      <td>1</td>\n",
              "      <td>1</td>\n",
              "      <td>0</td>\n",
              "      <td>0</td>\n",
              "      <td>1</td>\n",
              "    </tr>\n",
              "    <tr>\n",
              "      <th>4</th>\n",
              "      <td>0</td>\n",
              "      <td>1</td>\n",
              "      <td>0</td>\n",
              "      <td>0</td>\n",
              "      <td>1</td>\n",
              "      <td>0</td>\n",
              "      <td>0</td>\n",
              "      <td>1</td>\n",
              "      <td>1</td>\n",
              "      <td>0</td>\n",
              "      <td>1</td>\n",
              "      <td>0</td>\n",
              "      <td>0</td>\n",
              "      <td>1</td>\n",
              "    </tr>\n",
              "    <tr>\n",
              "      <th>5</th>\n",
              "      <td>0</td>\n",
              "      <td>0</td>\n",
              "      <td>0</td>\n",
              "      <td>0</td>\n",
              "      <td>0</td>\n",
              "      <td>0</td>\n",
              "      <td>1</td>\n",
              "      <td>0</td>\n",
              "      <td>0</td>\n",
              "      <td>0</td>\n",
              "      <td>0</td>\n",
              "      <td>0</td>\n",
              "      <td>1</td>\n",
              "      <td>1</td>\n",
              "    </tr>\n",
              "    <tr>\n",
              "      <th>6</th>\n",
              "      <td>0</td>\n",
              "      <td>1</td>\n",
              "      <td>0</td>\n",
              "      <td>0</td>\n",
              "      <td>1</td>\n",
              "      <td>0</td>\n",
              "      <td>0</td>\n",
              "      <td>1</td>\n",
              "      <td>1</td>\n",
              "      <td>0</td>\n",
              "      <td>1</td>\n",
              "      <td>0</td>\n",
              "      <td>0</td>\n",
              "      <td>1</td>\n",
              "    </tr>\n",
              "    <tr>\n",
              "      <th>7</th>\n",
              "      <td>0</td>\n",
              "      <td>1</td>\n",
              "      <td>0</td>\n",
              "      <td>0</td>\n",
              "      <td>1</td>\n",
              "      <td>1</td>\n",
              "      <td>1</td>\n",
              "      <td>1</td>\n",
              "      <td>1</td>\n",
              "      <td>1</td>\n",
              "      <td>1</td>\n",
              "      <td>1</td>\n",
              "      <td>1</td>\n",
              "      <td>1</td>\n",
              "    </tr>\n",
              "    <tr>\n",
              "      <th>8</th>\n",
              "      <td>0</td>\n",
              "      <td>1</td>\n",
              "      <td>0</td>\n",
              "      <td>0</td>\n",
              "      <td>1</td>\n",
              "      <td>0</td>\n",
              "      <td>0</td>\n",
              "      <td>1</td>\n",
              "      <td>0</td>\n",
              "      <td>0</td>\n",
              "      <td>1</td>\n",
              "      <td>0</td>\n",
              "      <td>0</td>\n",
              "      <td>1</td>\n",
              "    </tr>\n",
              "    <tr>\n",
              "      <th>9</th>\n",
              "      <td>0</td>\n",
              "      <td>1</td>\n",
              "      <td>0</td>\n",
              "      <td>0</td>\n",
              "      <td>1</td>\n",
              "      <td>0</td>\n",
              "      <td>0</td>\n",
              "      <td>1</td>\n",
              "      <td>1</td>\n",
              "      <td>1</td>\n",
              "      <td>1</td>\n",
              "      <td>0</td>\n",
              "      <td>0</td>\n",
              "      <td>1</td>\n",
              "    </tr>\n",
              "    <tr>\n",
              "      <th>10</th>\n",
              "      <td>0</td>\n",
              "      <td>1</td>\n",
              "      <td>0</td>\n",
              "      <td>1</td>\n",
              "      <td>1</td>\n",
              "      <td>0</td>\n",
              "      <td>0</td>\n",
              "      <td>1</td>\n",
              "      <td>1</td>\n",
              "      <td>1</td>\n",
              "      <td>1</td>\n",
              "      <td>0</td>\n",
              "      <td>0</td>\n",
              "      <td>1</td>\n",
              "    </tr>\n",
              "    <tr>\n",
              "      <th>11</th>\n",
              "      <td>0</td>\n",
              "      <td>1</td>\n",
              "      <td>0</td>\n",
              "      <td>1</td>\n",
              "      <td>1</td>\n",
              "      <td>1</td>\n",
              "      <td>0</td>\n",
              "      <td>1</td>\n",
              "      <td>1</td>\n",
              "      <td>1</td>\n",
              "      <td>1</td>\n",
              "      <td>0</td>\n",
              "      <td>0</td>\n",
              "      <td>1</td>\n",
              "    </tr>\n",
              "    <tr>\n",
              "      <th>12</th>\n",
              "      <td>0</td>\n",
              "      <td>1</td>\n",
              "      <td>0</td>\n",
              "      <td>0</td>\n",
              "      <td>0</td>\n",
              "      <td>0</td>\n",
              "      <td>1</td>\n",
              "      <td>1</td>\n",
              "      <td>1</td>\n",
              "      <td>0</td>\n",
              "      <td>0</td>\n",
              "      <td>0</td>\n",
              "      <td>1</td>\n",
              "      <td>1</td>\n",
              "    </tr>\n",
              "    <tr>\n",
              "      <th>13</th>\n",
              "      <td>0</td>\n",
              "      <td>1</td>\n",
              "      <td>0</td>\n",
              "      <td>1</td>\n",
              "      <td>1</td>\n",
              "      <td>0</td>\n",
              "      <td>0</td>\n",
              "      <td>1</td>\n",
              "      <td>1</td>\n",
              "      <td>1</td>\n",
              "      <td>1</td>\n",
              "      <td>0</td>\n",
              "      <td>0</td>\n",
              "      <td>1</td>\n",
              "    </tr>\n",
              "    <tr>\n",
              "      <th>14</th>\n",
              "      <td>0</td>\n",
              "      <td>1</td>\n",
              "      <td>0</td>\n",
              "      <td>0</td>\n",
              "      <td>0</td>\n",
              "      <td>0</td>\n",
              "      <td>0</td>\n",
              "      <td>1</td>\n",
              "      <td>1</td>\n",
              "      <td>1</td>\n",
              "      <td>1</td>\n",
              "      <td>0</td>\n",
              "      <td>0</td>\n",
              "      <td>1</td>\n",
              "    </tr>\n",
              "    <tr>\n",
              "      <th>15</th>\n",
              "      <td>0</td>\n",
              "      <td>1</td>\n",
              "      <td>0</td>\n",
              "      <td>0</td>\n",
              "      <td>1</td>\n",
              "      <td>0</td>\n",
              "      <td>0</td>\n",
              "      <td>1</td>\n",
              "      <td>1</td>\n",
              "      <td>1</td>\n",
              "      <td>1</td>\n",
              "      <td>0</td>\n",
              "      <td>0</td>\n",
              "      <td>1</td>\n",
              "    </tr>\n",
              "    <tr>\n",
              "      <th>16</th>\n",
              "      <td>0</td>\n",
              "      <td>1</td>\n",
              "      <td>0</td>\n",
              "      <td>0</td>\n",
              "      <td>1</td>\n",
              "      <td>0</td>\n",
              "      <td>0</td>\n",
              "      <td>1</td>\n",
              "      <td>1</td>\n",
              "      <td>0</td>\n",
              "      <td>1</td>\n",
              "      <td>0</td>\n",
              "      <td>0</td>\n",
              "      <td>1</td>\n",
              "    </tr>\n",
              "    <tr>\n",
              "      <th>17</th>\n",
              "      <td>0</td>\n",
              "      <td>1</td>\n",
              "      <td>0</td>\n",
              "      <td>0</td>\n",
              "      <td>1</td>\n",
              "      <td>1</td>\n",
              "      <td>0</td>\n",
              "      <td>1</td>\n",
              "      <td>1</td>\n",
              "      <td>0</td>\n",
              "      <td>1</td>\n",
              "      <td>0</td>\n",
              "      <td>1</td>\n",
              "      <td>1</td>\n",
              "    </tr>\n",
              "    <tr>\n",
              "      <th>18</th>\n",
              "      <td>0</td>\n",
              "      <td>1</td>\n",
              "      <td>0</td>\n",
              "      <td>0</td>\n",
              "      <td>0</td>\n",
              "      <td>0</td>\n",
              "      <td>1</td>\n",
              "      <td>1</td>\n",
              "      <td>1</td>\n",
              "      <td>0</td>\n",
              "      <td>0</td>\n",
              "      <td>0</td>\n",
              "      <td>1</td>\n",
              "      <td>1</td>\n",
              "    </tr>\n",
              "    <tr>\n",
              "      <th>19</th>\n",
              "      <td>0</td>\n",
              "      <td>1</td>\n",
              "      <td>0</td>\n",
              "      <td>0</td>\n",
              "      <td>0</td>\n",
              "      <td>1</td>\n",
              "      <td>0</td>\n",
              "      <td>1</td>\n",
              "      <td>1</td>\n",
              "      <td>1</td>\n",
              "      <td>1</td>\n",
              "      <td>0</td>\n",
              "      <td>0</td>\n",
              "      <td>1</td>\n",
              "    </tr>\n",
              "    <tr>\n",
              "      <th>20</th>\n",
              "      <td>1</td>\n",
              "      <td>0</td>\n",
              "      <td>1</td>\n",
              "      <td>0</td>\n",
              "      <td>1</td>\n",
              "      <td>0</td>\n",
              "      <td>1</td>\n",
              "      <td>0</td>\n",
              "      <td>1</td>\n",
              "      <td>0</td>\n",
              "      <td>0</td>\n",
              "      <td>0</td>\n",
              "      <td>1</td>\n",
              "      <td>1</td>\n",
              "    </tr>\n",
              "    <tr>\n",
              "      <th>21</th>\n",
              "      <td>0</td>\n",
              "      <td>1</td>\n",
              "      <td>0</td>\n",
              "      <td>0</td>\n",
              "      <td>0</td>\n",
              "      <td>1</td>\n",
              "      <td>0</td>\n",
              "      <td>1</td>\n",
              "      <td>1</td>\n",
              "      <td>1</td>\n",
              "      <td>1</td>\n",
              "      <td>0</td>\n",
              "      <td>0</td>\n",
              "      <td>1</td>\n",
              "    </tr>\n",
              "    <tr>\n",
              "      <th>22</th>\n",
              "      <td>0</td>\n",
              "      <td>1</td>\n",
              "      <td>0</td>\n",
              "      <td>0</td>\n",
              "      <td>1</td>\n",
              "      <td>1</td>\n",
              "      <td>0</td>\n",
              "      <td>1</td>\n",
              "      <td>1</td>\n",
              "      <td>1</td>\n",
              "      <td>1</td>\n",
              "      <td>0</td>\n",
              "      <td>0</td>\n",
              "      <td>1</td>\n",
              "    </tr>\n",
              "    <tr>\n",
              "      <th>23</th>\n",
              "      <td>0</td>\n",
              "      <td>1</td>\n",
              "      <td>0</td>\n",
              "      <td>0</td>\n",
              "      <td>0</td>\n",
              "      <td>0</td>\n",
              "      <td>0</td>\n",
              "      <td>1</td>\n",
              "      <td>1</td>\n",
              "      <td>0</td>\n",
              "      <td>0</td>\n",
              "      <td>0</td>\n",
              "      <td>0</td>\n",
              "      <td>1</td>\n",
              "    </tr>\n",
              "    <tr>\n",
              "      <th>24</th>\n",
              "      <td>0</td>\n",
              "      <td>0</td>\n",
              "      <td>1</td>\n",
              "      <td>0</td>\n",
              "      <td>0</td>\n",
              "      <td>0</td>\n",
              "      <td>1</td>\n",
              "      <td>1</td>\n",
              "      <td>1</td>\n",
              "      <td>0</td>\n",
              "      <td>1</td>\n",
              "      <td>0</td>\n",
              "      <td>1</td>\n",
              "      <td>1</td>\n",
              "    </tr>\n",
              "    <tr>\n",
              "      <th>25</th>\n",
              "      <td>0</td>\n",
              "      <td>1</td>\n",
              "      <td>0</td>\n",
              "      <td>0</td>\n",
              "      <td>1</td>\n",
              "      <td>1</td>\n",
              "      <td>0</td>\n",
              "      <td>1</td>\n",
              "      <td>1</td>\n",
              "      <td>0</td>\n",
              "      <td>1</td>\n",
              "      <td>0</td>\n",
              "      <td>0</td>\n",
              "      <td>1</td>\n",
              "    </tr>\n",
              "    <tr>\n",
              "      <th>26</th>\n",
              "      <td>0</td>\n",
              "      <td>1</td>\n",
              "      <td>0</td>\n",
              "      <td>1</td>\n",
              "      <td>1</td>\n",
              "      <td>1</td>\n",
              "      <td>0</td>\n",
              "      <td>1</td>\n",
              "      <td>1</td>\n",
              "      <td>0</td>\n",
              "      <td>1</td>\n",
              "      <td>0</td>\n",
              "      <td>0</td>\n",
              "      <td>1</td>\n",
              "    </tr>\n",
              "    <tr>\n",
              "      <th>27</th>\n",
              "      <td>0</td>\n",
              "      <td>0</td>\n",
              "      <td>1</td>\n",
              "      <td>0</td>\n",
              "      <td>0</td>\n",
              "      <td>0</td>\n",
              "      <td>1</td>\n",
              "      <td>1</td>\n",
              "      <td>1</td>\n",
              "      <td>0</td>\n",
              "      <td>0</td>\n",
              "      <td>0</td>\n",
              "      <td>1</td>\n",
              "      <td>1</td>\n",
              "    </tr>\n",
              "    <tr>\n",
              "      <th>28</th>\n",
              "      <td>0</td>\n",
              "      <td>1</td>\n",
              "      <td>0</td>\n",
              "      <td>0</td>\n",
              "      <td>1</td>\n",
              "      <td>0</td>\n",
              "      <td>0</td>\n",
              "      <td>1</td>\n",
              "      <td>1</td>\n",
              "      <td>0</td>\n",
              "      <td>1</td>\n",
              "      <td>0</td>\n",
              "      <td>0</td>\n",
              "      <td>1</td>\n",
              "    </tr>\n",
              "    <tr>\n",
              "      <th>29</th>\n",
              "      <td>0</td>\n",
              "      <td>1</td>\n",
              "      <td>0</td>\n",
              "      <td>0</td>\n",
              "      <td>1</td>\n",
              "      <td>1</td>\n",
              "      <td>0</td>\n",
              "      <td>1</td>\n",
              "      <td>1</td>\n",
              "      <td>0</td>\n",
              "      <td>1</td>\n",
              "      <td>0</td>\n",
              "      <td>0</td>\n",
              "      <td>1</td>\n",
              "    </tr>\n",
              "    <tr>\n",
              "      <th>30</th>\n",
              "      <td>0</td>\n",
              "      <td>1</td>\n",
              "      <td>0</td>\n",
              "      <td>0</td>\n",
              "      <td>0</td>\n",
              "      <td>1</td>\n",
              "      <td>0</td>\n",
              "      <td>1</td>\n",
              "      <td>1</td>\n",
              "      <td>1</td>\n",
              "      <td>1</td>\n",
              "      <td>0</td>\n",
              "      <td>0</td>\n",
              "      <td>1</td>\n",
              "    </tr>\n",
              "    <tr>\n",
              "      <th>31</th>\n",
              "      <td>0</td>\n",
              "      <td>1</td>\n",
              "      <td>0</td>\n",
              "      <td>1</td>\n",
              "      <td>1</td>\n",
              "      <td>1</td>\n",
              "      <td>0</td>\n",
              "      <td>1</td>\n",
              "      <td>1</td>\n",
              "      <td>0</td>\n",
              "      <td>1</td>\n",
              "      <td>0</td>\n",
              "      <td>0</td>\n",
              "      <td>1</td>\n",
              "    </tr>\n",
              "    <tr>\n",
              "      <th>32</th>\n",
              "      <td>0</td>\n",
              "      <td>1</td>\n",
              "      <td>0</td>\n",
              "      <td>0</td>\n",
              "      <td>0</td>\n",
              "      <td>1</td>\n",
              "      <td>0</td>\n",
              "      <td>1</td>\n",
              "      <td>1</td>\n",
              "      <td>1</td>\n",
              "      <td>1</td>\n",
              "      <td>0</td>\n",
              "      <td>0</td>\n",
              "      <td>1</td>\n",
              "    </tr>\n",
              "    <tr>\n",
              "      <th>33</th>\n",
              "      <td>0</td>\n",
              "      <td>1</td>\n",
              "      <td>0</td>\n",
              "      <td>0</td>\n",
              "      <td>1</td>\n",
              "      <td>0</td>\n",
              "      <td>0</td>\n",
              "      <td>1</td>\n",
              "      <td>0</td>\n",
              "      <td>0</td>\n",
              "      <td>1</td>\n",
              "      <td>0</td>\n",
              "      <td>0</td>\n",
              "      <td>1</td>\n",
              "    </tr>\n",
              "    <tr>\n",
              "      <th>34</th>\n",
              "      <td>0</td>\n",
              "      <td>1</td>\n",
              "      <td>0</td>\n",
              "      <td>1</td>\n",
              "      <td>1</td>\n",
              "      <td>1</td>\n",
              "      <td>0</td>\n",
              "      <td>1</td>\n",
              "      <td>1</td>\n",
              "      <td>1</td>\n",
              "      <td>1</td>\n",
              "      <td>0</td>\n",
              "      <td>0</td>\n",
              "      <td>1</td>\n",
              "    </tr>\n",
              "    <tr>\n",
              "      <th>35</th>\n",
              "      <td>0</td>\n",
              "      <td>0</td>\n",
              "      <td>1</td>\n",
              "      <td>0</td>\n",
              "      <td>0</td>\n",
              "      <td>1</td>\n",
              "      <td>0</td>\n",
              "      <td>1</td>\n",
              "      <td>1</td>\n",
              "      <td>0</td>\n",
              "      <td>0</td>\n",
              "      <td>0</td>\n",
              "      <td>0</td>\n",
              "      <td>1</td>\n",
              "    </tr>\n",
              "    <tr>\n",
              "      <th>36</th>\n",
              "      <td>0</td>\n",
              "      <td>1</td>\n",
              "      <td>0</td>\n",
              "      <td>0</td>\n",
              "      <td>1</td>\n",
              "      <td>1</td>\n",
              "      <td>1</td>\n",
              "      <td>1</td>\n",
              "      <td>1</td>\n",
              "      <td>1</td>\n",
              "      <td>1</td>\n",
              "      <td>1</td>\n",
              "      <td>1</td>\n",
              "      <td>1</td>\n",
              "    </tr>\n",
              "    <tr>\n",
              "      <th>37</th>\n",
              "      <td>0</td>\n",
              "      <td>1</td>\n",
              "      <td>0</td>\n",
              "      <td>1</td>\n",
              "      <td>1</td>\n",
              "      <td>1</td>\n",
              "      <td>0</td>\n",
              "      <td>1</td>\n",
              "      <td>1</td>\n",
              "      <td>0</td>\n",
              "      <td>1</td>\n",
              "      <td>0</td>\n",
              "      <td>0</td>\n",
              "      <td>1</td>\n",
              "    </tr>\n",
              "    <tr>\n",
              "      <th>38</th>\n",
              "      <td>0</td>\n",
              "      <td>1</td>\n",
              "      <td>0</td>\n",
              "      <td>0</td>\n",
              "      <td>1</td>\n",
              "      <td>0</td>\n",
              "      <td>0</td>\n",
              "      <td>1</td>\n",
              "      <td>1</td>\n",
              "      <td>0</td>\n",
              "      <td>1</td>\n",
              "      <td>0</td>\n",
              "      <td>0</td>\n",
              "      <td>1</td>\n",
              "    </tr>\n",
              "    <tr>\n",
              "      <th>39</th>\n",
              "      <td>0</td>\n",
              "      <td>1</td>\n",
              "      <td>0</td>\n",
              "      <td>1</td>\n",
              "      <td>1</td>\n",
              "      <td>0</td>\n",
              "      <td>0</td>\n",
              "      <td>1</td>\n",
              "      <td>1</td>\n",
              "      <td>0</td>\n",
              "      <td>1</td>\n",
              "      <td>0</td>\n",
              "      <td>0</td>\n",
              "      <td>1</td>\n",
              "    </tr>\n",
              "    <tr>\n",
              "      <th>40</th>\n",
              "      <td>0</td>\n",
              "      <td>1</td>\n",
              "      <td>0</td>\n",
              "      <td>0</td>\n",
              "      <td>0</td>\n",
              "      <td>0</td>\n",
              "      <td>0</td>\n",
              "      <td>1</td>\n",
              "      <td>1</td>\n",
              "      <td>1</td>\n",
              "      <td>1</td>\n",
              "      <td>0</td>\n",
              "      <td>0</td>\n",
              "      <td>1</td>\n",
              "    </tr>\n",
              "    <tr>\n",
              "      <th>41</th>\n",
              "      <td>0</td>\n",
              "      <td>1</td>\n",
              "      <td>0</td>\n",
              "      <td>0</td>\n",
              "      <td>1</td>\n",
              "      <td>0</td>\n",
              "      <td>0</td>\n",
              "      <td>1</td>\n",
              "      <td>1</td>\n",
              "      <td>0</td>\n",
              "      <td>1</td>\n",
              "      <td>0</td>\n",
              "      <td>0</td>\n",
              "      <td>1</td>\n",
              "    </tr>\n",
              "    <tr>\n",
              "      <th>42</th>\n",
              "      <td>0</td>\n",
              "      <td>1</td>\n",
              "      <td>0</td>\n",
              "      <td>1</td>\n",
              "      <td>1</td>\n",
              "      <td>1</td>\n",
              "      <td>0</td>\n",
              "      <td>1</td>\n",
              "      <td>1</td>\n",
              "      <td>1</td>\n",
              "      <td>1</td>\n",
              "      <td>0</td>\n",
              "      <td>0</td>\n",
              "      <td>1</td>\n",
              "    </tr>\n",
              "    <tr>\n",
              "      <th>43</th>\n",
              "      <td>0</td>\n",
              "      <td>1</td>\n",
              "      <td>0</td>\n",
              "      <td>1</td>\n",
              "      <td>1</td>\n",
              "      <td>1</td>\n",
              "      <td>0</td>\n",
              "      <td>1</td>\n",
              "      <td>1</td>\n",
              "      <td>1</td>\n",
              "      <td>1</td>\n",
              "      <td>0</td>\n",
              "      <td>1</td>\n",
              "      <td>1</td>\n",
              "    </tr>\n",
              "    <tr>\n",
              "      <th>44</th>\n",
              "      <td>0</td>\n",
              "      <td>0</td>\n",
              "      <td>0</td>\n",
              "      <td>0</td>\n",
              "      <td>0</td>\n",
              "      <td>0</td>\n",
              "      <td>1</td>\n",
              "      <td>0</td>\n",
              "      <td>0</td>\n",
              "      <td>0</td>\n",
              "      <td>0</td>\n",
              "      <td>0</td>\n",
              "      <td>1</td>\n",
              "      <td>1</td>\n",
              "    </tr>\n",
              "    <tr>\n",
              "      <th>45</th>\n",
              "      <td>0</td>\n",
              "      <td>1</td>\n",
              "      <td>0</td>\n",
              "      <td>1</td>\n",
              "      <td>1</td>\n",
              "      <td>1</td>\n",
              "      <td>0</td>\n",
              "      <td>1</td>\n",
              "      <td>1</td>\n",
              "      <td>0</td>\n",
              "      <td>1</td>\n",
              "      <td>0</td>\n",
              "      <td>0</td>\n",
              "      <td>1</td>\n",
              "    </tr>\n",
              "    <tr>\n",
              "      <th>46</th>\n",
              "      <td>0</td>\n",
              "      <td>1</td>\n",
              "      <td>0</td>\n",
              "      <td>0</td>\n",
              "      <td>0</td>\n",
              "      <td>1</td>\n",
              "      <td>0</td>\n",
              "      <td>1</td>\n",
              "      <td>1</td>\n",
              "      <td>1</td>\n",
              "      <td>1</td>\n",
              "      <td>0</td>\n",
              "      <td>0</td>\n",
              "      <td>1</td>\n",
              "    </tr>\n",
              "    <tr>\n",
              "      <th>47</th>\n",
              "      <td>0</td>\n",
              "      <td>0</td>\n",
              "      <td>0</td>\n",
              "      <td>0</td>\n",
              "      <td>0</td>\n",
              "      <td>0</td>\n",
              "      <td>1</td>\n",
              "      <td>0</td>\n",
              "      <td>0</td>\n",
              "      <td>0</td>\n",
              "      <td>0</td>\n",
              "      <td>0</td>\n",
              "      <td>1</td>\n",
              "      <td>1</td>\n",
              "    </tr>\n",
              "    <tr>\n",
              "      <th>48</th>\n",
              "      <td>0</td>\n",
              "      <td>1</td>\n",
              "      <td>0</td>\n",
              "      <td>0</td>\n",
              "      <td>1</td>\n",
              "      <td>0</td>\n",
              "      <td>0</td>\n",
              "      <td>1</td>\n",
              "      <td>0</td>\n",
              "      <td>0</td>\n",
              "      <td>1</td>\n",
              "      <td>0</td>\n",
              "      <td>0</td>\n",
              "      <td>1</td>\n",
              "    </tr>\n",
              "    <tr>\n",
              "      <th>49</th>\n",
              "      <td>0</td>\n",
              "      <td>1</td>\n",
              "      <td>0</td>\n",
              "      <td>1</td>\n",
              "      <td>1</td>\n",
              "      <td>0</td>\n",
              "      <td>0</td>\n",
              "      <td>1</td>\n",
              "      <td>1</td>\n",
              "      <td>0</td>\n",
              "      <td>1</td>\n",
              "      <td>0</td>\n",
              "      <td>0</td>\n",
              "      <td>1</td>\n",
              "    </tr>\n",
              "    <tr>\n",
              "      <th>50</th>\n",
              "      <td>0</td>\n",
              "      <td>1</td>\n",
              "      <td>0</td>\n",
              "      <td>1</td>\n",
              "      <td>1</td>\n",
              "      <td>1</td>\n",
              "      <td>0</td>\n",
              "      <td>1</td>\n",
              "      <td>1</td>\n",
              "      <td>0</td>\n",
              "      <td>1</td>\n",
              "      <td>0</td>\n",
              "      <td>0</td>\n",
              "      <td>1</td>\n",
              "    </tr>\n",
              "    <tr>\n",
              "      <th>51</th>\n",
              "      <td>0</td>\n",
              "      <td>1</td>\n",
              "      <td>0</td>\n",
              "      <td>0</td>\n",
              "      <td>1</td>\n",
              "      <td>0</td>\n",
              "      <td>0</td>\n",
              "      <td>1</td>\n",
              "      <td>1</td>\n",
              "      <td>0</td>\n",
              "      <td>1</td>\n",
              "      <td>0</td>\n",
              "      <td>0</td>\n",
              "      <td>1</td>\n",
              "    </tr>\n",
              "    <tr>\n",
              "      <th>52</th>\n",
              "      <td>0</td>\n",
              "      <td>1</td>\n",
              "      <td>0</td>\n",
              "      <td>0</td>\n",
              "      <td>1</td>\n",
              "      <td>0</td>\n",
              "      <td>0</td>\n",
              "      <td>1</td>\n",
              "      <td>1</td>\n",
              "      <td>0</td>\n",
              "      <td>1</td>\n",
              "      <td>0</td>\n",
              "      <td>0</td>\n",
              "      <td>1</td>\n",
              "    </tr>\n",
              "    <tr>\n",
              "      <th>53</th>\n",
              "      <td>0</td>\n",
              "      <td>1</td>\n",
              "      <td>0</td>\n",
              "      <td>1</td>\n",
              "      <td>1</td>\n",
              "      <td>1</td>\n",
              "      <td>0</td>\n",
              "      <td>1</td>\n",
              "      <td>1</td>\n",
              "      <td>0</td>\n",
              "      <td>1</td>\n",
              "      <td>0</td>\n",
              "      <td>0</td>\n",
              "      <td>1</td>\n",
              "    </tr>\n",
              "  </tbody>\n",
              "</table>\n",
              "</div>\n",
              "      <button class=\"colab-df-convert\" onclick=\"convertToInteractive('df-fd2c2910-9546-4675-87f3-87784c2661f5')\"\n",
              "              title=\"Convert this dataframe to an interactive table.\"\n",
              "              style=\"display:none;\">\n",
              "        \n",
              "  <svg xmlns=\"http://www.w3.org/2000/svg\" height=\"24px\"viewBox=\"0 0 24 24\"\n",
              "       width=\"24px\">\n",
              "    <path d=\"M0 0h24v24H0V0z\" fill=\"none\"/>\n",
              "    <path d=\"M18.56 5.44l.94 2.06.94-2.06 2.06-.94-2.06-.94-.94-2.06-.94 2.06-2.06.94zm-11 1L8.5 8.5l.94-2.06 2.06-.94-2.06-.94L8.5 2.5l-.94 2.06-2.06.94zm10 10l.94 2.06.94-2.06 2.06-.94-2.06-.94-.94-2.06-.94 2.06-2.06.94z\"/><path d=\"M17.41 7.96l-1.37-1.37c-.4-.4-.92-.59-1.43-.59-.52 0-1.04.2-1.43.59L10.3 9.45l-7.72 7.72c-.78.78-.78 2.05 0 2.83L4 21.41c.39.39.9.59 1.41.59.51 0 1.02-.2 1.41-.59l7.78-7.78 2.81-2.81c.8-.78.8-2.07 0-2.86zM5.41 20L4 18.59l7.72-7.72 1.47 1.35L5.41 20z\"/>\n",
              "  </svg>\n",
              "      </button>\n",
              "      \n",
              "  <style>\n",
              "    .colab-df-container {\n",
              "      display:flex;\n",
              "      flex-wrap:wrap;\n",
              "      gap: 12px;\n",
              "    }\n",
              "\n",
              "    .colab-df-convert {\n",
              "      background-color: #E8F0FE;\n",
              "      border: none;\n",
              "      border-radius: 50%;\n",
              "      cursor: pointer;\n",
              "      display: none;\n",
              "      fill: #1967D2;\n",
              "      height: 32px;\n",
              "      padding: 0 0 0 0;\n",
              "      width: 32px;\n",
              "    }\n",
              "\n",
              "    .colab-df-convert:hover {\n",
              "      background-color: #E2EBFA;\n",
              "      box-shadow: 0px 1px 2px rgba(60, 64, 67, 0.3), 0px 1px 3px 1px rgba(60, 64, 67, 0.15);\n",
              "      fill: #174EA6;\n",
              "    }\n",
              "\n",
              "    [theme=dark] .colab-df-convert {\n",
              "      background-color: #3B4455;\n",
              "      fill: #D2E3FC;\n",
              "    }\n",
              "\n",
              "    [theme=dark] .colab-df-convert:hover {\n",
              "      background-color: #434B5C;\n",
              "      box-shadow: 0px 1px 3px 1px rgba(0, 0, 0, 0.15);\n",
              "      filter: drop-shadow(0px 1px 2px rgba(0, 0, 0, 0.3));\n",
              "      fill: #FFFFFF;\n",
              "    }\n",
              "  </style>\n",
              "\n",
              "      <script>\n",
              "        const buttonEl =\n",
              "          document.querySelector('#df-fd2c2910-9546-4675-87f3-87784c2661f5 button.colab-df-convert');\n",
              "        buttonEl.style.display =\n",
              "          google.colab.kernel.accessAllowed ? 'block' : 'none';\n",
              "\n",
              "        async function convertToInteractive(key) {\n",
              "          const element = document.querySelector('#df-fd2c2910-9546-4675-87f3-87784c2661f5');\n",
              "          const dataTable =\n",
              "            await google.colab.kernel.invokeFunction('convertToInteractive',\n",
              "                                                     [key], {});\n",
              "          if (!dataTable) return;\n",
              "\n",
              "          const docLinkHtml = 'Like what you see? Visit the ' +\n",
              "            '<a target=\"_blank\" href=https://colab.research.google.com/notebooks/data_table.ipynb>data table notebook</a>'\n",
              "            + ' to learn more about interactive tables.';\n",
              "          element.innerHTML = '';\n",
              "          dataTable['output_type'] = 'display_data';\n",
              "          await google.colab.output.renderOutput(dataTable, element);\n",
              "          const docLink = document.createElement('div');\n",
              "          docLink.innerHTML = docLinkHtml;\n",
              "          element.appendChild(docLink);\n",
              "        }\n",
              "      </script>\n",
              "    </div>\n",
              "  </div>\n",
              "  "
            ]
          },
          "metadata": {},
          "execution_count": 86
        }
      ]
    },
    {
      "cell_type": "code",
      "execution_count": null,
      "metadata": {
        "id": "2GmJRV0FCS0e"
      },
      "outputs": [],
      "source": [
        "px.to_csv('submission_roberta_50_6.csv')"
      ]
    }
  ],
  "metadata": {
    "accelerator": "GPU",
    "colab": {
      "machine_shape": "hm",
      "provenance": []
    },
    "gpuClass": "premium",
    "kernelspec": {
      "display_name": "base",
      "language": "python",
      "name": "python3"
    },
    "language_info": {
      "codemirror_mode": {
        "name": "ipython",
        "version": 3
      },
      "file_extension": ".py",
      "mimetype": "text/x-python",
      "name": "python",
      "nbconvert_exporter": "python",
      "pygments_lexer": "ipython3",
      "version": "3.9.13"
    },
    "vscode": {
      "interpreter": {
        "hash": "3caa6a72f96ffb25748736284ffabe24b559518c30516210d5345169c8442d50"
      }
    },
    "widgets": {
      "application/vnd.jupyter.widget-state+json": {
        "ddd44efc1e9c4b19aaf18a03ed7219ce": {
          "model_module": "@jupyter-widgets/controls",
          "model_name": "HBoxModel",
          "model_module_version": "1.5.0",
          "state": {
            "_dom_classes": [],
            "_model_module": "@jupyter-widgets/controls",
            "_model_module_version": "1.5.0",
            "_model_name": "HBoxModel",
            "_view_count": null,
            "_view_module": "@jupyter-widgets/controls",
            "_view_module_version": "1.5.0",
            "_view_name": "HBoxView",
            "box_style": "",
            "children": [
              "IPY_MODEL_4515c24e5d864b1980c7390e9188e835",
              "IPY_MODEL_c470f51e2f3542deb75cb29ee259ca97",
              "IPY_MODEL_c41888af71174472a2019b387e880ed5"
            ],
            "layout": "IPY_MODEL_14abb4fc752e43568eea1554a875b844"
          }
        },
        "4515c24e5d864b1980c7390e9188e835": {
          "model_module": "@jupyter-widgets/controls",
          "model_name": "HTMLModel",
          "model_module_version": "1.5.0",
          "state": {
            "_dom_classes": [],
            "_model_module": "@jupyter-widgets/controls",
            "_model_module_version": "1.5.0",
            "_model_name": "HTMLModel",
            "_view_count": null,
            "_view_module": "@jupyter-widgets/controls",
            "_view_module_version": "1.5.0",
            "_view_name": "HTMLView",
            "description": "",
            "description_tooltip": null,
            "layout": "IPY_MODEL_4695dbd676e5485b9435773d45e620ff",
            "placeholder": "​",
            "style": "IPY_MODEL_d46e1dac280046818dab8491d7d019cc",
            "value": "Downloading (…)okenizer_config.json: 100%"
          }
        },
        "c470f51e2f3542deb75cb29ee259ca97": {
          "model_module": "@jupyter-widgets/controls",
          "model_name": "FloatProgressModel",
          "model_module_version": "1.5.0",
          "state": {
            "_dom_classes": [],
            "_model_module": "@jupyter-widgets/controls",
            "_model_module_version": "1.5.0",
            "_model_name": "FloatProgressModel",
            "_view_count": null,
            "_view_module": "@jupyter-widgets/controls",
            "_view_module_version": "1.5.0",
            "_view_name": "ProgressView",
            "bar_style": "success",
            "description": "",
            "description_tooltip": null,
            "layout": "IPY_MODEL_ab1ff78e9aaa4fbba7e6a3cfd622a656",
            "max": 28,
            "min": 0,
            "orientation": "horizontal",
            "style": "IPY_MODEL_3f62ed499da94720a6582567aa535aa6",
            "value": 28
          }
        },
        "c41888af71174472a2019b387e880ed5": {
          "model_module": "@jupyter-widgets/controls",
          "model_name": "HTMLModel",
          "model_module_version": "1.5.0",
          "state": {
            "_dom_classes": [],
            "_model_module": "@jupyter-widgets/controls",
            "_model_module_version": "1.5.0",
            "_model_name": "HTMLModel",
            "_view_count": null,
            "_view_module": "@jupyter-widgets/controls",
            "_view_module_version": "1.5.0",
            "_view_name": "HTMLView",
            "description": "",
            "description_tooltip": null,
            "layout": "IPY_MODEL_b255c53251994f07bad533fb89613c85",
            "placeholder": "​",
            "style": "IPY_MODEL_45fad132116c468d9134aa7a532a0eeb",
            "value": " 28.0/28.0 [00:00&lt;00:00, 1.35kB/s]"
          }
        },
        "14abb4fc752e43568eea1554a875b844": {
          "model_module": "@jupyter-widgets/base",
          "model_name": "LayoutModel",
          "model_module_version": "1.2.0",
          "state": {
            "_model_module": "@jupyter-widgets/base",
            "_model_module_version": "1.2.0",
            "_model_name": "LayoutModel",
            "_view_count": null,
            "_view_module": "@jupyter-widgets/base",
            "_view_module_version": "1.2.0",
            "_view_name": "LayoutView",
            "align_content": null,
            "align_items": null,
            "align_self": null,
            "border": null,
            "bottom": null,
            "display": null,
            "flex": null,
            "flex_flow": null,
            "grid_area": null,
            "grid_auto_columns": null,
            "grid_auto_flow": null,
            "grid_auto_rows": null,
            "grid_column": null,
            "grid_gap": null,
            "grid_row": null,
            "grid_template_areas": null,
            "grid_template_columns": null,
            "grid_template_rows": null,
            "height": null,
            "justify_content": null,
            "justify_items": null,
            "left": null,
            "margin": null,
            "max_height": null,
            "max_width": null,
            "min_height": null,
            "min_width": null,
            "object_fit": null,
            "object_position": null,
            "order": null,
            "overflow": null,
            "overflow_x": null,
            "overflow_y": null,
            "padding": null,
            "right": null,
            "top": null,
            "visibility": null,
            "width": null
          }
        },
        "4695dbd676e5485b9435773d45e620ff": {
          "model_module": "@jupyter-widgets/base",
          "model_name": "LayoutModel",
          "model_module_version": "1.2.0",
          "state": {
            "_model_module": "@jupyter-widgets/base",
            "_model_module_version": "1.2.0",
            "_model_name": "LayoutModel",
            "_view_count": null,
            "_view_module": "@jupyter-widgets/base",
            "_view_module_version": "1.2.0",
            "_view_name": "LayoutView",
            "align_content": null,
            "align_items": null,
            "align_self": null,
            "border": null,
            "bottom": null,
            "display": null,
            "flex": null,
            "flex_flow": null,
            "grid_area": null,
            "grid_auto_columns": null,
            "grid_auto_flow": null,
            "grid_auto_rows": null,
            "grid_column": null,
            "grid_gap": null,
            "grid_row": null,
            "grid_template_areas": null,
            "grid_template_columns": null,
            "grid_template_rows": null,
            "height": null,
            "justify_content": null,
            "justify_items": null,
            "left": null,
            "margin": null,
            "max_height": null,
            "max_width": null,
            "min_height": null,
            "min_width": null,
            "object_fit": null,
            "object_position": null,
            "order": null,
            "overflow": null,
            "overflow_x": null,
            "overflow_y": null,
            "padding": null,
            "right": null,
            "top": null,
            "visibility": null,
            "width": null
          }
        },
        "d46e1dac280046818dab8491d7d019cc": {
          "model_module": "@jupyter-widgets/controls",
          "model_name": "DescriptionStyleModel",
          "model_module_version": "1.5.0",
          "state": {
            "_model_module": "@jupyter-widgets/controls",
            "_model_module_version": "1.5.0",
            "_model_name": "DescriptionStyleModel",
            "_view_count": null,
            "_view_module": "@jupyter-widgets/base",
            "_view_module_version": "1.2.0",
            "_view_name": "StyleView",
            "description_width": ""
          }
        },
        "ab1ff78e9aaa4fbba7e6a3cfd622a656": {
          "model_module": "@jupyter-widgets/base",
          "model_name": "LayoutModel",
          "model_module_version": "1.2.0",
          "state": {
            "_model_module": "@jupyter-widgets/base",
            "_model_module_version": "1.2.0",
            "_model_name": "LayoutModel",
            "_view_count": null,
            "_view_module": "@jupyter-widgets/base",
            "_view_module_version": "1.2.0",
            "_view_name": "LayoutView",
            "align_content": null,
            "align_items": null,
            "align_self": null,
            "border": null,
            "bottom": null,
            "display": null,
            "flex": null,
            "flex_flow": null,
            "grid_area": null,
            "grid_auto_columns": null,
            "grid_auto_flow": null,
            "grid_auto_rows": null,
            "grid_column": null,
            "grid_gap": null,
            "grid_row": null,
            "grid_template_areas": null,
            "grid_template_columns": null,
            "grid_template_rows": null,
            "height": null,
            "justify_content": null,
            "justify_items": null,
            "left": null,
            "margin": null,
            "max_height": null,
            "max_width": null,
            "min_height": null,
            "min_width": null,
            "object_fit": null,
            "object_position": null,
            "order": null,
            "overflow": null,
            "overflow_x": null,
            "overflow_y": null,
            "padding": null,
            "right": null,
            "top": null,
            "visibility": null,
            "width": null
          }
        },
        "3f62ed499da94720a6582567aa535aa6": {
          "model_module": "@jupyter-widgets/controls",
          "model_name": "ProgressStyleModel",
          "model_module_version": "1.5.0",
          "state": {
            "_model_module": "@jupyter-widgets/controls",
            "_model_module_version": "1.5.0",
            "_model_name": "ProgressStyleModel",
            "_view_count": null,
            "_view_module": "@jupyter-widgets/base",
            "_view_module_version": "1.2.0",
            "_view_name": "StyleView",
            "bar_color": null,
            "description_width": ""
          }
        },
        "b255c53251994f07bad533fb89613c85": {
          "model_module": "@jupyter-widgets/base",
          "model_name": "LayoutModel",
          "model_module_version": "1.2.0",
          "state": {
            "_model_module": "@jupyter-widgets/base",
            "_model_module_version": "1.2.0",
            "_model_name": "LayoutModel",
            "_view_count": null,
            "_view_module": "@jupyter-widgets/base",
            "_view_module_version": "1.2.0",
            "_view_name": "LayoutView",
            "align_content": null,
            "align_items": null,
            "align_self": null,
            "border": null,
            "bottom": null,
            "display": null,
            "flex": null,
            "flex_flow": null,
            "grid_area": null,
            "grid_auto_columns": null,
            "grid_auto_flow": null,
            "grid_auto_rows": null,
            "grid_column": null,
            "grid_gap": null,
            "grid_row": null,
            "grid_template_areas": null,
            "grid_template_columns": null,
            "grid_template_rows": null,
            "height": null,
            "justify_content": null,
            "justify_items": null,
            "left": null,
            "margin": null,
            "max_height": null,
            "max_width": null,
            "min_height": null,
            "min_width": null,
            "object_fit": null,
            "object_position": null,
            "order": null,
            "overflow": null,
            "overflow_x": null,
            "overflow_y": null,
            "padding": null,
            "right": null,
            "top": null,
            "visibility": null,
            "width": null
          }
        },
        "45fad132116c468d9134aa7a532a0eeb": {
          "model_module": "@jupyter-widgets/controls",
          "model_name": "DescriptionStyleModel",
          "model_module_version": "1.5.0",
          "state": {
            "_model_module": "@jupyter-widgets/controls",
            "_model_module_version": "1.5.0",
            "_model_name": "DescriptionStyleModel",
            "_view_count": null,
            "_view_module": "@jupyter-widgets/base",
            "_view_module_version": "1.2.0",
            "_view_name": "StyleView",
            "description_width": ""
          }
        },
        "a8ed908735ae4db09f720cee8fb3b6a3": {
          "model_module": "@jupyter-widgets/controls",
          "model_name": "HBoxModel",
          "model_module_version": "1.5.0",
          "state": {
            "_dom_classes": [],
            "_model_module": "@jupyter-widgets/controls",
            "_model_module_version": "1.5.0",
            "_model_name": "HBoxModel",
            "_view_count": null,
            "_view_module": "@jupyter-widgets/controls",
            "_view_module_version": "1.5.0",
            "_view_name": "HBoxView",
            "box_style": "",
            "children": [
              "IPY_MODEL_6689f83c95a940febe0560dcdc98d8a5",
              "IPY_MODEL_883420aa6025444a98b69a758728d319",
              "IPY_MODEL_47cb776f958b41e9b68fefd775b282a4"
            ],
            "layout": "IPY_MODEL_5ebf8fde431b4708963dd4eb2b4a52fc"
          }
        },
        "6689f83c95a940febe0560dcdc98d8a5": {
          "model_module": "@jupyter-widgets/controls",
          "model_name": "HTMLModel",
          "model_module_version": "1.5.0",
          "state": {
            "_dom_classes": [],
            "_model_module": "@jupyter-widgets/controls",
            "_model_module_version": "1.5.0",
            "_model_name": "HTMLModel",
            "_view_count": null,
            "_view_module": "@jupyter-widgets/controls",
            "_view_module_version": "1.5.0",
            "_view_name": "HTMLView",
            "description": "",
            "description_tooltip": null,
            "layout": "IPY_MODEL_407b111483e64a61afddbf47ceb55be8",
            "placeholder": "​",
            "style": "IPY_MODEL_4a1220bfcc33475e8bfb5fdada8edd2f",
            "value": "Downloading (…)lve/main/config.json: 100%"
          }
        },
        "883420aa6025444a98b69a758728d319": {
          "model_module": "@jupyter-widgets/controls",
          "model_name": "FloatProgressModel",
          "model_module_version": "1.5.0",
          "state": {
            "_dom_classes": [],
            "_model_module": "@jupyter-widgets/controls",
            "_model_module_version": "1.5.0",
            "_model_name": "FloatProgressModel",
            "_view_count": null,
            "_view_module": "@jupyter-widgets/controls",
            "_view_module_version": "1.5.0",
            "_view_name": "ProgressView",
            "bar_style": "success",
            "description": "",
            "description_tooltip": null,
            "layout": "IPY_MODEL_40010abf1b7c4b4298c6e5945eef31dc",
            "max": 570,
            "min": 0,
            "orientation": "horizontal",
            "style": "IPY_MODEL_4c1d1450d7334adca99f42a3203918b9",
            "value": 570
          }
        },
        "47cb776f958b41e9b68fefd775b282a4": {
          "model_module": "@jupyter-widgets/controls",
          "model_name": "HTMLModel",
          "model_module_version": "1.5.0",
          "state": {
            "_dom_classes": [],
            "_model_module": "@jupyter-widgets/controls",
            "_model_module_version": "1.5.0",
            "_model_name": "HTMLModel",
            "_view_count": null,
            "_view_module": "@jupyter-widgets/controls",
            "_view_module_version": "1.5.0",
            "_view_name": "HTMLView",
            "description": "",
            "description_tooltip": null,
            "layout": "IPY_MODEL_a5c84c09be0d4573a55b75db478f20b8",
            "placeholder": "​",
            "style": "IPY_MODEL_34599a6ca0524f83ab790242b1745e03",
            "value": " 570/570 [00:00&lt;00:00, 31.1kB/s]"
          }
        },
        "5ebf8fde431b4708963dd4eb2b4a52fc": {
          "model_module": "@jupyter-widgets/base",
          "model_name": "LayoutModel",
          "model_module_version": "1.2.0",
          "state": {
            "_model_module": "@jupyter-widgets/base",
            "_model_module_version": "1.2.0",
            "_model_name": "LayoutModel",
            "_view_count": null,
            "_view_module": "@jupyter-widgets/base",
            "_view_module_version": "1.2.0",
            "_view_name": "LayoutView",
            "align_content": null,
            "align_items": null,
            "align_self": null,
            "border": null,
            "bottom": null,
            "display": null,
            "flex": null,
            "flex_flow": null,
            "grid_area": null,
            "grid_auto_columns": null,
            "grid_auto_flow": null,
            "grid_auto_rows": null,
            "grid_column": null,
            "grid_gap": null,
            "grid_row": null,
            "grid_template_areas": null,
            "grid_template_columns": null,
            "grid_template_rows": null,
            "height": null,
            "justify_content": null,
            "justify_items": null,
            "left": null,
            "margin": null,
            "max_height": null,
            "max_width": null,
            "min_height": null,
            "min_width": null,
            "object_fit": null,
            "object_position": null,
            "order": null,
            "overflow": null,
            "overflow_x": null,
            "overflow_y": null,
            "padding": null,
            "right": null,
            "top": null,
            "visibility": null,
            "width": null
          }
        },
        "407b111483e64a61afddbf47ceb55be8": {
          "model_module": "@jupyter-widgets/base",
          "model_name": "LayoutModel",
          "model_module_version": "1.2.0",
          "state": {
            "_model_module": "@jupyter-widgets/base",
            "_model_module_version": "1.2.0",
            "_model_name": "LayoutModel",
            "_view_count": null,
            "_view_module": "@jupyter-widgets/base",
            "_view_module_version": "1.2.0",
            "_view_name": "LayoutView",
            "align_content": null,
            "align_items": null,
            "align_self": null,
            "border": null,
            "bottom": null,
            "display": null,
            "flex": null,
            "flex_flow": null,
            "grid_area": null,
            "grid_auto_columns": null,
            "grid_auto_flow": null,
            "grid_auto_rows": null,
            "grid_column": null,
            "grid_gap": null,
            "grid_row": null,
            "grid_template_areas": null,
            "grid_template_columns": null,
            "grid_template_rows": null,
            "height": null,
            "justify_content": null,
            "justify_items": null,
            "left": null,
            "margin": null,
            "max_height": null,
            "max_width": null,
            "min_height": null,
            "min_width": null,
            "object_fit": null,
            "object_position": null,
            "order": null,
            "overflow": null,
            "overflow_x": null,
            "overflow_y": null,
            "padding": null,
            "right": null,
            "top": null,
            "visibility": null,
            "width": null
          }
        },
        "4a1220bfcc33475e8bfb5fdada8edd2f": {
          "model_module": "@jupyter-widgets/controls",
          "model_name": "DescriptionStyleModel",
          "model_module_version": "1.5.0",
          "state": {
            "_model_module": "@jupyter-widgets/controls",
            "_model_module_version": "1.5.0",
            "_model_name": "DescriptionStyleModel",
            "_view_count": null,
            "_view_module": "@jupyter-widgets/base",
            "_view_module_version": "1.2.0",
            "_view_name": "StyleView",
            "description_width": ""
          }
        },
        "40010abf1b7c4b4298c6e5945eef31dc": {
          "model_module": "@jupyter-widgets/base",
          "model_name": "LayoutModel",
          "model_module_version": "1.2.0",
          "state": {
            "_model_module": "@jupyter-widgets/base",
            "_model_module_version": "1.2.0",
            "_model_name": "LayoutModel",
            "_view_count": null,
            "_view_module": "@jupyter-widgets/base",
            "_view_module_version": "1.2.0",
            "_view_name": "LayoutView",
            "align_content": null,
            "align_items": null,
            "align_self": null,
            "border": null,
            "bottom": null,
            "display": null,
            "flex": null,
            "flex_flow": null,
            "grid_area": null,
            "grid_auto_columns": null,
            "grid_auto_flow": null,
            "grid_auto_rows": null,
            "grid_column": null,
            "grid_gap": null,
            "grid_row": null,
            "grid_template_areas": null,
            "grid_template_columns": null,
            "grid_template_rows": null,
            "height": null,
            "justify_content": null,
            "justify_items": null,
            "left": null,
            "margin": null,
            "max_height": null,
            "max_width": null,
            "min_height": null,
            "min_width": null,
            "object_fit": null,
            "object_position": null,
            "order": null,
            "overflow": null,
            "overflow_x": null,
            "overflow_y": null,
            "padding": null,
            "right": null,
            "top": null,
            "visibility": null,
            "width": null
          }
        },
        "4c1d1450d7334adca99f42a3203918b9": {
          "model_module": "@jupyter-widgets/controls",
          "model_name": "ProgressStyleModel",
          "model_module_version": "1.5.0",
          "state": {
            "_model_module": "@jupyter-widgets/controls",
            "_model_module_version": "1.5.0",
            "_model_name": "ProgressStyleModel",
            "_view_count": null,
            "_view_module": "@jupyter-widgets/base",
            "_view_module_version": "1.2.0",
            "_view_name": "StyleView",
            "bar_color": null,
            "description_width": ""
          }
        },
        "a5c84c09be0d4573a55b75db478f20b8": {
          "model_module": "@jupyter-widgets/base",
          "model_name": "LayoutModel",
          "model_module_version": "1.2.0",
          "state": {
            "_model_module": "@jupyter-widgets/base",
            "_model_module_version": "1.2.0",
            "_model_name": "LayoutModel",
            "_view_count": null,
            "_view_module": "@jupyter-widgets/base",
            "_view_module_version": "1.2.0",
            "_view_name": "LayoutView",
            "align_content": null,
            "align_items": null,
            "align_self": null,
            "border": null,
            "bottom": null,
            "display": null,
            "flex": null,
            "flex_flow": null,
            "grid_area": null,
            "grid_auto_columns": null,
            "grid_auto_flow": null,
            "grid_auto_rows": null,
            "grid_column": null,
            "grid_gap": null,
            "grid_row": null,
            "grid_template_areas": null,
            "grid_template_columns": null,
            "grid_template_rows": null,
            "height": null,
            "justify_content": null,
            "justify_items": null,
            "left": null,
            "margin": null,
            "max_height": null,
            "max_width": null,
            "min_height": null,
            "min_width": null,
            "object_fit": null,
            "object_position": null,
            "order": null,
            "overflow": null,
            "overflow_x": null,
            "overflow_y": null,
            "padding": null,
            "right": null,
            "top": null,
            "visibility": null,
            "width": null
          }
        },
        "34599a6ca0524f83ab790242b1745e03": {
          "model_module": "@jupyter-widgets/controls",
          "model_name": "DescriptionStyleModel",
          "model_module_version": "1.5.0",
          "state": {
            "_model_module": "@jupyter-widgets/controls",
            "_model_module_version": "1.5.0",
            "_model_name": "DescriptionStyleModel",
            "_view_count": null,
            "_view_module": "@jupyter-widgets/base",
            "_view_module_version": "1.2.0",
            "_view_name": "StyleView",
            "description_width": ""
          }
        },
        "a74f3c77f3c644558a476bff15cb1f83": {
          "model_module": "@jupyter-widgets/controls",
          "model_name": "HBoxModel",
          "model_module_version": "1.5.0",
          "state": {
            "_dom_classes": [],
            "_model_module": "@jupyter-widgets/controls",
            "_model_module_version": "1.5.0",
            "_model_name": "HBoxModel",
            "_view_count": null,
            "_view_module": "@jupyter-widgets/controls",
            "_view_module_version": "1.5.0",
            "_view_name": "HBoxView",
            "box_style": "",
            "children": [
              "IPY_MODEL_6194460768c342859b372452d4e1c42f",
              "IPY_MODEL_f451be00868f472ba8dfca19c328d136",
              "IPY_MODEL_2f9c266bcc92474cabcea376c6491338"
            ],
            "layout": "IPY_MODEL_91bd4eced9104a05b44f2eac74dee555"
          }
        },
        "6194460768c342859b372452d4e1c42f": {
          "model_module": "@jupyter-widgets/controls",
          "model_name": "HTMLModel",
          "model_module_version": "1.5.0",
          "state": {
            "_dom_classes": [],
            "_model_module": "@jupyter-widgets/controls",
            "_model_module_version": "1.5.0",
            "_model_name": "HTMLModel",
            "_view_count": null,
            "_view_module": "@jupyter-widgets/controls",
            "_view_module_version": "1.5.0",
            "_view_name": "HTMLView",
            "description": "",
            "description_tooltip": null,
            "layout": "IPY_MODEL_5497b9de47284d5ebdb6fe6c5909aecb",
            "placeholder": "​",
            "style": "IPY_MODEL_0d0f0137765f464dbeda63229a3b81ec",
            "value": "Downloading (…)solve/main/vocab.txt: 100%"
          }
        },
        "f451be00868f472ba8dfca19c328d136": {
          "model_module": "@jupyter-widgets/controls",
          "model_name": "FloatProgressModel",
          "model_module_version": "1.5.0",
          "state": {
            "_dom_classes": [],
            "_model_module": "@jupyter-widgets/controls",
            "_model_module_version": "1.5.0",
            "_model_name": "FloatProgressModel",
            "_view_count": null,
            "_view_module": "@jupyter-widgets/controls",
            "_view_module_version": "1.5.0",
            "_view_name": "ProgressView",
            "bar_style": "success",
            "description": "",
            "description_tooltip": null,
            "layout": "IPY_MODEL_8f2ef2c076694e9c8c3703e347e0a49d",
            "max": 231508,
            "min": 0,
            "orientation": "horizontal",
            "style": "IPY_MODEL_cc5051d7a6ec403886c1cd4e8a49cc4c",
            "value": 231508
          }
        },
        "2f9c266bcc92474cabcea376c6491338": {
          "model_module": "@jupyter-widgets/controls",
          "model_name": "HTMLModel",
          "model_module_version": "1.5.0",
          "state": {
            "_dom_classes": [],
            "_model_module": "@jupyter-widgets/controls",
            "_model_module_version": "1.5.0",
            "_model_name": "HTMLModel",
            "_view_count": null,
            "_view_module": "@jupyter-widgets/controls",
            "_view_module_version": "1.5.0",
            "_view_name": "HTMLView",
            "description": "",
            "description_tooltip": null,
            "layout": "IPY_MODEL_1e89ad7d45984a7fabed3f8e322055c4",
            "placeholder": "​",
            "style": "IPY_MODEL_c767fb5f14714318b1565adb8da37272",
            "value": " 232k/232k [00:01&lt;00:00, 209kB/s]"
          }
        },
        "91bd4eced9104a05b44f2eac74dee555": {
          "model_module": "@jupyter-widgets/base",
          "model_name": "LayoutModel",
          "model_module_version": "1.2.0",
          "state": {
            "_model_module": "@jupyter-widgets/base",
            "_model_module_version": "1.2.0",
            "_model_name": "LayoutModel",
            "_view_count": null,
            "_view_module": "@jupyter-widgets/base",
            "_view_module_version": "1.2.0",
            "_view_name": "LayoutView",
            "align_content": null,
            "align_items": null,
            "align_self": null,
            "border": null,
            "bottom": null,
            "display": null,
            "flex": null,
            "flex_flow": null,
            "grid_area": null,
            "grid_auto_columns": null,
            "grid_auto_flow": null,
            "grid_auto_rows": null,
            "grid_column": null,
            "grid_gap": null,
            "grid_row": null,
            "grid_template_areas": null,
            "grid_template_columns": null,
            "grid_template_rows": null,
            "height": null,
            "justify_content": null,
            "justify_items": null,
            "left": null,
            "margin": null,
            "max_height": null,
            "max_width": null,
            "min_height": null,
            "min_width": null,
            "object_fit": null,
            "object_position": null,
            "order": null,
            "overflow": null,
            "overflow_x": null,
            "overflow_y": null,
            "padding": null,
            "right": null,
            "top": null,
            "visibility": null,
            "width": null
          }
        },
        "5497b9de47284d5ebdb6fe6c5909aecb": {
          "model_module": "@jupyter-widgets/base",
          "model_name": "LayoutModel",
          "model_module_version": "1.2.0",
          "state": {
            "_model_module": "@jupyter-widgets/base",
            "_model_module_version": "1.2.0",
            "_model_name": "LayoutModel",
            "_view_count": null,
            "_view_module": "@jupyter-widgets/base",
            "_view_module_version": "1.2.0",
            "_view_name": "LayoutView",
            "align_content": null,
            "align_items": null,
            "align_self": null,
            "border": null,
            "bottom": null,
            "display": null,
            "flex": null,
            "flex_flow": null,
            "grid_area": null,
            "grid_auto_columns": null,
            "grid_auto_flow": null,
            "grid_auto_rows": null,
            "grid_column": null,
            "grid_gap": null,
            "grid_row": null,
            "grid_template_areas": null,
            "grid_template_columns": null,
            "grid_template_rows": null,
            "height": null,
            "justify_content": null,
            "justify_items": null,
            "left": null,
            "margin": null,
            "max_height": null,
            "max_width": null,
            "min_height": null,
            "min_width": null,
            "object_fit": null,
            "object_position": null,
            "order": null,
            "overflow": null,
            "overflow_x": null,
            "overflow_y": null,
            "padding": null,
            "right": null,
            "top": null,
            "visibility": null,
            "width": null
          }
        },
        "0d0f0137765f464dbeda63229a3b81ec": {
          "model_module": "@jupyter-widgets/controls",
          "model_name": "DescriptionStyleModel",
          "model_module_version": "1.5.0",
          "state": {
            "_model_module": "@jupyter-widgets/controls",
            "_model_module_version": "1.5.0",
            "_model_name": "DescriptionStyleModel",
            "_view_count": null,
            "_view_module": "@jupyter-widgets/base",
            "_view_module_version": "1.2.0",
            "_view_name": "StyleView",
            "description_width": ""
          }
        },
        "8f2ef2c076694e9c8c3703e347e0a49d": {
          "model_module": "@jupyter-widgets/base",
          "model_name": "LayoutModel",
          "model_module_version": "1.2.0",
          "state": {
            "_model_module": "@jupyter-widgets/base",
            "_model_module_version": "1.2.0",
            "_model_name": "LayoutModel",
            "_view_count": null,
            "_view_module": "@jupyter-widgets/base",
            "_view_module_version": "1.2.0",
            "_view_name": "LayoutView",
            "align_content": null,
            "align_items": null,
            "align_self": null,
            "border": null,
            "bottom": null,
            "display": null,
            "flex": null,
            "flex_flow": null,
            "grid_area": null,
            "grid_auto_columns": null,
            "grid_auto_flow": null,
            "grid_auto_rows": null,
            "grid_column": null,
            "grid_gap": null,
            "grid_row": null,
            "grid_template_areas": null,
            "grid_template_columns": null,
            "grid_template_rows": null,
            "height": null,
            "justify_content": null,
            "justify_items": null,
            "left": null,
            "margin": null,
            "max_height": null,
            "max_width": null,
            "min_height": null,
            "min_width": null,
            "object_fit": null,
            "object_position": null,
            "order": null,
            "overflow": null,
            "overflow_x": null,
            "overflow_y": null,
            "padding": null,
            "right": null,
            "top": null,
            "visibility": null,
            "width": null
          }
        },
        "cc5051d7a6ec403886c1cd4e8a49cc4c": {
          "model_module": "@jupyter-widgets/controls",
          "model_name": "ProgressStyleModel",
          "model_module_version": "1.5.0",
          "state": {
            "_model_module": "@jupyter-widgets/controls",
            "_model_module_version": "1.5.0",
            "_model_name": "ProgressStyleModel",
            "_view_count": null,
            "_view_module": "@jupyter-widgets/base",
            "_view_module_version": "1.2.0",
            "_view_name": "StyleView",
            "bar_color": null,
            "description_width": ""
          }
        },
        "1e89ad7d45984a7fabed3f8e322055c4": {
          "model_module": "@jupyter-widgets/base",
          "model_name": "LayoutModel",
          "model_module_version": "1.2.0",
          "state": {
            "_model_module": "@jupyter-widgets/base",
            "_model_module_version": "1.2.0",
            "_model_name": "LayoutModel",
            "_view_count": null,
            "_view_module": "@jupyter-widgets/base",
            "_view_module_version": "1.2.0",
            "_view_name": "LayoutView",
            "align_content": null,
            "align_items": null,
            "align_self": null,
            "border": null,
            "bottom": null,
            "display": null,
            "flex": null,
            "flex_flow": null,
            "grid_area": null,
            "grid_auto_columns": null,
            "grid_auto_flow": null,
            "grid_auto_rows": null,
            "grid_column": null,
            "grid_gap": null,
            "grid_row": null,
            "grid_template_areas": null,
            "grid_template_columns": null,
            "grid_template_rows": null,
            "height": null,
            "justify_content": null,
            "justify_items": null,
            "left": null,
            "margin": null,
            "max_height": null,
            "max_width": null,
            "min_height": null,
            "min_width": null,
            "object_fit": null,
            "object_position": null,
            "order": null,
            "overflow": null,
            "overflow_x": null,
            "overflow_y": null,
            "padding": null,
            "right": null,
            "top": null,
            "visibility": null,
            "width": null
          }
        },
        "c767fb5f14714318b1565adb8da37272": {
          "model_module": "@jupyter-widgets/controls",
          "model_name": "DescriptionStyleModel",
          "model_module_version": "1.5.0",
          "state": {
            "_model_module": "@jupyter-widgets/controls",
            "_model_module_version": "1.5.0",
            "_model_name": "DescriptionStyleModel",
            "_view_count": null,
            "_view_module": "@jupyter-widgets/base",
            "_view_module_version": "1.2.0",
            "_view_name": "StyleView",
            "description_width": ""
          }
        },
        "1656e6e477374f56930671febf164ef4": {
          "model_module": "@jupyter-widgets/controls",
          "model_name": "HBoxModel",
          "model_module_version": "1.5.0",
          "state": {
            "_dom_classes": [],
            "_model_module": "@jupyter-widgets/controls",
            "_model_module_version": "1.5.0",
            "_model_name": "HBoxModel",
            "_view_count": null,
            "_view_module": "@jupyter-widgets/controls",
            "_view_module_version": "1.5.0",
            "_view_name": "HBoxView",
            "box_style": "",
            "children": [
              "IPY_MODEL_3a4f09d8886842788b89c23279f8fb74",
              "IPY_MODEL_7a0c45ae95a64f268ce08875696d5f7a",
              "IPY_MODEL_7c0a0b075a1f41718e94f881fc84ec3c"
            ],
            "layout": "IPY_MODEL_17b5916ba92346e5be192b583bb305bf"
          }
        },
        "3a4f09d8886842788b89c23279f8fb74": {
          "model_module": "@jupyter-widgets/controls",
          "model_name": "HTMLModel",
          "model_module_version": "1.5.0",
          "state": {
            "_dom_classes": [],
            "_model_module": "@jupyter-widgets/controls",
            "_model_module_version": "1.5.0",
            "_model_name": "HTMLModel",
            "_view_count": null,
            "_view_module": "@jupyter-widgets/controls",
            "_view_module_version": "1.5.0",
            "_view_name": "HTMLView",
            "description": "",
            "description_tooltip": null,
            "layout": "IPY_MODEL_d87dd6b3c30b41aeb6ee628c4bc2040a",
            "placeholder": "​",
            "style": "IPY_MODEL_1bbca6361ceb4e7995f0ceb22addf26f",
            "value": "Downloading (…)/main/tokenizer.json: 100%"
          }
        },
        "7a0c45ae95a64f268ce08875696d5f7a": {
          "model_module": "@jupyter-widgets/controls",
          "model_name": "FloatProgressModel",
          "model_module_version": "1.5.0",
          "state": {
            "_dom_classes": [],
            "_model_module": "@jupyter-widgets/controls",
            "_model_module_version": "1.5.0",
            "_model_name": "FloatProgressModel",
            "_view_count": null,
            "_view_module": "@jupyter-widgets/controls",
            "_view_module_version": "1.5.0",
            "_view_name": "ProgressView",
            "bar_style": "success",
            "description": "",
            "description_tooltip": null,
            "layout": "IPY_MODEL_2ea753561a014674b208135d4ea6ecdc",
            "max": 466062,
            "min": 0,
            "orientation": "horizontal",
            "style": "IPY_MODEL_7643f7584e45446685989fde08dd7be7",
            "value": 466062
          }
        },
        "7c0a0b075a1f41718e94f881fc84ec3c": {
          "model_module": "@jupyter-widgets/controls",
          "model_name": "HTMLModel",
          "model_module_version": "1.5.0",
          "state": {
            "_dom_classes": [],
            "_model_module": "@jupyter-widgets/controls",
            "_model_module_version": "1.5.0",
            "_model_name": "HTMLModel",
            "_view_count": null,
            "_view_module": "@jupyter-widgets/controls",
            "_view_module_version": "1.5.0",
            "_view_name": "HTMLView",
            "description": "",
            "description_tooltip": null,
            "layout": "IPY_MODEL_276c43838b724f0a82cf120880cf6844",
            "placeholder": "​",
            "style": "IPY_MODEL_0646e4457fb24ab4ab53a23c1ac1c125",
            "value": " 466k/466k [00:01&lt;00:00, 422kB/s]"
          }
        },
        "17b5916ba92346e5be192b583bb305bf": {
          "model_module": "@jupyter-widgets/base",
          "model_name": "LayoutModel",
          "model_module_version": "1.2.0",
          "state": {
            "_model_module": "@jupyter-widgets/base",
            "_model_module_version": "1.2.0",
            "_model_name": "LayoutModel",
            "_view_count": null,
            "_view_module": "@jupyter-widgets/base",
            "_view_module_version": "1.2.0",
            "_view_name": "LayoutView",
            "align_content": null,
            "align_items": null,
            "align_self": null,
            "border": null,
            "bottom": null,
            "display": null,
            "flex": null,
            "flex_flow": null,
            "grid_area": null,
            "grid_auto_columns": null,
            "grid_auto_flow": null,
            "grid_auto_rows": null,
            "grid_column": null,
            "grid_gap": null,
            "grid_row": null,
            "grid_template_areas": null,
            "grid_template_columns": null,
            "grid_template_rows": null,
            "height": null,
            "justify_content": null,
            "justify_items": null,
            "left": null,
            "margin": null,
            "max_height": null,
            "max_width": null,
            "min_height": null,
            "min_width": null,
            "object_fit": null,
            "object_position": null,
            "order": null,
            "overflow": null,
            "overflow_x": null,
            "overflow_y": null,
            "padding": null,
            "right": null,
            "top": null,
            "visibility": null,
            "width": null
          }
        },
        "d87dd6b3c30b41aeb6ee628c4bc2040a": {
          "model_module": "@jupyter-widgets/base",
          "model_name": "LayoutModel",
          "model_module_version": "1.2.0",
          "state": {
            "_model_module": "@jupyter-widgets/base",
            "_model_module_version": "1.2.0",
            "_model_name": "LayoutModel",
            "_view_count": null,
            "_view_module": "@jupyter-widgets/base",
            "_view_module_version": "1.2.0",
            "_view_name": "LayoutView",
            "align_content": null,
            "align_items": null,
            "align_self": null,
            "border": null,
            "bottom": null,
            "display": null,
            "flex": null,
            "flex_flow": null,
            "grid_area": null,
            "grid_auto_columns": null,
            "grid_auto_flow": null,
            "grid_auto_rows": null,
            "grid_column": null,
            "grid_gap": null,
            "grid_row": null,
            "grid_template_areas": null,
            "grid_template_columns": null,
            "grid_template_rows": null,
            "height": null,
            "justify_content": null,
            "justify_items": null,
            "left": null,
            "margin": null,
            "max_height": null,
            "max_width": null,
            "min_height": null,
            "min_width": null,
            "object_fit": null,
            "object_position": null,
            "order": null,
            "overflow": null,
            "overflow_x": null,
            "overflow_y": null,
            "padding": null,
            "right": null,
            "top": null,
            "visibility": null,
            "width": null
          }
        },
        "1bbca6361ceb4e7995f0ceb22addf26f": {
          "model_module": "@jupyter-widgets/controls",
          "model_name": "DescriptionStyleModel",
          "model_module_version": "1.5.0",
          "state": {
            "_model_module": "@jupyter-widgets/controls",
            "_model_module_version": "1.5.0",
            "_model_name": "DescriptionStyleModel",
            "_view_count": null,
            "_view_module": "@jupyter-widgets/base",
            "_view_module_version": "1.2.0",
            "_view_name": "StyleView",
            "description_width": ""
          }
        },
        "2ea753561a014674b208135d4ea6ecdc": {
          "model_module": "@jupyter-widgets/base",
          "model_name": "LayoutModel",
          "model_module_version": "1.2.0",
          "state": {
            "_model_module": "@jupyter-widgets/base",
            "_model_module_version": "1.2.0",
            "_model_name": "LayoutModel",
            "_view_count": null,
            "_view_module": "@jupyter-widgets/base",
            "_view_module_version": "1.2.0",
            "_view_name": "LayoutView",
            "align_content": null,
            "align_items": null,
            "align_self": null,
            "border": null,
            "bottom": null,
            "display": null,
            "flex": null,
            "flex_flow": null,
            "grid_area": null,
            "grid_auto_columns": null,
            "grid_auto_flow": null,
            "grid_auto_rows": null,
            "grid_column": null,
            "grid_gap": null,
            "grid_row": null,
            "grid_template_areas": null,
            "grid_template_columns": null,
            "grid_template_rows": null,
            "height": null,
            "justify_content": null,
            "justify_items": null,
            "left": null,
            "margin": null,
            "max_height": null,
            "max_width": null,
            "min_height": null,
            "min_width": null,
            "object_fit": null,
            "object_position": null,
            "order": null,
            "overflow": null,
            "overflow_x": null,
            "overflow_y": null,
            "padding": null,
            "right": null,
            "top": null,
            "visibility": null,
            "width": null
          }
        },
        "7643f7584e45446685989fde08dd7be7": {
          "model_module": "@jupyter-widgets/controls",
          "model_name": "ProgressStyleModel",
          "model_module_version": "1.5.0",
          "state": {
            "_model_module": "@jupyter-widgets/controls",
            "_model_module_version": "1.5.0",
            "_model_name": "ProgressStyleModel",
            "_view_count": null,
            "_view_module": "@jupyter-widgets/base",
            "_view_module_version": "1.2.0",
            "_view_name": "StyleView",
            "bar_color": null,
            "description_width": ""
          }
        },
        "276c43838b724f0a82cf120880cf6844": {
          "model_module": "@jupyter-widgets/base",
          "model_name": "LayoutModel",
          "model_module_version": "1.2.0",
          "state": {
            "_model_module": "@jupyter-widgets/base",
            "_model_module_version": "1.2.0",
            "_model_name": "LayoutModel",
            "_view_count": null,
            "_view_module": "@jupyter-widgets/base",
            "_view_module_version": "1.2.0",
            "_view_name": "LayoutView",
            "align_content": null,
            "align_items": null,
            "align_self": null,
            "border": null,
            "bottom": null,
            "display": null,
            "flex": null,
            "flex_flow": null,
            "grid_area": null,
            "grid_auto_columns": null,
            "grid_auto_flow": null,
            "grid_auto_rows": null,
            "grid_column": null,
            "grid_gap": null,
            "grid_row": null,
            "grid_template_areas": null,
            "grid_template_columns": null,
            "grid_template_rows": null,
            "height": null,
            "justify_content": null,
            "justify_items": null,
            "left": null,
            "margin": null,
            "max_height": null,
            "max_width": null,
            "min_height": null,
            "min_width": null,
            "object_fit": null,
            "object_position": null,
            "order": null,
            "overflow": null,
            "overflow_x": null,
            "overflow_y": null,
            "padding": null,
            "right": null,
            "top": null,
            "visibility": null,
            "width": null
          }
        },
        "0646e4457fb24ab4ab53a23c1ac1c125": {
          "model_module": "@jupyter-widgets/controls",
          "model_name": "DescriptionStyleModel",
          "model_module_version": "1.5.0",
          "state": {
            "_model_module": "@jupyter-widgets/controls",
            "_model_module_version": "1.5.0",
            "_model_name": "DescriptionStyleModel",
            "_view_count": null,
            "_view_module": "@jupyter-widgets/base",
            "_view_module_version": "1.2.0",
            "_view_name": "StyleView",
            "description_width": ""
          }
        },
        "69678568fa1345b0a55333b3ae995070": {
          "model_module": "@jupyter-widgets/controls",
          "model_name": "HBoxModel",
          "model_module_version": "1.5.0",
          "state": {
            "_dom_classes": [],
            "_model_module": "@jupyter-widgets/controls",
            "_model_module_version": "1.5.0",
            "_model_name": "HBoxModel",
            "_view_count": null,
            "_view_module": "@jupyter-widgets/controls",
            "_view_module_version": "1.5.0",
            "_view_name": "HBoxView",
            "box_style": "",
            "children": [
              "IPY_MODEL_b3f965e22c19454897f48a89a230d674",
              "IPY_MODEL_e67ac013da354be2be986054f66e3c14",
              "IPY_MODEL_917b850a7c46404f9659a5a41b77c394"
            ],
            "layout": "IPY_MODEL_d6058578b5a7430b9fb9909205370b85"
          }
        },
        "b3f965e22c19454897f48a89a230d674": {
          "model_module": "@jupyter-widgets/controls",
          "model_name": "HTMLModel",
          "model_module_version": "1.5.0",
          "state": {
            "_dom_classes": [],
            "_model_module": "@jupyter-widgets/controls",
            "_model_module_version": "1.5.0",
            "_model_name": "HTMLModel",
            "_view_count": null,
            "_view_module": "@jupyter-widgets/controls",
            "_view_module_version": "1.5.0",
            "_view_name": "HTMLView",
            "description": "",
            "description_tooltip": null,
            "layout": "IPY_MODEL_83ec41b7d2fa49af9fbd57eb5bef0ca1",
            "placeholder": "​",
            "style": "IPY_MODEL_3c50d0c503834e7aaa4d3f1c83a5b76b",
            "value": "Downloading (…)&quot;pytorch_model.bin&quot;;: 100%"
          }
        },
        "e67ac013da354be2be986054f66e3c14": {
          "model_module": "@jupyter-widgets/controls",
          "model_name": "FloatProgressModel",
          "model_module_version": "1.5.0",
          "state": {
            "_dom_classes": [],
            "_model_module": "@jupyter-widgets/controls",
            "_model_module_version": "1.5.0",
            "_model_name": "FloatProgressModel",
            "_view_count": null,
            "_view_module": "@jupyter-widgets/controls",
            "_view_module_version": "1.5.0",
            "_view_name": "ProgressView",
            "bar_style": "success",
            "description": "",
            "description_tooltip": null,
            "layout": "IPY_MODEL_27c655b553bc46d39dbc5d533fbdea26",
            "max": 440473133,
            "min": 0,
            "orientation": "horizontal",
            "style": "IPY_MODEL_41ed431f37bd463faba60bb5818c9f26",
            "value": 440473133
          }
        },
        "917b850a7c46404f9659a5a41b77c394": {
          "model_module": "@jupyter-widgets/controls",
          "model_name": "HTMLModel",
          "model_module_version": "1.5.0",
          "state": {
            "_dom_classes": [],
            "_model_module": "@jupyter-widgets/controls",
            "_model_module_version": "1.5.0",
            "_model_name": "HTMLModel",
            "_view_count": null,
            "_view_module": "@jupyter-widgets/controls",
            "_view_module_version": "1.5.0",
            "_view_name": "HTMLView",
            "description": "",
            "description_tooltip": null,
            "layout": "IPY_MODEL_a9c8eb34b0344a9d95a0312dcba2db36",
            "placeholder": "​",
            "style": "IPY_MODEL_d743d940164849e79aa62730c57fb8c4",
            "value": " 440M/440M [00:01&lt;00:00, 320MB/s]"
          }
        },
        "d6058578b5a7430b9fb9909205370b85": {
          "model_module": "@jupyter-widgets/base",
          "model_name": "LayoutModel",
          "model_module_version": "1.2.0",
          "state": {
            "_model_module": "@jupyter-widgets/base",
            "_model_module_version": "1.2.0",
            "_model_name": "LayoutModel",
            "_view_count": null,
            "_view_module": "@jupyter-widgets/base",
            "_view_module_version": "1.2.0",
            "_view_name": "LayoutView",
            "align_content": null,
            "align_items": null,
            "align_self": null,
            "border": null,
            "bottom": null,
            "display": null,
            "flex": null,
            "flex_flow": null,
            "grid_area": null,
            "grid_auto_columns": null,
            "grid_auto_flow": null,
            "grid_auto_rows": null,
            "grid_column": null,
            "grid_gap": null,
            "grid_row": null,
            "grid_template_areas": null,
            "grid_template_columns": null,
            "grid_template_rows": null,
            "height": null,
            "justify_content": null,
            "justify_items": null,
            "left": null,
            "margin": null,
            "max_height": null,
            "max_width": null,
            "min_height": null,
            "min_width": null,
            "object_fit": null,
            "object_position": null,
            "order": null,
            "overflow": null,
            "overflow_x": null,
            "overflow_y": null,
            "padding": null,
            "right": null,
            "top": null,
            "visibility": null,
            "width": null
          }
        },
        "83ec41b7d2fa49af9fbd57eb5bef0ca1": {
          "model_module": "@jupyter-widgets/base",
          "model_name": "LayoutModel",
          "model_module_version": "1.2.0",
          "state": {
            "_model_module": "@jupyter-widgets/base",
            "_model_module_version": "1.2.0",
            "_model_name": "LayoutModel",
            "_view_count": null,
            "_view_module": "@jupyter-widgets/base",
            "_view_module_version": "1.2.0",
            "_view_name": "LayoutView",
            "align_content": null,
            "align_items": null,
            "align_self": null,
            "border": null,
            "bottom": null,
            "display": null,
            "flex": null,
            "flex_flow": null,
            "grid_area": null,
            "grid_auto_columns": null,
            "grid_auto_flow": null,
            "grid_auto_rows": null,
            "grid_column": null,
            "grid_gap": null,
            "grid_row": null,
            "grid_template_areas": null,
            "grid_template_columns": null,
            "grid_template_rows": null,
            "height": null,
            "justify_content": null,
            "justify_items": null,
            "left": null,
            "margin": null,
            "max_height": null,
            "max_width": null,
            "min_height": null,
            "min_width": null,
            "object_fit": null,
            "object_position": null,
            "order": null,
            "overflow": null,
            "overflow_x": null,
            "overflow_y": null,
            "padding": null,
            "right": null,
            "top": null,
            "visibility": null,
            "width": null
          }
        },
        "3c50d0c503834e7aaa4d3f1c83a5b76b": {
          "model_module": "@jupyter-widgets/controls",
          "model_name": "DescriptionStyleModel",
          "model_module_version": "1.5.0",
          "state": {
            "_model_module": "@jupyter-widgets/controls",
            "_model_module_version": "1.5.0",
            "_model_name": "DescriptionStyleModel",
            "_view_count": null,
            "_view_module": "@jupyter-widgets/base",
            "_view_module_version": "1.2.0",
            "_view_name": "StyleView",
            "description_width": ""
          }
        },
        "27c655b553bc46d39dbc5d533fbdea26": {
          "model_module": "@jupyter-widgets/base",
          "model_name": "LayoutModel",
          "model_module_version": "1.2.0",
          "state": {
            "_model_module": "@jupyter-widgets/base",
            "_model_module_version": "1.2.0",
            "_model_name": "LayoutModel",
            "_view_count": null,
            "_view_module": "@jupyter-widgets/base",
            "_view_module_version": "1.2.0",
            "_view_name": "LayoutView",
            "align_content": null,
            "align_items": null,
            "align_self": null,
            "border": null,
            "bottom": null,
            "display": null,
            "flex": null,
            "flex_flow": null,
            "grid_area": null,
            "grid_auto_columns": null,
            "grid_auto_flow": null,
            "grid_auto_rows": null,
            "grid_column": null,
            "grid_gap": null,
            "grid_row": null,
            "grid_template_areas": null,
            "grid_template_columns": null,
            "grid_template_rows": null,
            "height": null,
            "justify_content": null,
            "justify_items": null,
            "left": null,
            "margin": null,
            "max_height": null,
            "max_width": null,
            "min_height": null,
            "min_width": null,
            "object_fit": null,
            "object_position": null,
            "order": null,
            "overflow": null,
            "overflow_x": null,
            "overflow_y": null,
            "padding": null,
            "right": null,
            "top": null,
            "visibility": null,
            "width": null
          }
        },
        "41ed431f37bd463faba60bb5818c9f26": {
          "model_module": "@jupyter-widgets/controls",
          "model_name": "ProgressStyleModel",
          "model_module_version": "1.5.0",
          "state": {
            "_model_module": "@jupyter-widgets/controls",
            "_model_module_version": "1.5.0",
            "_model_name": "ProgressStyleModel",
            "_view_count": null,
            "_view_module": "@jupyter-widgets/base",
            "_view_module_version": "1.2.0",
            "_view_name": "StyleView",
            "bar_color": null,
            "description_width": ""
          }
        },
        "a9c8eb34b0344a9d95a0312dcba2db36": {
          "model_module": "@jupyter-widgets/base",
          "model_name": "LayoutModel",
          "model_module_version": "1.2.0",
          "state": {
            "_model_module": "@jupyter-widgets/base",
            "_model_module_version": "1.2.0",
            "_model_name": "LayoutModel",
            "_view_count": null,
            "_view_module": "@jupyter-widgets/base",
            "_view_module_version": "1.2.0",
            "_view_name": "LayoutView",
            "align_content": null,
            "align_items": null,
            "align_self": null,
            "border": null,
            "bottom": null,
            "display": null,
            "flex": null,
            "flex_flow": null,
            "grid_area": null,
            "grid_auto_columns": null,
            "grid_auto_flow": null,
            "grid_auto_rows": null,
            "grid_column": null,
            "grid_gap": null,
            "grid_row": null,
            "grid_template_areas": null,
            "grid_template_columns": null,
            "grid_template_rows": null,
            "height": null,
            "justify_content": null,
            "justify_items": null,
            "left": null,
            "margin": null,
            "max_height": null,
            "max_width": null,
            "min_height": null,
            "min_width": null,
            "object_fit": null,
            "object_position": null,
            "order": null,
            "overflow": null,
            "overflow_x": null,
            "overflow_y": null,
            "padding": null,
            "right": null,
            "top": null,
            "visibility": null,
            "width": null
          }
        },
        "d743d940164849e79aa62730c57fb8c4": {
          "model_module": "@jupyter-widgets/controls",
          "model_name": "DescriptionStyleModel",
          "model_module_version": "1.5.0",
          "state": {
            "_model_module": "@jupyter-widgets/controls",
            "_model_module_version": "1.5.0",
            "_model_name": "DescriptionStyleModel",
            "_view_count": null,
            "_view_module": "@jupyter-widgets/base",
            "_view_module_version": "1.2.0",
            "_view_name": "StyleView",
            "description_width": ""
          }
        },
        "1147bf51751245c4a373c84453b8e556": {
          "model_module": "@jupyter-widgets/controls",
          "model_name": "HBoxModel",
          "model_module_version": "1.5.0",
          "state": {
            "_dom_classes": [],
            "_model_module": "@jupyter-widgets/controls",
            "_model_module_version": "1.5.0",
            "_model_name": "HBoxModel",
            "_view_count": null,
            "_view_module": "@jupyter-widgets/controls",
            "_view_module_version": "1.5.0",
            "_view_name": "HBoxView",
            "box_style": "",
            "children": [
              "IPY_MODEL_35f6f7b774684631a7f2afa176071962",
              "IPY_MODEL_92c3dd13e78541d9bf703dbee9e2268e",
              "IPY_MODEL_6825b48cd96944f6a1e5524da06732ad"
            ],
            "layout": "IPY_MODEL_693edd3ee9664c27be2e6273c8c8cb93"
          }
        },
        "35f6f7b774684631a7f2afa176071962": {
          "model_module": "@jupyter-widgets/controls",
          "model_name": "HTMLModel",
          "model_module_version": "1.5.0",
          "state": {
            "_dom_classes": [],
            "_model_module": "@jupyter-widgets/controls",
            "_model_module_version": "1.5.0",
            "_model_name": "HTMLModel",
            "_view_count": null,
            "_view_module": "@jupyter-widgets/controls",
            "_view_module_version": "1.5.0",
            "_view_name": "HTMLView",
            "description": "",
            "description_tooltip": null,
            "layout": "IPY_MODEL_23785da709ce49d383a79696dd6f9bd8",
            "placeholder": "​",
            "style": "IPY_MODEL_2cb1f341a92a4fe28b93b8169d81dbe0",
            "value": "Downloading (…)olve/main/vocab.json: 100%"
          }
        },
        "92c3dd13e78541d9bf703dbee9e2268e": {
          "model_module": "@jupyter-widgets/controls",
          "model_name": "FloatProgressModel",
          "model_module_version": "1.5.0",
          "state": {
            "_dom_classes": [],
            "_model_module": "@jupyter-widgets/controls",
            "_model_module_version": "1.5.0",
            "_model_name": "FloatProgressModel",
            "_view_count": null,
            "_view_module": "@jupyter-widgets/controls",
            "_view_module_version": "1.5.0",
            "_view_name": "ProgressView",
            "bar_style": "success",
            "description": "",
            "description_tooltip": null,
            "layout": "IPY_MODEL_dd62ec6d4d084bc2bd9ac30bfe78c875",
            "max": 898823,
            "min": 0,
            "orientation": "horizontal",
            "style": "IPY_MODEL_c60ed2de72854292a3ab2289a67714b7",
            "value": 898823
          }
        },
        "6825b48cd96944f6a1e5524da06732ad": {
          "model_module": "@jupyter-widgets/controls",
          "model_name": "HTMLModel",
          "model_module_version": "1.5.0",
          "state": {
            "_dom_classes": [],
            "_model_module": "@jupyter-widgets/controls",
            "_model_module_version": "1.5.0",
            "_model_name": "HTMLModel",
            "_view_count": null,
            "_view_module": "@jupyter-widgets/controls",
            "_view_module_version": "1.5.0",
            "_view_name": "HTMLView",
            "description": "",
            "description_tooltip": null,
            "layout": "IPY_MODEL_3366e9ab13f240d79cbdacc3ed391973",
            "placeholder": "​",
            "style": "IPY_MODEL_24a4eee6911f45f2b91a996faed85449",
            "value": " 899k/899k [00:01&lt;00:00, 680kB/s]"
          }
        },
        "693edd3ee9664c27be2e6273c8c8cb93": {
          "model_module": "@jupyter-widgets/base",
          "model_name": "LayoutModel",
          "model_module_version": "1.2.0",
          "state": {
            "_model_module": "@jupyter-widgets/base",
            "_model_module_version": "1.2.0",
            "_model_name": "LayoutModel",
            "_view_count": null,
            "_view_module": "@jupyter-widgets/base",
            "_view_module_version": "1.2.0",
            "_view_name": "LayoutView",
            "align_content": null,
            "align_items": null,
            "align_self": null,
            "border": null,
            "bottom": null,
            "display": null,
            "flex": null,
            "flex_flow": null,
            "grid_area": null,
            "grid_auto_columns": null,
            "grid_auto_flow": null,
            "grid_auto_rows": null,
            "grid_column": null,
            "grid_gap": null,
            "grid_row": null,
            "grid_template_areas": null,
            "grid_template_columns": null,
            "grid_template_rows": null,
            "height": null,
            "justify_content": null,
            "justify_items": null,
            "left": null,
            "margin": null,
            "max_height": null,
            "max_width": null,
            "min_height": null,
            "min_width": null,
            "object_fit": null,
            "object_position": null,
            "order": null,
            "overflow": null,
            "overflow_x": null,
            "overflow_y": null,
            "padding": null,
            "right": null,
            "top": null,
            "visibility": null,
            "width": null
          }
        },
        "23785da709ce49d383a79696dd6f9bd8": {
          "model_module": "@jupyter-widgets/base",
          "model_name": "LayoutModel",
          "model_module_version": "1.2.0",
          "state": {
            "_model_module": "@jupyter-widgets/base",
            "_model_module_version": "1.2.0",
            "_model_name": "LayoutModel",
            "_view_count": null,
            "_view_module": "@jupyter-widgets/base",
            "_view_module_version": "1.2.0",
            "_view_name": "LayoutView",
            "align_content": null,
            "align_items": null,
            "align_self": null,
            "border": null,
            "bottom": null,
            "display": null,
            "flex": null,
            "flex_flow": null,
            "grid_area": null,
            "grid_auto_columns": null,
            "grid_auto_flow": null,
            "grid_auto_rows": null,
            "grid_column": null,
            "grid_gap": null,
            "grid_row": null,
            "grid_template_areas": null,
            "grid_template_columns": null,
            "grid_template_rows": null,
            "height": null,
            "justify_content": null,
            "justify_items": null,
            "left": null,
            "margin": null,
            "max_height": null,
            "max_width": null,
            "min_height": null,
            "min_width": null,
            "object_fit": null,
            "object_position": null,
            "order": null,
            "overflow": null,
            "overflow_x": null,
            "overflow_y": null,
            "padding": null,
            "right": null,
            "top": null,
            "visibility": null,
            "width": null
          }
        },
        "2cb1f341a92a4fe28b93b8169d81dbe0": {
          "model_module": "@jupyter-widgets/controls",
          "model_name": "DescriptionStyleModel",
          "model_module_version": "1.5.0",
          "state": {
            "_model_module": "@jupyter-widgets/controls",
            "_model_module_version": "1.5.0",
            "_model_name": "DescriptionStyleModel",
            "_view_count": null,
            "_view_module": "@jupyter-widgets/base",
            "_view_module_version": "1.2.0",
            "_view_name": "StyleView",
            "description_width": ""
          }
        },
        "dd62ec6d4d084bc2bd9ac30bfe78c875": {
          "model_module": "@jupyter-widgets/base",
          "model_name": "LayoutModel",
          "model_module_version": "1.2.0",
          "state": {
            "_model_module": "@jupyter-widgets/base",
            "_model_module_version": "1.2.0",
            "_model_name": "LayoutModel",
            "_view_count": null,
            "_view_module": "@jupyter-widgets/base",
            "_view_module_version": "1.2.0",
            "_view_name": "LayoutView",
            "align_content": null,
            "align_items": null,
            "align_self": null,
            "border": null,
            "bottom": null,
            "display": null,
            "flex": null,
            "flex_flow": null,
            "grid_area": null,
            "grid_auto_columns": null,
            "grid_auto_flow": null,
            "grid_auto_rows": null,
            "grid_column": null,
            "grid_gap": null,
            "grid_row": null,
            "grid_template_areas": null,
            "grid_template_columns": null,
            "grid_template_rows": null,
            "height": null,
            "justify_content": null,
            "justify_items": null,
            "left": null,
            "margin": null,
            "max_height": null,
            "max_width": null,
            "min_height": null,
            "min_width": null,
            "object_fit": null,
            "object_position": null,
            "order": null,
            "overflow": null,
            "overflow_x": null,
            "overflow_y": null,
            "padding": null,
            "right": null,
            "top": null,
            "visibility": null,
            "width": null
          }
        },
        "c60ed2de72854292a3ab2289a67714b7": {
          "model_module": "@jupyter-widgets/controls",
          "model_name": "ProgressStyleModel",
          "model_module_version": "1.5.0",
          "state": {
            "_model_module": "@jupyter-widgets/controls",
            "_model_module_version": "1.5.0",
            "_model_name": "ProgressStyleModel",
            "_view_count": null,
            "_view_module": "@jupyter-widgets/base",
            "_view_module_version": "1.2.0",
            "_view_name": "StyleView",
            "bar_color": null,
            "description_width": ""
          }
        },
        "3366e9ab13f240d79cbdacc3ed391973": {
          "model_module": "@jupyter-widgets/base",
          "model_name": "LayoutModel",
          "model_module_version": "1.2.0",
          "state": {
            "_model_module": "@jupyter-widgets/base",
            "_model_module_version": "1.2.0",
            "_model_name": "LayoutModel",
            "_view_count": null,
            "_view_module": "@jupyter-widgets/base",
            "_view_module_version": "1.2.0",
            "_view_name": "LayoutView",
            "align_content": null,
            "align_items": null,
            "align_self": null,
            "border": null,
            "bottom": null,
            "display": null,
            "flex": null,
            "flex_flow": null,
            "grid_area": null,
            "grid_auto_columns": null,
            "grid_auto_flow": null,
            "grid_auto_rows": null,
            "grid_column": null,
            "grid_gap": null,
            "grid_row": null,
            "grid_template_areas": null,
            "grid_template_columns": null,
            "grid_template_rows": null,
            "height": null,
            "justify_content": null,
            "justify_items": null,
            "left": null,
            "margin": null,
            "max_height": null,
            "max_width": null,
            "min_height": null,
            "min_width": null,
            "object_fit": null,
            "object_position": null,
            "order": null,
            "overflow": null,
            "overflow_x": null,
            "overflow_y": null,
            "padding": null,
            "right": null,
            "top": null,
            "visibility": null,
            "width": null
          }
        },
        "24a4eee6911f45f2b91a996faed85449": {
          "model_module": "@jupyter-widgets/controls",
          "model_name": "DescriptionStyleModel",
          "model_module_version": "1.5.0",
          "state": {
            "_model_module": "@jupyter-widgets/controls",
            "_model_module_version": "1.5.0",
            "_model_name": "DescriptionStyleModel",
            "_view_count": null,
            "_view_module": "@jupyter-widgets/base",
            "_view_module_version": "1.2.0",
            "_view_name": "StyleView",
            "description_width": ""
          }
        },
        "d22a3a24d5d94c5f9898dd1df913020e": {
          "model_module": "@jupyter-widgets/controls",
          "model_name": "HBoxModel",
          "model_module_version": "1.5.0",
          "state": {
            "_dom_classes": [],
            "_model_module": "@jupyter-widgets/controls",
            "_model_module_version": "1.5.0",
            "_model_name": "HBoxModel",
            "_view_count": null,
            "_view_module": "@jupyter-widgets/controls",
            "_view_module_version": "1.5.0",
            "_view_name": "HBoxView",
            "box_style": "",
            "children": [
              "IPY_MODEL_0324535353e147d2b2f680ad1f736adf",
              "IPY_MODEL_8a8596f38b56409e884982156433cb7f",
              "IPY_MODEL_ff201944ab3e4774b38f41f7e4a4082e"
            ],
            "layout": "IPY_MODEL_9cb9a8e6f1df423892d7da2688457050"
          }
        },
        "0324535353e147d2b2f680ad1f736adf": {
          "model_module": "@jupyter-widgets/controls",
          "model_name": "HTMLModel",
          "model_module_version": "1.5.0",
          "state": {
            "_dom_classes": [],
            "_model_module": "@jupyter-widgets/controls",
            "_model_module_version": "1.5.0",
            "_model_name": "HTMLModel",
            "_view_count": null,
            "_view_module": "@jupyter-widgets/controls",
            "_view_module_version": "1.5.0",
            "_view_name": "HTMLView",
            "description": "",
            "description_tooltip": null,
            "layout": "IPY_MODEL_2bd1af766eaa45ef9a08cac893667247",
            "placeholder": "​",
            "style": "IPY_MODEL_9a71bd0bbb30437f9be66834f1ba65b0",
            "value": "Downloading (…)olve/main/merges.txt: 100%"
          }
        },
        "8a8596f38b56409e884982156433cb7f": {
          "model_module": "@jupyter-widgets/controls",
          "model_name": "FloatProgressModel",
          "model_module_version": "1.5.0",
          "state": {
            "_dom_classes": [],
            "_model_module": "@jupyter-widgets/controls",
            "_model_module_version": "1.5.0",
            "_model_name": "FloatProgressModel",
            "_view_count": null,
            "_view_module": "@jupyter-widgets/controls",
            "_view_module_version": "1.5.0",
            "_view_name": "ProgressView",
            "bar_style": "success",
            "description": "",
            "description_tooltip": null,
            "layout": "IPY_MODEL_49974ed31c464410bafc58eed6297732",
            "max": 456318,
            "min": 0,
            "orientation": "horizontal",
            "style": "IPY_MODEL_63e8606eaf824a01a9cf031c84895632",
            "value": 456318
          }
        },
        "ff201944ab3e4774b38f41f7e4a4082e": {
          "model_module": "@jupyter-widgets/controls",
          "model_name": "HTMLModel",
          "model_module_version": "1.5.0",
          "state": {
            "_dom_classes": [],
            "_model_module": "@jupyter-widgets/controls",
            "_model_module_version": "1.5.0",
            "_model_name": "HTMLModel",
            "_view_count": null,
            "_view_module": "@jupyter-widgets/controls",
            "_view_module_version": "1.5.0",
            "_view_name": "HTMLView",
            "description": "",
            "description_tooltip": null,
            "layout": "IPY_MODEL_57b3d574e0344b7a90ca4f76f3a4fb44",
            "placeholder": "​",
            "style": "IPY_MODEL_f8cad72feb654a4da440aac0d7fe0699",
            "value": " 456k/456k [00:01&lt;00:00, 415kB/s]"
          }
        },
        "9cb9a8e6f1df423892d7da2688457050": {
          "model_module": "@jupyter-widgets/base",
          "model_name": "LayoutModel",
          "model_module_version": "1.2.0",
          "state": {
            "_model_module": "@jupyter-widgets/base",
            "_model_module_version": "1.2.0",
            "_model_name": "LayoutModel",
            "_view_count": null,
            "_view_module": "@jupyter-widgets/base",
            "_view_module_version": "1.2.0",
            "_view_name": "LayoutView",
            "align_content": null,
            "align_items": null,
            "align_self": null,
            "border": null,
            "bottom": null,
            "display": null,
            "flex": null,
            "flex_flow": null,
            "grid_area": null,
            "grid_auto_columns": null,
            "grid_auto_flow": null,
            "grid_auto_rows": null,
            "grid_column": null,
            "grid_gap": null,
            "grid_row": null,
            "grid_template_areas": null,
            "grid_template_columns": null,
            "grid_template_rows": null,
            "height": null,
            "justify_content": null,
            "justify_items": null,
            "left": null,
            "margin": null,
            "max_height": null,
            "max_width": null,
            "min_height": null,
            "min_width": null,
            "object_fit": null,
            "object_position": null,
            "order": null,
            "overflow": null,
            "overflow_x": null,
            "overflow_y": null,
            "padding": null,
            "right": null,
            "top": null,
            "visibility": null,
            "width": null
          }
        },
        "2bd1af766eaa45ef9a08cac893667247": {
          "model_module": "@jupyter-widgets/base",
          "model_name": "LayoutModel",
          "model_module_version": "1.2.0",
          "state": {
            "_model_module": "@jupyter-widgets/base",
            "_model_module_version": "1.2.0",
            "_model_name": "LayoutModel",
            "_view_count": null,
            "_view_module": "@jupyter-widgets/base",
            "_view_module_version": "1.2.0",
            "_view_name": "LayoutView",
            "align_content": null,
            "align_items": null,
            "align_self": null,
            "border": null,
            "bottom": null,
            "display": null,
            "flex": null,
            "flex_flow": null,
            "grid_area": null,
            "grid_auto_columns": null,
            "grid_auto_flow": null,
            "grid_auto_rows": null,
            "grid_column": null,
            "grid_gap": null,
            "grid_row": null,
            "grid_template_areas": null,
            "grid_template_columns": null,
            "grid_template_rows": null,
            "height": null,
            "justify_content": null,
            "justify_items": null,
            "left": null,
            "margin": null,
            "max_height": null,
            "max_width": null,
            "min_height": null,
            "min_width": null,
            "object_fit": null,
            "object_position": null,
            "order": null,
            "overflow": null,
            "overflow_x": null,
            "overflow_y": null,
            "padding": null,
            "right": null,
            "top": null,
            "visibility": null,
            "width": null
          }
        },
        "9a71bd0bbb30437f9be66834f1ba65b0": {
          "model_module": "@jupyter-widgets/controls",
          "model_name": "DescriptionStyleModel",
          "model_module_version": "1.5.0",
          "state": {
            "_model_module": "@jupyter-widgets/controls",
            "_model_module_version": "1.5.0",
            "_model_name": "DescriptionStyleModel",
            "_view_count": null,
            "_view_module": "@jupyter-widgets/base",
            "_view_module_version": "1.2.0",
            "_view_name": "StyleView",
            "description_width": ""
          }
        },
        "49974ed31c464410bafc58eed6297732": {
          "model_module": "@jupyter-widgets/base",
          "model_name": "LayoutModel",
          "model_module_version": "1.2.0",
          "state": {
            "_model_module": "@jupyter-widgets/base",
            "_model_module_version": "1.2.0",
            "_model_name": "LayoutModel",
            "_view_count": null,
            "_view_module": "@jupyter-widgets/base",
            "_view_module_version": "1.2.0",
            "_view_name": "LayoutView",
            "align_content": null,
            "align_items": null,
            "align_self": null,
            "border": null,
            "bottom": null,
            "display": null,
            "flex": null,
            "flex_flow": null,
            "grid_area": null,
            "grid_auto_columns": null,
            "grid_auto_flow": null,
            "grid_auto_rows": null,
            "grid_column": null,
            "grid_gap": null,
            "grid_row": null,
            "grid_template_areas": null,
            "grid_template_columns": null,
            "grid_template_rows": null,
            "height": null,
            "justify_content": null,
            "justify_items": null,
            "left": null,
            "margin": null,
            "max_height": null,
            "max_width": null,
            "min_height": null,
            "min_width": null,
            "object_fit": null,
            "object_position": null,
            "order": null,
            "overflow": null,
            "overflow_x": null,
            "overflow_y": null,
            "padding": null,
            "right": null,
            "top": null,
            "visibility": null,
            "width": null
          }
        },
        "63e8606eaf824a01a9cf031c84895632": {
          "model_module": "@jupyter-widgets/controls",
          "model_name": "ProgressStyleModel",
          "model_module_version": "1.5.0",
          "state": {
            "_model_module": "@jupyter-widgets/controls",
            "_model_module_version": "1.5.0",
            "_model_name": "ProgressStyleModel",
            "_view_count": null,
            "_view_module": "@jupyter-widgets/base",
            "_view_module_version": "1.2.0",
            "_view_name": "StyleView",
            "bar_color": null,
            "description_width": ""
          }
        },
        "57b3d574e0344b7a90ca4f76f3a4fb44": {
          "model_module": "@jupyter-widgets/base",
          "model_name": "LayoutModel",
          "model_module_version": "1.2.0",
          "state": {
            "_model_module": "@jupyter-widgets/base",
            "_model_module_version": "1.2.0",
            "_model_name": "LayoutModel",
            "_view_count": null,
            "_view_module": "@jupyter-widgets/base",
            "_view_module_version": "1.2.0",
            "_view_name": "LayoutView",
            "align_content": null,
            "align_items": null,
            "align_self": null,
            "border": null,
            "bottom": null,
            "display": null,
            "flex": null,
            "flex_flow": null,
            "grid_area": null,
            "grid_auto_columns": null,
            "grid_auto_flow": null,
            "grid_auto_rows": null,
            "grid_column": null,
            "grid_gap": null,
            "grid_row": null,
            "grid_template_areas": null,
            "grid_template_columns": null,
            "grid_template_rows": null,
            "height": null,
            "justify_content": null,
            "justify_items": null,
            "left": null,
            "margin": null,
            "max_height": null,
            "max_width": null,
            "min_height": null,
            "min_width": null,
            "object_fit": null,
            "object_position": null,
            "order": null,
            "overflow": null,
            "overflow_x": null,
            "overflow_y": null,
            "padding": null,
            "right": null,
            "top": null,
            "visibility": null,
            "width": null
          }
        },
        "f8cad72feb654a4da440aac0d7fe0699": {
          "model_module": "@jupyter-widgets/controls",
          "model_name": "DescriptionStyleModel",
          "model_module_version": "1.5.0",
          "state": {
            "_model_module": "@jupyter-widgets/controls",
            "_model_module_version": "1.5.0",
            "_model_name": "DescriptionStyleModel",
            "_view_count": null,
            "_view_module": "@jupyter-widgets/base",
            "_view_module_version": "1.2.0",
            "_view_name": "StyleView",
            "description_width": ""
          }
        },
        "fb05e71de64440d0b24719f30fe06f04": {
          "model_module": "@jupyter-widgets/controls",
          "model_name": "HBoxModel",
          "model_module_version": "1.5.0",
          "state": {
            "_dom_classes": [],
            "_model_module": "@jupyter-widgets/controls",
            "_model_module_version": "1.5.0",
            "_model_name": "HBoxModel",
            "_view_count": null,
            "_view_module": "@jupyter-widgets/controls",
            "_view_module_version": "1.5.0",
            "_view_name": "HBoxView",
            "box_style": "",
            "children": [
              "IPY_MODEL_98a3b04567df498d98a6cc04139033f6",
              "IPY_MODEL_9424089a9da842ef8f2486308a0dbefd",
              "IPY_MODEL_0d192d5934714126b669db228518dff7"
            ],
            "layout": "IPY_MODEL_0d69a7637e3c4fc892390c2a7bdae723"
          }
        },
        "98a3b04567df498d98a6cc04139033f6": {
          "model_module": "@jupyter-widgets/controls",
          "model_name": "HTMLModel",
          "model_module_version": "1.5.0",
          "state": {
            "_dom_classes": [],
            "_model_module": "@jupyter-widgets/controls",
            "_model_module_version": "1.5.0",
            "_model_name": "HTMLModel",
            "_view_count": null,
            "_view_module": "@jupyter-widgets/controls",
            "_view_module_version": "1.5.0",
            "_view_name": "HTMLView",
            "description": "",
            "description_tooltip": null,
            "layout": "IPY_MODEL_0b4d2908dbfa4d2692e4a7783fbc8983",
            "placeholder": "​",
            "style": "IPY_MODEL_bcf5f348d41443b9b30ac0f3438c8811",
            "value": "Downloading (…)lve/main/config.json: 100%"
          }
        },
        "9424089a9da842ef8f2486308a0dbefd": {
          "model_module": "@jupyter-widgets/controls",
          "model_name": "FloatProgressModel",
          "model_module_version": "1.5.0",
          "state": {
            "_dom_classes": [],
            "_model_module": "@jupyter-widgets/controls",
            "_model_module_version": "1.5.0",
            "_model_name": "FloatProgressModel",
            "_view_count": null,
            "_view_module": "@jupyter-widgets/controls",
            "_view_module_version": "1.5.0",
            "_view_name": "ProgressView",
            "bar_style": "success",
            "description": "",
            "description_tooltip": null,
            "layout": "IPY_MODEL_647ce509245f40ca9789c81a981a6d19",
            "max": 481,
            "min": 0,
            "orientation": "horizontal",
            "style": "IPY_MODEL_f3b2f26ad3d24be38a9aaf3d0869351a",
            "value": 481
          }
        },
        "0d192d5934714126b669db228518dff7": {
          "model_module": "@jupyter-widgets/controls",
          "model_name": "HTMLModel",
          "model_module_version": "1.5.0",
          "state": {
            "_dom_classes": [],
            "_model_module": "@jupyter-widgets/controls",
            "_model_module_version": "1.5.0",
            "_model_name": "HTMLModel",
            "_view_count": null,
            "_view_module": "@jupyter-widgets/controls",
            "_view_module_version": "1.5.0",
            "_view_name": "HTMLView",
            "description": "",
            "description_tooltip": null,
            "layout": "IPY_MODEL_7f189cb739344c80a1cd57b911e72d16",
            "placeholder": "​",
            "style": "IPY_MODEL_03176a0f9b6a4af9ab34e7d17f6e2ca3",
            "value": " 481/481 [00:00&lt;00:00, 33.6kB/s]"
          }
        },
        "0d69a7637e3c4fc892390c2a7bdae723": {
          "model_module": "@jupyter-widgets/base",
          "model_name": "LayoutModel",
          "model_module_version": "1.2.0",
          "state": {
            "_model_module": "@jupyter-widgets/base",
            "_model_module_version": "1.2.0",
            "_model_name": "LayoutModel",
            "_view_count": null,
            "_view_module": "@jupyter-widgets/base",
            "_view_module_version": "1.2.0",
            "_view_name": "LayoutView",
            "align_content": null,
            "align_items": null,
            "align_self": null,
            "border": null,
            "bottom": null,
            "display": null,
            "flex": null,
            "flex_flow": null,
            "grid_area": null,
            "grid_auto_columns": null,
            "grid_auto_flow": null,
            "grid_auto_rows": null,
            "grid_column": null,
            "grid_gap": null,
            "grid_row": null,
            "grid_template_areas": null,
            "grid_template_columns": null,
            "grid_template_rows": null,
            "height": null,
            "justify_content": null,
            "justify_items": null,
            "left": null,
            "margin": null,
            "max_height": null,
            "max_width": null,
            "min_height": null,
            "min_width": null,
            "object_fit": null,
            "object_position": null,
            "order": null,
            "overflow": null,
            "overflow_x": null,
            "overflow_y": null,
            "padding": null,
            "right": null,
            "top": null,
            "visibility": null,
            "width": null
          }
        },
        "0b4d2908dbfa4d2692e4a7783fbc8983": {
          "model_module": "@jupyter-widgets/base",
          "model_name": "LayoutModel",
          "model_module_version": "1.2.0",
          "state": {
            "_model_module": "@jupyter-widgets/base",
            "_model_module_version": "1.2.0",
            "_model_name": "LayoutModel",
            "_view_count": null,
            "_view_module": "@jupyter-widgets/base",
            "_view_module_version": "1.2.0",
            "_view_name": "LayoutView",
            "align_content": null,
            "align_items": null,
            "align_self": null,
            "border": null,
            "bottom": null,
            "display": null,
            "flex": null,
            "flex_flow": null,
            "grid_area": null,
            "grid_auto_columns": null,
            "grid_auto_flow": null,
            "grid_auto_rows": null,
            "grid_column": null,
            "grid_gap": null,
            "grid_row": null,
            "grid_template_areas": null,
            "grid_template_columns": null,
            "grid_template_rows": null,
            "height": null,
            "justify_content": null,
            "justify_items": null,
            "left": null,
            "margin": null,
            "max_height": null,
            "max_width": null,
            "min_height": null,
            "min_width": null,
            "object_fit": null,
            "object_position": null,
            "order": null,
            "overflow": null,
            "overflow_x": null,
            "overflow_y": null,
            "padding": null,
            "right": null,
            "top": null,
            "visibility": null,
            "width": null
          }
        },
        "bcf5f348d41443b9b30ac0f3438c8811": {
          "model_module": "@jupyter-widgets/controls",
          "model_name": "DescriptionStyleModel",
          "model_module_version": "1.5.0",
          "state": {
            "_model_module": "@jupyter-widgets/controls",
            "_model_module_version": "1.5.0",
            "_model_name": "DescriptionStyleModel",
            "_view_count": null,
            "_view_module": "@jupyter-widgets/base",
            "_view_module_version": "1.2.0",
            "_view_name": "StyleView",
            "description_width": ""
          }
        },
        "647ce509245f40ca9789c81a981a6d19": {
          "model_module": "@jupyter-widgets/base",
          "model_name": "LayoutModel",
          "model_module_version": "1.2.0",
          "state": {
            "_model_module": "@jupyter-widgets/base",
            "_model_module_version": "1.2.0",
            "_model_name": "LayoutModel",
            "_view_count": null,
            "_view_module": "@jupyter-widgets/base",
            "_view_module_version": "1.2.0",
            "_view_name": "LayoutView",
            "align_content": null,
            "align_items": null,
            "align_self": null,
            "border": null,
            "bottom": null,
            "display": null,
            "flex": null,
            "flex_flow": null,
            "grid_area": null,
            "grid_auto_columns": null,
            "grid_auto_flow": null,
            "grid_auto_rows": null,
            "grid_column": null,
            "grid_gap": null,
            "grid_row": null,
            "grid_template_areas": null,
            "grid_template_columns": null,
            "grid_template_rows": null,
            "height": null,
            "justify_content": null,
            "justify_items": null,
            "left": null,
            "margin": null,
            "max_height": null,
            "max_width": null,
            "min_height": null,
            "min_width": null,
            "object_fit": null,
            "object_position": null,
            "order": null,
            "overflow": null,
            "overflow_x": null,
            "overflow_y": null,
            "padding": null,
            "right": null,
            "top": null,
            "visibility": null,
            "width": null
          }
        },
        "f3b2f26ad3d24be38a9aaf3d0869351a": {
          "model_module": "@jupyter-widgets/controls",
          "model_name": "ProgressStyleModel",
          "model_module_version": "1.5.0",
          "state": {
            "_model_module": "@jupyter-widgets/controls",
            "_model_module_version": "1.5.0",
            "_model_name": "ProgressStyleModel",
            "_view_count": null,
            "_view_module": "@jupyter-widgets/base",
            "_view_module_version": "1.2.0",
            "_view_name": "StyleView",
            "bar_color": null,
            "description_width": ""
          }
        },
        "7f189cb739344c80a1cd57b911e72d16": {
          "model_module": "@jupyter-widgets/base",
          "model_name": "LayoutModel",
          "model_module_version": "1.2.0",
          "state": {
            "_model_module": "@jupyter-widgets/base",
            "_model_module_version": "1.2.0",
            "_model_name": "LayoutModel",
            "_view_count": null,
            "_view_module": "@jupyter-widgets/base",
            "_view_module_version": "1.2.0",
            "_view_name": "LayoutView",
            "align_content": null,
            "align_items": null,
            "align_self": null,
            "border": null,
            "bottom": null,
            "display": null,
            "flex": null,
            "flex_flow": null,
            "grid_area": null,
            "grid_auto_columns": null,
            "grid_auto_flow": null,
            "grid_auto_rows": null,
            "grid_column": null,
            "grid_gap": null,
            "grid_row": null,
            "grid_template_areas": null,
            "grid_template_columns": null,
            "grid_template_rows": null,
            "height": null,
            "justify_content": null,
            "justify_items": null,
            "left": null,
            "margin": null,
            "max_height": null,
            "max_width": null,
            "min_height": null,
            "min_width": null,
            "object_fit": null,
            "object_position": null,
            "order": null,
            "overflow": null,
            "overflow_x": null,
            "overflow_y": null,
            "padding": null,
            "right": null,
            "top": null,
            "visibility": null,
            "width": null
          }
        },
        "03176a0f9b6a4af9ab34e7d17f6e2ca3": {
          "model_module": "@jupyter-widgets/controls",
          "model_name": "DescriptionStyleModel",
          "model_module_version": "1.5.0",
          "state": {
            "_model_module": "@jupyter-widgets/controls",
            "_model_module_version": "1.5.0",
            "_model_name": "DescriptionStyleModel",
            "_view_count": null,
            "_view_module": "@jupyter-widgets/base",
            "_view_module_version": "1.2.0",
            "_view_name": "StyleView",
            "description_width": ""
          }
        },
        "85165cb4d62e4c58a236399e1922cfa7": {
          "model_module": "@jupyter-widgets/controls",
          "model_name": "HBoxModel",
          "model_module_version": "1.5.0",
          "state": {
            "_dom_classes": [],
            "_model_module": "@jupyter-widgets/controls",
            "_model_module_version": "1.5.0",
            "_model_name": "HBoxModel",
            "_view_count": null,
            "_view_module": "@jupyter-widgets/controls",
            "_view_module_version": "1.5.0",
            "_view_name": "HBoxView",
            "box_style": "",
            "children": [
              "IPY_MODEL_85f359ab02554eedbb5df9cd5de21794",
              "IPY_MODEL_d20c504baccb4ba4b51194c4e04383e3",
              "IPY_MODEL_abba4207670848bea4cfe0137094bea9"
            ],
            "layout": "IPY_MODEL_65bb7540d67d4b29b098e7a740cef286"
          }
        },
        "85f359ab02554eedbb5df9cd5de21794": {
          "model_module": "@jupyter-widgets/controls",
          "model_name": "HTMLModel",
          "model_module_version": "1.5.0",
          "state": {
            "_dom_classes": [],
            "_model_module": "@jupyter-widgets/controls",
            "_model_module_version": "1.5.0",
            "_model_name": "HTMLModel",
            "_view_count": null,
            "_view_module": "@jupyter-widgets/controls",
            "_view_module_version": "1.5.0",
            "_view_name": "HTMLView",
            "description": "",
            "description_tooltip": null,
            "layout": "IPY_MODEL_2bb743f6243b459891a7f954e3d2fbfe",
            "placeholder": "​",
            "style": "IPY_MODEL_a5d91bef50af46e49b7dcfa8442e4af7",
            "value": "Downloading (…)&quot;tf_model.h5&quot;;: 100%"
          }
        },
        "d20c504baccb4ba4b51194c4e04383e3": {
          "model_module": "@jupyter-widgets/controls",
          "model_name": "FloatProgressModel",
          "model_module_version": "1.5.0",
          "state": {
            "_dom_classes": [],
            "_model_module": "@jupyter-widgets/controls",
            "_model_module_version": "1.5.0",
            "_model_name": "FloatProgressModel",
            "_view_count": null,
            "_view_module": "@jupyter-widgets/controls",
            "_view_module_version": "1.5.0",
            "_view_name": "ProgressView",
            "bar_style": "success",
            "description": "",
            "description_tooltip": null,
            "layout": "IPY_MODEL_475f24ac6bca49149d9b0dc740bd6389",
            "max": 657434796,
            "min": 0,
            "orientation": "horizontal",
            "style": "IPY_MODEL_3072152f3cc447799954451474cce358",
            "value": 657434796
          }
        },
        "abba4207670848bea4cfe0137094bea9": {
          "model_module": "@jupyter-widgets/controls",
          "model_name": "HTMLModel",
          "model_module_version": "1.5.0",
          "state": {
            "_dom_classes": [],
            "_model_module": "@jupyter-widgets/controls",
            "_model_module_version": "1.5.0",
            "_model_name": "HTMLModel",
            "_view_count": null,
            "_view_module": "@jupyter-widgets/controls",
            "_view_module_version": "1.5.0",
            "_view_name": "HTMLView",
            "description": "",
            "description_tooltip": null,
            "layout": "IPY_MODEL_b76596efc8884547878e195fcb30a616",
            "placeholder": "​",
            "style": "IPY_MODEL_010e69d80dcf47c78eefcd5fd1d7e513",
            "value": " 657M/657M [00:02&lt;00:00, 258MB/s]"
          }
        },
        "65bb7540d67d4b29b098e7a740cef286": {
          "model_module": "@jupyter-widgets/base",
          "model_name": "LayoutModel",
          "model_module_version": "1.2.0",
          "state": {
            "_model_module": "@jupyter-widgets/base",
            "_model_module_version": "1.2.0",
            "_model_name": "LayoutModel",
            "_view_count": null,
            "_view_module": "@jupyter-widgets/base",
            "_view_module_version": "1.2.0",
            "_view_name": "LayoutView",
            "align_content": null,
            "align_items": null,
            "align_self": null,
            "border": null,
            "bottom": null,
            "display": null,
            "flex": null,
            "flex_flow": null,
            "grid_area": null,
            "grid_auto_columns": null,
            "grid_auto_flow": null,
            "grid_auto_rows": null,
            "grid_column": null,
            "grid_gap": null,
            "grid_row": null,
            "grid_template_areas": null,
            "grid_template_columns": null,
            "grid_template_rows": null,
            "height": null,
            "justify_content": null,
            "justify_items": null,
            "left": null,
            "margin": null,
            "max_height": null,
            "max_width": null,
            "min_height": null,
            "min_width": null,
            "object_fit": null,
            "object_position": null,
            "order": null,
            "overflow": null,
            "overflow_x": null,
            "overflow_y": null,
            "padding": null,
            "right": null,
            "top": null,
            "visibility": null,
            "width": null
          }
        },
        "2bb743f6243b459891a7f954e3d2fbfe": {
          "model_module": "@jupyter-widgets/base",
          "model_name": "LayoutModel",
          "model_module_version": "1.2.0",
          "state": {
            "_model_module": "@jupyter-widgets/base",
            "_model_module_version": "1.2.0",
            "_model_name": "LayoutModel",
            "_view_count": null,
            "_view_module": "@jupyter-widgets/base",
            "_view_module_version": "1.2.0",
            "_view_name": "LayoutView",
            "align_content": null,
            "align_items": null,
            "align_self": null,
            "border": null,
            "bottom": null,
            "display": null,
            "flex": null,
            "flex_flow": null,
            "grid_area": null,
            "grid_auto_columns": null,
            "grid_auto_flow": null,
            "grid_auto_rows": null,
            "grid_column": null,
            "grid_gap": null,
            "grid_row": null,
            "grid_template_areas": null,
            "grid_template_columns": null,
            "grid_template_rows": null,
            "height": null,
            "justify_content": null,
            "justify_items": null,
            "left": null,
            "margin": null,
            "max_height": null,
            "max_width": null,
            "min_height": null,
            "min_width": null,
            "object_fit": null,
            "object_position": null,
            "order": null,
            "overflow": null,
            "overflow_x": null,
            "overflow_y": null,
            "padding": null,
            "right": null,
            "top": null,
            "visibility": null,
            "width": null
          }
        },
        "a5d91bef50af46e49b7dcfa8442e4af7": {
          "model_module": "@jupyter-widgets/controls",
          "model_name": "DescriptionStyleModel",
          "model_module_version": "1.5.0",
          "state": {
            "_model_module": "@jupyter-widgets/controls",
            "_model_module_version": "1.5.0",
            "_model_name": "DescriptionStyleModel",
            "_view_count": null,
            "_view_module": "@jupyter-widgets/base",
            "_view_module_version": "1.2.0",
            "_view_name": "StyleView",
            "description_width": ""
          }
        },
        "475f24ac6bca49149d9b0dc740bd6389": {
          "model_module": "@jupyter-widgets/base",
          "model_name": "LayoutModel",
          "model_module_version": "1.2.0",
          "state": {
            "_model_module": "@jupyter-widgets/base",
            "_model_module_version": "1.2.0",
            "_model_name": "LayoutModel",
            "_view_count": null,
            "_view_module": "@jupyter-widgets/base",
            "_view_module_version": "1.2.0",
            "_view_name": "LayoutView",
            "align_content": null,
            "align_items": null,
            "align_self": null,
            "border": null,
            "bottom": null,
            "display": null,
            "flex": null,
            "flex_flow": null,
            "grid_area": null,
            "grid_auto_columns": null,
            "grid_auto_flow": null,
            "grid_auto_rows": null,
            "grid_column": null,
            "grid_gap": null,
            "grid_row": null,
            "grid_template_areas": null,
            "grid_template_columns": null,
            "grid_template_rows": null,
            "height": null,
            "justify_content": null,
            "justify_items": null,
            "left": null,
            "margin": null,
            "max_height": null,
            "max_width": null,
            "min_height": null,
            "min_width": null,
            "object_fit": null,
            "object_position": null,
            "order": null,
            "overflow": null,
            "overflow_x": null,
            "overflow_y": null,
            "padding": null,
            "right": null,
            "top": null,
            "visibility": null,
            "width": null
          }
        },
        "3072152f3cc447799954451474cce358": {
          "model_module": "@jupyter-widgets/controls",
          "model_name": "ProgressStyleModel",
          "model_module_version": "1.5.0",
          "state": {
            "_model_module": "@jupyter-widgets/controls",
            "_model_module_version": "1.5.0",
            "_model_name": "ProgressStyleModel",
            "_view_count": null,
            "_view_module": "@jupyter-widgets/base",
            "_view_module_version": "1.2.0",
            "_view_name": "StyleView",
            "bar_color": null,
            "description_width": ""
          }
        },
        "b76596efc8884547878e195fcb30a616": {
          "model_module": "@jupyter-widgets/base",
          "model_name": "LayoutModel",
          "model_module_version": "1.2.0",
          "state": {
            "_model_module": "@jupyter-widgets/base",
            "_model_module_version": "1.2.0",
            "_model_name": "LayoutModel",
            "_view_count": null,
            "_view_module": "@jupyter-widgets/base",
            "_view_module_version": "1.2.0",
            "_view_name": "LayoutView",
            "align_content": null,
            "align_items": null,
            "align_self": null,
            "border": null,
            "bottom": null,
            "display": null,
            "flex": null,
            "flex_flow": null,
            "grid_area": null,
            "grid_auto_columns": null,
            "grid_auto_flow": null,
            "grid_auto_rows": null,
            "grid_column": null,
            "grid_gap": null,
            "grid_row": null,
            "grid_template_areas": null,
            "grid_template_columns": null,
            "grid_template_rows": null,
            "height": null,
            "justify_content": null,
            "justify_items": null,
            "left": null,
            "margin": null,
            "max_height": null,
            "max_width": null,
            "min_height": null,
            "min_width": null,
            "object_fit": null,
            "object_position": null,
            "order": null,
            "overflow": null,
            "overflow_x": null,
            "overflow_y": null,
            "padding": null,
            "right": null,
            "top": null,
            "visibility": null,
            "width": null
          }
        },
        "010e69d80dcf47c78eefcd5fd1d7e513": {
          "model_module": "@jupyter-widgets/controls",
          "model_name": "DescriptionStyleModel",
          "model_module_version": "1.5.0",
          "state": {
            "_model_module": "@jupyter-widgets/controls",
            "_model_module_version": "1.5.0",
            "_model_name": "DescriptionStyleModel",
            "_view_count": null,
            "_view_module": "@jupyter-widgets/base",
            "_view_module_version": "1.2.0",
            "_view_name": "StyleView",
            "description_width": ""
          }
        }
      }
    }
  },
  "nbformat": 4,
  "nbformat_minor": 0
}